{
  "nbformat": 4,
  "nbformat_minor": 0,
  "metadata": {
    "colab": {
      "provenance": [],
      "authorship_tag": "ABX9TyOCpaATrhBs58hjuXMMMUmd",
      "include_colab_link": true
    },
    "kernelspec": {
      "name": "python3",
      "display_name": "Python 3"
    },
    "language_info": {
      "name": "python"
    }
  },
  "cells": [
    {
      "cell_type": "markdown",
      "metadata": {
        "id": "view-in-github",
        "colab_type": "text"
      },
      "source": [
        "<a href=\"https://colab.research.google.com/github/DataMan7/my-web-project/blob/main/Assign2.ipynb\" target=\"_parent\"><img src=\"https://colab.research.google.com/assets/colab-badge.svg\" alt=\"Open In Colab\"/></a>"
      ]
    },
    {
      "cell_type": "code",
      "execution_count": null,
      "metadata": {
        "id": "yiNbXUVMA_TC"
      },
      "outputs": [],
      "source": [
        "### **Assignment Instructions:**\n",
        "# 1. **Refactor the Code:**\n",
        "    #- **Improve Formatting:**\n",
        "        #- Separate multiple statements onto individual lines.\n",
        "        #- Ensure proper spacing around operators.\n",
        "    #- **Use Meaningful Variable Names:**\n",
        "        #- Rename variables like `r`, `h`, `vol`, and `sa` to more descriptive names (e.g., `radius`, `height`, `volume`, `surface_area`).\n",
        "    #- **Add Comments:**\n",
        "        #- Include comments that explain each part of the code (e.g., what the formulas compute).\n",
        "    #- **Enhance Readability:**\n",
        "        #- Structure the code in a way that it is easy to read and understand.\n",
        "#2. **Test Your Code:**\n",
        "    #- Run the refactored code to verify that it correctly computes and prints the cylinder’s volume and surface area.\n",
        "    #- Ensure that the functionality remains unchanged.\n",
        "\n",
        "\n",
        "# messy code to compute cylinder metrics\n",
        "r=3.0; h=5\n",
        "vol=3.14159*r**2*h; sa=2*3.14159*r*(r+h)\n",
        "print(\"Vol:\",vol,\"SurfArea:\", sa)"
      ]
    },
    {
      "cell_type": "code",
      "source": [],
      "metadata": {
        "id": "wy5Lf-Q4BPEj"
      },
      "execution_count": null,
      "outputs": []
    }
  ]
}