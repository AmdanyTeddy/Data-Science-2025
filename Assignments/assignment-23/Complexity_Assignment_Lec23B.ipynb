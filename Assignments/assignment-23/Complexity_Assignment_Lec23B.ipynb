{
 "cells": [
  {
   "cell_type": "markdown",
   "id": "bf86ef9c",
   "metadata": {},
   "source": [
    "# 📘 Assignment: Understanding Complexity Classes\n",
    "Google Colab Notebook\n",
    "---\n",
    "### 🎯 Goal\n",
    "To practice identifying and reasoning about algorithm complexity (Θ-notation) through real-world coding problems.\n",
    "You will write code, predict complexity, test with different input sizes, and explain results."
   ]
  },
  {
   "cell_type": "markdown",
   "id": "a7006417",
   "metadata": {},
   "source": [
    "## 🔑 Instructions\n",
    "1. Read each problem carefully.\n",
    "2. Implement the function as described.\n",
    "3. Predict its complexity class (Θ-notation).\n",
    "4. Use `timeit` to measure runtimes for different input sizes.\n",
    "5. Plot results with `matplotlib`.\n",
    "6. Answer the reflection questions in markdown cells.\n"
   ]
  },
  {
   "cell_type": "markdown",
   "id": "fb57b537",
   "metadata": {},
   "source": [
    "## Θ(1) — Constant Time\n"
   ]
  },
  {
   "cell_type": "markdown",
   "id": "3a29a602",
   "metadata": {},
   "source": [
    "**Task 1:** Access the first element in a list of 1M numbers.\n",
    "\n",
    "👉 Write code below, predict its Θ-complexity, and test."
   ]
  },
  {
   "cell_type": "code",
   "execution_count": null,
   "id": "f98aa183",
   "metadata": {},
   "outputs": [],
   "source": [
    "# Starter code template\n",
    "import timeit\n",
    "\n",
    "def task_function(...):\n",
    "    pass\n",
    "\n",
    "# Test with different inputs\n",
    "#print(task_function(...))"
   ]
  },
  {
   "cell_type": "markdown",
   "id": "78ddbda1",
   "metadata": {},
   "source": [
    "**Task 2:** Check if a number is even using modulus.\n",
    "\n",
    "👉 Write code below, predict its Θ-complexity, and test."
   ]
  },
  {
   "cell_type": "code",
   "execution_count": null,
   "id": "bfbd1aa0",
   "metadata": {},
   "outputs": [],
   "source": [
    "# Starter code template\n",
    "import timeit\n",
    "\n",
    "def task_function(...):\n",
    "    pass\n",
    "\n",
    "# Test with different inputs\n",
    "#print(task_function(...))"
   ]
  },
  {
   "cell_type": "markdown",
   "id": "fc567fa4",
   "metadata": {},
   "source": [
    "**Task 3:** Swap two variables.\n",
    "\n",
    "👉 Write code below, predict its Θ-complexity, and test."
   ]
  },
  {
   "cell_type": "code",
   "execution_count": null,
   "id": "28a17c72",
   "metadata": {},
   "outputs": [],
   "source": [
    "# Starter code template\n",
    "import timeit\n",
    "\n",
    "def task_function(...):\n",
    "    pass\n",
    "\n",
    "# Test with different inputs\n",
    "#print(task_function(...))"
   ]
  },
  {
   "cell_type": "markdown",
   "id": "9d9b2792",
   "metadata": {},
   "source": [
    "**Task 4:** Return today’s date using datetime.\n",
    "\n",
    "👉 Write code below, predict its Θ-complexity, and test."
   ]
  },
  {
   "cell_type": "code",
   "execution_count": null,
   "id": "82a2aa87",
   "metadata": {},
   "outputs": [],
   "source": [
    "# Starter code template\n",
    "import timeit\n",
    "\n",
    "def task_function(...):\n",
    "    pass\n",
    "\n",
    "# Test with different inputs\n",
    "#print(task_function(...))"
   ]
  },
  {
   "cell_type": "markdown",
   "id": "3a0f5ede",
   "metadata": {},
   "source": [
    "**Task 5:** Insert and retrieve an item in a dictionary.\n",
    "\n",
    "👉 Write code below, predict its Θ-complexity, and test."
   ]
  },
  {
   "cell_type": "code",
   "execution_count": null,
   "id": "b8428054",
   "metadata": {},
   "outputs": [],
   "source": [
    "# Starter code template\n",
    "import timeit\n",
    "\n",
    "def task_function(...):\n",
    "    pass\n",
    "\n",
    "# Test with different inputs\n",
    "#print(task_function(...))"
   ]
  },
  {
   "cell_type": "markdown",
   "id": "348ad160",
   "metadata": {},
   "source": [
    "## Θ(log n) — Logarithmic Time\n"
   ]
  },
  {
   "cell_type": "markdown",
   "id": "2b558da2",
   "metadata": {},
   "source": [
    "**Task 1:** Implement binary search on a sorted list of student IDs.\n",
    "\n",
    "👉 Write code below, predict its Θ-complexity, and test."
   ]
  },
  {
   "cell_type": "code",
   "execution_count": null,
   "id": "9db56a58",
   "metadata": {},
   "outputs": [],
   "source": [
    "# Starter code template\n",
    "import timeit\n",
    "\n",
    "def task_function(...):\n",
    "    pass\n",
    "\n",
    "# Test with different inputs\n",
    "#print(task_function(...))"
   ]
  },
  {
   "cell_type": "markdown",
   "id": "0abb0bff",
   "metadata": {},
   "source": [
    "**Task 2:** Guess a number between 1 and n using halving.\n",
    "\n",
    "👉 Write code below, predict its Θ-complexity, and test."
   ]
  },
  {
   "cell_type": "code",
   "execution_count": null,
   "id": "e9bfbe7b",
   "metadata": {},
   "outputs": [],
   "source": [
    "# Starter code template\n",
    "import timeit\n",
    "\n",
    "def task_function(...):\n",
    "    pass\n",
    "\n",
    "# Test with different inputs\n",
    "#print(task_function(...))"
   ]
  },
  {
   "cell_type": "markdown",
   "id": "9f3985a0",
   "metadata": {},
   "source": [
    "**Task 3:** Find number of digits in a large integer.\n",
    "\n",
    "👉 Write code below, predict its Θ-complexity, and test."
   ]
  },
  {
   "cell_type": "code",
   "execution_count": null,
   "id": "905ad352",
   "metadata": {},
   "outputs": [],
   "source": [
    "# Starter code template\n",
    "import timeit\n",
    "\n",
    "def task_function(...):\n",
    "    pass\n",
    "\n",
    "# Test with different inputs\n",
    "#print(task_function(...))"
   ]
  },
  {
   "cell_type": "markdown",
   "id": "d35416bd",
   "metadata": {},
   "source": [
    "**Task 4:** Simulate reducing a population by half until 1 remains.\n",
    "\n",
    "👉 Write code below, predict its Θ-complexity, and test."
   ]
  },
  {
   "cell_type": "code",
   "execution_count": null,
   "id": "9a1647fb",
   "metadata": {},
   "outputs": [],
   "source": [
    "# Starter code template\n",
    "import timeit\n",
    "\n",
    "def task_function(...):\n",
    "    pass\n",
    "\n",
    "# Test with different inputs\n",
    "#print(task_function(...))"
   ]
  },
  {
   "cell_type": "markdown",
   "id": "14fb9f34",
   "metadata": {},
   "source": [
    "**Task 5:** Recursive division of n by 2 until 1.\n",
    "\n",
    "👉 Write code below, predict its Θ-complexity, and test."
   ]
  },
  {
   "cell_type": "code",
   "execution_count": null,
   "id": "a4b89110",
   "metadata": {},
   "outputs": [],
   "source": [
    "# Starter code template\n",
    "import timeit\n",
    "\n",
    "def task_function(...):\n",
    "    pass\n",
    "\n",
    "# Test with different inputs\n",
    "#print(task_function(...))"
   ]
  },
  {
   "cell_type": "markdown",
   "id": "47f1f1be",
   "metadata": {},
   "source": [
    "## Θ(n) — Linear Time\n"
   ]
  },
  {
   "cell_type": "markdown",
   "id": "88583579",
   "metadata": {},
   "source": [
    "**Task 1:** Count words in a paragraph.\n",
    "\n",
    "👉 Write code below, predict its Θ-complexity, and test."
   ]
  },
  {
   "cell_type": "code",
   "execution_count": null,
   "id": "5f56a19e",
   "metadata": {},
   "outputs": [],
   "source": [
    "# Starter code template\n",
    "import timeit\n",
    "\n",
    "def task_function(...):\n",
    "    pass\n",
    "\n",
    "# Test with different inputs\n",
    "#print(task_function(...))"
   ]
  },
  {
   "cell_type": "markdown",
   "id": "a2589893",
   "metadata": {},
   "source": [
    "**Task 2:** Find the max temperature in a list.\n",
    "\n",
    "👉 Write code below, predict its Θ-complexity, and test."
   ]
  },
  {
   "cell_type": "code",
   "execution_count": null,
   "id": "b4a69ed9",
   "metadata": {},
   "outputs": [],
   "source": [
    "# Starter code template\n",
    "import timeit\n",
    "\n",
    "def task_function(...):\n",
    "    pass\n",
    "\n",
    "# Test with different inputs\n",
    "#print(task_function(...))"
   ]
  },
  {
   "cell_type": "markdown",
   "id": "9569f28d",
   "metadata": {},
   "source": [
    "**Task 3:** Check if a customer ID is in a list.\n",
    "\n",
    "👉 Write code below, predict its Θ-complexity, and test."
   ]
  },
  {
   "cell_type": "code",
   "execution_count": null,
   "id": "50f0c096",
   "metadata": {},
   "outputs": [],
   "source": [
    "# Starter code template\n",
    "import timeit\n",
    "\n",
    "def task_function(...):\n",
    "    pass\n",
    "\n",
    "# Test with different inputs\n",
    "#print(task_function(...))"
   ]
  },
  {
   "cell_type": "markdown",
   "id": "99c7d74c",
   "metadata": {},
   "source": [
    "**Task 4:** Compute sum of grades for all students.\n",
    "\n",
    "👉 Write code below, predict its Θ-complexity, and test."
   ]
  },
  {
   "cell_type": "code",
   "execution_count": null,
   "id": "abc0440f",
   "metadata": {},
   "outputs": [],
   "source": [
    "# Starter code template\n",
    "import timeit\n",
    "\n",
    "def task_function(...):\n",
    "    pass\n",
    "\n",
    "# Test with different inputs\n",
    "#print(task_function(...))"
   ]
  },
  {
   "cell_type": "markdown",
   "id": "998049e0",
   "metadata": {},
   "source": [
    "**Task 5:** Print all items of a shopping list.\n",
    "\n",
    "👉 Write code below, predict its Θ-complexity, and test."
   ]
  },
  {
   "cell_type": "code",
   "execution_count": null,
   "id": "a8899b7d",
   "metadata": {},
   "outputs": [],
   "source": [
    "# Starter code template\n",
    "import timeit\n",
    "\n",
    "def task_function(...):\n",
    "    pass\n",
    "\n",
    "# Test with different inputs\n",
    "#print(task_function(...))"
   ]
  },
  {
   "cell_type": "markdown",
   "id": "31b9eb02",
   "metadata": {},
   "source": [
    "## Θ(n log n) — Log-Linear Time\n"
   ]
  },
  {
   "cell_type": "markdown",
   "id": "7185b844",
   "metadata": {},
   "source": [
    "**Task 1:** Implement merge sort.\n",
    "\n",
    "👉 Write code below, predict its Θ-complexity, and test."
   ]
  },
  {
   "cell_type": "code",
   "execution_count": null,
   "id": "8b42e310",
   "metadata": {},
   "outputs": [],
   "source": [
    "# Starter code template\n",
    "import timeit\n",
    "\n",
    "def task_function(...):\n",
    "    pass\n",
    "\n",
    "# Test with different inputs\n",
    "#print(task_function(...))"
   ]
  },
  {
   "cell_type": "markdown",
   "id": "34ab79c3",
   "metadata": {},
   "source": [
    "**Task 2:** Use Python's sorted() on a dataset.\n",
    "\n",
    "👉 Write code below, predict its Θ-complexity, and test."
   ]
  },
  {
   "cell_type": "code",
   "execution_count": null,
   "id": "fb84c4f7",
   "metadata": {},
   "outputs": [],
   "source": [
    "# Starter code template\n",
    "import timeit\n",
    "\n",
    "def task_function(...):\n",
    "    pass\n",
    "\n",
    "# Test with different inputs\n",
    "#print(task_function(...))"
   ]
  },
  {
   "cell_type": "markdown",
   "id": "09df91f9",
   "metadata": {},
   "source": [
    "**Task 3:** Sort student names alphabetically.\n",
    "\n",
    "👉 Write code below, predict its Θ-complexity, and test."
   ]
  },
  {
   "cell_type": "code",
   "execution_count": null,
   "id": "b0fc9a61",
   "metadata": {},
   "outputs": [],
   "source": [
    "# Starter code template\n",
    "import timeit\n",
    "\n",
    "def task_function(...):\n",
    "    pass\n",
    "\n",
    "# Test with different inputs\n",
    "#print(task_function(...))"
   ]
  },
  {
   "cell_type": "markdown",
   "id": "e9c627c7",
   "metadata": {},
   "source": [
    "**Task 4:** Sort random 2D points by x-coordinate.\n",
    "\n",
    "👉 Write code below, predict its Θ-complexity, and test."
   ]
  },
  {
   "cell_type": "code",
   "execution_count": null,
   "id": "9a4ad0d6",
   "metadata": {},
   "outputs": [],
   "source": [
    "# Starter code template\n",
    "import timeit\n",
    "\n",
    "def task_function(...):\n",
    "    pass\n",
    "\n",
    "# Test with different inputs\n",
    "#print(task_function(...))"
   ]
  },
  {
   "cell_type": "markdown",
   "id": "d91a3106",
   "metadata": {},
   "source": [
    "**Task 5:** Sort tweets by timestamp.\n",
    "\n",
    "👉 Write code below, predict its Θ-complexity, and test."
   ]
  },
  {
   "cell_type": "code",
   "execution_count": null,
   "id": "4b1b15df",
   "metadata": {},
   "outputs": [],
   "source": [
    "# Starter code template\n",
    "import timeit\n",
    "\n",
    "def task_function(...):\n",
    "    pass\n",
    "\n",
    "# Test with different inputs\n",
    "#print(task_function(...))"
   ]
  },
  {
   "cell_type": "markdown",
   "id": "8102ba7c",
   "metadata": {},
   "source": [
    "## Θ(n²) — Polynomial (Quadratic)\n"
   ]
  },
  {
   "cell_type": "markdown",
   "id": "d795351f",
   "metadata": {},
   "source": [
    "**Task 1:** Compare every student with every other for duplicate IDs.\n",
    "\n",
    "👉 Write code below, predict its Θ-complexity, and test."
   ]
  },
  {
   "cell_type": "code",
   "execution_count": null,
   "id": "c3bb732c",
   "metadata": {},
   "outputs": [],
   "source": [
    "# Starter code template\n",
    "import timeit\n",
    "\n",
    "def task_function(...):\n",
    "    pass\n",
    "\n",
    "# Test with different inputs\n",
    "#print(task_function(...))"
   ]
  },
  {
   "cell_type": "markdown",
   "id": "338105d2",
   "metadata": {},
   "source": [
    "**Task 2:** Generate an n × n multiplication table.\n",
    "\n",
    "👉 Write code below, predict its Θ-complexity, and test."
   ]
  },
  {
   "cell_type": "code",
   "execution_count": null,
   "id": "5176a0b7",
   "metadata": {},
   "outputs": [],
   "source": [
    "# Starter code template\n",
    "import timeit\n",
    "\n",
    "def task_function(...):\n",
    "    pass\n",
    "\n",
    "# Test with different inputs\n",
    "#print(task_function(...))"
   ]
  },
  {
   "cell_type": "markdown",
   "id": "a9095346",
   "metadata": {},
   "source": [
    "**Task 3:** Compute pairwise distances between cities.\n",
    "\n",
    "👉 Write code below, predict its Θ-complexity, and test."
   ]
  },
  {
   "cell_type": "code",
   "execution_count": null,
   "id": "76afdb79",
   "metadata": {},
   "outputs": [],
   "source": [
    "# Starter code template\n",
    "import timeit\n",
    "\n",
    "def task_function(...):\n",
    "    pass\n",
    "\n",
    "# Test with different inputs\n",
    "#print(task_function(...))"
   ]
  },
  {
   "cell_type": "markdown",
   "id": "8fb140a2",
   "metadata": {},
   "source": [
    "**Task 4:** Check for duplicate pairs in a list.\n",
    "\n",
    "👉 Write code below, predict its Θ-complexity, and test."
   ]
  },
  {
   "cell_type": "code",
   "execution_count": null,
   "id": "ad461502",
   "metadata": {},
   "outputs": [],
   "source": [
    "# Starter code template\n",
    "import timeit\n",
    "\n",
    "def task_function(...):\n",
    "    pass\n",
    "\n",
    "# Test with different inputs\n",
    "#print(task_function(...))"
   ]
  },
  {
   "cell_type": "markdown",
   "id": "55e8c45d",
   "metadata": {},
   "source": [
    "**Task 5:** Brute-force check all classroom seat pairs.\n",
    "\n",
    "👉 Write code below, predict its Θ-complexity, and test."
   ]
  },
  {
   "cell_type": "code",
   "execution_count": null,
   "id": "47afc1a5",
   "metadata": {},
   "outputs": [],
   "source": [
    "# Starter code template\n",
    "import timeit\n",
    "\n",
    "def task_function(...):\n",
    "    pass\n",
    "\n",
    "# Test with different inputs\n",
    "#print(task_function(...))"
   ]
  },
  {
   "cell_type": "markdown",
   "id": "4a419ce4",
   "metadata": {},
   "source": [
    "## Θ(2ⁿ) — Exponential\n"
   ]
  },
  {
   "cell_type": "markdown",
   "id": "991d62d9",
   "metadata": {},
   "source": [
    "**Task 1:** Generate all subsets of a set of size n.\n",
    "\n",
    "👉 Write code below, predict its Θ-complexity, and test."
   ]
  },
  {
   "cell_type": "code",
   "execution_count": null,
   "id": "4a67a909",
   "metadata": {},
   "outputs": [],
   "source": [
    "# Starter code template\n",
    "import timeit\n",
    "\n",
    "def task_function(...):\n",
    "    pass\n",
    "\n",
    "# Test with different inputs\n",
    "#print(task_function(...))"
   ]
  },
  {
   "cell_type": "markdown",
   "id": "ea5d90a8",
   "metadata": {},
   "source": [
    "**Task 2:** Solve Towers of Hanoi recursively.\n",
    "\n",
    "👉 Write code below, predict its Θ-complexity, and test."
   ]
  },
  {
   "cell_type": "code",
   "execution_count": null,
   "id": "21cd7b22",
   "metadata": {},
   "outputs": [],
   "source": [
    "# Starter code template\n",
    "import timeit\n",
    "\n",
    "def task_function(...):\n",
    "    pass\n",
    "\n",
    "# Test with different inputs\n",
    "#print(task_function(...))"
   ]
  },
  {
   "cell_type": "markdown",
   "id": "1e073f49",
   "metadata": {},
   "source": [
    "**Task 3:** Naive recursive Fibonacci.\n",
    "\n",
    "👉 Write code below, predict its Θ-complexity, and test."
   ]
  },
  {
   "cell_type": "code",
   "execution_count": null,
   "id": "3e176925",
   "metadata": {},
   "outputs": [],
   "source": [
    "# Starter code template\n",
    "import timeit\n",
    "\n",
    "def task_function(...):\n",
    "    pass\n",
    "\n",
    "# Test with different inputs\n",
    "#print(task_function(...))"
   ]
  },
  {
   "cell_type": "markdown",
   "id": "054e9923",
   "metadata": {},
   "source": [
    "**Task 4:** Generate all binary strings of length n.\n",
    "\n",
    "👉 Write code below, predict its Θ-complexity, and test."
   ]
  },
  {
   "cell_type": "code",
   "execution_count": null,
   "id": "8b8712c1",
   "metadata": {},
   "outputs": [],
   "source": [
    "# Starter code template\n",
    "import timeit\n",
    "\n",
    "def task_function(...):\n",
    "    pass\n",
    "\n",
    "# Test with different inputs\n",
    "#print(task_function(...))"
   ]
  },
  {
   "cell_type": "markdown",
   "id": "9dccfe3b",
   "metadata": {},
   "source": [
    "**Task 5:** Simulate trying all password combinations of length n.\n",
    "\n",
    "👉 Write code below, predict its Θ-complexity, and test."
   ]
  },
  {
   "cell_type": "code",
   "execution_count": null,
   "id": "cd2517ff",
   "metadata": {},
   "outputs": [],
   "source": [
    "# Starter code template\n",
    "import timeit\n",
    "\n",
    "def task_function(...):\n",
    "    pass\n",
    "\n",
    "# Test with different inputs\n",
    "#print(task_function(...))"
   ]
  },
  {
   "cell_type": "markdown",
   "id": "5b0c288d",
   "metadata": {},
   "source": [
    "## 📊 Experiment Section\n",
    "- Use `timeit` to measure each function with multiple input sizes.\n",
    "- Plot runtime curves for Θ(n), Θ(n²), and Θ(2ⁿ).\n",
    "- Compare your predictions with observed results.\n"
   ]
  },
  {
   "cell_type": "code",
   "execution_count": null,
   "id": "0ad905e1",
   "metadata": {},
   "outputs": [],
   "source": [
    "\n",
    "import matplotlib.pyplot as plt\n",
    "\n",
    "# Example experiment setup (students should extend this)\n",
    "import timeit\n",
    "\n",
    "def linear(n):\n",
    "    return sum(range(n))\n",
    "\n",
    "ns = [10, 100, 1000, 5000]\n",
    "times = [timeit.timeit(lambda: linear(n), number=10) for n in ns]\n",
    "\n",
    "plt.plot(ns, times, marker=\"o\")\n",
    "plt.xlabel(\"Input size (n)\")\n",
    "plt.ylabel(\"Time (s)\")\n",
    "plt.title(\"Example: Linear Complexity Runtime\")\n",
    "plt.show()\n"
   ]
  }
 ],
 "metadata": {},
 "nbformat": 4,
 "nbformat_minor": 5
}