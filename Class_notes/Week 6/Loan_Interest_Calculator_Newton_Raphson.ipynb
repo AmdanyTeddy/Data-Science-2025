{
 "cells": [
  {
   "cell_type": "markdown",
   "id": "670b3d59",
   "metadata": {},
   "source": [
    "# 📊 Loan Interest Rate Calculator using Newton-Raphson Method\n",
    "Estimate the interest rate on a loan using numerical methods. This notebook demonstrates how the Newton-Raphson method can be used to find the monthly and annual interest rate given a loan amount, monthly payment, and loan term."
   ]
  },
  {
   "cell_type": "code",
   "execution_count": null,
   "id": "5348a9fa",
   "metadata": {},
   "outputs": [],
   "source": [
    "import numpy as np\n",
    "import matplotlib.pyplot as plt"
   ]
  },
  {
   "cell_type": "code",
   "execution_count": null,
   "id": "40535ded",
   "metadata": {},
   "outputs": [],
   "source": [
    "def f(r, PMT, PV, n):\n",
    "    return PV - PMT * (1 - (1 + r) ** -n) / r\n",
    "\n",
    "def f_prime(r, PMT, n):\n",
    "    return (PMT * ((1 + r)**(-n) * (n / (1 + r)) - (1 - (1 + r)**(-n)) / r)) / r"
   ]
  },
  {
   "cell_type": "code",
   "execution_count": null,
   "id": "7cdef4b9",
   "metadata": {},
   "outputs": [],
   "source": [
    "def newton_raphson(PV, PMT, n, initial_guess=0.05, epsilon=1e-6, max_iter=100):\n",
    "    r = initial_guess\n",
    "    for i in range(max_iter):\n",
    "        f_val = f(r, PMT, PV, n)\n",
    "        f_deriv = f_prime(r, PMT, n)\n",
    "        if f_deriv == 0:\n",
    "            print(\"Zero derivative. No solution found.\")\n",
    "            return None\n",
    "        r_new = r - f_val / f_deriv\n",
    "        if abs(r_new - r) < epsilon:\n",
    "            return r_new, i + 1\n",
    "        r = r_new\n",
    "    print(\"Exceeded maximum iterations.\")\n",
    "    return None"
   ]
  },
  {
   "cell_type": "markdown",
   "id": "ff7f15b6",
   "metadata": {},
   "source": [
    "## 🔢 Enter Loan Details"
   ]
  },
  {
   "cell_type": "code",
   "execution_count": null,
   "id": "8a5c65ea",
   "metadata": {},
   "outputs": [],
   "source": [
    "# Example loan details\n",
    "PV = 500000  # Loan amount in Ksh\n",
    "PMT = 15000  # Monthly payment in Ksh\n",
    "n = 48       # Loan term in months (e.g., 4 years)\n",
    "\n",
    "estimated_r, steps = newton_raphson(PV, PMT, n)\n",
    "\n",
    "if estimated_r:\n",
    "    annual_rate_percent = estimated_r * 12 * 100\n",
    "    print(f\"Estimated monthly interest rate: {estimated_r:.6f}\")\n",
    "    print(f\"Estimated annual interest rate: {annual_rate_percent:.2f}%\")\n",
    "    print(f\"Converged in {steps} steps.\")\n",
    "else:\n",
    "    print(\"Could not estimate the interest rate.\")"
   ]
  },
  {
   "cell_type": "markdown",
   "id": "3bb97ff2",
   "metadata": {},
   "source": [
    "## 📈 Visualizing the Loan Function `f(r)`"
   ]
  },
  {
   "cell_type": "code",
   "execution_count": null,
   "id": "98358ec1",
   "metadata": {},
   "outputs": [],
   "source": [
    "r_values = np.linspace(0.001, 0.3, 1000)\n",
    "f_values = [f(r, PMT, PV, n) for r in r_values]\n",
    "\n",
    "plt.figure(figsize=(10, 5))\n",
    "plt.plot(r_values, f_values, label=\"f(r)\")\n",
    "plt.axhline(0, color='red', linestyle='--')\n",
    "plt.xlabel(\"Monthly Interest Rate (r)\")\n",
    "plt.ylabel(\"f(r)\")\n",
    "plt.title(\"Loan Equation Function f(r)\")\n",
    "plt.grid(True)\n",
    "plt.legend()\n",
    "plt.show()"
   ]
  }
 ],
 "metadata": {},
 "nbformat": 4,
 "nbformat_minor": 5
}