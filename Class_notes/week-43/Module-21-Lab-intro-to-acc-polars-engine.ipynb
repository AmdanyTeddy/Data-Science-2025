{
  "cells": [
    {
      "cell_type": "markdown",
      "id": "734557aa-90fb-468f-9ed0-0e6f295bb9eb",
      "metadata": {
        "id": "734557aa-90fb-468f-9ed0-0e6f295bb9eb"
      },
      "source": [
        "<img src=\"./images/DLI_Header.png\" width=400/>"
      ]
    },
    {
      "cell_type": "markdown",
      "id": "6dbb572c-1291-4011-9ed4-120eb2ec7b29",
      "metadata": {
        "id": "6dbb572c-1291-4011-9ed4-120eb2ec7b29"
      },
      "source": [
        "# Lab: Introduction to the Polars GPU Engine #"
      ]
    },
    {
      "cell_type": "markdown",
      "id": "mXVQlideij1y",
      "metadata": {
        "id": "mXVQlideij1y"
      },
      "source": [
        "## Table of Contents ##\n",
        "<br>\n",
        "This Lab Notebook briefly introduces Dataframe manipulations using the Polars library and its GPU engine. This notebook covers the below sections:"
      ]
    },
    {
      "cell_type": "markdown",
      "id": "377ba9f0-0acc-4574-9a43-c475cfd52dd5",
      "metadata": {
        "id": "377ba9f0-0acc-4574-9a43-c475cfd52dd5"
      },
      "source": [
        "## Table of Contents ##\n",
        "<br>\n",
        "This Lab Notebook briefly introduces Polars and covers the new GPU engine. This notebook covers the below sections:\n",
        "\n",
        "1. [Introduction to the Polars Library](#Introduction-to-the-Polars-Library)\n",
        "    * [Creating a DataFrame](#Creating-a-DataFrame)\n",
        "    * [Running Basic Operations](#Running-Basic-Operations)\n",
        "2. [Basic Polars Operations](#Basic-Polars-Operations)\n",
        "    * [Polars Eager Execution API Reference](#Polars-Eager-Execution-API-Reference)\n",
        "    * [Exercise #1 - Load Data](#Exercise-#1---Load-Data)\n",
        "    * [Exercise #2 - Calculate Average Age of Population](#Exercise-#2---Calculate-Average-Age-of-Population)\n",
        "    * [Exercise #3 - Group By and Aggregation](#Exercise-#3---Group-By-and-Aggregation)\n",
        "    * [Exercise #4 - Gender Distribution](#Exercise-#4---Gender-Distribution)\n",
        "4. [Lazy Execution](#Lazy-Execution)\n",
        "    * [Polars Lazy Execution API Reference](#Polars-Lazy-Execution-API-Reference)\n",
        "    * [Execution Graph](#Execution-Graph)\n",
        "    * [Exercise #5 - Creating a Lazy Dataframe](#Exercise-#5---Creating-a-Lazy-Dataframe)\n",
        "    * [Exercise #6 - Query Creation](#Exercise-#6---Query-Creation)\n",
        "5. [GPU Accelerated Polars](#GPU-Accelerated-Polars)\n",
        "    * [Accelerate Previous Code](#Accelerate-Previous-Code)\n",
        "    * [Verify Results Across Engines](#Verify-Results-Across-Engines)\n",
        "    * [Fallback](#Fallback)\n",
        "    * [Exercise #7 - Enable GPU Engine](#Exercise-#7---Enable-GPU-Engine)\n",
        "6. [Conclusion](#Conclusion)"
      ]
    },
    {
      "cell_type": "markdown",
      "id": "e7dd978a-a785-4b67-822e-048d56e231e2",
      "metadata": {
        "id": "e7dd978a-a785-4b67-822e-048d56e231e2"
      },
      "source": [
        "## Introduction to the Polars Library ##\n",
        "Polars is a data analysis and manipulation library that is designed for large data processing (10-100GB) on a single GPU and is known for its speed and memory efficiency. While Pandas makes use of eager execution, Polars additionally has the capability for lazy execution through the built-in query optimizer and makes use of zero-copy optimization techniques. Due to these improvements, Polars delivers significant acceleration out of the box compared to other CPU-only data manipulation tools.\n",
        "\n",
        "cuDF is part of the NVIDIA RAPIDS suite of CUDA-X libraries. It’s a GPU-accelerated DataFrame library that harnesses the massive parallelism of GPUs to significantly enhance data processing performance.\n",
        "\n",
        "Bringing the speed of cuDF on NVIDIA GPUs to the efficiency of Polars adds an additional performance boost, allowing you to maintain an interactive experience as your datasets grow to hundreds of millions or even billions of rows."
      ]
    },
    {
      "cell_type": "markdown",
      "id": "a2187687-9a53-44f9-ba55-ba9e1081cac6",
      "metadata": {
        "id": "a2187687-9a53-44f9-ba55-ba9e1081cac6"
      },
      "source": [
        "### Creating a DataFrame ###\n",
        "Let's first start by installing Polars.  This version will also install the GPU engine."
      ]
    },
    {
      "cell_type": "code",
      "execution_count": null,
      "id": "98a43baf",
      "metadata": {},
      "outputs": [],
      "source": [
        "pip install polars[gpu] --extra-index-url=https://pypi.nvidia.com"
      ]
    },
    {
      "cell_type": "markdown",
      "id": "e31d3504",
      "metadata": {},
      "source": [
        "Next, let's download the dataset that we'll be using for today.  Please note, by downloading this dataset, you agree to the [UK national archives licensing terms](https://www.nationalarchives.gov.uk/doc/open-government-licence/version/3/)"
      ]
    },
    {
      "cell_type": "code",
      "execution_count": null,
      "id": "90c64908",
      "metadata": {
        "id": "90c64908"
      },
      "outputs": [],
      "source": [
        "# Download and unzip files if they do not exist\n",
        "!if [ ! -f \"./uk_pop.zip\" ]; then curl \"https://data.rapids.ai/teaching-kit/uk_pop.zip\" -o ./uk_pop.zip; else echo \"Population dataset already downloaded\"; fi\n",
        "!if [ ! -f \"./uk_pop.csv\" ]; then unzip -d ./ ./uk_pop.zip ; else echo \"Population dataset found and ready\"; fi"
      ]
    },
    {
      "cell_type": "markdown",
      "id": "749edde6",
      "metadata": {
        "id": "749edde6"
      },
      "source": [
        "Now let's see how the syntax looks! We will create a dataframe to use within Polars."
      ]
    },
    {
      "cell_type": "code",
      "execution_count": null,
      "id": "be96aa2e-f1fc-4521-bf11-89505a2981ac",
      "metadata": {
        "id": "be96aa2e-f1fc-4521-bf11-89505a2981ac"
      },
      "outputs": [],
      "source": [
        "import polars as pl\n",
        "import time\n",
        "\n",
        "start_time = time.time()\n",
        "\n",
        "data = pl.read_csv('./uk_pop.csv')\n",
        "\n",
        "polars_df = pl.DataFrame(data)\n",
        "polars_time = time.time() - start_time\n",
        "\n",
        "print(f\"Time Taken: {polars_time:.4f} seconds\")"
      ]
    },
    {
      "cell_type": "code",
      "execution_count": null,
      "id": "90dedd84-0792-4a54-9380-4b3a020bccd1",
      "metadata": {
        "id": "90dedd84-0792-4a54-9380-4b3a020bccd1"
      },
      "outputs": [],
      "source": [
        "data.head()"
      ]
    },
    {
      "cell_type": "markdown",
      "id": "12c66adc-5ac0-49a1-95fe-dc78fbb3950a",
      "metadata": {
        "id": "12c66adc-5ac0-49a1-95fe-dc78fbb3950a"
      },
      "source": [
        "### Running Basic Operations ###\n",
        "That was simple- now let's try running a few operations on the dataset!"
      ]
    },
    {
      "cell_type": "code",
      "execution_count": null,
      "id": "7fc2280f-a89c-42dd-befc-39ffce2f01ec",
      "metadata": {
        "id": "7fc2280f-a89c-42dd-befc-39ffce2f01ec",
        "scrolled": true
      },
      "outputs": [],
      "source": [
        "start_time = time.time()\n",
        "\n",
        "#load data\n",
        "polars_df = pl.read_csv('./uk_pop.csv')\n",
        "\n",
        "# Filter for ages above 0\n",
        "filtered_df = polars_df.filter(pl.col('age') > 0.0)\n",
        "\n",
        "#Sort by name\n",
        "sorted_df = filtered_df.sort('name', descending=True)\n",
        "\n",
        "print(sorted_df.head())\n",
        "polars_time = time.time() - start_time\n",
        "print(f\"Time Taken: {polars_time:.4f} seconds\")"
      ]
    },
    {
      "cell_type": "markdown",
      "id": "dd499b82-9b82-472b-934c-5d7e34743458",
      "metadata": {
        "id": "dd499b82-9b82-472b-934c-5d7e34743458"
      },
      "source": [
        "## Basic Polars Operations ##\n",
        "Please refer to the following API reference guide to complete the exercises below.\n",
        "\n",
        "1. Load data\n",
        "2. Calculate average age of population\n",
        "3. Group By and Aggregation\n",
        "4. Gender Distribution"
      ]
    },
    {
      "cell_type": "markdown",
      "id": "b3972070-b02e-4870-90c2-bcae0c43f82e",
      "metadata": {
        "id": "b3972070-b02e-4870-90c2-bcae0c43f82e"
      },
      "source": [
        "### Polars Eager Execution API Reference ###\n",
        "\n",
        "**DataFrame**\n",
        "\n",
        "The main data structure for eager execution in Polars.\n",
        "\n",
        "- `pl.DataFrame(data)`: Create a DataFrame from data\n",
        "- `pl.read_csv(file)`: Read CSV file into DataFrame\n",
        "- `pl.read_parquet(file)`: Read Parquet file into DataFrame\n",
        "\n",
        "**Key Methods**\n",
        "\n",
        "- `filter(mask)`: Filter rows based on a boolean mask\n",
        "- `select(columns)`: Select specific columns\n",
        "- `with_columns(expressions)`: Add or modify columns\n",
        "- `group_by(columns)`: Group by specified columns\n",
        "- `agg(aggregations)`: Perform aggregations on grouped data\n",
        "- `sort(columns)`: Sort the data by specified columns\n",
        "- `join(other, on)`: Join with another DataFrame\n",
        "\n",
        "**Expressions**\n",
        "\n",
        "Used to define operations on columns:\n",
        "\n",
        "- `pl.col(\"column\")`: Reference a column\n",
        "- `pl.lit(value)`: Create a literal value\n",
        "- `pl.when(predicate).then(value).otherwise(other)`: Conditional expression\n",
        "\n",
        "**Series Operations**\n",
        "\n",
        "- `series.sum()`: Calculate sum of series\n",
        "- `series.mean()`: Calculate mean of series\n",
        "- `series.max()`: Find maximum value in series\n",
        "- `series.min()`: Find minimum value in series\n",
        "- `series.sort()`: Sort series values\n",
        "\n",
        "**Data Types**\n",
        "\n",
        "- `pl.Int64`: 64-bit integer\n",
        "- `pl.Float64`: 64-bit float\n",
        "- `pl.Utf8`: String\n",
        "- `pl.Boolean`: Boolean\n",
        "- `pl.Date`: Date\n",
        "\n",
        "**Utilities**\n",
        "\n",
        "- `pl.concat([df1, df2])`: Concatenate DataFrames\n",
        "- `df.describe()`: Generate summary statistics\n",
        "- `df.to_csv(file)`: Write DataFrame to CSV\n",
        "- `df.to_parquet(file)`: Write DataFrame to Parquet\n",
        "\n",
        "The eager API executes operations immediately, providing direct access to results. It's suitable for interactive data exploration and smaller datasets."
      ]
    },
    {
      "cell_type": "markdown",
      "id": "d87e5c16-46df-4a5b-8454-64fc7bb761a4",
      "metadata": {
        "id": "d87e5c16-46df-4a5b-8454-64fc7bb761a4"
      },
      "source": [
        "### Exercise #1 - Load Data ###\n",
        "Load the csv file into a Dataframe using Polars."
      ]
    },
    {
      "cell_type": "code",
      "execution_count": null,
      "id": "e138575b-8817-44e0-981c-128b07d6bf8f",
      "metadata": {
        "id": "e138575b-8817-44e0-981c-128b07d6bf8f"
      },
      "outputs": [],
      "source": []
    },
    {
      "cell_type": "markdown",
      "id": "51b230dd-7c17-46fb-be96-1dd11dfbf90d",
      "metadata": {
        "id": "51b230dd-7c17-46fb-be96-1dd11dfbf90d"
      },
      "source": [
        "### Exercise #2 - Calculate Average Age of Population ###\n",
        "Now, filter for individuals aged 65 and above, and sort by ascending age."
      ]
    },
    {
      "cell_type": "code",
      "execution_count": null,
      "id": "d22e37d3-a0c0-4b05-891a-c74086a79e59",
      "metadata": {
        "id": "d22e37d3-a0c0-4b05-891a-c74086a79e59"
      },
      "outputs": [],
      "source": []
    },
    {
      "cell_type": "markdown",
      "id": "2af1bb9b-91bc-4665-a371-699b66067cd2",
      "metadata": {
        "id": "2af1bb9b-91bc-4665-a371-699b66067cd2"
      },
      "source": [
        "### Exercise #3 - Group By and Aggregation ###\n",
        "Next, group by county and calculate the total population and average age."
      ]
    },
    {
      "cell_type": "code",
      "execution_count": null,
      "id": "191a03a2-f420-4669-96ed-ddb290ce09f7",
      "metadata": {
        "id": "191a03a2-f420-4669-96ed-ddb290ce09f7"
      },
      "outputs": [],
      "source": []
    },
    {
      "cell_type": "markdown",
      "id": "fb6e2475-3823-43a7-b75b-460e971da230",
      "metadata": {
        "id": "fb6e2475-3823-43a7-b75b-460e971da230"
      },
      "source": [
        "### Exercise #4 - Gender Distribution ###\n",
        "Lastly, let's calculate the percentage of males to females in the sample data."
      ]
    },
    {
      "cell_type": "code",
      "execution_count": null,
      "id": "1fa57226-f174-4967-a75a-b11d9df8765f",
      "metadata": {
        "id": "1fa57226-f174-4967-a75a-b11d9df8765f"
      },
      "outputs": [],
      "source": []
    },
    {
      "cell_type": "markdown",
      "id": "3b44f79a-a542-492d-ae01-b1ee6f9203dc",
      "metadata": {
        "id": "3b44f79a-a542-492d-ae01-b1ee6f9203dc"
      },
      "source": [
        "## Lazy Execution ##\n",
        "Polars utilizes a technique called lazy execution to perform operations. Unlike eager execution, where operations are performed immediately, Polars defines and stores operations in a computational graph that isn't executed until explicitly required. This allows Polars to optimize the sequence of operations to minimize computation overhead and apply optimization techniques such as: applying filters early (predicate pushdown), selecting only necessary columns (projection pushdown), and executing operations in parallel. To make use of lazy execution in polars, a \"LazyFrame\" data structure is used.\n",
        "\n",
        "Now, lets run the same operations with lazy execution and visualize the graph!"
      ]
    },
    {
      "cell_type": "markdown",
      "id": "0a709c71-6fae-4eca-8236-853e3d97e12a",
      "metadata": {
        "id": "0a709c71-6fae-4eca-8236-853e3d97e12a"
      },
      "source": [
        "### Polars Lazy Execution API Reference ###\n",
        "\n",
        "**LazyFrame**\n",
        "\n",
        "The main entry point for lazy execution in Polars. Created from a DataFrame or data source.\n",
        "\n",
        "- `pl.LazyFrame(data)`: Create a LazyFrame from data.\n",
        "- `df.lazy()`: Convert a DataFrame to LazyFrame.\n",
        "\n",
        "**Key Methods**\n",
        "\n",
        "- `filter(predicate)`: Filter rows based on a condition.\n",
        "- `select(columns)`: Select specific columns.\n",
        "- `with_columns(expressions)`: Add or modify columns.\n",
        "- `group_by(columns)`: Group by specified columns.\n",
        "- `agg(aggregations)`: Perform aggregations on grouped data.\n",
        "- `sort(columns)`: Sort the data by specified columns.\n",
        "- `join(other, on)`: Join with another LazyFrame.\n",
        "- `collect()`: Execute the lazy query and return a DataFrame.\n",
        "\n",
        "**Expressions**\n",
        "\n",
        "Used to define operations on columns:\n",
        "\n",
        "- `pl.col(\"column\")`: Reference a column.\n",
        "- `pl.lit(value)`: Create a literal value.\n",
        "- `pl.when(predicate).then(value).otherwise(other)`: Define a conditional expression.\n",
        "\n",
        "**Execution**\n",
        "\n",
        "- `collect()`: Execute and return a DataFrame.\n",
        "- `fetch(n)`: Execute and return the first n rows.\n",
        "- `describe_plan()`: Show the query plan for optimization insights.\n",
        "- `explain()`: Explain the query execution process.\n",
        "\n",
        "**Optimization**\n",
        "\n",
        "- `cache()`: Cache intermediate results for faster access.\n",
        "- `optimize()`: Apply query optimizations to improve performance.\n",
        "\n",
        "The lazy API allows building complex queries that are optimized before execution, enabling better performance for large datasets."
      ]
    },
    {
      "cell_type": "code",
      "execution_count": null,
      "id": "f183fa43-99e2-45dc-930c-44fee40d9135",
      "metadata": {
        "id": "f183fa43-99e2-45dc-930c-44fee40d9135"
      },
      "outputs": [],
      "source": [
        "import polars as pl\n",
        "import time\n",
        "\n",
        "start_time = time.time()\n",
        "\n",
        "# Create a lazy DataFrame\n",
        "lazy_df = pl.scan_csv('./uk_pop.csv')\n",
        "\n",
        "# Define the lazy operations\n",
        "lazy_result = (\n",
        "    lazy_df\n",
        "    .filter(pl.col('age') > 0.0)\n",
        "    .sort('name', descending=True)\n",
        ")\n",
        "\n",
        "# Execute the lazy query and collect the results\n",
        "result = lazy_result.collect()\n",
        "\n",
        "print(result.head())\n",
        "polars_time = time.time() - start_time\n",
        "print(f\"Time Taken: {polars_time:.4f} seconds\")"
      ]
    },
    {
      "cell_type": "markdown",
      "id": "0ae1e01f-da85-453f-a708-37afca4753f6",
      "metadata": {
        "id": "0ae1e01f-da85-453f-a708-37afca4753f6"
      },
      "source": [
        "### Execution Graph ###"
      ]
    },
    {
      "cell_type": "markdown",
      "id": "4affd1a7-80b2-4f9b-88d8-26a7008f6dc9",
      "metadata": {
        "id": "4affd1a7-80b2-4f9b-88d8-26a7008f6dc9"
      },
      "source": [
        "Let's see how the unoptimized execution graph looks."
      ]
    },
    {
      "cell_type": "code",
      "execution_count": null,
      "id": "d43e9843-ef8e-48aa-b49c-482454d6e93f",
      "metadata": {
        "id": "d43e9843-ef8e-48aa-b49c-482454d6e93f"
      },
      "outputs": [],
      "source": [
        "# Show unoptimized Graph\n",
        "lazy_result.show_graph(optimized=False)"
      ]
    },
    {
      "cell_type": "code",
      "execution_count": null,
      "id": "6f5883f3-6238-4f98-970b-f06adabfb50e",
      "metadata": {
        "id": "6f5883f3-6238-4f98-970b-f06adabfb50e"
      },
      "outputs": [],
      "source": [
        "# Show optimized Graph\n",
        "lazy_result.show_graph(optimized=True)"
      ]
    },
    {
      "cell_type": "markdown",
      "id": "7d0f6912-9b19-4473-80d3-4223271efe26",
      "metadata": {
        "id": "7d0f6912-9b19-4473-80d3-4223271efe26"
      },
      "source": [
        "As we can see, during execution, Polars ran the age filter in parallel with reading the csv to save time! These type of optimizations is part of the reason why Polars is such a powerful Data Science tool."
      ]
    },
    {
      "cell_type": "markdown",
      "id": "5301bcfb-634e-4659-b413-e8279c9bc2ce",
      "metadata": {
        "id": "5301bcfb-634e-4659-b413-e8279c9bc2ce"
      },
      "source": [
        "### Exercise #5 - Creating a Lazy Dataframe ###\n",
        "First, let's load the csv as a lazy dataframe."
      ]
    },
    {
      "cell_type": "code",
      "execution_count": null,
      "id": "f096b49a-1395-4ddb-bf28-f6e04fb8b4f1",
      "metadata": {
        "id": "f096b49a-1395-4ddb-bf28-f6e04fb8b4f1"
      },
      "outputs": [],
      "source": []
    },
    {
      "cell_type": "markdown",
      "id": "3581e118-7902-4d04-b4b4-9887c6ff73ba",
      "metadata": {
        "id": "3581e118-7902-4d04-b4b4-9887c6ff73ba"
      },
      "source": [
        "### Exercise #6 - Query Creation ###\n",
        "Now, let's create a query to find the 5 most common names for individuals under 30."
      ]
    },
    {
      "cell_type": "code",
      "execution_count": null,
      "id": "1615956e-c6b5-485c-85d3-c0cf89cedbca",
      "metadata": {
        "id": "1615956e-c6b5-485c-85d3-c0cf89cedbca"
      },
      "outputs": [],
      "source": []
    },
    {
      "cell_type": "markdown",
      "id": "07cf331d-0e3d-407c-9990-c7c0873565da",
      "metadata": {
        "id": "07cf331d-0e3d-407c-9990-c7c0873565da"
      },
      "source": [
        "## Polars GPU engine ##\n",
        "The Polars GPU engine is built directly into the Polars Lazy API. The only requirement is to pass engine=\"gpu\" to the collect operation. Polars also allows defining an instance of the GPU engine for greater customization!"
      ]
    },
    {
      "cell_type": "code",
      "execution_count": null,
      "id": "9c6506b1-5c96-4b43-9d53-5826b5a8a44d",
      "metadata": {
        "id": "9c6506b1-5c96-4b43-9d53-5826b5a8a44d"
      },
      "outputs": [],
      "source": [
        "lazy_df = pl.scan_csv('./uk_pop.csv').collect(engine=\"gpu\")"
      ]
    },
    {
      "cell_type": "markdown",
      "id": "676d16d0-9da0-48a1-a9cc-dc60bde2b223",
      "metadata": {
        "id": "676d16d0-9da0-48a1-a9cc-dc60bde2b223"
      },
      "source": [
        "Now let's try defining our own engine object!"
      ]
    },
    {
      "cell_type": "code",
      "execution_count": null,
      "id": "66672414-a47d-48c4-9ad9-5329ae159765",
      "metadata": {
        "id": "66672414-a47d-48c4-9ad9-5329ae159765"
      },
      "outputs": [],
      "source": [
        "import polars as pl\n",
        "import time\n",
        "\n",
        "gpu_engine = pl.GPUEngine(\n",
        "    device=0, # This is the default\n",
        "    raise_on_fail=True, # Fail loudly if we can't run on the GPU.\n",
        ")"
      ]
    },
    {
      "cell_type": "code",
      "execution_count": null,
      "id": "a939efd7-6c74-456b-baf0-8a2d9905956f",
      "metadata": {
        "id": "a939efd7-6c74-456b-baf0-8a2d9905956f"
      },
      "outputs": [],
      "source": [
        "lazy_df = pl.scan_csv('./uk_pop.csv').collect(engine=gpu_engine)"
      ]
    },
    {
      "cell_type": "markdown",
      "id": "7eafdfb6-92b0-4f0e-a2ea-90a2ee8a222c",
      "metadata": {
        "id": "7eafdfb6-92b0-4f0e-a2ea-90a2ee8a222c"
      },
      "source": [
        "Now that the GPU is warmed up, let's try accelerating the same code as before! Notice that we added an engine parameter to the collect call."
      ]
    },
    {
      "cell_type": "markdown",
      "id": "52995c50-bf64-44be-a22e-ba41c778f509",
      "metadata": {
        "id": "52995c50-bf64-44be-a22e-ba41c778f509"
      },
      "source": [
        "### Accelerate Previous Code ###"
      ]
    },
    {
      "cell_type": "code",
      "execution_count": null,
      "id": "69e5074d-d15b-471a-a9dd-e1f7a52013a5",
      "metadata": {
        "id": "69e5074d-d15b-471a-a9dd-e1f7a52013a5"
      },
      "outputs": [],
      "source": [
        "start_time = time.time()\n",
        "\n",
        "# Create a lazy DataFrame\n",
        "lazy_df = pl.scan_csv('./uk_pop.csv')\n",
        "\n",
        "# Define the lazy operations\n",
        "lazy_result = (\n",
        "    lazy_df\n",
        "    .filter(pl.col('age') > 0.0)\n",
        "    .sort('name', descending=True)\n",
        ")\n",
        "\n",
        "# Switch to gpu_engine\n",
        "result = lazy_result.collect(engine=gpu_engine)\n",
        "\n",
        "print(result.head())\n",
        "polars_time = time.time() - start_time\n",
        "print(f\"Time Taken: {polars_time:.4f} seconds\")"
      ]
    },
    {
      "cell_type": "markdown",
      "id": "025606e3-9d16-416b-9501-b4cf702fb317",
      "metadata": {
        "id": "025606e3-9d16-416b-9501-b4cf702fb317"
      },
      "source": [
        "### Verify Results Across Engines ###\n",
        "How do we know the results are the same with both the CPU and GPU engine? Luckily with Polars, we can execute the same query across both and compare results using the built in testing module!"
      ]
    },
    {
      "cell_type": "code",
      "execution_count": null,
      "id": "759ad96e-6bc1-4c79-bc50-ab89430fdb42",
      "metadata": {
        "id": "759ad96e-6bc1-4c79-bc50-ab89430fdb42"
      },
      "outputs": [],
      "source": [
        "from polars.testing import assert_frame_equal\n",
        "\n",
        "# Run on the CPU\n",
        "result_cpu = lazy_result.collect()\n",
        "\n",
        "# Run on the GPU\n",
        "result_gpu = lazy_result.collect(engine=\"gpu\")\n",
        "\n",
        "# assert both result are equal - Will error if not equal, return None otherwise\n",
        "if (assert_frame_equal(result_gpu, result_cpu) == None):\n",
        "    print(\"The test frames are equal\")"
      ]
    },
    {
      "cell_type": "markdown",
      "id": "5b4325cd-0e2d-4cae-8f71-83967708c7b9",
      "metadata": {
        "id": "5b4325cd-0e2d-4cae-8f71-83967708c7b9"
      },
      "source": [
        "### Fallback ###\n",
        "What happens when an operation isn't supported?"
      ]
    },
    {
      "cell_type": "code",
      "execution_count": null,
      "id": "30401f1d-45ad-4365-a00f-e5e79e01412f",
      "metadata": {
        "id": "30401f1d-45ad-4365-a00f-e5e79e01412f"
      },
      "outputs": [],
      "source": [
        "result = (\n",
        "    lazy_df\n",
        "    .with_columns(pl.col('age').rolling_mean(window_size=7).alias('age_rolling_mean'))\n",
        "    .filter(pl.col('age') > 0.0)\n",
        "    .collect(engine=gpu_engine)\n",
        ")\n",
        "print(result[::7])"
      ]
    },
    {
      "cell_type": "markdown",
      "id": "bad531f3-ecfc-4214-b3c7-6506a3321e11",
      "metadata": {
        "id": "bad531f3-ecfc-4214-b3c7-6506a3321e11"
      },
      "source": [
        "We intially constructed the GPU engine with raise_on_fail=True to ensure all operations ran on GPU. But as we can see, the rolling mean operation is not currently supported, which results in the query not executing. To enable fallback, we can simply change the raise_on_fail parameter to False."
      ]
    },
    {
      "cell_type": "code",
      "execution_count": null,
      "id": "96b95c34-d3ea-494a-95b9-5d2fd8d49938",
      "metadata": {
        "id": "96b95c34-d3ea-494a-95b9-5d2fd8d49938"
      },
      "outputs": [],
      "source": [
        "gpu_engine_with_fallback = pl.GPUEngine(\n",
        "    device=0, # This is the default\n",
        "    raise_on_fail=False, # Fallback to CPU if we can't run on the GPU (this is the default)\n",
        ")"
      ]
    },
    {
      "cell_type": "markdown",
      "id": "a7e15a86-dad3-4b71-8ccb-c03b61a35e3c",
      "metadata": {
        "id": "a7e15a86-dad3-4b71-8ccb-c03b61a35e3c"
      },
      "source": [
        "Now let's try this query again."
      ]
    },
    {
      "cell_type": "code",
      "execution_count": null,
      "id": "73c30f3c-4075-44aa-8715-648b49fec1e9",
      "metadata": {
        "id": "73c30f3c-4075-44aa-8715-648b49fec1e9"
      },
      "outputs": [],
      "source": [
        "result = (\n",
        "    lazy_df\n",
        "    .with_columns(pl.col('age').rolling_mean(window_size=7).alias('age_rolling_mean'))\n",
        "    .filter(pl.col('age') > 0.0)\n",
        "    .collect(engine=gpu_engine_with_fallback)\n",
        ")\n",
        "print(result[::7])"
      ]
    },
    {
      "cell_type": "markdown",
      "id": "19be5382-ba87-4bc3-8862-df73049598f7",
      "metadata": {
        "id": "19be5382-ba87-4bc3-8862-df73049598f7"
      },
      "source": [
        "### Exercise #7 - Enable GPU Engine ###\n",
        "The below code calculates the average latitude and longitude for each county. Let's try enabling the GPU Engine for this query!"
      ]
    },
    {
      "cell_type": "code",
      "execution_count": null,
      "id": "94243bde-3a3a-4ce9-887c-13d0b0875750",
      "metadata": {
        "id": "94243bde-3a3a-4ce9-887c-13d0b0875750"
      },
      "outputs": [],
      "source": [
        "# Create the lazy query with column pruning\n",
        "lazy_query = (\n",
        "    lazy_df\n",
        "    .select([\"county\", \"lat\", \"long\"])  # Column pruning: select only necessary columns\n",
        "    .group_by(\"county\")\n",
        "    .agg([\n",
        "        pl.col(\"lat\").mean().alias(\"avg_latitude\"),\n",
        "        pl.col(\"long\").mean().alias(\"avg_longitude\")\n",
        "    ])\n",
        "    .sort(\"county\")\n",
        ")\n",
        "\n",
        "# Execute the query\n",
        "result = lazy_query.collect()\n",
        "\n",
        "print(\"\\nAverage latitude and longitude for each county:\")\n",
        "print(result.head())  # Display first few rows"
      ]
    },
    {
      "cell_type": "code",
      "execution_count": null,
      "id": "cf1158c3-8429-4637-a9c2-e8ca91a59965",
      "metadata": {
        "id": "cf1158c3-8429-4637-a9c2-e8ca91a59965"
      },
      "outputs": [],
      "source": [
        "import IPython\n",
        "app = IPython.Application.instance()\n",
        "app.kernel.do_shutdown(True)"
      ]
    },
    {
      "cell_type": "markdown",
      "id": "cdecd196-8e0d-4b36-a428-4411bd480778",
      "metadata": {
        "id": "cdecd196-8e0d-4b36-a428-4411bd480778"
      },
      "source": [
        "## Conclusion\n",
        "**Well Done!**\n",
        "In this lab, you have learned how basic usage of Polars library, using both CPU and GPU acceleration to:\n",
        "1. [Creating a DataFrame](#Creating-a-DataFrame)\n",
        "2. Running Polars [Basic Operations](#Running-Basic-Operations) such\n",
        "    * [Polars Eager Execution API Reference](#Polars-Eager-Execution-API-Reference)\n",
        "    * [Lazy Execution](#Lazy-Execution)\n",
        "3. [Understanding the Execution Graph](#Execution-Graph)\n",
        "5. [Turning on GPU Acceleration in Polars](#cuDF-Polars)\n",
        "\n",
        "Continue your Polars journey by going by visiting the [Polars user guide](https://docs.pola.rs/user-guide/gpu-support/).  Continue your GPU accelerated data science journey by going to https://github.com/rapidsai-community/showcase/tree/main/accelerated_data_processing_examples"
      ]
    },
    {
      "cell_type": "code",
      "execution_count": null,
      "id": "yfHkRlgoWcKQ",
      "metadata": {
        "id": "yfHkRlgoWcKQ"
      },
      "outputs": [],
      "source": []
    }
  ],
  "metadata": {
    "colab": {
      "provenance": []
    },
    "kernelspec": {
      "display_name": "Python 3 (ipykernel)",
      "language": "python",
      "name": "python3"
    },
    "language_info": {
      "codemirror_mode": {
        "name": "ipython",
        "version": 3
      },
      "file_extension": ".py",
      "mimetype": "text/x-python",
      "name": "python",
      "nbconvert_exporter": "python",
      "pygments_lexer": "ipython3",
      "version": "3.10.15"
    }
  },
  "nbformat": 4,
  "nbformat_minor": 5
}
