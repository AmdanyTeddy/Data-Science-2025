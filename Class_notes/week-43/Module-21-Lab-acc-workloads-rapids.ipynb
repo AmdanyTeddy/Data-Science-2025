{
  "nbformat": 4,
  "nbformat_minor": 0,
  "metadata": {
    "accelerator": "GPU",
    "colab": {
      "name": "Lab_25-instructions.ipynb",
      "provenance": [],
      "collapsed_sections": []
    },
    "kernelspec": {
      "display_name": "Python 3",
      "language": "python",
      "name": "python3"
    },
    "language_info": {
      "codemirror_mode": {
        "name": "ipython",
        "version": 3
      },
      "file_extension": ".py",
      "mimetype": "text/x-python",
      "name": "python",
      "nbconvert_exporter": "python",
      "pygments_lexer": "ipython3",
      "version": "3.7.8"
    }
  },
  "cells": [
    {
      "cell_type": "markdown",
      "metadata": {
        "id": "vx9JVXY2Ivdb"
      },
      "source": [
        "## Download Data\n",
        "\n",
        "In order to complete this lab, please download data from [here](https://poloclub.github.io/data-science-teaching-kit/). Create a folder sample_data inside your current directory and upload all the data files (data0.csv, etc.) to this folder. Now you are all set up for completing this lab!"
      ]
    },
    {
      "cell_type": "markdown",
      "metadata": {
        "id": "z4haAYjoSGBM"
      },
      "source": [
        "### Part 1. KMeans with CPU"
      ]
    },
    {
      "cell_type": "markdown",
      "metadata": {
        "id": "VRlTbjIvSqHM"
      },
      "source": [
        "#### Q1. Read the five provided datasets\n",
        "\n",
        "Read the five provided datasets (data{0, 1, 2, 3, 4}.csv) using `pandas.read_csv()` and save the data to `pandas.DataFrame` variables. Additionally, measure the time taken to read each dataset for later use.  You can use `time()` function to measure running time."
      ]
    },
    {
      "cell_type": "code",
      "metadata": {
        "id": "ot1_FujnRjKf"
      },
      "source": [
        "import pandas as pd\n",
        "from time import time\n",
        "\n",
        "# TODO: Read the five datasets using pd.read_csv()\n",
        "\n",
        "# append the dataframes of each of the five datasets to dfs, running times of each dataset to pd_running_times\n",
        "\n",
        "dfs = []\n",
        "pd_running_times = []"
      ],
      "execution_count": null,
      "outputs": []
    },
    {
      "cell_type": "markdown",
      "metadata": {
        "id": "HvZm_BBpSwAv"
      },
      "source": [
        "#### Q2. Perform KMeans implemented in sklearn\n",
        "\n",
        "Run KMeans clustering with `sklearn.cluster.KMeans`. Measure the running time foor KMeans on each dataset."
      ]
    },
    {
      "cell_type": "code",
      "metadata": {
        "id": "EWuXkIx3TBYm"
      },
      "source": [
        "from sklearn.cluster import KMeans as sklearnKMeans\n",
        "from time import time\n",
        "\n",
        "# TDOO: Run KMeans using sklearnKMeans on each dataset with n_clusters = 10\n",
        "\n",
        "# measure the running time on each dataset and append to sklearn_running_times\n",
        "sklearn_running_times = []"
      ],
      "execution_count": null,
      "outputs": []
    },
    {
      "cell_type": "markdown",
      "metadata": {
        "id": "G_qSmvAaSjwE"
      },
      "source": [
        "### Part 2. KMeans with GPU"
      ]
    },
    {
      "cell_type": "markdown",
      "metadata": {
        "id": "g8ftUDOKTVC8"
      },
      "source": [
        "#### Q3. Read datasets with cuDF\n",
        "\n",
        "Read the five datasets with `cudf.read_csv()` function in `cuDF` library and save the data into `cudf.DataFrame` variables. Additionally, measure the time taken to read each dataset for later use.\n",
        "\n"
      ]
    },
    {
      "cell_type": "code",
      "metadata": {
        "id": "eaHo-5B5R0hx"
      },
      "source": [
        "import cudf\n",
        "\n",
        "# TODO: Read the five datasets using cudf.read_csv()\n",
        "\n",
        "# append the dataframes of each of the five datasets to gdfs, running times of each dataset to cudf_running_times\n",
        "\n",
        "gdfs = []\n",
        "cudf_running_times = [] "
      ],
      "execution_count": null,
      "outputs": []
    },
    {
      "cell_type": "markdown",
      "metadata": {
        "id": "nSTPIquhTqvk"
      },
      "source": [
        "#### Q4. Perform KMeans implemented in cuML\n",
        "Perform KMeans clustering implemented in cuML. Measure the running time for KMeans on each dataset."
      ]
    },
    {
      "cell_type": "code",
      "metadata": {
        "id": "evSjCKMnLpOb"
      },
      "source": [
        "from cuml.cluster import KMeans as cumlKMeans\n",
        "from time import time\n",
        "\n",
        "# TDOO: Run KMeans using cumlKMeans on each dataset with n_clusters = 10\n",
        "\n",
        "# measure the running time on each dataset and append to cuml_running_times\n",
        "\n",
        "cuml_running_times = []"
      ],
      "execution_count": null,
      "outputs": []
    },
    {
      "cell_type": "markdown",
      "metadata": {
        "id": "aXUNhqtPqqVK"
      },
      "source": [
        "### Part 3. Plot the values"
      ]
    },
    {
      "cell_type": "markdown",
      "metadata": {
        "id": "jyXfWQTS8pF0"
      },
      "source": [
        "Now that we have performed K-means with both sklearn and cuML, we can clearly see that there is a huge difference in the time taken in both cases. Let us plot these values to see if we can find a trend!"
      ]
    },
    {
      "cell_type": "code",
      "metadata": {
        "id": "IDfUwZIR1yK-"
      },
      "source": [
        "import matplotlib.pyplot as plt\n",
        "\n",
        "X = [25000 , 63115, 200000, 300000, 1419554]\n",
        "#X is number of lines of data in each data{0, 1, 2, 3, 4}.csv file\n",
        "\n",
        "y = pd_running_times\n",
        "z = cudf_running_times\n",
        "\n",
        "#TODO: Plot a simultaneous graph with values of running times to read data of both pandas and cudf, i.e., pd_running_times and cudf_running_times\n",
        "\n",
        "#X axis is the number of lines and Y axis has the time in milliseconds. Provide a legend to differentiate pd_running_times and cudf_running_times"
      ],
      "execution_count": null,
      "outputs": []
    },
    {
      "cell_type": "code",
      "metadata": {
        "id": "LvirsTtTylED"
      },
      "source": [
        "y = sklearn_running_times\n",
        "z = cuml_running_times\n",
        "\n",
        "#TODO: Plot a simultaneous graph with values of running times to perform k-means using both sklearn and cuml, i.e., sklearn_running_times and cuml_running_times\n",
        "\n",
        "#X axis is the number of lines and Y axis has the time in milliseconds. Provide a legend to differentiate sklearn_running_times and cuml_running_times"
      ],
      "execution_count": null,
      "outputs": []
    }
  ]
}