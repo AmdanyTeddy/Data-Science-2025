{
  "cells": [
    {
      "cell_type": "markdown",
      "metadata": {
        "id": "_G3vNc_eggs5"
      },
      "source": [
        "# Module 2: Data Collection\n",
        "---\n",
        "This notebook is part of the **Accelerated Data Science Teaching Kit** adapted for our cohort at Eldohub.\n",
        "\n",
        "## Learning Objectives\n",
        "- Understand different ways to collect data.\n",
        "- Practice collecting data from APIs.\n",
        "- Explore scraping techniques.\n",
        "- Learn about data annotation and quality.\n",
        "- Introduction to SQLite and SQL refresher.\n",
        "\n",
        "Duration: ~2 hours (Hands-on Lecture)\n"
      ]
    },
    {
      "cell_type": "markdown",
      "metadata": {
        "id": "-ZpmThEmggs8"
      },
      "source": [
        "## Lecture 2.1 – Collecting Data\n",
        "\n",
        "### Data You Can Download\n",
        "- NYC Taxi data\n",
        "- StackOverflow (XML)\n",
        "- Wikipedia (data dump)\n",
        "- Open data portals: [data.gov](https://data.gov), [data.nasa.gov](https://data.nasa.gov)\n",
        "\n",
        "### Collect Data via APIs\n",
        "- Google Data API\n",
        "- Twitter API\n",
        "- The Movie DB (TMDb) API (we’ll use this today)\n"
      ]
    },
    {
      "cell_type": "code",
      "execution_count": null,
      "metadata": {
        "colab": {
          "base_uri": "https://localhost:8080/"
        },
        "id": "QDN0oRLpgguU",
        "outputId": "6ef10175-245f-434f-d104-255ebd13617c"
      },
      "outputs": [
        {
          "output_type": "stream",
          "name": "stdout",
          "text": [
            "{'adult': False, 'backdrop_path': '/hZkgoQYus5vegHoetLkCJzb17zJ.jpg', 'belongs_to_collection': None, 'budget': 63000000, 'genres': [{'id': 18, 'name': 'Drama'}, {'id': 53, 'name': 'Thriller'}], 'homepage': 'http://www.foxmovies.com/movies/fight-club', 'id': 550, 'imdb_id': 'tt0137523', 'origin_country': ['US'], 'original_language': 'en', 'original_title': 'Fight Club', 'overview': 'A ticking-time-bomb insomniac and a slippery soap salesman channel primal male aggression into a shocking new form of therapy. Their concept catches on, with underground \"fight clubs\" forming in every town, until an eccentric gets in the way and ignites an out-of-control spiral toward oblivion.', 'popularity': 29.0064, 'poster_path': '/pB8BM7pdSp6B6Ih7QZ4DrQ3PmJK.jpg', 'production_companies': [{'id': 711, 'logo_path': '/tEiIH5QesdheJmDAqQwvtN60727.png', 'name': 'Fox 2000 Pictures', 'origin_country': 'US'}, {'id': 508, 'logo_path': '/4sGWXoboEkWPphI6es6rTmqkCBh.png', 'name': 'Regency Enterprises', 'origin_country': 'US'}, {'id': 4700, 'logo_path': '/A32wmjrs9Psf4zw0uaixF0GXfxq.png', 'name': 'Linson Entertainment', 'origin_country': 'US'}, {'id': 25, 'logo_path': '/qZCc1lty5FzX30aOCVRBLzaVmcp.png', 'name': '20th Century Fox', 'origin_country': 'US'}, {'id': 20555, 'logo_path': '/hD8yEGUBlHOcfHYbujp71vD8gZp.png', 'name': 'Taurus Film', 'origin_country': 'DE'}], 'production_countries': [{'iso_3166_1': 'DE', 'name': 'Germany'}, {'iso_3166_1': 'US', 'name': 'United States of America'}], 'release_date': '1999-10-15', 'revenue': 100853753, 'runtime': 139, 'spoken_languages': [{'english_name': 'English', 'iso_639_1': 'en', 'name': 'English'}], 'status': 'Released', 'tagline': 'Mischief. Mayhem. Soap.', 'title': 'Fight Club', 'video': False, 'vote_average': 8.438, 'vote_count': 30777}\n"
          ]
        }
      ],
      "source": [
        "import requests\n",
        "import sys\n",
        "\n",
        "# Example: Collecting data from The Movie Database (TMDb) API\n",
        "# You need to create an account and get your API_KEY from https://www.themoviedb.org/account/signup\n",
        "\n",
        "API_KEY = \"aa660b1104dc0d570d967ddb4698a570\"  # replace with your TMDb API Key\n",
        "BASE_URL = \"https://api.themoviedb.org/3\" # https://www.themoviedb.org/settings/api\n",
        "\n",
        "def get_movie(movie_id):\n",
        "    url = f\"{BASE_URL}/movie/{movie_id}?api_key={API_KEY}\"\n",
        "    response = requests.get(url)\n",
        "    return response.json()\n",
        "\n",
        "# Example: Get details for the movie 'Fight Club' (ID: 550)\n",
        "movie = get_movie(550)\n",
        "print(movie)\n"
      ]
    },
    {
      "cell_type": "markdown",
      "metadata": {
        "id": "SbzXvZLPgguV"
      },
      "source": [
        "## Lecture 2.2 – Scraping Data\n",
        "Sometimes APIs are unavailable. We use scraping instead.\n",
        "\n",
        "### Tools for scraping:\n",
        "- BeautifulSoup\n",
        "- Scrapy\n",
        "- Selenium\n",
        "\n",
        "Below is a simple example with **BeautifulSoup**.\n"
      ]
    },
    {
      "cell_type": "code",
      "execution_count": null,
      "metadata": {
        "colab": {
          "base_uri": "https://localhost:8080/"
        },
        "id": "VjhGsQQoggu4",
        "outputId": "5a45ee2b-b9b8-4290-d0ae-45972c272ab7"
      },
      "outputs": [
        {
          "output_type": "stream",
          "name": "stdout",
          "text": [
            "Data scienceis aninterdisciplinaryacademic field[1]that usesstatistics,scientific computing,scientific methods, processing,scientific visualization,algorithmsand systems to extract or extrapolateknowledgefrom potentially noisy,structured, orunstructured data.[2]\n"
          ]
        }
      ],
      "source": [
        "from bs4 import BeautifulSoup\n",
        "import requests\n",
        "\n",
        "url = \"https://en.wikipedia.org/wiki/Data_science\"\n",
        "\n",
        "# Pretend to be a browser (so Wikipedia doesn't block us)\n",
        "headers = {\n",
        "    \"User-Agent\": \"Mozilla/5.0 (Windows NT 10.0; Win64; x64) \"\n",
        "                  \"AppleWebKit/537.36 (KHTML, like Gecko) \"\n",
        "                  \"Chrome/120.0.0.0 Safari/537.36\"\n",
        "}\n",
        "\n",
        "response = requests.get(url, headers=headers)\n",
        "soup = BeautifulSoup(response.text, \"html.parser\")\n",
        "\n",
        "# Find all paragraphs, then pick the first non-empty one\n",
        "paragraphs = soup.find_all('p')\n",
        "\n",
        "first_paragraph = None\n",
        "for p in paragraphs:\n",
        "    text = p.get_text(strip=True)\n",
        "    if text:\n",
        "        first_paragraph = text\n",
        "        break\n",
        "\n",
        "print(first_paragraph)\n",
        "\n",
        "\n"
      ]
    },
    {
      "cell_type": "markdown",
      "metadata": {
        "id": "wCbUaSKaggu5"
      },
      "source": [
        "## Lecture 2.4 – Data Annotation & Data Quality\n",
        "\n",
        "### Annotation Examples\n",
        "- Image classification (cat, dog)\n",
        "- NLP: Sentiment classification, Named Entity Recognition (NER)\n",
        "\n",
        "### Data Quality Properties\n",
        "- Relevance\n",
        "- Accuracy\n",
        "- Timeliness\n",
        "- Completeness\n",
        "\n",
        "👉 High quality data = better models.\n"
      ]
    },
    {
      "cell_type": "markdown",
      "metadata": {
        "id": "1Sz4Qt5oggvA"
      },
      "source": [
        "## Module 2 Lab 1 – Data Annotation in Active Learning\n",
        "\n",
        "We’ll implement **Active Learning** using MNIST dataset with `modAL`.\n",
        "\n",
        "\n",
        "# Why This Code is Useful for You\n",
        "\n",
        "- It demonstrates the concept of Active Learning hands-on.\n",
        "\n",
        "- Shows that with just 100 samples, you can already get 71% accuracy → proves labeling everything is not always necessary.\n",
        "\n",
        "- It’s a teaching demo: helps  visualize data annotation challenges + the efficiency gains from Active Learning.\n",
        "\n",
        "- It ties theory → practice → real-world use cases.\n",
        "\n",
        "\n",
        "## Why Active Learning?\n",
        "\n",
        "Normally:\n",
        "\n",
        "- You label all data → train model → done.\n",
        "\n",
        "With Active Learning:\n",
        "\n",
        "- Model starts with small labeled set.\n",
        "\n",
        "- Then it asks for labels only on the most uncertain samples (the ones it’s struggling with).\n",
        "\n",
        "- Saves time, money, and human effort.\n",
        "\n",
        "\n",
        "## Real-World Applications\n",
        "\n",
        "- Healthcare – Doctors label only tricky medical scans, instead of all\n",
        "  scans. Saves cost & time.\n",
        "\n",
        "- Finance – Fraud detection models ask human analysts to review only transactions it’s unsure about.\n",
        "\n",
        "- Customer Support – Chatbot sentiment classifiers ask humans to label only confusing customer messages.\n",
        "\n",
        "- Autonomous Vehicles – Self-driving cars focus annotation on ambiguous road situations instead of labeling every frame.\n"
      ]
    },
    {
      "cell_type": "code",
      "source": [
        "!pip install git+https://github.com/modAL-python/modAL.git\n"
      ],
      "metadata": {
        "colab": {
          "base_uri": "https://localhost:8080/"
        },
        "id": "Yxd4eJRHbXl-",
        "outputId": "fddcfc62-164b-4d41-839e-dd0a867b1007"
      },
      "execution_count": null,
      "outputs": [
        {
          "output_type": "stream",
          "name": "stdout",
          "text": [
            "Collecting git+https://github.com/modAL-python/modAL.git\n",
            "  Cloning https://github.com/modAL-python/modAL.git to /tmp/pip-req-build-ggm0v_8p\n",
            "  Running command git clone --filter=blob:none --quiet https://github.com/modAL-python/modAL.git /tmp/pip-req-build-ggm0v_8p\n",
            "  Resolved https://github.com/modAL-python/modAL.git to commit bba6f6fd00dbb862b1e09259b78caf6cffa2e755\n",
            "  Preparing metadata (setup.py) ... \u001b[?25l\u001b[?25hdone\n",
            "Requirement already satisfied: numpy in /usr/local/lib/python3.12/dist-packages (from modAL-python==0.4.2) (2.0.2)\n",
            "Requirement already satisfied: scikit-learn>=0.18 in /usr/local/lib/python3.12/dist-packages (from modAL-python==0.4.2) (1.6.1)\n",
            "Requirement already satisfied: scipy>=0.18 in /usr/local/lib/python3.12/dist-packages (from modAL-python==0.4.2) (1.16.2)\n",
            "Requirement already satisfied: pandas>=1.1.0 in /usr/local/lib/python3.12/dist-packages (from modAL-python==0.4.2) (2.2.2)\n",
            "Requirement already satisfied: skorch==0.9.0 in /usr/local/lib/python3.12/dist-packages (from modAL-python==0.4.2) (0.9.0)\n",
            "Requirement already satisfied: tabulate>=0.7.7 in /usr/local/lib/python3.12/dist-packages (from skorch==0.9.0->modAL-python==0.4.2) (0.9.0)\n",
            "Requirement already satisfied: tqdm>=4.14.0 in /usr/local/lib/python3.12/dist-packages (from skorch==0.9.0->modAL-python==0.4.2) (4.67.1)\n",
            "Requirement already satisfied: python-dateutil>=2.8.2 in /usr/local/lib/python3.12/dist-packages (from pandas>=1.1.0->modAL-python==0.4.2) (2.9.0.post0)\n",
            "Requirement already satisfied: pytz>=2020.1 in /usr/local/lib/python3.12/dist-packages (from pandas>=1.1.0->modAL-python==0.4.2) (2025.2)\n",
            "Requirement already satisfied: tzdata>=2022.7 in /usr/local/lib/python3.12/dist-packages (from pandas>=1.1.0->modAL-python==0.4.2) (2025.2)\n",
            "Requirement already satisfied: joblib>=1.2.0 in /usr/local/lib/python3.12/dist-packages (from scikit-learn>=0.18->modAL-python==0.4.2) (1.5.2)\n",
            "Requirement already satisfied: threadpoolctl>=3.1.0 in /usr/local/lib/python3.12/dist-packages (from scikit-learn>=0.18->modAL-python==0.4.2) (3.6.0)\n",
            "Requirement already satisfied: six>=1.5 in /usr/local/lib/python3.12/dist-packages (from python-dateutil>=2.8.2->pandas>=1.1.0->modAL-python==0.4.2) (1.17.0)\n"
          ]
        }
      ]
    },
    {
      "cell_type": "code",
      "execution_count": null,
      "metadata": {
        "colab": {
          "base_uri": "https://localhost:8080/"
        },
        "id": "N_-Enrk5ggvZ",
        "outputId": "7c61e522-fb83-44eb-d716-a259e07060a9"
      },
      "outputs": [
        {
          "output_type": "stream",
          "name": "stdout",
          "text": [
            "Initial score: 0.7492142857142857\n"
          ]
        }
      ],
      "source": [
        "from sklearn.datasets import fetch_openml\n",
        "from sklearn.linear_model import LogisticRegression\n",
        "from sklearn.model_selection import train_test_split\n",
        "from modAL.models import ActiveLearner\n",
        "import numpy as np\n",
        "\n",
        "# Load MNIST dataset\n",
        "# Loads MNIST (handwritten digits 0–9).\n",
        "# Normalize pixels between 0–1 for better model performance.\n",
        "mnist = fetch_openml('mnist_784', version=1)\n",
        "X, y = mnist.data / 255.0, mnist.target.astype(int)\n",
        "\n",
        "# Train/Test Split\n",
        "# Train = 80%, Test = 20%.\n",
        "# Train is for learning, Test is for evaluation.\n",
        "X_train, X_test, y_train, y_test = train_test_split(X, y, test_size=0.2, random_state=42)\n",
        "\n",
        "# Select small initial dataset\n",
        "# Instead of labeling all 60,000 MNIST training samples, we start with just 100 labeled samples.\n",
        "# This simulates real-world cost constraints (labeling is expensive).\n",
        "n_initial = 100\n",
        "initial_idx = np.random.choice(range(len(X_train)), size=n_initial, replace=False)\n",
        "X_initial, y_initial = X_train.iloc[initial_idx], y_train.iloc[initial_idx]\n",
        "\n",
        "# Create the ActiveLearner\n",
        "# Uses Logistic Regression as the base model.\n",
        "# Learns only from the 100 labeled samples.\n",
        "learner = ActiveLearner(\n",
        "    estimator=LogisticRegression(max_iter=1000),\n",
        "    X_training=X_initial, y_training=y_initial\n",
        ")\n",
        "\n",
        "# Evaluate\n",
        "# Accuracy = ~71%, even with only 100 labels!\n",
        "# Pretty good, but not as high as training on all 60,000 samples (~95%).\n",
        "print(\"Initial score:\", learner.score(X_test, y_test))\n"
      ]
    },
    {
      "cell_type": "markdown",
      "metadata": {
        "id": "lOuavKQeggvj"
      },
      "source": [
        "## Lecture 2.5 – SQLite as Simple Storage\n",
        "\n",
        "We’ll store our data using SQLite.\n",
        "\n",
        "👉 If you cannot run SQL queries directly in Jupyter, I recommend using **[SQLite Online](https://sqliteonline.com/)** (free and open-source) for hands-on SQL practice.\n"
      ]
    },
    {
      "cell_type": "code",
      "source": [
        "from google.colab import files\n",
        "uploaded = files.upload()\n"
      ],
      "metadata": {
        "colab": {
          "base_uri": "https://localhost:8080/",
          "height": 73
        },
        "id": "hZM6GZ8sle47",
        "outputId": "e6afa26b-6688-4114-9850-c4dd84ae9dfa"
      },
      "execution_count": null,
      "outputs": [
        {
          "output_type": "display_data",
          "data": {
            "text/plain": [
              "<IPython.core.display.HTML object>"
            ],
            "text/html": [
              "\n",
              "     <input type=\"file\" id=\"files-28df9551-b036-4652-b6c8-14fca32dc68d\" name=\"files[]\" multiple disabled\n",
              "        style=\"border:none\" />\n",
              "     <output id=\"result-28df9551-b036-4652-b6c8-14fca32dc68d\">\n",
              "      Upload widget is only available when the cell has been executed in the\n",
              "      current browser session. Please rerun this cell to enable.\n",
              "      </output>\n",
              "      <script>// Copyright 2017 Google LLC\n",
              "//\n",
              "// Licensed under the Apache License, Version 2.0 (the \"License\");\n",
              "// you may not use this file except in compliance with the License.\n",
              "// You may obtain a copy of the License at\n",
              "//\n",
              "//      http://www.apache.org/licenses/LICENSE-2.0\n",
              "//\n",
              "// Unless required by applicable law or agreed to in writing, software\n",
              "// distributed under the License is distributed on an \"AS IS\" BASIS,\n",
              "// WITHOUT WARRANTIES OR CONDITIONS OF ANY KIND, either express or implied.\n",
              "// See the License for the specific language governing permissions and\n",
              "// limitations under the License.\n",
              "\n",
              "/**\n",
              " * @fileoverview Helpers for google.colab Python module.\n",
              " */\n",
              "(function(scope) {\n",
              "function span(text, styleAttributes = {}) {\n",
              "  const element = document.createElement('span');\n",
              "  element.textContent = text;\n",
              "  for (const key of Object.keys(styleAttributes)) {\n",
              "    element.style[key] = styleAttributes[key];\n",
              "  }\n",
              "  return element;\n",
              "}\n",
              "\n",
              "// Max number of bytes which will be uploaded at a time.\n",
              "const MAX_PAYLOAD_SIZE = 100 * 1024;\n",
              "\n",
              "function _uploadFiles(inputId, outputId) {\n",
              "  const steps = uploadFilesStep(inputId, outputId);\n",
              "  const outputElement = document.getElementById(outputId);\n",
              "  // Cache steps on the outputElement to make it available for the next call\n",
              "  // to uploadFilesContinue from Python.\n",
              "  outputElement.steps = steps;\n",
              "\n",
              "  return _uploadFilesContinue(outputId);\n",
              "}\n",
              "\n",
              "// This is roughly an async generator (not supported in the browser yet),\n",
              "// where there are multiple asynchronous steps and the Python side is going\n",
              "// to poll for completion of each step.\n",
              "// This uses a Promise to block the python side on completion of each step,\n",
              "// then passes the result of the previous step as the input to the next step.\n",
              "function _uploadFilesContinue(outputId) {\n",
              "  const outputElement = document.getElementById(outputId);\n",
              "  const steps = outputElement.steps;\n",
              "\n",
              "  const next = steps.next(outputElement.lastPromiseValue);\n",
              "  return Promise.resolve(next.value.promise).then((value) => {\n",
              "    // Cache the last promise value to make it available to the next\n",
              "    // step of the generator.\n",
              "    outputElement.lastPromiseValue = value;\n",
              "    return next.value.response;\n",
              "  });\n",
              "}\n",
              "\n",
              "/**\n",
              " * Generator function which is called between each async step of the upload\n",
              " * process.\n",
              " * @param {string} inputId Element ID of the input file picker element.\n",
              " * @param {string} outputId Element ID of the output display.\n",
              " * @return {!Iterable<!Object>} Iterable of next steps.\n",
              " */\n",
              "function* uploadFilesStep(inputId, outputId) {\n",
              "  const inputElement = document.getElementById(inputId);\n",
              "  inputElement.disabled = false;\n",
              "\n",
              "  const outputElement = document.getElementById(outputId);\n",
              "  outputElement.innerHTML = '';\n",
              "\n",
              "  const pickedPromise = new Promise((resolve) => {\n",
              "    inputElement.addEventListener('change', (e) => {\n",
              "      resolve(e.target.files);\n",
              "    });\n",
              "  });\n",
              "\n",
              "  const cancel = document.createElement('button');\n",
              "  inputElement.parentElement.appendChild(cancel);\n",
              "  cancel.textContent = 'Cancel upload';\n",
              "  const cancelPromise = new Promise((resolve) => {\n",
              "    cancel.onclick = () => {\n",
              "      resolve(null);\n",
              "    };\n",
              "  });\n",
              "\n",
              "  // Wait for the user to pick the files.\n",
              "  const files = yield {\n",
              "    promise: Promise.race([pickedPromise, cancelPromise]),\n",
              "    response: {\n",
              "      action: 'starting',\n",
              "    }\n",
              "  };\n",
              "\n",
              "  cancel.remove();\n",
              "\n",
              "  // Disable the input element since further picks are not allowed.\n",
              "  inputElement.disabled = true;\n",
              "\n",
              "  if (!files) {\n",
              "    return {\n",
              "      response: {\n",
              "        action: 'complete',\n",
              "      }\n",
              "    };\n",
              "  }\n",
              "\n",
              "  for (const file of files) {\n",
              "    const li = document.createElement('li');\n",
              "    li.append(span(file.name, {fontWeight: 'bold'}));\n",
              "    li.append(span(\n",
              "        `(${file.type || 'n/a'}) - ${file.size} bytes, ` +\n",
              "        `last modified: ${\n",
              "            file.lastModifiedDate ? file.lastModifiedDate.toLocaleDateString() :\n",
              "                                    'n/a'} - `));\n",
              "    const percent = span('0% done');\n",
              "    li.appendChild(percent);\n",
              "\n",
              "    outputElement.appendChild(li);\n",
              "\n",
              "    const fileDataPromise = new Promise((resolve) => {\n",
              "      const reader = new FileReader();\n",
              "      reader.onload = (e) => {\n",
              "        resolve(e.target.result);\n",
              "      };\n",
              "      reader.readAsArrayBuffer(file);\n",
              "    });\n",
              "    // Wait for the data to be ready.\n",
              "    let fileData = yield {\n",
              "      promise: fileDataPromise,\n",
              "      response: {\n",
              "        action: 'continue',\n",
              "      }\n",
              "    };\n",
              "\n",
              "    // Use a chunked sending to avoid message size limits. See b/62115660.\n",
              "    let position = 0;\n",
              "    do {\n",
              "      const length = Math.min(fileData.byteLength - position, MAX_PAYLOAD_SIZE);\n",
              "      const chunk = new Uint8Array(fileData, position, length);\n",
              "      position += length;\n",
              "\n",
              "      const base64 = btoa(String.fromCharCode.apply(null, chunk));\n",
              "      yield {\n",
              "        response: {\n",
              "          action: 'append',\n",
              "          file: file.name,\n",
              "          data: base64,\n",
              "        },\n",
              "      };\n",
              "\n",
              "      let percentDone = fileData.byteLength === 0 ?\n",
              "          100 :\n",
              "          Math.round((position / fileData.byteLength) * 100);\n",
              "      percent.textContent = `${percentDone}% done`;\n",
              "\n",
              "    } while (position < fileData.byteLength);\n",
              "  }\n",
              "\n",
              "  // All done.\n",
              "  yield {\n",
              "    response: {\n",
              "      action: 'complete',\n",
              "    }\n",
              "  };\n",
              "}\n",
              "\n",
              "scope.google = scope.google || {};\n",
              "scope.google.colab = scope.google.colab || {};\n",
              "scope.google.colab._files = {\n",
              "  _uploadFiles,\n",
              "  _uploadFilesContinue,\n",
              "};\n",
              "})(self);\n",
              "</script> "
            ]
          },
          "metadata": {}
        },
        {
          "output_type": "stream",
          "name": "stdout",
          "text": [
            "Saving movie_metadata.csv to movie_metadata (2).csv\n"
          ]
        }
      ]
    },
    {
      "cell_type": "code",
      "source": [
        "import sqlite3\n",
        "import pandas as pd\n",
        "\n",
        "# Use the uploaded filename\n",
        "df = pd.read_csv(\"movie_metadata.csv\")   # make sure this matches exactly\n",
        "\n",
        "# Connect to SQLite\n",
        "conn = sqlite3.connect('movies.db')\n",
        "\n",
        "# Save to SQLite\n",
        "df.to_sql(\"movies\", conn, if_exists=\"replace\", index=False)\n",
        "\n",
        "# Check\n",
        "cursor = conn.cursor()\n",
        "cursor.execute(\"SELECT COUNT(*) FROM movies\")\n",
        "print(\"Total rows:\", cursor.fetchone()[0])\n",
        "\n",
        "conn.close()\n",
        "\n",
        "from google.colab import files\n",
        "files.download(\"movies.db\")\n",
        "\n"
      ],
      "metadata": {
        "colab": {
          "base_uri": "https://localhost:8080/",
          "height": 34
        },
        "id": "2RUEK2Crkg74",
        "outputId": "9fa33778-a1dc-4296-821f-5f745bc577a0"
      },
      "execution_count": null,
      "outputs": [
        {
          "output_type": "stream",
          "name": "stdout",
          "text": [
            "Total rows: 5043\n"
          ]
        },
        {
          "output_type": "display_data",
          "data": {
            "text/plain": [
              "<IPython.core.display.Javascript object>"
            ],
            "application/javascript": [
              "\n",
              "    async function download(id, filename, size) {\n",
              "      if (!google.colab.kernel.accessAllowed) {\n",
              "        return;\n",
              "      }\n",
              "      const div = document.createElement('div');\n",
              "      const label = document.createElement('label');\n",
              "      label.textContent = `Downloading \"${filename}\": `;\n",
              "      div.appendChild(label);\n",
              "      const progress = document.createElement('progress');\n",
              "      progress.max = size;\n",
              "      div.appendChild(progress);\n",
              "      document.body.appendChild(div);\n",
              "\n",
              "      const buffers = [];\n",
              "      let downloaded = 0;\n",
              "\n",
              "      const channel = await google.colab.kernel.comms.open(id);\n",
              "      // Send a message to notify the kernel that we're ready.\n",
              "      channel.send({})\n",
              "\n",
              "      for await (const message of channel.messages) {\n",
              "        // Send a message to notify the kernel that we're ready.\n",
              "        channel.send({})\n",
              "        if (message.buffers) {\n",
              "          for (const buffer of message.buffers) {\n",
              "            buffers.push(buffer);\n",
              "            downloaded += buffer.byteLength;\n",
              "            progress.value = downloaded;\n",
              "          }\n",
              "        }\n",
              "      }\n",
              "      const blob = new Blob(buffers, {type: 'application/binary'});\n",
              "      const a = document.createElement('a');\n",
              "      a.href = window.URL.createObjectURL(blob);\n",
              "      a.download = filename;\n",
              "      div.appendChild(a);\n",
              "      a.click();\n",
              "      div.remove();\n",
              "    }\n",
              "  "
            ]
          },
          "metadata": {}
        },
        {
          "output_type": "display_data",
          "data": {
            "text/plain": [
              "<IPython.core.display.Javascript object>"
            ],
            "application/javascript": [
              "download(\"download_fdddbf19-39a0-44ba-9baa-9c25647dafc9\", \"movies.db\", 1511424)"
            ]
          },
          "metadata": {}
        }
      ]
    }
  ],
  "metadata": {
    "kernelspec": {
      "display_name": "Python 3",
      "language": "python",
      "name": "python3"
    },
    "language_info": {
      "name": "python",
      "version": "3.8"
    },
    "colab": {
      "provenance": []
    }
  },
  "nbformat": 4,
  "nbformat_minor": 0
}