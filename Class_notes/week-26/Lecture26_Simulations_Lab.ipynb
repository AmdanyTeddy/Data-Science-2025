{
 "cells": [
  {
   "cell_type": "markdown",
   "id": "e4a07e3f",
   "metadata": {},
   "source": [
    "\n",
    "# Lecture 26: List Access, Hashing, Simulations, and Wrap-Up (Hands-on Lab)\n",
    "\n",
    "Welcome to the final lecture lab for **6.100L - Introduction to CS and Programming Using Python**.  \n",
    "This is a **2-hour hands-on lab** where we explore:\n",
    "\n",
    "1. **List Access & Complexity**\n",
    "2. **Hashing and Dictionaries**\n",
    "3. **Simulations with Randomness**\n",
    "4. **Wrap-Up & Reflections**\n",
    "\n",
    "---\n"
   ]
  },
  {
   "cell_type": "markdown",
   "id": "2883799c",
   "metadata": {},
   "source": [
    "\n",
    "## Part 1: List Access and Complexity\n",
    "\n",
    "In Python, lists allow **constant-time access** to elements.  \n",
    "Let's test access speed as lists grow larger.\n"
   ]
  },
  {
   "cell_type": "code",
   "execution_count": null,
   "id": "5373d192",
   "metadata": {},
   "outputs": [],
   "source": [
    "\n",
    "import time\n",
    "\n",
    "# Measure access time for lists of increasing size\n",
    "sizes = [10**i for i in range(1, 7)]\n",
    "times = []\n",
    "\n",
    "for n in sizes:\n",
    "    L = list(range(n))\n",
    "    start = time.time()\n",
    "    _ = L[-1]  # access last element\n",
    "    end = time.time()\n",
    "    times.append(end - start)\n",
    "\n",
    "for s, t in zip(sizes, times):\n",
    "    print(f\"List size {s}, access time {t:.8f} sec\")\n"
   ]
  },
  {
   "cell_type": "markdown",
   "id": "45a53f06",
   "metadata": {},
   "source": [
    "\n",
    "## Part 2: Hashing and Dictionaries\n",
    "\n",
    "Python dictionaries use **hash tables** under the hood.  \n",
    "We’ll explore `hash()` and simulate collisions.\n"
   ]
  },
  {
   "cell_type": "code",
   "execution_count": null,
   "id": "fa919a51",
   "metadata": {},
   "outputs": [],
   "source": [
    "\n",
    "# Hash examples\n",
    "print(\"Hash values of some strings:\")\n",
    "print(\"Ana:\", hash(\"Ana\"))\n",
    "print(\"John:\", hash(\"John\"))\n",
    "print(\"Eric:\", hash(\"Eric\"))\n",
    "\n",
    "# Simple custom hash: sum of character codes mod table size\n",
    "def simple_hash(name, size=16):\n",
    "    return sum(ord(c) for c in name) % size\n",
    "\n",
    "names = [\"Ana\", \"John\", \"Eric\", \"Eve\", \"Kate\"]\n",
    "for name in names:\n",
    "    print(name, \"->\", simple_hash(name))\n"
   ]
  },
  {
   "cell_type": "markdown",
   "id": "047359f6",
   "metadata": {},
   "source": [
    "\n",
    "## Part 3: Simulation 1 - Dice Roll Probability\n",
    "\n",
    "Experiment: roll a die once and compute the probability of rolling a specific face.\n"
   ]
  },
  {
   "cell_type": "code",
   "execution_count": null,
   "id": "0ca36603",
   "metadata": {},
   "outputs": [],
   "source": [
    "\n",
    "import random\n",
    "\n",
    "def prob_dice(side):\n",
    "    dice = ['.',':',':.','::','::.',':::']\n",
    "    Nsims = 10000\n",
    "    count = 0\n",
    "    for i in range(Nsims):\n",
    "        roll = random.choice(dice)\n",
    "        if roll == side:\n",
    "            count += 1\n",
    "    return count/Nsims\n",
    "\n",
    "print(\"P(roll '.') =\", prob_dice('.'))\n",
    "print(\"P(roll '::') =\", prob_dice('::'))\n"
   ]
  },
  {
   "cell_type": "markdown",
   "id": "dbbacadd",
   "metadata": {},
   "source": [
    "\n",
    "## Part 4: Simulation 2 - Dice Rolls with Condition\n",
    "\n",
    "Experiment: roll a die `N` times, check probability of seeing '::' at least `k` times.\n"
   ]
  },
  {
   "cell_type": "code",
   "execution_count": null,
   "id": "71950a29",
   "metadata": {},
   "outputs": [],
   "source": [
    "\n",
    "def prob_dice_atleast(Nrolls, n_at_least):\n",
    "    dice = ['.',':',':.','::','::.',':::']\n",
    "    Nsims = 10000\n",
    "    count = 0\n",
    "    for _ in range(Nsims):\n",
    "        matched = 0\n",
    "        for _ in range(Nrolls):\n",
    "            roll = random.choice(dice)\n",
    "            if roll == '::':\n",
    "                matched += 1\n",
    "        if matched >= n_at_least:\n",
    "            count += 1\n",
    "    return count / Nsims\n",
    "\n",
    "print(\"P(at least 3 '::' in 7 rolls) =\", prob_dice_atleast(7, 3))\n",
    "print(\"P(at least 1 '::' in 1 roll) =\", prob_dice_atleast(1, 1))\n"
   ]
  },
  {
   "cell_type": "markdown",
   "id": "7f7503c7",
   "metadata": {},
   "source": [
    "\n",
    "## Part 5: Simulation 3 - Pool Filling Example\n",
    "\n",
    "Experiment: water flows between **1 and 3 gallons/min**.  \n",
    "Simulate filling a pool of given size and compute average time.\n"
   ]
  },
  {
   "cell_type": "code",
   "execution_count": null,
   "id": "c330bf60",
   "metadata": {},
   "outputs": [],
   "source": [
    "\n",
    "import matplotlib.pyplot as plt\n",
    "\n",
    "def fill_pool(size):\n",
    "    flow_rate = []\n",
    "    fill_time = []\n",
    "    Npoints = 10000\n",
    "    for i in range(Npoints):\n",
    "        r = 1 + 2*random.random() # random between 1 and 3\n",
    "        flow_rate.append(r)\n",
    "        fill_time.append(size/r)\n",
    "\n",
    "    print('avg flow_rate:', sum(flow_rate)/len(flow_rate))\n",
    "    print('avg fill_time:', sum(fill_time)/len(fill_time))\n",
    "\n",
    "    plt.figure(figsize=(10,4))\n",
    "    plt.subplot(1,2,1)\n",
    "    plt.scatter(range(Npoints), sorted(flow_rate), s=1)\n",
    "    plt.title(\"Flow Rates\")\n",
    "\n",
    "    plt.subplot(1,2,2)\n",
    "    plt.scatter(range(Npoints), sorted(fill_time), s=1)\n",
    "    plt.title(\"Fill Times\")\n",
    "    plt.show()\n",
    "\n",
    "fill_pool(600)\n"
   ]
  },
  {
   "cell_type": "markdown",
   "id": "e40e7ade",
   "metadata": {},
   "source": [
    "\n",
    "## Wrap-Up\n",
    "\n",
    "In this lab you learned:\n",
    "- List access is constant time (`O(1)`).\n",
    "- Dictionaries use hashing for fast lookup.\n",
    "- Simulations help approximate probabilities for complex scenarios.\n",
    "- Examples included dice rolls and pool filling.\n",
    "\n",
    "**Discussion Prompts:**\n",
    "1. Why are hash collisions inevitable? How are they handled?\n",
    "2. What happens if a hash function is poorly designed?\n",
    "3. How do simulations complement mathematical solutions?\n"
   ]
  }
 ],
 "metadata": {},
 "nbformat": 4,
 "nbformat_minor": 5
}
