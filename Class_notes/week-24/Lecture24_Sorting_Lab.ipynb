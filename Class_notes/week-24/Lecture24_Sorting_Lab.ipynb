{
 "cells": [
  {
   "cell_type": "markdown",
   "id": "88313386",
   "metadata": {},
   "source": [
    "# 🧑‍💻 Lecture 24 Hands-on Lab: Sorting Algorithms\n",
    "MIT 6.100L (Adapted for 2025)\n",
    "---\n",
    "⏰ Duration: ~2 hours\n",
    "\n",
    "### 🎯 Learning Objectives\n",
    "- Understand bubble, selection, merge, and bogo sorts.\n",
    "- Analyze complexities (Θ(n²), Θ(n log n), etc.).\n",
    "- Apply sorting to **real-world 2025 data problems**.\n",
    "- Compare algorithm performance with `timeit` & `matplotlib`.\n"
   ]
  },
  {
   "cell_type": "markdown",
   "id": "27499fa6",
   "metadata": {},
   "source": [
    "## 🔥 Warm-up: Why do we sort?\n",
    "Sorting powers many real-world applications:\n",
    "- **Twitter/X**: rank tweets by timestamp\n",
    "- **Finance**: sort trades by price\n",
    "- **Healthcare**: order patients by appointment time\n",
    "- **Ride-sharing**: match riders by distance\n"
   ]
  },
  {
   "cell_type": "code",
   "execution_count": null,
   "id": "46d243c8",
   "metadata": {},
   "outputs": [],
   "source": [
    "\n",
    "# Example: Sorting ride requests by distance\n",
    "ride_requests = [\n",
    "    {\"id\": 1, \"pickup_distance\": 12.4},\n",
    "    {\"id\": 2, \"pickup_distance\": 3.2},\n",
    "    {\"id\": 3, \"pickup_distance\": 8.7}\n",
    "]\n",
    "\n",
    "sorted_requests = sorted(ride_requests, key=lambda x: x[\"pickup_distance\"])\n",
    "sorted_requests\n"
   ]
  },
  {
   "cell_type": "markdown",
   "id": "c2febdc2",
   "metadata": {},
   "source": [
    "## 🤯 Bogo Sort (for intuition only)\n",
    "- Shuffle randomly until sorted.\n",
    "- Complexity: unbounded (very bad).\n"
   ]
  },
  {
   "cell_type": "code",
   "execution_count": null,
   "id": "1969d5b4",
   "metadata": {},
   "outputs": [],
   "source": [
    "\n",
    "import random, time\n",
    "\n",
    "def is_sorted(L):\n",
    "    return all(L[i] <= L[i+1] for i in range(len(L)-1))\n",
    "\n",
    "def bogo_sort(L):\n",
    "    count = 0\n",
    "    while not is_sorted(L):\n",
    "        random.shuffle(L)\n",
    "        count += 1\n",
    "    return L, count\n",
    "\n",
    "L = [3,1,2]\n",
    "print(\"Original:\", L)\n",
    "start = time.time()\n",
    "sorted_L, attempts = bogo_sort(L)\n",
    "print(\"Sorted:\", sorted_L, \"Attempts:\", attempts, \"Time:\", time.time()-start, \"s\")\n"
   ]
  },
  {
   "cell_type": "markdown",
   "id": "4b8b23fb",
   "metadata": {},
   "source": [
    "## 🫧 Bubble Sort\n",
    "- Compare adjacent pairs and swap if needed.\n",
    "- Complexity: Θ(n²).\n"
   ]
  },
  {
   "cell_type": "code",
   "execution_count": null,
   "id": "103b8743",
   "metadata": {},
   "outputs": [],
   "source": [
    "\n",
    "def bubble_sort(L):\n",
    "    did_swap = True\n",
    "    while did_swap:\n",
    "        did_swap = False\n",
    "        for j in range(1, len(L)):\n",
    "            if L[j-1] > L[j]:\n",
    "                L[j], L[j-1] = L[j-1], L[j]\n",
    "                did_swap = True\n",
    "    return L\n",
    "\n",
    "bubble_sort([64, 25, 12, 22, 11])\n"
   ]
  },
  {
   "cell_type": "markdown",
   "id": "4c72a904",
   "metadata": {},
   "source": [
    "## 🎯 Selection Sort\n",
    "- Select smallest element and put in correct position.\n",
    "- Complexity: Θ(n²).\n"
   ]
  },
  {
   "cell_type": "code",
   "execution_count": null,
   "id": "e2e50ded",
   "metadata": {},
   "outputs": [],
   "source": [
    "\n",
    "def selection_sort(L):\n",
    "    for i in range(len(L)):\n",
    "        min_idx = i\n",
    "        for j in range(i+1, len(L)):\n",
    "            if L[j] < L[min_idx]:\n",
    "                min_idx = j\n",
    "        L[i], L[min_idx] = L[min_idx], L[i]\n",
    "    return L\n",
    "\n",
    "selection_sort([64, 25, 12, 22, 11])\n"
   ]
  },
  {
   "cell_type": "markdown",
   "id": "190cb3ae",
   "metadata": {},
   "source": [
    "## 🔀 Merge Sort\n",
    "- Divide-and-conquer strategy.\n",
    "- Complexity: Θ(n log n).\n",
    "- Foundation for Python’s built-in sort (Timsort).\n"
   ]
  },
  {
   "cell_type": "code",
   "execution_count": null,
   "id": "0c00a1f0",
   "metadata": {},
   "outputs": [],
   "source": [
    "\n",
    "def merge(left, right):\n",
    "    result = []\n",
    "    i, j = 0, 0\n",
    "    while i < len(left) and j < len(right):\n",
    "        if left[i] < right[j]:\n",
    "            result.append(left[i]); i+=1\n",
    "        else:\n",
    "            result.append(right[j]); j+=1\n",
    "    result.extend(left[i:])\n",
    "    result.extend(right[j:])\n",
    "    return result\n",
    "\n",
    "def merge_sort(L):\n",
    "    if len(L) < 2:\n",
    "        return L[:]\n",
    "    mid = len(L)//2\n",
    "    left = merge_sort(L[:mid])\n",
    "    right = merge_sort(L[mid:])\n",
    "    return merge(left, right)\n",
    "\n",
    "merge_sort([64, 25, 12, 22, 11])\n"
   ]
  },
  {
   "cell_type": "markdown",
   "id": "dba71cab",
   "metadata": {},
   "source": [
    "## 🌍 Real-World Example: Sorting Stock Trades\n",
    "Imagine a trading app that needs to show the cheapest trades first.\n"
   ]
  },
  {
   "cell_type": "code",
   "execution_count": null,
   "id": "5fa238f7",
   "metadata": {},
   "outputs": [],
   "source": [
    "\n",
    "trades = [\n",
    "    {\"symbol\": \"AAPL\", \"price\": 182.3},\n",
    "    {\"symbol\": \"GOOG\", \"price\": 125.7},\n",
    "    {\"symbol\": \"TSLA\", \"price\": 245.1}\n",
    "]\n",
    "\n",
    "sorted_trades = sorted(trades, key=lambda x: x[\"price\"])\n",
    "sorted_trades\n"
   ]
  },
  {
   "cell_type": "markdown",
   "id": "18070621",
   "metadata": {},
   "source": [
    "## ⏱️ Timing Experiments\n",
    "Compare Bubble, Selection, Merge, and Python's built-in sort.\n"
   ]
  },
  {
   "cell_type": "code",
   "execution_count": null,
   "id": "fd88687d",
   "metadata": {},
   "outputs": [],
   "source": [
    "\n",
    "import timeit, matplotlib.pyplot as plt\n",
    "\n",
    "def bubble_sort(L):\n",
    "    did_swap = True\n",
    "    while did_swap:\n",
    "        did_swap = False\n",
    "        for j in range(1, len(L)):\n",
    "            if L[j-1] > L[j]:\n",
    "                L[j], L[j-1] = L[j-1], L[j]\n",
    "                did_swap = True\n",
    "    return L\n",
    "\n",
    "def selection_sort(L):\n",
    "    for i in range(len(L)):\n",
    "        min_idx = i\n",
    "        for j in range(i+1, len(L)):\n",
    "            if L[j] < L[min_idx]:\n",
    "                min_idx = j\n",
    "        L[i], L[min_idx] = L[min_idx], L[i]\n",
    "    return L\n",
    "\n",
    "def merge(left, right):\n",
    "    result = []\n",
    "    i, j = 0, 0\n",
    "    while i < len(left) and j < len(right):\n",
    "        if left[i] < right[j]:\n",
    "            result.append(left[i]); i+=1\n",
    "        else:\n",
    "            result.append(right[j]); j+=1\n",
    "    result.extend(left[i:])\n",
    "    result.extend(right[j:])\n",
    "    return result\n",
    "\n",
    "def merge_sort(L):\n",
    "    if len(L) < 2:\n",
    "        return L[:]\n",
    "    mid = len(L)//2\n",
    "    left = merge_sort(L[:mid])\n",
    "    right = merge_sort(L[mid:])\n",
    "    return merge(left, right)\n",
    "\n",
    "sizes = [50, 100, 200, 400]\n",
    "algos = {\"Bubble\": bubble_sort, \"Selection\": selection_sort, \"Merge\": merge_sort, \"Python sorted\": sorted}\n",
    "times = {name: [] for name in algos}\n",
    "\n",
    "for n in sizes:\n",
    "    test = list(range(n,0,-1)) # reverse list for worst case\n",
    "    for name, algo in algos.items():\n",
    "        t = timeit.timeit(lambda: algo(test.copy()), number=1)\n",
    "        times[name].append(t)\n",
    "\n",
    "for name, t in times.items():\n",
    "    plt.plot(sizes, t, label=name, marker=\"o\")\n",
    "plt.xlabel(\"Input size (n)\")\n",
    "plt.ylabel(\"Time (s)\")\n",
    "plt.title(\"Sorting Algorithm Performance\")\n",
    "plt.legend()\n",
    "plt.show()\n"
   ]
  },
  {
   "cell_type": "markdown",
   "id": "224aaf98",
   "metadata": {},
   "source": [
    "## ✅ Wrap-up & Reflection\n",
    "- Bubble/Selection: Θ(n²), impractical for big data.\n",
    "- Merge/Python: Θ(n log n), scalable.\n",
    "- Sorting is critical for real-world apps (finance, healthcare, AI).\n",
    "- **Homework**: Apply these sorts to your own dataset (tweets, transactions, etc.) and compare.\n"
   ]
  }
 ],
 "metadata": {},
 "nbformat": 4,
 "nbformat_minor": 5
}