{
 "cells": [
  {
   "cell_type": "markdown",
   "id": "4672f625",
   "metadata": {},
   "source": [
    "\n",
    "# Lecture 25: Plotting (Hands-on Lab)\n",
    "\n",
    "Welcome to the hands-on lab for **Plotting with Python**.  \n",
    "This notebook is designed for a **2-hour session** where you'll practice data visualization with **matplotlib** using real datasets.\n",
    "\n",
    "We will cover:\n",
    "1. Basics of plotting with `matplotlib`\n",
    "2. Line plots, scatter plots, and multiple plots\n",
    "3. Customizing plots (titles, labels, legends, styles)\n",
    "4. Subplots and comparisons\n",
    "5. Working with real datasets (`USPopulation.txt`, `countryPops.txt`)\n",
    "6. Using logarithmic scales\n",
    "7. Benford's Law exploration with population data\n",
    "\n",
    "---\n"
   ]
  },
  {
   "cell_type": "code",
   "execution_count": null,
   "id": "87484f3a",
   "metadata": {},
   "outputs": [],
   "source": [
    "\n",
    "# Install matplotlib if not available (uncomment below if running on a fresh environment)\n",
    "# !pip install matplotlib\n",
    "\n",
    "import matplotlib.pyplot as plt\n",
    "import numpy as np\n",
    "\n",
    "# Enable inline plotting for Jupyter\n",
    "%matplotlib inline\n"
   ]
  },
  {
   "cell_type": "markdown",
   "id": "16b1845e",
   "metadata": {},
   "source": [
    "\n",
    "## Part 1: Simple Plotting\n",
    "\n",
    "Let's begin with a simple example of plotting mathematical functions.\n"
   ]
  },
  {
   "cell_type": "code",
   "execution_count": null,
   "id": "7348472b",
   "metadata": {},
   "outputs": [],
   "source": [
    "\n",
    "# Create x values\n",
    "x = list(range(0, 20))\n",
    "\n",
    "# Different functions\n",
    "linear = [n for n in x]\n",
    "quadratic = [n**2 for n in x]\n",
    "cubic = [n**3 for n in x]\n",
    "exponential = [2**n for n in x]\n",
    "\n",
    "# Plot them all on the same graph\n",
    "plt.figure(figsize=(10,6))\n",
    "plt.plot(x, linear, label=\"Linear (n)\")\n",
    "plt.plot(x, quadratic, label=\"Quadratic (n^2)\")\n",
    "plt.plot(x, cubic, label=\"Cubic (n^3)\")\n",
    "plt.plot(x, exponential, label=\"Exponential (2^n)\")\n",
    "\n",
    "plt.title(\"Simple Function Plots\")\n",
    "plt.xlabel(\"n\")\n",
    "plt.ylabel(\"Value\")\n",
    "plt.legend()\n",
    "plt.grid(True)\n",
    "plt.show()\n"
   ]
  },
  {
   "cell_type": "markdown",
   "id": "728689ee",
   "metadata": {},
   "source": [
    "\n",
    "## Part 2: Scatter vs Line Plot\n",
    "\n",
    "Notice how order matters when plotting with `plt.plot()`. Let's compare with `plt.scatter()`.\n"
   ]
  },
  {
   "cell_type": "code",
   "execution_count": null,
   "id": "a0c661c6",
   "metadata": {},
   "outputs": [],
   "source": [
    "\n",
    "unsorted_x = [5, 2, 8, 1, 7]\n",
    "unsorted_y = [x**2 for x in unsorted_x]\n",
    "\n",
    "plt.figure(figsize=(12,5))\n",
    "\n",
    "plt.subplot(1,2,1)\n",
    "plt.plot(unsorted_x, unsorted_y, 'r-o')\n",
    "plt.title(\"Line Plot (Order Matters)\")\n",
    "\n",
    "plt.subplot(1,2,2)\n",
    "plt.scatter(unsorted_x, unsorted_y, c='b')\n",
    "plt.title(\"Scatter Plot (No Connecting Lines)\")\n",
    "\n",
    "plt.show()\n"
   ]
  },
  {
   "cell_type": "markdown",
   "id": "fa2edbb2",
   "metadata": {},
   "source": [
    "\n",
    "## Part 3: Multiple Figures and Subplots\n",
    "You can plot in separate figures or create subplots for comparisons.\n"
   ]
  },
  {
   "cell_type": "code",
   "execution_count": null,
   "id": "5fcb886e",
   "metadata": {},
   "outputs": [],
   "source": [
    "\n",
    "# Example: Linear vs Quadratic\n",
    "plt.figure(figsize=(12,5))\n",
    "\n",
    "plt.subplot(1,2,1)\n",
    "plt.plot(x, linear, 'g-')\n",
    "plt.title(\"Linear Function\")\n",
    "\n",
    "plt.subplot(1,2,2)\n",
    "plt.plot(x, quadratic, 'm-')\n",
    "plt.title(\"Quadratic Function\")\n",
    "\n",
    "plt.tight_layout()\n",
    "plt.show()\n"
   ]
  },
  {
   "cell_type": "markdown",
   "id": "9c3d3dec",
   "metadata": {},
   "source": [
    "\n",
    "## Part 4: Real Example - US Population Growth\n",
    "\n",
    "We will use the file `USPopulation.txt` which contains population data every 10 years from 1610 to 2010.\n"
   ]
  },
  {
   "cell_type": "code",
   "execution_count": null,
   "id": "7af91124",
   "metadata": {},
   "outputs": [],
   "source": [
    "\n",
    "# Load US population data\n",
    "years, population = [], []\n",
    "\n",
    "with open(\"lec25_USPopulation.txt\") as f:\n",
    "    for line in f:\n",
    "        year, pop = line.strip().split()\n",
    "        years.append(int(year))\n",
    "        population.append(int(pop.replace(\",\", \"\")))\n",
    "\n",
    "plt.figure(figsize=(10,6))\n",
    "plt.plot(years, population, 'b-o')\n",
    "plt.title(\"US Population Over Time\")\n",
    "plt.xlabel(\"Year\")\n",
    "plt.ylabel(\"Population\")\n",
    "plt.grid(True)\n",
    "plt.show()\n"
   ]
  },
  {
   "cell_type": "markdown",
   "id": "c7976c3f",
   "metadata": {},
   "source": [
    "\n",
    "## Part 5: Changing the Scale\n",
    "\n",
    "Sometimes a **logarithmic scale** reveals trends better.\n"
   ]
  },
  {
   "cell_type": "code",
   "execution_count": null,
   "id": "a06fabcf",
   "metadata": {},
   "outputs": [],
   "source": [
    "\n",
    "plt.figure(figsize=(10,6))\n",
    "\n",
    "plt.plot(years, population, 'r-o')\n",
    "plt.yscale(\"log\")\n",
    "plt.title(\"US Population Over Time (Log Scale)\")\n",
    "plt.xlabel(\"Year\")\n",
    "plt.ylabel(\"Population (log scale)\")\n",
    "plt.grid(True, which=\"both\")\n",
    "plt.show()\n"
   ]
  },
  {
   "cell_type": "markdown",
   "id": "ba60f8fa",
   "metadata": {},
   "source": [
    "\n",
    "## Part 6: Country Populations and Benford's Law\n",
    "\n",
    "We will explore the `countryPops.txt` dataset and check if the population numbers follow **Benford's Law**.\n"
   ]
  },
  {
   "cell_type": "code",
   "execution_count": null,
   "id": "c8e8496f",
   "metadata": {},
   "outputs": [],
   "source": [
    "\n",
    "# Load country population data\n",
    "populations = []\n",
    "with open(\"lec25_countryPops.txt\") as f:\n",
    "    for line in f:\n",
    "        parts = line.strip().split(\"\\t\")\n",
    "        if len(parts) >= 3:\n",
    "            pop = parts[2].replace(\",\", \"\")\n",
    "            if pop.isdigit():\n",
    "                populations.append(int(pop))\n",
    "\n",
    "# Extract first digits\n",
    "first_digits = [int(str(p)[0]) for p in populations if p > 0]\n",
    "\n",
    "# Count frequency\n",
    "digit_counts = [first_digits.count(d) for d in range(1,10)]\n",
    "total = sum(digit_counts)\n",
    "digit_freq = [c/total for c in digit_counts]\n",
    "\n",
    "# Benford's Law prediction\n",
    "benford = [np.log10(1 + 1/d) for d in range(1,10)]\n",
    "\n",
    "# Plot\n",
    "digits = list(range(1,10))\n",
    "plt.figure(figsize=(10,6))\n",
    "plt.bar(digits, digit_freq, alpha=0.6, label=\"Country Populations\")\n",
    "plt.plot(digits, benford, 'r-o', label=\"Benford's Law\")\n",
    "plt.xticks(digits)\n",
    "plt.xlabel(\"First Digit\")\n",
    "plt.ylabel(\"Frequency\")\n",
    "plt.title(\"Benford's Law in Country Populations\")\n",
    "plt.legend()\n",
    "plt.show()\n"
   ]
  },
  {
   "cell_type": "markdown",
   "id": "86df6199",
   "metadata": {},
   "source": [
    "\n",
    "## Wrap-Up and Next Steps\n",
    "\n",
    "In this lab you learned:\n",
    "- Basics of plotting with matplotlib\n",
    "- Differences between line and scatter plots\n",
    "- Creating multiple plots and subplots\n",
    "- Working with real datasets (`USPopulation.txt`, `countryPops.txt`)\n",
    "- Using logarithmic scaling\n",
    "- Exploring **Benford's Law**\n",
    "\n",
    "For practice:\n",
    "1. Try adding labels and customizing styles (colors, line styles, markers).\n",
    "2. Create subplots comparing US population in linear vs log scale.\n",
    "3. Explore other datasets and visualize them with histograms, bar plots, or scatter plots.\n"
   ]
  }
 ],
 "metadata": {},
 "nbformat": 4,
 "nbformat_minor": 5
}
