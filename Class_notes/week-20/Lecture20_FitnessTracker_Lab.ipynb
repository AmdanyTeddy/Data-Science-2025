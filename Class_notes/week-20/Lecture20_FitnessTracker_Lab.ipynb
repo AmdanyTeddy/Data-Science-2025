{
 "cells": [
  {
   "cell_type": "markdown",
   "id": "af935b49",
   "metadata": {},
   "source": [
    "# Lecture 20 Hands‑On Lab: Fitness Tracker OOP Example\n",
    "**Objective:** Build and explore `SimpleWorkout`, `Workout`, `RunWorkout`, and `SwimWorkout` classes.\n",
    "\n",
    "**Agenda:**\n",
    "1. Quick Recap of Classes and OOP Concepts\n",
    "2. Review Code Examples (SimpleWorkout & Workout)\n",
    "3. Extend with Inheritance (RunWorkout & SwimWorkout)\n",
    "4. Visualize Workout Objects with Styled Output\n",
    "\n",
    "Throughout, we’ll highlight **SOLID** principles without changing the provided logic."
   ]
  },
  {
   "cell_type": "markdown",
   "id": "b90bbf5d",
   "metadata": {},
   "source": [
    "## 1. OOP Recap & SOLID Principles\n",
    "- **Encapsulation:** Group related data & behavior in classes.\n",
    "- **Inheritance:** Reuse and extend base class functionality.\n",
    "- **Polymorphism:** Subclasses override methods (e.g., calories calculation).\n",
    "- **SOLID Highlights:**\n",
    "  - **SRP:** Each class has a single responsibility.\n",
    "  - **OCP:** Classes are closed for modification but open for extension via subclasses.\n",
    "  - **LSP:** Subclasses (`RunWorkout`, `SwimWorkout`) can replace `Workout`.\n",
    "  - **ISP & DIP:** Small focused interfaces, UI depends on abstractions.\n"
   ]
  },
  {
   "cell_type": "markdown",
   "id": "da55c8f3",
   "metadata": {},
   "source": [
    "## 2. SimpleWorkout Example\n",
    "```python\n",
    "# Provided code: SimpleWorkout class\n",
    "```\n",
    "Let's test and inspect its internal state:"
   ]
  },
  {
   "cell_type": "code",
   "execution_count": null,
   "id": "4f8431d5",
   "metadata": {},
   "outputs": [],
   "source": [
    "from dateutil import parser\n",
    "from lec20_helpers import gpsDistance\n",
    "\n",
    "class SimpleWorkout(object):\n",
    "    \"\"\"A simple class to keep track of workouts\"\"\"\n",
    "    def __init__(self, start, end, calories):\n",
    "        self.start = start\n",
    "        self.end = end\n",
    "        self.calories = calories\n",
    "        self.icon = '😓'\n",
    "        self.kind = 'Workout'\n",
    "    def get_calories(self): return self.calories\n",
    "    def get_start(self):    return self.start\n",
    "    def get_end(self):      return self.end\n",
    "    def set_calories(self, c): self.calories = c\n",
    "    def set_start(self, s):     self.start = s\n",
    "    def set_end(self, e):       self.end = e\n",
    "\n",
    "# Inspect internal state\n",
    "my = SimpleWorkout('9/30/2021 1:35 PM', '9/30/2021 1:57 PM', 200)\n",
    "print('Attributes:', my.__dict__)\n",
    "print('Calories:', my.get_calories())"
   ]
  },
  {
   "cell_type": "markdown",
   "id": "4d464506",
   "metadata": {},
   "source": [
    "## 3. Workout Class with Auto‑Calculation\n",
    "```python\n",
    "# Provided code: Workout class uses dateutil.parser and class variable cal_per_hr\n",
    "```"
   ]
  },
  {
   "cell_type": "code",
   "execution_count": null,
   "id": "2952a1a7",
   "metadata": {},
   "outputs": [],
   "source": [
    "class Workout(object):\n",
    "    cal_per_hr = 200\n",
    "    def __init__(self, start, end, calories=None):\n",
    "        self.start = parser.parse(start)\n",
    "        self.end   = parser.parse(end)\n",
    "        self.icon = '😓'\n",
    "        self.kind = 'Workout'\n",
    "        self.calories = calories\n",
    "    def get_calories(self):\n",
    "        if self.calories is None:\n",
    "            return Workout.cal_per_hr * (self.end - self.start).total_seconds() / 3600.0\n",
    "        return self.calories\n",
    "    def get_duration(self): return self.end - self.start\n",
    "    def __str__(self):\n",
    "        return f\"[{self.icon}] {self.kind}: {self.get_duration()} | {round(self.get_calories(),1)} cal\"\n",
    "\n",
    "# Test\n",
    "w1 = Workout('9/30/2021 1:35 PM','9/30/2021 1:57 PM',400)\n",
    "w2 = Workout('9/30/2021 1:35 PM','9/30/2021 1:57 PM')\n",
    "print(w1)\n",
    "print(w2)"
   ]
  },
  {
   "cell_type": "markdown",
   "id": "25591a09",
   "metadata": {},
   "source": [
    "## 4. Inheritance: RunWorkout & SwimWorkout\n",
    "Subclasses extend `Workout`:\n",
    "- `RunWorkout`: additional `elev` and optional GPS calories.\n",
    "- `SwimWorkout`: overrides `cal_per_hr`.\n"
   ]
  },
  {
   "cell_type": "code",
   "execution_count": null,
   "id": "cfe8a672",
   "metadata": {},
   "outputs": [],
   "source": [
    "class RunWorkout(Workout):\n",
    "    cals_per_km = 100\n",
    "    def __init__(self, start, end, elev=0, calories=None, route_gps_points=None):\n",
    "        super().__init__(start,end,calories)\n",
    "        self.icon = '🏃'\n",
    "        self.kind = 'Running'\n",
    "        self.elev = elev\n",
    "        self.route_gps_points = route_gps_points\n",
    "    def get_elev(self): return self.elev\n",
    "    def get_calories(self):\n",
    "        if self.route_gps_points:\n",
    "            dist=0; pts=self.route_gps_points\n",
    "            for i in range(len(pts)-1): dist+=gpsDistance(pts[i], pts[i+1])\n",
    "            return dist * RunWorkout.cals_per_km\n",
    "        return super().get_calories()\n",
    "class SwimWorkout(Workout):\n",
    "    cal_per_hr = 400\n",
    "    def __init__(self, start, end, pace, calories=None):\n",
    "        super().__init__(start,end,calories)\n",
    "        self.icon='🏊'\n",
    "        self.kind='Swimming'\n",
    "        self.pace=pace\n",
    "    def get_calories(self): return (SwimWorkout.cal_per_hr * (self.end-self.start).total_seconds()/3600.0)\n",
    "\n",
    "# Test\n",
    "r = RunWorkout('9/30/2021 1:35 PM','9/30/2021 3:35 PM',100)\n",
    "sw = SwimWorkout('9/30/2021 1:35 PM','9/30/2021 1:57 PM',1)\n",
    "print(r)\n",
    "print(sw)"
   ]
  },
  {
   "cell_type": "markdown",
   "id": "2dd530f3",
   "metadata": {},
   "source": [
    "## 5. Visualizing Workouts\n",
    "Let’s display each object in a styled HTML card for clarity."
   ]
  },
  {
   "cell_type": "code",
   "execution_count": null,
   "id": "aaae62ef",
   "metadata": {},
   "outputs": [],
   "source": [
    "from IPython.display import HTML, display\n",
    "\n",
    "def display_workout_card(w):\n",
    "    data=w.__dict__.copy()\n",
    "    data.update({\n",
    "        'duration': str(w.get_duration()),\n",
    "        'calories': round(w.get_calories(),1)\n",
    "    })\n",
    "    html=f\"\"\"\n",
    "<div style='border:1px solid #ccc;padding:10px;border-radius:8px;width:250px;margin:5px;'>\n",
    "  <h4>{w.icon} {w.kind}</h4>\n",
    "  <p><strong>Start:</strong> {w.start}</p>\n",
    "  <p><strong>End:</strong> {w.end}</p>\n",
    "  <p><strong>Duration:</strong> {data['duration']}</p>\n",
    "  <p><strong>Calories:</strong> {data['calories']}</p>\n",
    "</div>\"\"\"\n",
    "    display(HTML(html))\n",
    "\n",
    "# Example\n",
    "display_workout_card(w1)\n",
    "display_workout_card(r)\n",
    "display_workout_card(sw)"
   ]
  },
  {
   "cell_type": "markdown",
   "id": "d51a2d67",
   "metadata": {},
   "source": [
    "### End of Lab\n",
    "✅ We’ve covered object state, methods, inheritance, and improved the UI for student visualization.\n",
    "Use the download link below to load this notebook in your Colab session."
   ]
  }
 ],
 "metadata": {},
 "nbformat": 4,
 "nbformat_minor": 5
}
