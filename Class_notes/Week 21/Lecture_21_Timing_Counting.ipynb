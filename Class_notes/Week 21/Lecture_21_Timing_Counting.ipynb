{
 "cells": [
  {
   "cell_type": "markdown",
   "id": "d2081e19",
   "metadata": {},
   "source": [
    "# Lecture 21: Timing Programs & Counting Operations\n",
    "**MIT 6.100L - Introduction to Computer Science and Programming Using Python**\n",
    "\n",
    "### 🧠 Learning Objectives\n",
    "- Understand why efficiency in code matters\n",
    "- Learn how to time Python programs using the `time` module\n",
    "- Count operations in a program to understand its computational complexity\n",
    "- Relate code patterns to algorithm complexity (O(1), O(n), O(n²))\n",
    "- Compare time-based vs. count-based analysis"
   ]
  },
  {
   "cell_type": "markdown",
   "id": "4688388f",
   "metadata": {},
   "source": [
    "## 📝 Why Efficiency Matters\n",
    "When solving real-world problems, it's not enough for your program to work — it must work *fast enough*.\n",
    "- Imagine Google handling billions of queries — slow code means bad experience.\n",
    "- Two programs may produce the same result, but one may take 1 second and another 1 hour.\n",
    "\n",
    "In this lecture, we’ll learn **how to measure** the efficiency of a program:\n",
    "1. By using a timer.\n",
    "2. By counting operations manually.\n",
    "3. And why this is important in selecting the best algorithm."
   ]
  },
  {
   "cell_type": "code",
   "execution_count": null,
   "id": "a1e5e040",
   "metadata": {},
   "outputs": [],
   "source": [
    "# Always import modules at the top of your code\n",
    "import time"
   ]
  },
  {
   "cell_type": "markdown",
   "id": "2b3705a2",
   "metadata": {},
   "source": [
    "## ⏱ Timing Programs\n",
    "We use the `time` module to see how long functions take to run.\n",
    "Let’s define a few example functions."
   ]
  },
  {
   "cell_type": "code",
   "execution_count": null,
   "id": "2841ae07",
   "metadata": {},
   "outputs": [],
   "source": [
    "# Constant time function (O(1))\n",
    "def c_to_f(c):\n",
    "    return c*9.0/5 + 32\n",
    "\n",
    "# Linear time function (O(n))\n",
    "def mysum(x):\n",
    "    total = 0\n",
    "    for i in range(x+1):\n",
    "        total += i\n",
    "    return total\n",
    "\n",
    "# Quadratic time function (O(n^2))\n",
    "def square(n):\n",
    "    sqsum = 0\n",
    "    for i in range(n):\n",
    "        for j in range(n):\n",
    "            sqsum += 1\n",
    "    return sqsum"
   ]
  },
  {
   "cell_type": "code",
   "execution_count": null,
   "id": "104e9dee",
   "metadata": {},
   "outputs": [],
   "source": [
    "def time_wrapper(f, L):\n",
    "    print(f'Timing {f.__name__}')\n",
    "    for i in L:\n",
    "        t = time.time()\n",
    "        f(i)\n",
    "        dt = time.time() - t\n",
    "        print(f\"{f.__name__}({i}) took {dt:.6f} seconds\")"
   ]
  },
  {
   "cell_type": "code",
   "execution_count": null,
   "id": "a72f1916",
   "metadata": {},
   "outputs": [],
   "source": [
    "# Create a list of inputs to test with increasing size\n",
    "L_N = [1]\n",
    "for i in range(6):\n",
    "    L_N.append(L_N[-1]*10)\n",
    "L_N"
   ]
  },
  {
   "cell_type": "code",
   "execution_count": null,
   "id": "718dd955",
   "metadata": {},
   "outputs": [],
   "source": [
    "# Uncomment below to try each\n",
    "# time_wrapper(c_to_f, L_N)\n",
    "# time_wrapper(mysum, L_N)\n",
    "# time_wrapper(square, L_N)  # Be careful! Large inputs will take long"
   ]
  },
  {
   "cell_type": "markdown",
   "id": "0c34bfa6",
   "metadata": {},
   "source": [
    "## 🔢 Counting Operations\n",
    "Timing can vary by computer, OS, or Python version. Let’s count the **number of operations** instead."
   ]
  },
  {
   "cell_type": "code",
   "execution_count": null,
   "id": "d426810d",
   "metadata": {},
   "outputs": [],
   "source": [
    "def c_to_f(c):\n",
    "    counter = 3  # 1 mult, 1 div, 1 add\n",
    "    return (counter, c*9.0/5 + 32)\n",
    "\n",
    "def mysum(x):\n",
    "    counter = 1  # total = 0\n",
    "    total = 0\n",
    "    for i in range(x+1):\n",
    "        counter += 3  # loop op + += + access\n",
    "        total += i\n",
    "    return (counter, total)\n",
    "\n",
    "def square(n):\n",
    "    counter = 1  # sqsum = 0\n",
    "    mysum = 0\n",
    "    for i in range(n):\n",
    "        counter += 1\n",
    "        for j in range(n):\n",
    "            counter += 3  # loop ops + +=\n",
    "            mysum += 1\n",
    "    return (counter, mysum)"
   ]
  },
  {
   "cell_type": "code",
   "execution_count": null,
   "id": "54d55d9c",
   "metadata": {},
   "outputs": [],
   "source": [
    "def count_wrapper(f, L):\n",
    "    print(f'Counting {f.__name__}')\n",
    "    prev = 1\n",
    "    for i in L:\n",
    "        counter = f(i)[0]\n",
    "        if i == min(L):\n",
    "            multiplier = 1.0\n",
    "        else:\n",
    "            multiplier = counter / float(prev)\n",
    "        prev = counter\n",
    "        print(f\"{f.__name__}({i}): {counter} ops, {round(multiplier, 2)}x more\")"
   ]
  },
  {
   "cell_type": "code",
   "execution_count": null,
   "id": "643779b0",
   "metadata": {},
   "outputs": [],
   "source": [
    "L_test = [10]\n",
    "for i in range(4):\n",
    "    L_test.append(L_test[-1]*10)\n",
    "L_test"
   ]
  },
  {
   "cell_type": "code",
   "execution_count": null,
   "id": "84460f70",
   "metadata": {},
   "outputs": [],
   "source": [
    "# Try counting each function\n",
    "# count_wrapper(c_to_f, L_test)\n",
    "# count_wrapper(mysum, L_test)\n",
    "# count_wrapper(square, L_test)"
   ]
  },
  {
   "cell_type": "markdown",
   "id": "0985748b",
   "metadata": {},
   "source": [
    "## ✅ Summary\n",
    "- Use `time.time()` to measure performance.\n",
    "- Use counters to understand complexity independent of the machine.\n",
    "- **c_to_f** is constant time → O(1)\n",
    "- **mysum** is linear time → O(n)\n",
    "- **square** is quadratic time → O(n²)\n",
    "\n",
    "In the next lecture, we’ll use these foundations to learn **Big-O notation** and analyze algorithms more abstractly."
   ]
  }
 ],
 "metadata": {},
 "nbformat": 4,
 "nbformat_minor": 5
}