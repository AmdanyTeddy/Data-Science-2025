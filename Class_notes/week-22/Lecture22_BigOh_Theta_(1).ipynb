{
  "cells": [
    {
      "cell_type": "markdown",
      "id": "dc3969fa",
      "metadata": {
        "id": "dc3969fa"
      },
      "source": [
        "\n",
        "# Lecture 22: Big Oh and Theta (Complexity Analysis)\n",
        "\n",
        "Welcome to **Lecture 22** of our MIT-inspired course *Introduction to Computer Science and Programming using Python*! 🎉  \n",
        "\n",
        "Today, we’ll explore **algorithm complexity**: how to measure and compare how fast or efficient programs are.  \n",
        "This is a crucial step before diving deep into **data science**.\n",
        "\n",
        "---\n",
        "\n",
        "## Learning Objectives\n",
        "By the end of this lab, you will:\n",
        "- Understand **Big-O** and **Big-Theta** notation\n",
        "- Compare algorithms using **timing experiments**\n",
        "- Learn to **count operations**\n",
        "- Simplify expressions to determine their complexity\n",
        "- Analyze code examples to calculate their asymptotic complexity\n",
        "\n",
        "We’ll combine **theory + hands-on coding exercises** so it’s fun and engaging 🚀.\n"
      ]
    },
    {
      "cell_type": "code",
      "execution_count": null,
      "id": "18f9ca9c",
      "metadata": {
        "id": "18f9ca9c",
        "colab": {
          "base_uri": "https://localhost:8080/"
        },
        "outputId": "3408c664-dcae-4910-fa43-1a29effd9b0b"
      },
      "outputs": [
        {
          "output_type": "stream",
          "name": "stdout",
          "text": [
            "Timing convert_to_km (constant time):\n",
            "N=1      -> 1.48e-06 seconds\n",
            "N=10     -> 9.25e-07 seconds\n",
            "N=100    -> 4.30e-07 seconds\n",
            "N=1000   -> 3.84e-07 seconds\n",
            "N=10000  -> 4.00e-07 seconds\n",
            "\n",
            "Timing compound (linear time):\n",
            "N=1      -> 2.90e-06 seconds\n",
            "N=10     -> 2.66e-06 seconds\n",
            "N=100    -> 6.54e-06 seconds\n",
            "N=1000   -> 6.30e-05 seconds\n",
            "N=10000  -> 6.93e-04 seconds\n"
          ]
        }
      ],
      "source": [
        "\n",
        "import time\n",
        "\n",
        "# Example 1: Constant time function\n",
        "def convert_to_km(m):\n",
        "    return m * 1.609\n",
        "\n",
        "# Example 2: Linear time function\n",
        "def compound(invest, interest, n_months):\n",
        "    total = 0\n",
        "    for i in range(n_months):\n",
        "        total = total * interest + invest\n",
        "    return total\n",
        "\n",
        "# Test inputs\n",
        "L_N = [1, 10, 100, 1000, 10000]\n",
        "\n",
        "print(\"Timing convert_to_km (constant time):\")\n",
        "for N in L_N:\n",
        "    t0 = time.perf_counter()\n",
        "    convert_to_km(N)\n",
        "    dt = time.perf_counter() - t0\n",
        "    print(f\"N={N:<6} -> {dt:.2e} seconds\")\n",
        "\n",
        "print(\"\\nTiming compound (linear time):\")\n",
        "for N in L_N:\n",
        "    t0 = time.perf_counter()\n",
        "    compound(10, 1.05, N)\n",
        "    dt = time.perf_counter() - t0\n",
        "    print(f\"N={N:<6} -> {dt:.2e} seconds\")\n"
      ]
    },
    {
      "cell_type": "markdown",
      "source": [
        "# Lecture 22: Big Oh and Theta – Working with Lists 📝\n",
        "\n",
        "Welcome to our **hands-on lab** for Lecture 22!  \n",
        "Today we’ll focus only on **list operations** and their complexity.  \n",
        "\n",
        "We’ll explore:\n",
        "- Measuring time for **summing elements in a list**\n",
        "- Measuring time for **finding an element in a list**\n",
        "- Comparing different **search strategies**: linear search, binary search, and Python’s built-in `in`.\n",
        "\n",
        "This will help you **see how complexity grows** with input size 📈.\n"
      ],
      "metadata": {
        "id": "TFpmkNAlAfS7"
      },
      "id": "TFpmkNAlAfS7"
    },
    {
      "cell_type": "code",
      "source": [
        "import time\n",
        "\n",
        "def sum_of(L):\n",
        "    total = 0.0\n",
        "    for elt in L:\n",
        "        total = total + elt\n",
        "    return total\n",
        "\n",
        "# List sizes (1, 10, 100, 1000, ...)\n",
        "L_N = [1]\n",
        "for i in range(7):\n",
        "    L_N.append(L_N[-1]*10)\n",
        "\n",
        "# Measure time\n",
        "for N in L_N:\n",
        "    L = list(range(N))\n",
        "    t = time.perf_counter()\n",
        "    s = sum_of(L)\n",
        "    dt = time.perf_counter()-t\n",
        "    print(f\"sum_of({N}) took {dt:.2e} seconds ({1/dt:,.2f}/sec)\")"
      ],
      "metadata": {
        "colab": {
          "base_uri": "https://localhost:8080/"
        },
        "id": "iv4ZWXktAP4o",
        "outputId": "c3933ca3-5179-44dd-b3ad-89724402ea06"
      },
      "id": "iv4ZWXktAP4o",
      "execution_count": null,
      "outputs": [
        {
          "output_type": "stream",
          "name": "stdout",
          "text": [
            "sum_of(1) took 2.12e-06 seconds (472,143.53/sec)\n",
            "sum_of(10) took 2.69e-06 seconds (371,885.46/sec)\n",
            "sum_of(100) took 7.57e-06 seconds (132,135.31/sec)\n",
            "sum_of(1000) took 3.75e-05 seconds (26,661.69/sec)\n",
            "sum_of(10000) took 3.73e-04 seconds (2,684.34/sec)\n",
            "sum_of(100000) took 5.64e-03 seconds (177.35/sec)\n",
            "sum_of(1000000) took 4.13e-02 seconds (24.22/sec)\n",
            "sum_of(10000000) took 3.93e-01 seconds (2.54/sec)\n"
          ]
        }
      ]
    },
    {
      "cell_type": "markdown",
      "source": [
        "### 🔎 Observations (Sum of List)\n",
        "1. The **size of the input** is the **length of the list**, not how big the numbers are.  \n",
        "2. Average time increases roughly ×10 when list length increases ×10.  \n",
        "3. Relationship becomes clearer for **larger inputs**.  \n",
        "4. The growth looks **linear (Θ(n))**, comparable to other linear algorithms like compound interest calculation.  "
      ],
      "metadata": {
        "id": "f-kwQQGRAwFA"
      },
      "id": "f-kwQQGRAwFA"
    },
    {
      "cell_type": "markdown",
      "source": [
        "We’ll explore:\n",
        "- Measuring time for **summing elements in a list**\n",
        "- Measuring time for **finding an element in a list**\n",
        "- Comparing different **search strategies**: linear search, binary search, and Python’s built-in `in`.\n",
        "\n",
        "This will help you **see how complexity grows** with input size 📈."
      ],
      "metadata": {
        "id": "hvdK_vYxDRmQ"
      },
      "id": "hvdK_vYxDRmQ"
    },
    {
      "cell_type": "code",
      "source": [
        "# Linear search\n",
        "def is_in(L, x):\n",
        "    for elt in L:\n",
        "        if elt == x:\n",
        "            return True\n",
        "    return False\n",
        "\n",
        "# Binary search (requires sorted list)\n",
        "def binary_search(L, x):\n",
        "    lo = 0\n",
        "    hi = len(L)\n",
        "    while hi-lo > 1:\n",
        "        mid = (hi+lo) // 2\n",
        "        if L[mid] <= x:\n",
        "            lo = mid\n",
        "        else:\n",
        "            hi = mid\n",
        "    return L[lo] == x\n",
        "\n",
        "# Compare timing of is_in, binary_search, and Python's built-in \"in\"\n",
        "L_N = [10**i for i in range(3, 7)]  # 1,000 -> 1,000,000\n",
        "\n",
        "for N in L_N:\n",
        "    L = list(range(N))\n",
        "\n",
        "    # Linear search timing\n",
        "    t = time.perf_counter()\n",
        "    is_in(L, N-1)\n",
        "    dt = time.perf_counter() - t\n",
        "    print(f\"is_in({N}) -> {dt:.2e} seconds\")\n",
        "\n",
        "    # Binary search timing\n",
        "    t = time.perf_counter()\n",
        "    binary_search(L, N-1)\n",
        "    dt = time.perf_counter() - t\n",
        "    print(f\"binary_search({N}) -> {dt:.2e} seconds\")\n",
        "\n",
        "    # Built-in search timing\n",
        "    t = time.perf_counter()\n",
        "    (N-1) in L\n",
        "    dt = time.perf_counter() - t\n",
        "    print(f\"in operator ({N}) -> {dt:.2e} seconds\\n\")\n"
      ],
      "metadata": {
        "colab": {
          "base_uri": "https://localhost:8080/"
        },
        "id": "oE1_uatRDO79",
        "outputId": "2eb269e2-613d-4c9e-cb98-8e7fc747abc6"
      },
      "id": "oE1_uatRDO79",
      "execution_count": null,
      "outputs": [
        {
          "output_type": "stream",
          "name": "stdout",
          "text": [
            "is_in(1000) -> 4.97e-05 seconds\n",
            "binary_search(1000) -> 8.98e-06 seconds\n",
            "in operator (1000) -> 2.24e-05 seconds\n",
            "\n",
            "is_in(10000) -> 3.36e-04 seconds\n",
            "binary_search(10000) -> 5.86e-06 seconds\n",
            "in operator (10000) -> 2.03e-04 seconds\n",
            "\n",
            "is_in(100000) -> 3.23e-03 seconds\n",
            "binary_search(100000) -> 9.43e-06 seconds\n",
            "in operator (100000) -> 1.84e-03 seconds\n",
            "\n",
            "is_in(1000000) -> 3.23e-02 seconds\n",
            "binary_search(1000000) -> 1.30e-05 seconds\n",
            "in operator (1000000) -> 2.03e-02 seconds\n",
            "\n"
          ]
        }
      ]
    },
    {
      "cell_type": "markdown",
      "source": [
        "### 🔎 Observations (Searching in a List)\n",
        "1. **Linear search** (`is_in`) grows ×10 in time when list size grows ×10 → Θ(n).  \n",
        "2. **Binary search** grows very slowly, almost independent of list size → Θ(log n).  \n",
        "3. **Built-in `in` operator** is optimized but behaves like linear search for lists.  \n",
        "4. For very large lists, **binary search is dramatically faster** than linear search. 🚀  \n"
      ],
      "metadata": {
        "id": "Xs-p-GlgIdmw"
      },
      "id": "Xs-p-GlgIdmw"
    },
    {
      "cell_type": "code",
      "source": [
        "import matplotlib.pyplot as plt\n",
        "import numpy as np\n",
        "\n",
        "n = np.linspace(1, 1000000, 100)\n",
        "linear = n\n",
        "logarithmic = np.log2(n)\n",
        "\n",
        "plt.figure(figsize=(8,5))\n",
        "plt.plot(n, linear/100000, label=\"Θ(n) - Linear (scaled)\")\n",
        "plt.plot(n, logarithmic, label=\"Θ(log n) - Binary Search\")\n",
        "plt.title(\"Growth of Linear vs Logarithmic Search\")\n",
        "plt.xlabel(\"Input size (n)\")\n",
        "plt.ylabel(\"Relative cost (scaled)\")\n",
        "plt.legend()\n",
        "plt.grid(True)\n",
        "plt.show()"
      ],
      "metadata": {
        "colab": {
          "base_uri": "https://localhost:8080/",
          "height": 487
        },
        "id": "CzAzWoSPAP-p",
        "outputId": "ef03f647-b050-467c-dc8c-a9ca23087b5a"
      },
      "id": "CzAzWoSPAP-p",
      "execution_count": null,
      "outputs": [
        {
          "output_type": "display_data",
          "data": {
            "text/plain": [
              "<Figure size 800x500 with 1 Axes>"
            ],
            "image/png": "[encoded data removed]"
          },
          "metadata": {}
        }
      ]
    },
    {
      "cell_type": "markdown",
      "source": [
        "### 📈 Visualizing Search Growth\n",
        "- Linear search grows proportionally with list size.  \n",
        "- Binary search grows much more slowly (logarithmic).  \n",
        "- This shows **why choosing the right algorithm matters** for performance.  \n",
        "\n"
      ],
      "metadata": {
        "id": "ppanMJppBYkT"
      },
      "id": "ppanMJppBYkT"
    },
    {
      "cell_type": "markdown",
      "source": [
        "# 🎯 Wrap-Up\n",
        "\n",
        "In this lab we focused on **list operations** and complexity:\n",
        "- Summing a list → **Θ(n)**\n",
        "- Linear search → **Θ(n)**\n",
        "- Binary search → **Θ(log n)**\n",
        "- Python's `in` operator → behaves like **Θ(n)** for lists\n",
        "\n",
        "✅ Key idea: As input size grows, the **differences between algorithms become dramatic**.  \n",
        "\n",
        "---\n",
        "Next time, we’ll extend this to **other data structures** and see how complexity changes.\n",
        "\n",
        "Great work today, team! 🚀\n"
      ],
      "metadata": {
        "id": "49V6SByjK8iu"
      },
      "id": "49V6SByjK8iu"
    },
    {
      "cell_type": "markdown",
      "source": [
        "## Subtopics: Counting, Order of Growth, Big Idea (Theta in terms of input)\n",
        "\n",
        "\n",
        "In this notebook, we'll explore three key concepts from algorithm analysis:\n",
        "\n",
        "- Counting Operations\n",
        "- Order of Growth\n",
        "- The Big Idea: Expressing Θ in terms of input\n",
        "\n",
        "This lab is designed to be interactive, fun, and practical so you can follow along in Google Colab 🚀\n",
        "\n",
        "## Part 1: Counting Operations\n",
        "We assume each of the following takes constant time:\n",
        "\n",
        "- Mathematical operations\n",
        "- Comparisons\n",
        "- Assignments\n",
        "- Accessing objects in memory\n",
        "- Let's practice by counting the number of operations in some Python functions."
      ],
      "metadata": {
        "id": "s3u20xl6tXNj"
      },
      "id": "s3u20xl6tXNj"
    },
    {
      "cell_type": "code",
      "execution_count": null,
      "id": "44b91a6b",
      "metadata": {
        "id": "44b91a6b",
        "colab": {
          "base_uri": "https://localhost:8080/"
        },
        "outputId": "17209117-02a3-435c-f141-c0655bcb64a3"
      },
      "outputs": [
        {
          "output_type": "stream",
          "name": "stdout",
          "text": [
            "is_in on list of size 100 performed 200 operations\n"
          ]
        }
      ],
      "source": [
        "\n",
        "# Counting operations manually\n",
        "count = 0\n",
        "\n",
        "def is_in_counter(L, x):\n",
        "    global count\n",
        "    for elt in L:\n",
        "        count += 2  # one for assigning elt, one for comparison\n",
        "        if elt == x:\n",
        "            return True\n",
        "    return False\n",
        "\n",
        "N = 100\n",
        "L = list(range(N))\n",
        "count = 0\n",
        "is_in_counter(L, N-1)\n",
        "print(f\"is_in on list of size {N} performed {count} operations\")\n"
      ]
    },
    {
      "cell_type": "code",
      "source": [
        "def binary_search_counter(L, x):\n",
        "    global count\n",
        "    lo = 0\n",
        "    hi = len(L)\n",
        "    count += 3\n",
        "    while hi-lo > 1:\n",
        "        count += 2\n",
        "        mid = (hi+lo)//2\n",
        "        count += 3\n",
        "        if L[mid] <= x:\n",
        "            lo = mid\n",
        "        else:\n",
        "            hi = mid\n",
        "        count += 3\n",
        "    count += 3\n",
        "    return L[lo] == x\n",
        "\n",
        "# Test binary search counting\n",
        "L = list(range(100))\n",
        "count = 0\n",
        "binary_search_counter(L, 42)\n",
        "print(\"Operations used:\", count)"
      ],
      "metadata": {
        "id": "QyN4i2zOugp2"
      },
      "id": "QyN4i2zOugp2",
      "execution_count": null,
      "outputs": []
    },
    {
      "cell_type": "markdown",
      "id": "76ca08dc",
      "metadata": {
        "id": "76ca08dc"
      },
      "source": [
        "### Observation:\n",
        "\n",
        "is_in_counter grows linearly with the size of L.\n",
        "binary_search_counter grows much more slowly (logarithmically).  \n",
        "\n",
        "## 📊 Big-O and Big-Theta Notation\n",
        "\n",
        "- **Big-O (O)**: Upper bound — worst-case growth rate.\n",
        "- **Big-Theta (Θ)**: Tight bound — both lower and upper.\n",
        "\n",
        "### Example:\n",
        "If an algorithm runs in:  \n",
        "\\( f(n) = 3n^2 + 20n + 1 \\)  \n",
        "\n",
        "- Big-O: \\( O(n^2) \\)  \n",
        "- Big-Theta: \\( Θ(n^2) \\)  \n",
        "\n",
        "👉 Why? Because the \\( n^2 \\) term dominates as input size grows.\n"
      ]
    },
    {
      "cell_type": "markdown",
      "id": "559c5d73",
      "metadata": {
        "id": "559c5d73"
      },
      "source": [
        "\n",
        "## ✍️ Exercises (Finger Practice)\n",
        "\n",
        "Simplify the following and determine Θ in terms of *n*:\n",
        "\n",
        "1. \\( n^2 + \\log(n) + 2^a \\)  \n",
        "2. \\( 2^n + n \\log(n) + n^2 \\)  \n",
        "3. \\( f \\log(f) + 100000 + 300a + xyz \\)  \n",
        "\n",
        "Write your answers in a markdown cell below and then discuss as a group 🤓.\n"
      ]
    },
    {
      "cell_type": "code",
      "execution_count": null,
      "id": "420023a9",
      "metadata": {
        "id": "420023a9",
        "colab": {
          "base_uri": "https://localhost:8080/"
        },
        "outputId": "312553ef-e1bd-4cb2-c157-e2c074982d9f"
      },
      "outputs": [
        {
          "output_type": "stream",
          "name": "stdout",
          "text": [
            "N=100   -> 0.0032 seconds\n",
            "N=200   -> 0.0123 seconds\n",
            "N=400   -> 0.0428 seconds\n",
            "N=800   -> 0.1890 seconds\n"
          ]
        }
      ],
      "source": [
        "\n",
        "# Practice analyzing algorithm complexity\n",
        "\n",
        "def diameter(L):\n",
        "    farthest_dist = 0\n",
        "    for i in range(len(L)):\n",
        "        for j in range(i+1, len(L)):\n",
        "            p1, p2 = L[i], L[j]\n",
        "            dist = ((p1[0]-p2[0])**2 + (p1[1]-p2[1])**2) ** 0.5\n",
        "            if dist > farthest_dist:\n",
        "                farthest_dist = dist\n",
        "    return farthest_dist\n",
        "\n",
        "# Let's test with different sizes\n",
        "import math\n",
        "\n",
        "def create_points(N):\n",
        "    return [(math.cos(i)*i, math.sin(i)*i) for i in range(N)]\n",
        "\n",
        "for N in [100, 200, 400, 800]:\n",
        "    L = create_points(N)\n",
        "    t0 = time.perf_counter()\n",
        "    diameter(L)\n",
        "    dt = time.perf_counter()-t0\n",
        "    print(f\"N={N:<5} -> {dt:.4f} seconds\")\n"
      ]
    },
    {
      "cell_type": "markdown",
      "id": "b39bf1cf",
      "metadata": {
        "id": "b39bf1cf"
      },
      "source": [
        "\n",
        "## 📈 Visualizing Growth Rates\n",
        "\n",
        "This plot compares common complexity classes:\n",
        "\n",
        "- **Logarithmic (Θ(log n))** – grows very slowly  \n",
        "- **Linear (Θ(n))** – scales directly with input  \n",
        "- **Quadratic (Θ(n²))** – grows much faster  \n",
        "- **Exponential (Θ(2ⁿ))** – explodes rapidly 🚨  \n",
        "\n",
        "👉 Notice how for small inputs they may look similar, but as `n` grows, the difference becomes dramatic.\n"
      ]
    },
    {
      "cell_type": "code",
      "execution_count": null,
      "id": "c2313a5d",
      "metadata": {
        "id": "c2313a5d",
        "outputId": "d7b31391-f845-4994-e8b4-567f088ce326",
        "colab": {
          "base_uri": "https://localhost:8080/",
          "height": 564
        }
      },
      "outputs": [
        {
          "output_type": "display_data",
          "data": {
            "text/plain": [
              "<Figure size 1000x600 with 1 Axes>"
            ],
            "image/png": "[encoded data removed]"
          },
          "metadata": {}
        }
      ],
      "source": [
        "\n",
        "import matplotlib.pyplot as plt\n",
        "import numpy as np\n",
        "\n",
        "# Define input sizes\n",
        "n = np.linspace(1, 20, 100)\n",
        "\n",
        "# Define growth functions\n",
        "linear = n\n",
        "quadratic = n**2\n",
        "logarithmic = np.log(n)\n",
        "exponential = 2**n\n",
        "\n",
        "# Plot\n",
        "plt.figure(figsize=(10,6))\n",
        "plt.plot(n, linear, label=\"Θ(n) - Linear\")\n",
        "plt.plot(n, quadratic, label=\"Θ(n^2) - Quadratic\")\n",
        "plt.plot(n, logarithmic, label=\"Θ(log n) - Logarithmic\")\n",
        "plt.plot(n, exponential, label=\"Θ(2^n) - Exponential\")\n",
        "\n",
        "plt.ylim(0, 50)  # Limit y-axis for clarity\n",
        "plt.title(\"Growth Rates of Different Complexities\")\n",
        "plt.xlabel(\"Input size (n)\")\n",
        "plt.ylabel(\"Operations (scaled)\")\n",
        "plt.legend()\n",
        "plt.grid(True)\n",
        "plt.show()\n"
      ]
    },
    {
      "cell_type": "markdown",
      "source": [
        "## Part 2: Order of Growth\n",
        "Order of Growth describes how the number of operations grows as the size of input increases.\n",
        "\n",
        "- mysum(x) → grows linearly → Θ(x)\n",
        "- square(x) (nested loops) → grows quadratically → Θ(x²)\n",
        "\n",
        "We only care about the dominant term for large inputs."
      ],
      "metadata": {
        "id": "1xM7VSM7vNOM"
      },
      "id": "1xM7VSM7vNOM"
    },
    {
      "cell_type": "code",
      "source": [
        "def mysum(x):\n",
        "    total = 0\n",
        "    for i in range(x):\n",
        "        total += i\n",
        "    return total\n",
        "\n",
        "def square(x):\n",
        "    total = 0\n",
        "    for i in range(x):\n",
        "        for j in range(x):\n",
        "            total += i*j\n",
        "    return total\n",
        "\n",
        "print(\"mysum(10):\", mysum(10))\n",
        "print(\"square(10):\", square(10))\n"
      ],
      "metadata": {
        "id": "yIyUtlDyvJZh"
      },
      "id": "yIyUtlDyvJZh",
      "execution_count": null,
      "outputs": []
    },
    {
      "cell_type": "markdown",
      "source": [
        "- mysum(x) → about 3x+2 ops → Θ(x)\n",
        "- square(x) → about x² ops → Θ(x²)\n",
        "\n",
        "👉 Order of Growth helps us predict performance for very large inputs.\n",
        "\n",
        "\n",
        "\n",
        "## 💡 Part 3: The Big Idea – Express Θ in terms of input\n",
        "\n",
        "Don't just use `n` all the time!  \n",
        "Always express Θ **in terms of the actual input** to the problem.  \n",
        "\n",
        "Examples:  \n",
        "- `convert_to_km(x)` → Θ(1), input is an integer  \n",
        "- `sum_of(L)` → Θ(len(L)), input is a list  \n",
        "- `is_in(L, e)` → Θ(len(L)), input depends on **list length** not the values inside  \n",
        "\n",
        "\n",
        "\n",
        "Let's practice!\n"
      ],
      "metadata": {
        "id": "IZUKblM_vydZ"
      },
      "id": "IZUKblM_vydZ"
    },
    {
      "cell_type": "code",
      "source": [
        "def f(L):\n",
        "    Lnew = []\n",
        "    for i in L:\n",
        "        Lnew.append(i**2)\n",
        "    return Lnew\n",
        "\n",
        "print(f([1,2,3,4,5]))"
      ],
      "metadata": {
        "id": "dEepZUaMvJcb"
      },
      "id": "dEepZUaMvJcb",
      "execution_count": null,
      "outputs": []
    },
    {
      "cell_type": "markdown",
      "source": [
        "## 📝 Student Exercises\n",
        "\n",
        "1. Write a function that multiplies two matrices. Count the number of operations. What is the order of growth?  \n",
        "2. Modify `is_in_counter` to also count the **worst case**, **best case**, and **average case** separately.  \n",
        "3. Analyze the following function. Express its Θ in terms of input size:\n",
        "\n",
        "```python\n",
        "def f(L, L1, L2):\n",
        "    inL1 = False\n",
        "    for i in range(len(L)):\n",
        "        if L[i] == L1[i]:\n",
        "            inL1 = True\n",
        "    inL2 = False\n",
        "    for i in range(len(L)):\n",
        "        if L[i] == L2[i]:\n",
        "            inL2 = True\n",
        "    return inL1 and inL2\n",
        "```\n",
        "(Hint: Focus on **list length** as the input size.)\n",
        "\n",
        "---\n"
      ],
      "metadata": {
        "id": "G7mOimTBwiuQ"
      },
      "id": "G7mOimTBwiuQ"
    },
    {
      "cell_type": "markdown",
      "source": [
        "## ✅ Wrap-up\n",
        "\n",
        "- **Counting operations**: machine-independent way to evaluate algorithms.  \n",
        "- **Order of Growth**: focus on how runtime scales with input size.  \n",
        "- **Big Idea**: Always express Θ in terms of the input (list length, integer value, etc.).  \n",
        "\n",
        "This helps us reason about **efficiency and scalability** of algorithms.  \n",
        "\n",
        "🎉 Great work! You just mastered key parts of **Big Oh and Theta**!\n",
        "\n",
        "\n",
        "\n",
        "## Visualizing Growth Rates\n",
        "\n",
        "Now let’s **see** how different growth rates compare:  \n",
        "\n",
        "- **Logarithmic Θ(log n)** grows very slowly  \n",
        "- **Linear Θ(n)** grows steadily  \n",
        "- **Quadratic Θ(n²)** grows much faster  \n",
        "- **Exponential Θ(2^n)** explodes even for small `n`  \n",
        "\n",
        "This plot makes it clear why algorithm efficiency matters so much as input size increases."
      ],
      "metadata": {
        "id": "LW9vpsL2x6GP"
      },
      "id": "LW9vpsL2x6GP"
    },
    {
      "cell_type": "code",
      "source": [
        "import matplotlib.pyplot as plt\n",
        "import numpy as np\n",
        "\n",
        "# Define input sizes\n",
        "n = np.linspace(1, 100, 100)\n",
        "\n",
        "# Define growth functions\n",
        "linear = n\n",
        "quadratic = n**2\n",
        "logarithmic = np.log2(n)\n",
        "exponential = 2**(n/10)  # scaled for visualization\n",
        "\n",
        "# Plot the functions\n",
        "plt.figure(figsize=(10,6))\n",
        "plt.plot(n, linear, label=\"Linear Θ(n)\")\n",
        "plt.plot(n, quadratic, label=\"Quadratic Θ(n²)\")\n",
        "plt.plot(n, logarithmic, label=\"Logarithmic Θ(log n)\")\n",
        "plt.plot(n, exponential, label=\"Exponential Θ(2^n)\")\n",
        "\n",
        "plt.ylim(0, 200)  # limit y-axis for better visualization\n",
        "plt.title(\"Growth Rate Comparison\")\n",
        "plt.xlabel(\"Input size (n)\")\n",
        "plt.ylabel(\"Operations (arbitrary units)\")\n",
        "plt.legend()\n",
        "plt.grid(True)\n",
        "plt.show()\n"
      ],
      "metadata": {
        "id": "ffljuVC9xb3I"
      },
      "id": "ffljuVC9xb3I",
      "execution_count": null,
      "outputs": []
    },
    {
      "cell_type": "markdown",
      "id": "73fc6e7d",
      "metadata": {
        "id": "73fc6e7d"
      },
      "source": [
        "\n",
        "# 🎯 Summary\n",
        "\n",
        "- We learned how to **time programs** and **count operations**\n",
        "- Introduced **Big-O** (upper bound) and **Big-Theta** (tight bound)\n",
        "- Practiced simplifying expressions to determine complexity\n",
        "- Analyzed real Python functions and classified their complexity\n",
        "- Visualized how different growth rates compare as input grows\n",
        "\n",
        "✅ Complexity analysis is **independent of hardware** — it’s about the **algorithm itself**.  \n",
        "This helps us choose the **best algorithm** for big problems.\n",
        "\n",
        "---\n",
        "\n",
        "### 🔮 Next Lecture\n",
        "We’ll dive deeper into **Complexity Classes** and how they shape algorithm design (Lecture 23).\n",
        "\n",
        "Great work today, team! 🚀\n"
      ]
    }
  ],
  "metadata": {
    "colab": {
      "provenance": []
    },
    "language_info": {
      "name": "python"
    },
    "kernelspec": {
      "name": "python3",
      "display_name": "Python 3"
    }
  },
  "nbformat": 4,
  "nbformat_minor": 5
}