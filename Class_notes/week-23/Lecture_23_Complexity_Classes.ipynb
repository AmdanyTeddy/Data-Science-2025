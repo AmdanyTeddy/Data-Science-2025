{
 "cells": [
  {
   "cell_type": "markdown",
   "id": "2a7e75bb",
   "metadata": {},
   "source": [
    "# 📘 Lecture 23: Complexity Classes — Examples\n",
    "---"
   ]
  },
  {
   "cell_type": "markdown",
   "id": "ea2851f7",
   "metadata": {},
   "source": [
    "\n",
    "## 🎯 Learning Objectives\n",
    "\n",
    "By the end of this lecture, you should be able to:\n",
    "\n",
    "1. Explain what **asymptotic complexity (Θ)** means.\n",
    "2. Identify complexity classes (Θ(1), Θ(log n), Θ(n), Θ(n log n), Θ(n²), Θ(2ⁿ), etc.) in real code.\n",
    "3. Analyze Python functions and estimate their runtime growth as input size increases.\n",
    "4. Compare implementations of the same algorithm (e.g., iterative vs recursive Fibonacci, bisection search).\n",
    "5. Understand **why complexity matters** in Data Science & real-world systems.\n"
   ]
  },
  {
   "cell_type": "markdown",
   "id": "48efb0c7",
   "metadata": {},
   "source": [
    "\n",
    "## 🧠 Core Concepts\n",
    "\n",
    "### 🔹 What is Θ?\n",
    "- Think of Θ as a way of saying **“how the runtime grows as the input gets bigger”**.\n",
    "- We only care about **the dominant term** (what grows fastest).\n",
    "- Ignore constants (10n ≈ n), ignore additive lower terms (n² + n ≈ n²).\n",
    "\n",
    "### 🔹 Common Complexity Classes\n",
    "1. **Θ(1) → Constant time**  \n",
    "   Example: list indexing `L[i]`, dict lookup `d[key]`.\n",
    "\n",
    "2. **Θ(log n) → Logarithmic time**  \n",
    "   Example: binary search on sorted list.\n",
    "\n",
    "3. **Θ(n) → Linear time**  \n",
    "   Example: summing digits in a string, checking membership in a list.\n",
    "\n",
    "4. **Θ(n log n) → Log-linear time**  \n",
    "   Example: MergeSort, QuickSort.\n",
    "\n",
    "5. **Θ(n²), Θ(n³)… → Polynomial time**  \n",
    "   Example: nested loops, comparing all pairs.\n",
    "\n",
    "6. **Θ(2ⁿ) → Exponential**  \n",
    "   Example: naive recursive Fibonacci, generating all subsets.\n"
   ]
  },
  {
   "cell_type": "markdown",
   "id": "01971fca",
   "metadata": {},
   "source": [
    "## 📜 Annotated Examples"
   ]
  },
  {
   "cell_type": "code",
   "execution_count": null,
   "id": "fed12da2",
   "metadata": {},
   "outputs": [],
   "source": [
    "\n",
    "# Example 1: Constant Time\n",
    "def add(x, y):\n",
    "    return x + y   # Θ(1)\n",
    "\n",
    "print(add(3, 4))\n"
   ]
  },
  {
   "cell_type": "code",
   "execution_count": null,
   "id": "15bb02e3",
   "metadata": {},
   "outputs": [],
   "source": [
    "\n",
    "# Example 2: Linear Time\n",
    "def add_digits(s):\n",
    "    val = 0\n",
    "    for c in s:        # loop runs len(s) times\n",
    "        val += int(c)\n",
    "    return val         # Θ(n)\n",
    "\n",
    "print(add_digits(\"123456789\"))\n"
   ]
  },
  {
   "cell_type": "code",
   "execution_count": null,
   "id": "013f3c56",
   "metadata": {},
   "outputs": [],
   "source": [
    "\n",
    "# Example 3: Quadratic Time\n",
    "def is_subset(L1, L2):\n",
    "    for e1 in L1:              # Θ(len(L1))\n",
    "        matched = False\n",
    "        for e2 in L2:          # Θ(len(L2))\n",
    "            if e1 == e2:\n",
    "                matched = True\n",
    "                break\n",
    "        if not matched:\n",
    "            return False\n",
    "    return True\n",
    "\n",
    "print(is_subset([1,2,3], [3,2,1,4,5]))\n"
   ]
  },
  {
   "cell_type": "code",
   "execution_count": null,
   "id": "30641daf",
   "metadata": {},
   "outputs": [],
   "source": [
    "\n",
    "# Example 4: Exponential Time\n",
    "def fib_recur(n):\n",
    "    if n == 0: return 0\n",
    "    if n == 1: return 1\n",
    "    return fib_recur(n-1) + fib_recur(n-2)\n",
    "\n",
    "print(fib_recur(10))  # Warning: grows very fast!\n"
   ]
  },
  {
   "cell_type": "code",
   "execution_count": null,
   "id": "16ba6933",
   "metadata": {},
   "outputs": [],
   "source": [
    "\n",
    "# Example 5: Logarithmic Time\n",
    "def bisect_search2(L, e):\n",
    "    def helper(low, high):\n",
    "        if high < low: return False\n",
    "        mid = (low + high) // 2\n",
    "        if L[mid] == e: return True\n",
    "        elif L[mid] > e: return helper(low, mid - 1)\n",
    "        else: return helper(mid + 1, high)\n",
    "    return helper(0, len(L)-1)\n",
    "\n",
    "L = [1, 3, 5, 7, 9, 11]\n",
    "print(bisect_search2(L, 7))\n",
    "print(bisect_search2(L, 2))\n"
   ]
  },
  {
   "cell_type": "markdown",
   "id": "995e04f6",
   "metadata": {},
   "source": [
    "\n",
    "## 🚀 Practice Exercise\n",
    "\n",
    "Try analyzing the following function. What is its complexity?\n",
    "\n"
   ]
  },
  {
   "cell_type": "code",
   "execution_count": null,
   "id": "4125c406",
   "metadata": {},
   "outputs": [],
   "source": [
    "\n",
    "def mystery(L):\n",
    "    total = 0\n",
    "    for i in range(len(L)):\n",
    "        for j in range(i):\n",
    "            total += L[j]\n",
    "    return total\n",
    "\n",
    "print(mystery([1,2,3,4,5]))\n"
   ]
  },
  {
   "cell_type": "markdown",
   "id": "b8679515",
   "metadata": {},
   "source": [
    "\n",
    "## 📝 Homework / Lab\n",
    "\n",
    "1. Classify complexity of these tasks:\n",
    "   - Checking if a list has duplicates.\n",
    "   - Sorting a dataset of 1M entries.\n",
    "   - Training k-NN on n samples.\n",
    "   - Running BFS on a graph with V vertices, E edges.\n",
    "\n",
    "2. Write your own **binary search** and prove its Θ(log n).\n",
    "\n",
    "3. Compare runtime of:\n",
    "   - `fib_recur(n)` vs an **iterative Fibonacci** implementation.\n",
    "   - Plot time taken for n = 10…40.\n"
   ]
  }
 ],
 "metadata": {},
 "nbformat": 4,
 "nbformat_minor": 5
}