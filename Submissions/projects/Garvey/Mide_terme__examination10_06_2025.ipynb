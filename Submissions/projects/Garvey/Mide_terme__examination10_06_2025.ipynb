{
  "nbformat": 4,
  "nbformat_minor": 0,
  "metadata": {
    "colab": {
      "provenance": []
    },
    "kernelspec": {
      "name": "python3",
      "display_name": "Python 3"
    },
    "language_info": {
      "name": "python"
    }
  },
  "cells": [
    {
      "cell_type": "code",
      "execution_count": 24,
      "metadata": {
        "id": "qOl2AUMqI-oz",
        "colab": {
          "base_uri": "https://localhost:8080/"
        },
        "outputId": "99e16433-a671-4e1a-d6b8-8168e4f07790"
      },
      "outputs": [
        {
          "output_type": "stream",
          "name": "stdout",
          "text": [
            "Enter the exam score (0-100): 50\n",
            "E\n"
          ]
        }
      ],
      "source": [
        "#QUESTION 11 GRADE CONVERTER\n",
        "# program that ask the user for an exerm score(integer 0- 100)\n",
        "# and print the coresponding letter grade accordin to 90-100:A 80-89:B 70-79:C 60-69:D 50-59:e\n",
        "s= int(input(\"Enter the exam score (0-100): \"))\n",
        "\n",
        "if 90 <= s <= 100:\n",
        "    print(\"A\")\n",
        "elif 80 <= s <= 89:\n",
        "    print(\"B\")\n",
        "elif 70 <= s <= 79:\n",
        "    print(\"C\")\n",
        "elif 60 <= s <= 69:\n",
        "    print(\"D\")\n",
        "elif 50 <= s <= 59:\n",
        "    print(\"E\")\n",
        "else:\n",
        "    print(\"Score is out of the valid range (0-100).\")"
      ]
    },
    {
      "cell_type": "code",
      "source": [
        "#QUESTON 12 VOWEL COUNTER\n",
        "s =input(\"enter a string:\"). lower()#convert all characters to lowercase\n",
        "count = 0# keep track of the total number of vowels\n",
        "vowels_seen = set()#A collection of unique items\n",
        "for ch in s:#iterates through each character (ch)\n",
        "    if ch in \"aeiou\":#checks if character ch is present\n",
        "        count += 1\n",
        "        vowels_seen.add(ch)\n",
        "print(\"Vowels seen:\", vowels_seen)\n",
        "print(\"count\",count)"
      ],
      "metadata": {
        "id": "7KMRi6TWoSIC",
        "colab": {
          "base_uri": "https://localhost:8080/"
        },
        "outputId": "bb6da1f7-2bc2-4fff-c614-d7dd108cfedd"
      },
      "execution_count": 8,
      "outputs": [
        {
          "output_type": "stream",
          "name": "stdout",
          "text": [
            "enter a string:garvey\n",
            "Vowels seen: {'a', 'e'}\n",
            "count 2\n"
          ]
        }
      ]
    },
    {
      "cell_type": "code",
      "source": [
        "#QUESTON 13 DESIMAL BINARY CONVERTER\n",
        "#welcoming message\n",
        "print(\" Enter an integer\")\n",
        "# Get user input and validate\n",
        "while True:#creates an infinite loop that will continue until explicitly broken out of\n",
        "    try:# is used for error handling\n",
        "        price = float(input())\n",
        "        if 0 <= price <= 13: #checks if it's between 0 and 10\n",
        "            break#exits the while loop\n",
        "        else:\n",
        "            print(\"Price must be between 0 and 10. Please try again:\")\n",
        "    except ValueError:\n",
        "        print(\"Invalid input. Please enter a number:\")\n",
        "\n",
        "# Separate integer and fractional parts\n",
        "integer_part = int(price)\n",
        "fractional_part = price - integer_part\n",
        "\n",
        "# Convert integer part to binary\n",
        "binary_integer = \"\"\n",
        "if integer_part == 0:\n",
        "    binary_integer = \"0\"\n",
        "else:\n",
        "    while integer_part > 0:\n",
        "        binary_integer = str(integer_part % 2) + binary_integer\n",
        "        integer_part //= 2\n",
        "\n",
        "# Convert fractional part to binary (guess and check)\n",
        "binary_fractional = \"\"\n",
        "for _ in range(8):  # Round to a maximum of 8 bits\n",
        "    fractional_part *= 2\n",
        "    bit = int(fractional_part)\n",
        "    binary_fractional += str(bit)\n",
        "    fractional_part -= bit\n",
        "\n",
        "# Combine and print the binary price\n",
        "binary_price = binary_integer + \".\" + binary_fractional\n",
        "print(f\"Binary price: {binary_price}\")\n",
        "print(\"thank you \")"
      ],
      "metadata": {
        "colab": {
          "base_uri": "https://localhost:8080/"
        },
        "id": "ZU6KFJqLbLjU",
        "outputId": "6801f7b9-ee9d-4d06-a74a-3874672f30c0"
      },
      "execution_count": 12,
      "outputs": [
        {
          "output_type": "stream",
          "name": "stdout",
          "text": [
            " Enter an integer\n",
            "4\n",
            "Binary price: 100.00000000\n",
            "thank you \n"
          ]
        }
      ]
    },
    {
      "cell_type": "code",
      "source": [
        "#QUESTION 14 SUM OF DIGITS\n",
        "# rpogram tha compute the sum for it\n",
        "num = int(input(\"Enter an integer to compute the sum of its digits: \"))\n",
        "sum_of_digits = 0\n",
        "# Convert the number to a string to iterate through digits\n",
        "for digit in str(num):\n",
        "    sum_of_digits += int(digit)\n",
        "\n",
        "print(f\"The sum of the digits is: {sum_of_digits}\")\n",
        "\n"
      ],
      "metadata": {
        "colab": {
          "base_uri": "https://localhost:8080/"
        },
        "id": "dd8ttL6Wcp4q",
        "outputId": "49cc1422-5672-46c5-a610-3da0b797eac3"
      },
      "execution_count": 26,
      "outputs": [
        {
          "output_type": "stream",
          "name": "stdout",
          "text": [
            "Enter an integer to compute the sum of its digits: 10\n",
            "The sum of the digits is: 1\n"
          ]
        }
      ]
    }
  ]
}