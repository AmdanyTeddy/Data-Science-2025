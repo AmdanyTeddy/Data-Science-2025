{
  "nbformat": 4,
  "nbformat_minor": 0,
  "metadata": {
    "colab": {
      "provenance": []
    },
    "kernelspec": {
      "name": "python3",
      "display_name": "Python 3"
    },
    "language_info": {
      "name": "python"
    }
  },
  "cells": [
    {
      "cell_type": "markdown",
      "source": [
        "**Eldohub Academy – Data Science Department**\n",
        "\n",
        "**Group Work Assignment 1.**\n",
        "\n",
        "Submittion deadline: Before the end of today 8 PM\n",
        "\n",
        "Goal :\n",
        "\n",
        "•\tTest core Python knowledge (data types, functions, loops, OOP, recursion, etc.)\n",
        "\n",
        "•\tEncourage clean code, modularity, testing, and good coding practices\n",
        "\n",
        "•\tSimulate real-world problem-solving\n",
        "\n",
        "•\tEncourage collaboration in a team setting\n",
        "\n",
        "Group Project 2: Python Adventure Game (Text-based RPG)\n",
        "\n",
        "Project Title: CodeQuest – Python Text Adventure Game\n",
        "\n",
        "Project Description:\n",
        "\n",
        "Create a terminal-based adventure game where the player moves through a world made of rooms, collects items, and battles creatures or solves puzzles.\n",
        "\n",
        "🛠 Features to Include:\n",
        "\n",
        "•\tA player class with inventory and health\n",
        "\n",
        "•\tRoom classes with descriptions and possible actions\n",
        "\n",
        "•\tMovement system (north/south/east/west)\n",
        "\n",
        "•\tItem collection and use (e.g., healing potion, key)\n",
        "\n",
        "•\tSimple combat system or decision-based challenges\n",
        "\n",
        "•\tSaving/loading progress to/from file\n",
        "🔁 Concepts Practiced:\n",
        "\n",
        "•\tRecursion (e.g., puzzles, room solving)\n",
        "\n",
        "•\tClasses and Inheritance (Rooms, Items, Player)\n",
        "\n",
        "•\tDictionaries and Lists for world layout\n",
        "\n",
        "•\tLambda functions (e.g., item effects)\n",
        "\n",
        "•\tRandom module for challenges\n",
        "🧠\n",
        "Engineering Principles to Apply:\n",
        "\n",
        "\n",
        "•\tOOP and Inheritance\n",
        "\n",
        "•\tSOLID principles (especially Single Responsibility & Open/Closed)\n",
        "\n",
        "•\tModular Programming (engine.py, player.py, items.py, etc.)\n",
        "\n",
        "•\tVersion Control with Git\n",
        "\n",
        "•\tTDD – at least 3 unit tests for key mechanics\n",
        "\n",
        "Elsa Cherono - elsernownex@gmail.com\n",
        "               elsernownex@gmail.com\n",
        "\n",
        "Garvey Mandela - garveymandela36@gmail.com\n",
        "                 garveymandela36@gmail.com\n",
        "\n",
        "Bismark Koima - bismarkkoima844@gmail.com\n",
        "                bismarkkoima844@gmail.com\n"
      ],
      "metadata": {
        "id": "H9004MRpEWAc"
      }
    },
    {
      "cell_type": "code",
      "source": [
        "class Player:\n",
        "    def __init__(self, name):\n",
        "        self.name = name\n",
        "        self.health = 100\n",
        "        self.inventory = []\n",
        "\n",
        "    def add_item(self, item):\n",
        "        self.inventory.append(item)\n",
        "\n",
        "    def use_item(self, item_name):\n",
        "        for item in self.inventory:\n",
        "            if item.name.lower() == item_name.lower():\n",
        "                item.use(self)\n",
        "                self.inventory.remove(item)\n",
        "                return True\n",
        "        return False\n",
        "\n",
        "    def is_alive(self):\n",
        "        return self.health > 0"
      ],
      "metadata": {
        "id": "Qovt_HttGsGZ"
      },
      "execution_count": 2,
      "outputs": []
    },
    {
      "cell_type": "code",
      "source": [
        "class Room:\n",
        "    def __init__(self, name, description):\n",
        "        self.name = name\n",
        "        self.description = description\n",
        "        self.connections = {}\n",
        "\n",
        "    def connect(self, direction, other_room):\n",
        "        self.connections[direction] = other_room\n",
        "\n",
        "    def get_connection(self, direction):\n",
        "        return self.connections.get(direction)\n",
        "\n",
        "    def get_available_directions(self):\n",
        "        return list(self.connections.keys())\n"
      ],
      "metadata": {
        "id": "vd3rLhSfGsNo"
      },
      "execution_count": 3,
      "outputs": []
    },
    {
      "cell_type": "code",
      "source": [
        "entrance = Room(\"Entrance Hall\", \"You're standing in the entrance of a dark dungeon.\")\n",
        "hallway = Room(\"Hallway\", \"A dusty corridor with cobwebs on the ceiling.\")\n",
        "armory = Room(\"Armory\", \"Old rusted weapons are scattered on the floor.\")\n",
        "library = Room(\"Library\", \"Ancient books line the moldy shelves.\")\n",
        "\n",
        "\n",
        "entrance.connect(\"north\", hallway)\n",
        "hallway.connect(\"south\", entrance)\n",
        "hallway.connect(\"east\", armory)\n",
        "hallway.connect(\"west\", library)\n",
        "library.connect(\"east\", hallway)\n",
        "armory.connect(\"west\", hallway)\n",
        "\n",
        "\n",
        "current_room = entrance\n"
      ],
      "metadata": {
        "id": "bEc45PeSGsQ0"
      },
      "execution_count": 4,
      "outputs": []
    },
    {
      "cell_type": "code",
      "source": [
        "def move_player(direction):\n",
        "    global current_room\n",
        "    next_room = current_room.get_connection(direction)\n",
        "    if next_room:\n",
        "        current_room = next_room\n",
        "        print(f\"\\nYou move {direction} to the {current_room.name}.\")\n",
        "        print(current_room.description)\n",
        "    else:\n",
        "        print(\"\\nYou can't go that way.\")\n"
      ],
      "metadata": {
        "id": "X8Pn3sMcGsUf"
      },
      "execution_count": 5,
      "outputs": []
    },
    {
      "cell_type": "code",
      "source": [
        "\n",
        "class Item:\n",
        "    def __init__(self, name, description, use_func=None):\n",
        "        self.name = name\n",
        "        self.description = description\n",
        "        self.use_func = use_func\n",
        "\n",
        "    def use(self, player):\n",
        "        if self.use_func:\n",
        "            self.use_func(player)\n"
      ],
      "metadata": {
        "id": "kjTmscrZGsX3"
      },
      "execution_count": 6,
      "outputs": []
    },
    {
      "cell_type": "code",
      "source": [
        "\n",
        "def heal(player):\n",
        "    player.health = min(player.health + 25, 100)\n",
        "\n",
        "potion = Item(\"Healing Potion\", \"Restores 25 health points.\", use_func=heal)\n",
        "key = Item(\"Rusty Key\", \"Might open a locked door somewhere.\")\n",
        "\n",
        "\n",
        "entrance.items = [potion]\n",
        "library.items = [key]\n"
      ],
      "metadata": {
        "id": "J28i2y4OEWP-"
      },
      "execution_count": 7,
      "outputs": []
    },
    {
      "cell_type": "code",
      "source": [
        "\n",
        "class Room:\n",
        "    def __init__(self, name, description):\n",
        "        self.name = name\n",
        "        self.description = description\n",
        "        self.connections = {}\n",
        "        self.items = []\n",
        "\n",
        "    def connect(self, direction, other_room):\n",
        "        self.connections[direction] = other_room\n",
        "\n",
        "    def get_connection(self, direction):\n",
        "        return self.connections.get(direction)\n",
        "\n",
        "    def get_available_directions(self):\n",
        "        return list(self.connections.keys())\n",
        "\n",
        "    def display_items(self):\n",
        "        if not self.items:\n",
        "            print(\"There are no items here.\")\n",
        "        else:\n",
        "            print(\"You see the following items:\")\n",
        "            for item in self.items:\n",
        "                print(f\"– {item.name}: {item.description}\")\n"
      ],
      "metadata": {
        "id": "BkRkGCtpHaBl"
      },
      "execution_count": 8,
      "outputs": []
    },
    {
      "cell_type": "code",
      "source": [
        "\n",
        "def pick_up_item(item_name, player):\n",
        "    for item in current_room.items:\n",
        "        if item.name.lower() == item_name.lower():\n",
        "            player.add_item(item)\n",
        "            current_room.items.remove(item)\n",
        "            print(f\"You picked up: {item.name}\")\n",
        "            return\n",
        "    print(\"No such item here.\")\n"
      ],
      "metadata": {
        "id": "m8KQ9U3EHaEg"
      },
      "execution_count": 9,
      "outputs": []
    },
    {
      "cell_type": "code",
      "source": [
        "player = Player(\"Elsa\")\n",
        "\n",
        "\n",
        "def game_loop():\n",
        "    global current_room\n",
        "    print(f\"\\nWelcome to CodeQuest, {player.name}!\")\n",
        "    print(current_room.description)\n",
        "\n",
        "    while player.is_alive():\n",
        "        print(\"\\nWhat do you want to do?\")\n",
        "        command = input(\"> \").strip().lower()\n",
        "\n",
        "        if command in [\"quit\", \"exit\"]:\n",
        "            print(\"Thanks for playing!\")\n",
        "            break\n",
        "\n",
        "        elif command.startswith(\"move \"):\n",
        "            direction = command.split(\" \")[1]\n",
        "            move_player(direction)\n",
        "\n",
        "        elif command == \"look\":\n",
        "            print(f\"\\nYou are in the {current_room.name}.\")\n",
        "            print(current_room.description)\n",
        "            current_room.display_items()\n",
        "            print(\"Exits:\", \", \".join(current_room.get_available_directions()))\n",
        "\n",
        "        elif command.startswith(\"get \"):\n",
        "            item_name = command[4:]\n",
        "            pick_up_item(item_name, player)\n",
        "\n",
        "        elif command.startswith(\"use \"):\n",
        "            item_name = command[4:]\n",
        "            success = player.use_item(item_name)\n",
        "            if not success:\n",
        "                print(\"You don't have that item.\")\n",
        "\n",
        "        elif command == \"inventory\":\n",
        "            if not player.inventory:\n",
        "                print(\"Your inventory is empty.\")\n",
        "            else:\n",
        "                print(\"Your inventory:\")\n",
        "                for item in player.inventory:\n",
        "                    print(f\"– {item.name}\")\n",
        "\n",
        "        else:\n",
        "            print(\"Unknown command. Try: move, look, get, use, inventory, quit.\")\n"
      ],
      "metadata": {
        "id": "Hp_b3tVhHaHw"
      },
      "execution_count": 10,
      "outputs": []
    },
    {
      "cell_type": "markdown",
      "source": [
        "✅ Available Commands:\n",
        "move north / move south / move east / move west\n",
        "\n",
        "look – describe current room + items\n",
        "\n",
        "get [item] – pick up an item\n",
        "\n",
        "use [item] – use item in inventory\n",
        "\n",
        "inventory – show player inventory\n",
        "\n",
        "quit – exit the game\n",
        "\n"
      ],
      "metadata": {
        "id": "gYtFDX30HrMf"
      }
    },
    {
      "cell_type": "code",
      "source": [
        "game_loop()\n"
      ],
      "metadata": {
        "colab": {
          "base_uri": "https://localhost:8080/"
        },
        "id": "yDWTkwo4HrdK",
        "outputId": "a75b3e3d-0cf0-4f3a-b989-2f12ffdd0c78"
      },
      "execution_count": null,
      "outputs": [
        {
          "output_type": "stream",
          "name": "stdout",
          "text": [
            "\n",
            "Welcome to CodeQuest, Elsa!\n",
            "You're standing in the entrance of a dark dungeon.\n",
            "\n",
            "What do you want to do?\n"
          ]
        }
      ]
    },
    {
      "cell_type": "code",
      "source": [],
      "metadata": {
        "id": "vNE9TDGyHaLB"
      },
      "execution_count": null,
      "outputs": []
    }
  ]
}