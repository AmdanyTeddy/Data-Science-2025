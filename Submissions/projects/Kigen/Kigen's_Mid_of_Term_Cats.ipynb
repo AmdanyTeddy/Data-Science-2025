{
  "nbformat": 4,
  "nbformat_minor": 0,
  "metadata": {
    "colab": {
      "provenance": []
    },
    "kernelspec": {
      "name": "python3",
      "display_name": "Python 3"
    },
    "language_info": {
      "name": "python"
    }
  },
  "cells": [
    {
      "cell_type": "code",
      "source": [
        "# Ask the user for their exam score\n",
        "score = int(input(\"Enter your exam score (0-100): \"))\n",
        "\n",
        "# Check if the score is in the valid range\n",
        "if 0 <= score <= 100:\n",
        "    if score >= 90:\n",
        "        grade = 'A'\n",
        "    elif score >= 80:\n",
        "        grade = 'B'\n",
        "    elif score >= 70:\n",
        "        grade = 'C'\n",
        "    elif score >= 60:\n",
        "        grade = 'D'\n",
        "    else:\n",
        "        grade = 'F'\n",
        "    print(f\"Your grade is: {grade}\")\n",
        "else:\n",
        "    print(\"Invalid input. Please enter a score between 0 and 100.\")\n"
      ],
      "metadata": {
        "colab": {
          "base_uri": "https://localhost:8080/"
        },
        "id": "4Eyt356Gj_-6",
        "outputId": "41ed4a1b-924f-471e-f96a-e8f40ba13d40"
      },
      "execution_count": 2,
      "outputs": [
        {
          "output_type": "stream",
          "name": "stdout",
          "text": [
            "Enter your exam score (0-100): 67\n",
            "Your grade is: D\n"
          ]
        }
      ]
    },
    {
      "cell_type": "code",
      "source": [
        "#Write a progame that counts how many vowels(a,e,i,o,u)appear in the sentences\n",
        "# Ask the user to enter a sentence\n",
        "sentence = input(\"Enter a sentence: \")\n",
        "\n",
        "# Convert the sentence to lowercase to handle both uppercase and lowercase vowels\n",
        "sentence = sentence.lower()\n",
        "\n",
        "# Initialize a counter for vowels\n",
        "vowel_count = 0\n",
        "\n",
        "#Vowels sets\n",
        "vowels = {'a', 'e', 'i', 'o', 'u'}\n",
        "\n",
        "# Count each vowel in the sentence\n",
        "for char in sentence:\n",
        "    if char in vowels:\n",
        "        vowel_count += 1\n",
        "\n",
        "# Display the result\n",
        "print(f\"The number of vowels in the sentence is: {vowel_count}\")\n"
      ],
      "metadata": {
        "colab": {
          "base_uri": "https://localhost:8080/"
        },
        "id": "zB2_TK2ojAsY",
        "outputId": "7485f4ee-72c8-4f21-e474-9636232f5f32"
      },
      "execution_count": 3,
      "outputs": [
        {
          "output_type": "stream",
          "name": "stdout",
          "text": [
            "Enter a sentence: Eldoret is a nice place\n",
            "The number of vowels in the sentence is: 9\n"
          ]
        }
      ]
    },
    {
      "cell_type": "code",
      "source": [
        "#Write a progame that asks the user for a non-negative integer and prints its binary representation as a string of 0 and 1\n",
        "# Ask the user to enter a non-negative integer\n",
        "num = int(input(\"Enter a non-negative integer: \"))\n",
        "\n",
        "# Check if the number is non-negative\n",
        "if num >= 0:\n",
        "    # Convert to binary using bin(), and remove the '0b' prefix\n",
        "    binary = bin(num)[2:]\n",
        "    print(f\"The binary representation of {num} is: {binary}\")\n",
        "else:\n",
        "    print(\"Invalid input. Please enter a non-negative integer.\")\n",
        "\n"
      ],
      "metadata": {
        "colab": {
          "base_uri": "https://localhost:8080/"
        },
        "id": "p6KGswzrkZgU",
        "outputId": "431880d3-31b4-4c1d-de05-805ae74a21c3"
      },
      "execution_count": 11,
      "outputs": [
        {
          "output_type": "stream",
          "name": "stdout",
          "text": [
            "Enter a non-negative integer: 18\n",
            "The binary representation of 18 is: 10010\n"
          ]
        }
      ]
    },
    {
      "cell_type": "code",
      "source": [
        "# Write a progame compute the sum of digits 235 should output 10 (since 2+5+3=0)\n",
        "\n"
      ],
      "metadata": {
        "id": "By1rnPIhmf-C"
      },
      "execution_count": null,
      "outputs": []
    }
  ]
}