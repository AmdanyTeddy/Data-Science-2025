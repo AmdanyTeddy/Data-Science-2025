{
  "nbformat": 4,
  "nbformat_minor": 0,
  "metadata": {
    "colab": {
      "provenance": []
    },
    "kernelspec": {
      "name": "python3",
      "display_name": "Python 3"
    },
    "language_info": {
      "name": "python"
    }
  },
  "cells": [
    {
      "cell_type": "code",
      "execution_count": 15,
      "metadata": {
        "colab": {
          "base_uri": "https://localhost:8080/"
        },
        "id": "ycym5-8tcTfH",
        "outputId": "a22ccfd8-1c69-45a5-cb18-17aaad24d4cd"
      },
      "outputs": [
        {
          "output_type": "stream",
          "name": "stdout",
          "text": [
            "Enter your marks (0-100): 85\n",
            "Grade : B\n"
          ]
        }
      ],
      "source": [
        "def get_grade(marks):\n",
        "    if 90 <= marks <= 100:\n",
        "        return 'A'\n",
        "    elif 80 <= marks < 89:\n",
        "        return 'B'\n",
        "    elif 70 <= marks < 79:\n",
        "        return 'C'\n",
        "    elif 60 <= marks < 69:\n",
        "        return 'D'\n",
        "    elif 0 <= marks < 59:\n",
        "        return 'F'\n",
        "    else:\n",
        "        return None\n",
        "\n",
        "def main():\n",
        "    try:\n",
        "        marks = int(input(\"Enter your marks (0-100): \"))\n",
        "        grade = get_grade(marks)\n",
        "        if grade is not None:\n",
        "            print(f\"Grade : {grade}\")\n",
        "        else:\n",
        "            print(\"Invalid marks! Please enter a value between 0 and 100.\")\n",
        "    except ValueError:\n",
        "        print(\"Invalid input! Please enter an integer.\")\n",
        "\n",
        "if __name__ == \"__main__\":\n",
        "    main()\n",
        "\n"
      ]
    },
    {
      "cell_type": "code",
      "source": [
        "# Vowel Counter\n",
        "def count_vowels(s):\n",
        "    vowels = \"aeiouAEIOU\"\n",
        "    count = 0\n",
        "    for char in s:\n",
        "        if char in vowels:\n",
        "            count += 1\n",
        "    return count\n",
        "\n",
        "# Example usage\n",
        "input_str = \"My name is Kim\"\n",
        "print(\"Number of vowels:\", count_vowels(input_str))\n"
      ],
      "metadata": {
        "colab": {
          "base_uri": "https://localhost:8080/"
        },
        "id": "uAJ-ldyNk54k",
        "outputId": "512274eb-e183-4e17-e343-4840c61865fe"
      },
      "execution_count": 17,
      "outputs": [
        {
          "output_type": "stream",
          "name": "stdout",
          "text": [
            "Number of vowels: 4\n"
          ]
        }
      ]
    },
    {
      "cell_type": "code",
      "source": [
        "def decimal_to_binary(n):\n",
        "    if n == 0:\n",
        "        return \"0\"\n",
        "\n",
        "    binary = \"\"\n",
        "    while n > 0:\n",
        "        binary = str(n % 2) + binary\n",
        "        n = n // 2\n",
        "    return binary\n",
        "\n",
        "def main():\n",
        "    while True:\n",
        "        try:\n",
        "            user_input = int(input(\"Enter a non-negative integer: \"))\n",
        "            if user_input < 0:\n",
        "                print(\"Please enter a non-negative integer.\")\n",
        "            else:\n",
        "                binary_str = decimal_to_binary(user_input)\n",
        "                print(f\"Binary representation: {binary_str}\")\n",
        "                break\n",
        "        except ValueError:\n",
        "            print(\"Invalid input. Please enter an integer.\")\n",
        "\n",
        "if __name__ == \"__main__\":\n",
        "    main()\n"
      ],
      "metadata": {
        "colab": {
          "base_uri": "https://localhost:8080/"
        },
        "id": "QpRYzcAMm_3k",
        "outputId": "908e0c93-0a4b-4a8e-8bd2-8ed4f2bf54ae"
      },
      "execution_count": 18,
      "outputs": [
        {
          "output_type": "stream",
          "name": "stdout",
          "text": [
            "Enter a non-negative integer: 13\n",
            "Binary representation: 1101\n"
          ]
        }
      ]
    },
    {
      "cell_type": "code",
      "source": [
        "def sum_of_digits(n):\n",
        "    total = 0\n",
        "    while n > 0:\n",
        "        total += n % 10\n",
        "        n = n // 10\n",
        "    return total\n",
        "\n",
        "def main():\n",
        "    while True:\n",
        "        try:\n",
        "            user_input = int(input(\"Enter a positive integer: \"))\n",
        "            if user_input <= 0:\n",
        "                print(\"Please enter a positive integer.\")\n",
        "            else:\n",
        "                result = sum_of_digits(user_input)\n",
        "                print(f\"Sum of digits: {result}\")\n",
        "                break\n",
        "        except ValueError:\n",
        "            print(\"Invalid input. Please enter a valid integer.\")\n",
        "\n",
        "if __name__ == \"__main__\":\n",
        "    main()\n"
      ],
      "metadata": {
        "colab": {
          "base_uri": "https://localhost:8080/"
        },
        "id": "05HfsD_Bn8xG",
        "outputId": "0b8e4584-1bdd-4c8d-9c92-ebcd148f3376"
      },
      "execution_count": 19,
      "outputs": [
        {
          "output_type": "stream",
          "name": "stdout",
          "text": [
            "Enter a positive integer: 253\n",
            "Sum of digits: 10\n"
          ]
        }
      ]
    },
    {
      "cell_type": "code",
      "source": [],
      "metadata": {
        "id": "QGo_oWitozJG"
      },
      "execution_count": null,
      "outputs": []
    }
  ]
}