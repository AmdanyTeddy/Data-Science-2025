{
  "nbformat": 4,
  "nbformat_minor": 0,
  "metadata": {
    "colab": {
      "provenance": []
    },
    "kernelspec": {
      "name": "python3",
      "display_name": "Python 3"
    },
    "language_info": {
      "name": "python"
    }
  },
  "cells": [
    {
      "cell_type": "code",
      "execution_count": 5,
      "metadata": {
        "id": "6HTwPHlGfG7Z",
        "colab": {
          "base_uri": "https://localhost:8080/"
        },
        "outputId": "43b70d0c-5add-497a-ff83-06deb897e87d"
      },
      "outputs": [
        {
          "output_type": "stream",
          "name": "stdout",
          "text": [
            "Enter a non-negative integer: 3\n",
            "Binary representation: 11\n"
          ]
        }
      ],
      "source": [
        "#write a program that asks the user for a non negative interger and prints its binary representation as a sting of o and 1.\n",
        "decimal_num =int(input(\"Enter a non-negative integer: \"))\n",
        "\n",
        "if decimal_num < 0:\n",
        "  print(\"Please enter a non-negative integer.\")\n",
        "elif decimal_num == 0:\n",
        "  print(\"Binary representation: 0\")\n",
        "else:\n",
        " binary_representation = \"\"\n",
        " temp_num = decimal_num\n",
        "while temp_num > 0:\n",
        "    remainder = temp_num % 2\n",
        "    binary_representation = str(remainder) + binary_representation\n",
        "    temp_num = temp_num // 2\n",
        "print(\"Binary representation:\",binary_representation)"
      ]
    }
  ]
}