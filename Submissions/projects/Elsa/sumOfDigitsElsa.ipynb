{
  "nbformat": 4,
  "nbformat_minor": 0,
  "metadata": {
    "colab": {
      "provenance": []
    },
    "kernelspec": {
      "name": "python3",
      "display_name": "Python 3"
    },
    "language_info": {
      "name": "python"
    }
  },
  "cells": [
    {
      "cell_type": "code",
      "execution_count": 3,
      "metadata": {
        "colab": {
          "base_uri": "https://localhost:8080/"
        },
        "id": "g7MMJiarhCli",
        "outputId": "b8ab305c-006d-49fe-e9af-c860251b566d"
      },
      "outputs": [
        {
          "output_type": "stream",
          "name": "stdout",
          "text": [
            "Enter a positive integer: 2345\n",
            "The sum of the digits of 2345 is: 14\n"
          ]
        }
      ],
      "source": [
        "\n",
        "\n",
        "#write a program to compute the sum of its digits. example, input 253 output 10\n",
        "positive_integer_str = input(\"Enter a positive integer: \")\n",
        "# Convert the input string to an integer\n",
        "positive_integer = int(positive_integer_str)\n",
        "\n",
        "digit_sum = 0\n",
        "for digit_char in positive_integer_str:\n",
        "  # Convert each character (digit) back to an integer before adding to the sum\n",
        "  digit_sum += int(digit_char)\n",
        "\n",
        "print(f\"The sum of the digits of {positive_integer} is: {digit_sum}\")\n",
        "\n",
        "\n"
      ]
    }
  ]
}