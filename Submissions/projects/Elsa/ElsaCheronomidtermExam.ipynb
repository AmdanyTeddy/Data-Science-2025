{
  "nbformat": 4,
  "nbformat_minor": 0,
  "metadata": {
    "colab": {
      "provenance": []
    },
    "kernelspec": {
      "name": "python3",
      "display_name": "Python 3"
    },
    "language_info": {
      "name": "python"
    }
  },
  "cells": [
    {
      "cell_type": "code",
      "execution_count": 1,
      "metadata": {
        "colab": {
          "base_uri": "https://localhost:8080/"
        },
        "id": "MgyrFr05m5yP",
        "outputId": "2893cdbd-92c0-4e94-f003-501974b1cb8d"
      },
      "outputs": [
        {
          "output_type": "stream",
          "name": "stdout",
          "text": [
            "Enter your exam score: 85\n",
            "Grade: B\n"
          ]
        }
      ],
      "source": [
        "#Grde converter\n",
        "#prompts the user to enter Exam score\n",
        "score=int(input(\"Enter your exam score: \"))\n",
        "\n",
        "#if statements to print corresponding grade\n",
        "if  0 <= score <= 59 :\n",
        "    print(\"Grade: F\")\n",
        "elif 60 <= score <= 69 :\n",
        "    print(\"Grade: D\")\n",
        "elif 70 <= score <= 79 :\n",
        "    print(\"Grade: C\")\n",
        "elif 80 <= score <= 89 :\n",
        "    print(\"Grade: B\")\n",
        "else:\n",
        "    print(\"Grade: A\")"
      ]
    },
    {
      "cell_type": "code",
      "source": [
        "#write a program that counts how many vowels, case insensitive appear in a sentence. print the total count\n",
        "sentence = input(\"Enter a sentence:\")\n",
        "# a function that counts vowels\n",
        "def count_vowels(sentence):\n",
        "    vowels = \"aeiou\"\n",
        "    count = 0\n",
        "\n",
        "    for ch in sentence.lower():\n",
        "        if ch in vowels:\n",
        "            count += 1\n",
        "    return count\n",
        "\n",
        "\n",
        "\n",
        "print(\"Vowels counts is: \",count_vowels(sentence))"
      ],
      "metadata": {
        "colab": {
          "base_uri": "https://localhost:8080/"
        },
        "id": "Ze418kp_n0-V",
        "outputId": "fb404675-0095-46ae-d1ed-6233128465cf"
      },
      "execution_count": 3,
      "outputs": [
        {
          "output_type": "stream",
          "name": "stdout",
          "text": [
            "Enter a sentence:Eldohub is great!\n",
            "Vowels counts is:  6\n"
          ]
        }
      ]
    },
    {
      "cell_type": "code",
      "source": [
        "#write a program that asks the user for a non negative interger and prints its binary representation as a sting of o and 1.\n",
        "decimal_num =int(input(\"Enter a non-negative integer: \"))\n",
        "#\n",
        "if decimal_num < 0:\n",
        "  print(\"Please enter a non-negative integer.\")\n",
        "elif decimal_num == 0:\n",
        "  print(\"Binary representation: 0\")\n",
        "else:\n",
        " binary_representation = \"\"\n",
        " temp_num = decimal_num\n",
        "while temp_num > 0:\n",
        "    remainder = temp_num % 2\n",
        "    binary_representation = str(remainder) + binary_representation\n",
        "    temp_num = temp_num // 2\n",
        "print(\"Binary representation:\",binary_representation)"
      ],
      "metadata": {
        "colab": {
          "base_uri": "https://localhost:8080/"
        },
        "id": "kJIxoldNouFA",
        "outputId": "3a74d81f-9fa0-4ecf-c69a-f8c6f7e23fda"
      },
      "execution_count": 4,
      "outputs": [
        {
          "output_type": "stream",
          "name": "stdout",
          "text": [
            "Enter a non-negative integer: 13\n",
            "Binary representation: 1101\n"
          ]
        }
      ]
    },
    {
      "cell_type": "code",
      "source": [
        "#write a program to compute the sum of its digits. example, input 253 output 10\n",
        "positive_integer_str = input(\"Enter a positive integer: \")\n",
        "# Convert the input string to an integer\n",
        "positive_integer = int(positive_integer_str)\n",
        "\n",
        "digit_sum = 0\n",
        "for digit_char in positive_integer_str:\n",
        "  # Convert each character (digit) back to an integer before adding to the sum\n",
        "  digit_sum += int(digit_char)\n",
        "\n",
        "print(f\"The sum of the digits of {positive_integer} is: {digit_sum}\")"
      ],
      "metadata": {
        "colab": {
          "base_uri": "https://localhost:8080/"
        },
        "id": "qmc1UrTOpB_o",
        "outputId": "3eaa22a3-06f5-49a6-8b4b-9319745e269b"
      },
      "execution_count": 6,
      "outputs": [
        {
          "output_type": "stream",
          "name": "stdout",
          "text": [
            "Enter a positive integer: 253\n",
            "The sum of the digits of 253 is: 10\n"
          ]
        }
      ]
    }
  ]
}