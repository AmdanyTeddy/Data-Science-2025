{
  "nbformat": 4,
  "nbformat_minor": 0,
  "metadata": {
    "colab": {
      "provenance": []
    },
    "kernelspec": {
      "name": "python3",
      "display_name": "Python 3"
    },
    "language_info": {
      "name": "python"
    }
  },
  "cells": [
    {
      "cell_type": "code",
      "execution_count": 2,
      "metadata": {
        "colab": {
          "base_uri": "https://localhost:8080/"
        },
        "id": "Cb_RiDF6a1Ep",
        "outputId": "d2ee6bbf-b808-4162-f596-f4f9e503cfbb"
      },
      "outputs": [
        {
          "output_type": "stream",
          "name": "stdout",
          "text": [
            "Enter your exam score: 2\n",
            "Grade: F\n"
          ]
        }
      ],
      "source": [
        "#prompts the user to enter Exam score\n",
        "score=int(input(\"Enter your exam score: \"))\n",
        "\n",
        "#if statements to print corresponding grade\n",
        "if  0 <= score <= 59 :\n",
        "    print(\"Grade: F\")\n",
        "elif 60 <= score <= 69 :\n",
        "    print(\"Grade: D\")\n",
        "elif 70 <= score <= 79 :\n",
        "    print(\"Grade: C\")\n",
        "elif 80 <= score <= 89 :\n",
        "    print(\"Grade: B\")\n",
        "else:\n",
        "    print(\"Grade: A\")\n",
        ""
      ]
    }
  ]
}