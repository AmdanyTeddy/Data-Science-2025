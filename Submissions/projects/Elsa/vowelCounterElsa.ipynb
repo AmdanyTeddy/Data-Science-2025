{
  "nbformat": 4,
  "nbformat_minor": 0,
  "metadata": {
    "colab": {
      "provenance": []
    },
    "kernelspec": {
      "name": "python3",
      "display_name": "Python 3"
    },
    "language_info": {
      "name": "python"
    }
  },
  "cells": [
    {
      "cell_type": "code",
      "execution_count": null,
      "metadata": {
        "colab": {
          "base_uri": "https://localhost:8080/"
        },
        "id": "suEfE8vacZt3",
        "outputId": "59879812-ba93-47f0-950d-f370fb687c45"
      },
      "outputs": [
        {
          "output_type": "stream",
          "name": "stdout",
          "text": [
            "Enter a sentence:My name is Elsa Cherono\n",
            "8\n"
          ]
        }
      ],
      "source": [
        "#write a program that counts how many vowels, case insensitive appear in a sentence. print the total count\n",
        "sentence = input(\"Enter a sentence:\")\n",
        "# a function that counts vowels\n",
        "def count_vowels(sentence):\n",
        "    vowels = \"aeiou\"\n",
        "    count = 0\n",
        "\n",
        "    for ch in sentence.lower():\n",
        "        if ch in vowels:\n",
        "            count += 1\n",
        "    return count\n",
        "\n",
        "\n",
        "\n",
        "print(count_vowels(sentence))\n"
      ]
    }
  ]
}