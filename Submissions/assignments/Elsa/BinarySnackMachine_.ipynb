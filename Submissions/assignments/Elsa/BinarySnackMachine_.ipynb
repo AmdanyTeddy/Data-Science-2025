{
  "nbformat": 4,
  "nbformat_minor": 0,
  "metadata": {
    "colab": {
      "provenance": []
    },
    "kernelspec": {
      "name": "python3",
      "display_name": "Python 3"
    },
    "language_info": {
      "name": "python"
    }
  },
  "cells": [
    {
      "cell_type": "code",
      "execution_count": null,
      "metadata": {
        "colab": {
          "base_uri": "https://localhost:8080/"
        },
        "id": "pveLbb4i3B_h",
        "outputId": "a7f77abf-6c06-415d-82a3-ce2207109131"
      },
      "outputs": [
        {
          "output_type": "stream",
          "name": "stdout",
          "text": [
            "Welcome to the Binary Snack Machine! \n",
            "Enter snack price (between 0 and 10): 2.75\n",
            " Binary price: 10.11\n",
            "Enjoy your snack! \n"
          ]
        }
      ],
      "source": [
        "print(\"Welcome to the Binary Snack Machine! \")\n",
        "\n",
        "# Get user input\n",
        "price = float(input(\"Enter snack price (between 0 and 10): \"))\n",
        "\n",
        "# Validate input\n",
        "if price < 0 or price > 10:\n",
        "    print(\" Invalid price. Please enter a number between 0 and 10.\")\n",
        "else:\n",
        "    # Separate integer and fractional parts\n",
        "    integer_part = int(price)\n",
        "    fractional_part = price - integer_part\n",
        "\n",
        "    # Convert integer part to binary\n",
        "    int_binary = \"\"\n",
        "    if integer_part == 0:\n",
        "        int_binary = \"0\"\n",
        "    else:\n",
        "        while integer_part > 0:\n",
        "            int_binary = str(integer_part % 2) + int_binary\n",
        "            integer_part //= 2\n",
        "\n",
        "    # Convert fractional part to binary (up to 8 bits)\n",
        "    frac_binary = \"\"\n",
        "    count = 0\n",
        "    while fractional_part > 0 and count < 8:\n",
        "        fractional_part *= 2\n",
        "        bit = int(fractional_part)\n",
        "        frac_binary += str(bit)\n",
        "        fractional_part -= bit\n",
        "        count += 1\n",
        "\n",
        "    # Combine both parts\n",
        "    if frac_binary:\n",
        "        binary_price = f\"{int_binary}.{frac_binary}\"\n",
        "    else:\n",
        "        binary_price = int_binary\n",
        "\n",
        "    # Output\n",
        "    print(f\" Binary price: {binary_price}\")\n",
        "    print(\"Enjoy your snack! \")"
      ]
    }
  ]
}