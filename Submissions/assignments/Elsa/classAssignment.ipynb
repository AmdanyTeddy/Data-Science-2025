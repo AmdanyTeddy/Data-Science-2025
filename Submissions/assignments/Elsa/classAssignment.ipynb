{
  "nbformat": 4,
  "nbformat_minor": 0,
  "metadata": {
    "colab": {
      "provenance": []
    },
    "kernelspec": {
      "name": "python3",
      "display_name": "Python 3"
    },
    "language_info": {
      "name": "python"
    }
  },
  "cells": [
    {
      "cell_type": "code",
      "execution_count": 3,
      "metadata": {
        "colab": {
          "base_uri": "https://localhost:8080/"
        },
        "id": "zpkUKNkB7X-W",
        "outputId": "4fe3f15e-6a68-4af7-97d0-75df2cbbc8d9"
      },
      "outputs": [
        {
          "output_type": "stream",
          "name": "stdout",
          "text": [
            "[2, 7, 8]\n"
          ]
        }
      ],
      "source": [
        "def remove_and_sort(Lin, k):\n",
        "    \"\"\" Lin is a list of ints\n",
        "        k is an int >= 0\n",
        "    Mutates Lin to remove the first k elements in Lin and\n",
        "    then sorts the remaining elements in ascending order.\n",
        "    If you run out of items to remove, Lin is mutated to an empty list.\n",
        "    Does not return anything.\n",
        "    \"\"\"\n",
        "    # Remove the first k elements\n",
        "    del Lin[:k]\n",
        "\n",
        "    # Sort the remaining list\n",
        "    Lin.sort()\n",
        "\n",
        "# Example usage:\n",
        "L = [1, 6, 3, 7, 8,2]\n",
        "k = 3\n",
        "remove_and_sort(L, k)\n",
        "print(L)  #\n"
      ]
    }
  ]
}