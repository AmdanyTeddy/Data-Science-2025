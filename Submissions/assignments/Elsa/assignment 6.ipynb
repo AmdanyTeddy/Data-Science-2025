{
  "nbformat": 4,
  "nbformat_minor": 0,
  "metadata": {
    "colab": {
      "provenance": []
    },
    "kernelspec": {
      "name": "python3",
      "display_name": "Python 3"
    },
    "language_info": {
      "name": "python"
    }
  },
  "cells": [
    {
      "cell_type": "code",
      "execution_count": 2,
      "metadata": {
        "colab": {
          "base_uri": "https://localhost:8080/"
        },
        "id": "c-qY8E3kXdxw",
        "outputId": "c1918971-1f35-47b7-b775-00df156ca028"
      },
      "outputs": [
        {
          "output_type": "stream",
          "name": "stdout",
          "text": [
            "Enter a number between -1000 and 1000: -100\n",
            "Cube root of -100.0 is approximately -4.6417236328125\n",
            "Number of guesses: 14\n"
          ]
        }
      ],
      "source": [
        "#Problem 1:\n",
        "#Write a Python program to find the cube root of any float between -1000 and 1000 using bisection search.\n",
        "# Handle negative cubes correctly.\n",
        "\n",
        "def find_cube_root(cube, epsilon=0.01):\n",
        "    \"\"\"\n",
        "    Finds the cube root of a float number using bisection search.\n",
        "    Handles both positive and negative values.\n",
        "    \"\"\"\n",
        "    # Ensure the input is within the allowed range\n",
        "    if cube < -1000 or cube > 1000:\n",
        "        return \"Number out of range (-1000 to 1000)\"\n",
        "\n",
        "    # For negative cubes, take the absolute value and adjust the result later\n",
        "    is_negative = cube < 0\n",
        "    cube = abs(cube)\n",
        "\n",
        "    low = 0\n",
        "    high = max(1.0, cube)\n",
        "    guess = (high + low) / 2.0\n",
        "    num_guesses = 0\n",
        "\n",
        "    while abs(guess**3 - cube) >= epsilon:\n",
        "        if guess**3 < cube:\n",
        "            low = guess\n",
        "        else:\n",
        "            high = guess\n",
        "        guess = (high + low) / 2.0\n",
        "        num_guesses += 1\n",
        "\n",
        "    if is_negative:\n",
        "        guess = -guess\n",
        "\n",
        "    print(f\"Cube root of {(-cube if is_negative else cube)} is approximately {guess}\")\n",
        "    print(f\"Number of guesses: {num_guesses}\")\n",
        "    return guess\n",
        "\n",
        "\n",
        "# Example usage\n",
        "if __name__ == \"__main__\":\n",
        "    try:\n",
        "        num = float(input(\"Enter a number between -1000 and 1000: \"))\n",
        "        find_cube_root(num)\n",
        "    except ValueError:\n",
        "        print(\"Please enter a valid float number.\")"
      ]
    },
    {
      "cell_type": "code",
      "source": [],
      "metadata": {
        "id": "p4gFox77d7dk"
      },
      "execution_count": null,
      "outputs": []
    },
    {
      "cell_type": "code",
      "source": [
        "#Problem 2:\n",
        "#Find the square root of any number between 0 and 1 using Newton-Raphson.\n",
        "\n",
        "def find_square_root(number, epsilon=1e-6):\n",
        "    \"\"\"\n",
        "    Uses the Newton-Raphson method to find the square root of a number between 0 and 1.\n",
        "    \"\"\"\n",
        "    if number < 0 or number > 1:\n",
        "        return \"Input must be between 0 and 1 (inclusive of 0, exclusive of 1).\"\n",
        "    if number == 0:\n",
        "        return 0.0  # Square root of 0 is 0\n",
        "\n",
        "    guess = number / 2.0  # Initial guess\n",
        "    num_guesses = 0\n",
        "\n",
        "    while abs(guess**2 - number) >= epsilon:\n",
        "        guess = guess - ((guess**2 - number) / (2 * guess))\n",
        "        num_guesses += 1\n",
        "\n",
        "    print(f\"Square root of {number} is approximately {guess}\")\n",
        "    print(f\"Number of guesses: {num_guesses}\")\n",
        "    return guess\n",
        "\n",
        "\n",
        "# Example usage\n",
        "if __name__ == \"__main__\":\n",
        "    try:\n",
        "        num = float(input(\"Enter a number between 0 and 1 (e.g., 0.25): \"))\n",
        "        result = find_square_root(num)\n",
        "    except ValueError:\n",
        "        print(\"Please enter a valid number between 0 and 1.\")"
      ],
      "metadata": {
        "colab": {
          "base_uri": "https://localhost:8080/"
        },
        "id": "adisY10BZmXh",
        "outputId": "33c4b61e-3a80-4ebe-c063-e5f00dda6ce7"
      },
      "execution_count": null,
      "outputs": [
        {
          "output_type": "stream",
          "name": "stdout",
          "text": [
            "Enter a number between 0 and 1 (e.g., 0.25): 0.45\n",
            "Square root of 0.45 is approximately 0.6708203935188944\n",
            "Number of guesses: 5\n"
          ]
        }
      ]
    },
    {
      "cell_type": "code",
      "source": [],
      "metadata": {
        "id": "uSVGxN23eI-a"
      },
      "execution_count": null,
      "outputs": []
    },
    {
      "cell_type": "code",
      "source": [
        "#Problem 3 (From Topic 5 - Approximation):\n",
        "#Modify your square root program to use the approximation method with incremental steps\n",
        " #(like 0.0001) and compare how many steps it takes vs. bisection search for the same value of x = 12345.\n",
        "\n",
        "def sqrt_incremental(x, epsilon=0.01, step=0.0001):\n",
        "    \"\"\"\n",
        "    Approximates the square root using incremental steps.\n",
        "    \"\"\"\n",
        "    guess = 0.0\n",
        "    num_steps = 0\n",
        "\n",
        "    while guess**2 < x and abs(guess**2 - x) >= epsilon:\n",
        "        guess += step\n",
        "        num_steps += 1\n",
        "\n",
        "    if abs(guess**2 - x) >= epsilon:\n",
        "        return None, num_steps  # Failed to find within range\n",
        "    else:\n",
        "        return guess, num_steps\n",
        "\n",
        "\n",
        "def sqrt_bisection(x, epsilon=0.01):\n",
        "    \"\"\"\n",
        "    Approximates the square root using bisection search.\n",
        "    \"\"\"\n",
        "    low = 0.0\n",
        "    high = max(1.0, x)\n",
        "    guess = (high + low) / 2.0\n",
        "    num_steps = 0\n",
        "\n",
        "    while abs(guess**2 - x) >= epsilon:\n",
        "        if guess**2 < x:\n",
        "            low = guess\n",
        "        else:\n",
        "            high = guess\n",
        "        guess = (high + low) / 2.0\n",
        "        num_steps += 1\n",
        "\n",
        "    return guess, num_steps\n",
        "\n",
        "\n",
        "if __name__ == \"__main__\":\n",
        "    x = 12345\n",
        "\n",
        "    # Incremental method\n",
        "    inc_result, inc_steps = sqrt_incremental(x)\n",
        "    print(\"Incremental Search:\")\n",
        "    if inc_result is not None:\n",
        "        print(f\"√{x} ≈ {inc_result} in {inc_steps} steps\")\n",
        "    else:\n",
        "        print(f\"Failed to find √{x} in {inc_steps} steps\")\n",
        "\n",
        "    print(\"\\n---------------------\\n\")\n",
        "\n",
        "    # Bisection method\n",
        "    bisect_result, bisect_steps = sqrt_bisection(x)\n",
        "    print(\"Bisection Search:\")\n",
        "    print(f\"√{x} ≈ {bisect_result} in {bisect_steps} steps\")\n"
      ],
      "metadata": {
        "colab": {
          "base_uri": "https://localhost:8080/"
        },
        "id": "2TqC5mNsaB1C",
        "outputId": "7fa6142a-0172-4bec-dfd7-59ab7680c738"
      },
      "execution_count": null,
      "outputs": [
        {
          "output_type": "stream",
          "name": "stdout",
          "text": [
            "Incremental Search:\n",
            "√12345 ≈ 111.10810000256487 in 1111081 steps\n",
            "\n",
            "---------------------\n",
            "\n",
            "Bisection Search:\n",
            "√12345 ≈ 111.1080764606595 in 26 steps\n"
          ]
        }
      ]
    },
    {
      "cell_type": "code",
      "source": [],
      "metadata": {
        "id": "WaXKYUTieQMt"
      },
      "execution_count": null,
      "outputs": []
    },
    {
      "cell_type": "code",
      "source": [
        "#Problem 4 (Guessing game):\n",
        "#Create a guessing game where the computer randomly chooses a number and you guess it using bisection search.\n",
        "# The program should guide you: \"Too high\", \"Too low\", or \"Correct\".\n",
        "\n",
        "import random\n",
        "\n",
        "def guessing_game():\n",
        "    print(\"Welcome to the Number Guessing Game!\")\n",
        "    print(\"I'm thinking of a number between 1 and 1000.\")\n",
        "    print(\"Try to guess it, and I'll tell you if you're too high, too low, or correct.\\n\")\n",
        "\n",
        "    secret_number = random.randint(1, 1000)\n",
        "    low = 1\n",
        "    high = 1000\n",
        "    num_guesses = 0\n",
        "\n",
        "    while True:\n",
        "        try:\n",
        "            guess = int(input(f\"Enter your guess ({low}-{high}): \"))\n",
        "            num_guesses += 1\n",
        "\n",
        "            if guess < low or guess > high:\n",
        "                print(f\"Please guess a number between {low} and {high}.\\n\")\n",
        "                continue\n",
        "\n",
        "            if guess < secret_number:\n",
        "                print(\" Too low!\\n\")\n",
        "                low = guess + 1\n",
        "            elif guess > secret_number:\n",
        "                print(\" Too high!\\n\")\n",
        "                high = guess - 1\n",
        "            else:\n",
        "                print(f\" Correct! The number was {secret_number}.\")\n",
        "                print(f\"You guessed it in {num_guesses} tries.\")\n",
        "                break\n",
        "        except ValueError:\n",
        "            print(\"Please enter a valid integer.\\n\")\n",
        "\n",
        "if __name__ == \"__main__\":\n",
        "    guessing_game()"
      ],
      "metadata": {
        "colab": {
          "base_uri": "https://localhost:8080/"
        },
        "id": "COWXLtGEbeOi",
        "outputId": "b40b924c-3c96-41c3-b5fa-f7df2b0eb3a8"
      },
      "execution_count": 3,
      "outputs": [
        {
          "output_type": "stream",
          "name": "stdout",
          "text": [
            "Welcome to the Number Guessing Game!\n",
            "I'm thinking of a number between 1 and 1000.\n",
            "Try to guess it, and I'll tell you if you're too high, too low, or correct.\n",
            "\n",
            "Enter your guess (1-1000): 500\n",
            " Too high!\n",
            "\n",
            "Enter your guess (1-499): 200\n",
            " Too low!\n",
            "\n",
            "Enter your guess (201-499): 300\n",
            " Too high!\n",
            "\n",
            "Enter your guess (201-299): 250\n",
            " Too low!\n",
            "\n",
            "Enter your guess (251-299): 270\n",
            " Too low!\n",
            "\n",
            "Enter your guess (271-299): 280\n",
            " Too low!\n",
            "\n",
            "Enter your guess (281-299): 290\n",
            " Too high!\n",
            "\n",
            "Enter your guess (281-289): 285\n",
            " Too low!\n",
            "\n",
            "Enter your guess (286-289): 287\n",
            " Too high!\n",
            "\n",
            "Enter your guess (286-286): 286\n",
            " Correct! The number was 286.\n",
            "You guessed it in 10 tries.\n"
          ]
        }
      ]
    }
  ]
}
