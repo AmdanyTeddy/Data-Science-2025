{
  "nbformat": 4,
  "nbformat_minor": 0,
  "metadata": {
    "colab": {
      "provenance": []
    },
    "kernelspec": {
      "name": "python3",
      "display_name": "Python 3"
    },
    "language_info": {
      "name": "python"
    }
  },
  "cells": [
    {
      "cell_type": "code",
      "execution_count": 2,
      "metadata": {
        "colab": {
          "base_uri": "https://localhost:8080/"
        },
        "id": "7RRGPyo4Itln",
        "outputId": "a063ff6d-19f2-4092-bb15-bcdf402b81b9"
      },
      "outputs": [
        {
          "output_type": "stream",
          "name": "stdout",
          "text": [
            "Enter your nameElsa \n",
            "E l s a   !\n"
          ]
        }
      ],
      "source": [
        "\n",
        "name =input(\"Enter your name\")\n",
        "for ch in name:\n",
        "  print(ch,end=' ')\n",
        "print(\"!\")"
      ]
    },
    {
      "cell_type": "code",
      "source": [
        "\n",
        "s = \"HELLO\"\n",
        "for letter in s:\n",
        "  print(letter)"
      ],
      "metadata": {
        "colab": {
          "base_uri": "https://localhost:8080/"
        },
        "id": "2HN82wriMT9O",
        "outputId": "bd35fce5-d2e9-4605-991f-25b4be0444ab"
      },
      "execution_count": 3,
      "outputs": [
        {
          "output_type": "stream",
          "name": "stdout",
          "text": [
            "H\n",
            "E\n",
            "L\n",
            "L\n",
            "O\n"
          ]
        }
      ]
    },
    {
      "cell_type": "code",
      "source": [
        "s = \"Hello\"\n",
        "i = 0\n",
        "while i < len(s):\n",
        "  print(s[i])\n",
        "  i += 1\n"
      ],
      "metadata": {
        "colab": {
          "base_uri": "https://localhost:8080/"
        },
        "id": "50xZI5wiNUyS",
        "outputId": "e157b3fc-8e36-4fbb-c214-4bda9153ba09"
      },
      "execution_count": 4,
      "outputs": [
        {
          "output_type": "stream",
          "name": "stdout",
          "text": [
            "H\n",
            "e\n",
            "l\n",
            "l\n",
            "o\n"
          ]
        }
      ]
    },
    {
      "cell_type": "code",
      "source": [
        "s = \"demo loops - fruit loops\"\n",
        "for i in range(len(s)):\n",
        "  if s[i]=='i' or s[i]==\"u\":\n",
        "    print(\"found\", s[i],i)"
      ],
      "metadata": {
        "colab": {
          "base_uri": "https://localhost:8080/"
        },
        "id": "u4KFE81lOwks",
        "outputId": "a70adfe4-48f0-43ad-b5ca-9eaf3c723f0d"
      },
      "execution_count": 6,
      "outputs": [
        {
          "output_type": "stream",
          "name": "stdout",
          "text": [
            "found u 15\n",
            "found i 16\n"
          ]
        }
      ]
    },
    {
      "cell_type": "code",
      "source": [
        "s = \"demo loops - fruit loops\"\n",
        "for ch in s:\n",
        "  if ch in 'iu':\n",
        "     print(\"found\",ch)"
      ],
      "metadata": {
        "colab": {
          "base_uri": "https://localhost:8080/"
        },
        "id": "-cOp4IVqP2mU",
        "outputId": "cb4a44da-cccb-4476-9989-cf618eb047b8"
      },
      "execution_count": 8,
      "outputs": [
        {
          "output_type": "stream",
          "name": "stdout",
          "text": [
            "found u\n",
            "found i\n"
          ]
        }
      ]
    },
    {
      "cell_type": "code",
      "source": [
        "an_letters = \"aeiouAEIOU\"\n",
        "word = input(\"I will cheer for you! Enter a word: \")\n",
        "times = int(input(\"Enthusiasm level (1-10): \"))\n",
        "for c in word:\n",
        "  article = \"an\" if c in an_letters else \"a\"\n",
        "  print(f\"Give me {article} {c}: {c}!\")\n",
        "print(\"What does that spell?\")\n",
        "for i in range(times):\n",
        "  print(word.upper(), \"!!!\")\n"
      ],
      "metadata": {
        "colab": {
          "base_uri": "https://localhost:8080/"
        },
        "id": "efoBBQoFQj9-",
        "outputId": "87aece6f-2c05-4ebb-adfc-f54dd3808d14"
      },
      "execution_count": 13,
      "outputs": [
        {
          "output_type": "stream",
          "name": "stdout",
          "text": [
            "I will cheer for you! Enter a word: Elsa\n",
            "Enthusiasm level (1-10): 3\n",
            "Give me an E: E!\n",
            "Give me a l: l!\n",
            "Give me a s: s!\n",
            "Give me an a: a!\n",
            "What does that spell?\n",
            "ELSA !!!\n",
            "ELSA !!!\n",
            "ELSA !!!\n"
          ]
        }
      ]
    },
    {
      "cell_type": "code",
      "source": [
        "#create a program to count even in each of these ranges:rangea(5),range(10),range(-4,6,2),range(5,6)\n",
        "\n",
        "count = 0\n",
        "for num in range(5):\n",
        "    if num % 2 == 0:\n",
        "        count += 1\n",
        "print(f\"range(5) has {count} even number(s)\")\n",
        "\n",
        "count = 0\n",
        "for num in range(10):\n",
        "    if num % 2 == 0:\n",
        "        count += 1\n",
        "print(f\"range(10) has {count} even number(s)\")\n",
        "\n",
        "count = 0\n",
        "for num in range(-4, 6, 2):\n",
        "    if num % 2 == 0:\n",
        "        count += 1\n",
        "print(f\"range(-4, 6, 2) has {count} even number(s)\")\n",
        "\n",
        "count = 0\n",
        "for num in range(5, 6):\n",
        "    if num % 2 == 0:\n",
        "        count += 1\n",
        "print(f\"range(5, 6) has {count} even number(s)\")\n",
        "\n"
      ],
      "metadata": {
        "colab": {
          "base_uri": "https://localhost:8080/"
        },
        "id": "TzR2E8Q9T10e",
        "outputId": "fad1af93-1736-44bf-b536-5a905d0c8218"
      },
      "execution_count": 14,
      "outputs": [
        {
          "output_type": "stream",
          "name": "stdout",
          "text": [
            "range(5) has 3 even number(s)\n",
            "range(10) has 5 even number(s)\n",
            "range(-4, 6, 2) has 5 even number(s)\n",
            "range(5, 6) has 0 even number(s)\n"
          ]
        }
      ]
    },
    {
      "cell_type": "code",
      "source": [
        "#write a program: unique letters: given s = \"abca\", count unique characters\n",
        "#s = input(\"Enter a sentence:\")\n",
        "s = \"abca\"\n",
        "unique_letters = []\n",
        "count = 0\n",
        "\n",
        "for char in s:\n",
        "    if char not in unique_letters:\n",
        "        unique_letters.append(char)\n",
        "        count += 1\n",
        "\n",
        "print(f\"Unique letters: {count}\")\n"
      ],
      "metadata": {
        "colab": {
          "base_uri": "https://localhost:8080/"
        },
        "id": "_gwzEgAPXAtF",
        "outputId": "14359141-be06-437b-c93f-930953b2ed8d"
      },
      "execution_count": 19,
      "outputs": [
        {
          "output_type": "stream",
          "name": "stdout",
          "text": [
            "Unique letters: 3\n"
          ]
        }
      ]
    },
    {
      "cell_type": "code",
      "source": [
        "#unique common chars between two strings\n",
        "s1 = \"may the forth...\"\n",
        "s2 = \"revenge of the sixth\"\n",
        "\n",
        "unique_chars = []\n",
        "\n",
        "# Check characters in s1 that are not in s2\n",
        "for char in s1:\n",
        "    if char not in s2 and char not in unique_chars:\n",
        "        unique_chars.append(char)\n",
        "\n",
        "# Check characters in s2 that are not in s1\n",
        "for char in s2:\n",
        "    if char not in s1 and char not in unique_chars:\n",
        "        unique_chars.append(char)\n",
        "\n",
        "print(\"Unique characters between two strings:\", \"\".join(unique_chars))\n",
        "print(\"Count:\", len(unique_chars))"
      ],
      "metadata": {
        "colab": {
          "base_uri": "https://localhost:8080/"
        },
        "id": "rSCa1fuHZJyB",
        "outputId": "ac066eb1-cb75-4eb6-a5ee-eb97e092e6ef"
      },
      "execution_count": 5,
      "outputs": [
        {
          "output_type": "stream",
          "name": "stdout",
          "text": [
            "Unique characters between two strings: may.vngsix\n",
            "Count: 10\n"
          ]
        }
      ]
    }
  ]
}