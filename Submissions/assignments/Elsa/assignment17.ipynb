{
  "nbformat": 4,
  "nbformat_minor": 0,
  "metadata": {
    "colab": {
      "provenance": []
    },
    "kernelspec": {
      "name": "python3",
      "display_name": "Python 3"
    },
    "language_info": {
      "name": "python"
    }
  },
  "cells": [
    {
      "cell_type": "code",
      "execution_count": 2,
      "metadata": {
        "colab": {
          "base_uri": "https://localhost:8080/"
        },
        "id": "eu3lPNZCD_OT",
        "outputId": "cd8f0213-ee80-4f7f-db58-2ab460fcd4cd"
      },
      "outputs": [
        {
          "output_type": "stream",
          "name": "stdout",
          "text": [
            "Box 1 volume: 24\n",
            "Box 2 volume: 64\n",
            "Box 2 is cube: True\n",
            "Bigger box volume: 64\n"
          ]
        }
      ],
      "source": [
        "#Challenge 1: 📦 The Box Class\n",
        "class Box:\n",
        "    def __init__(self, length, width, height):\n",
        "\n",
        "        self.length = length\n",
        "        self.width = width\n",
        "        self.height = height\n",
        "\n",
        "    def get_volume(self):\n",
        "        \"\"\"\n",
        "        Calculate and return the volume of the box.\n",
        "       volume = length * width * height\n",
        "        \"\"\"\n",
        "        return self.length * self.width * self.height\n",
        "\n",
        "    def is_cube(self):\n",
        "        \"\"\"\n",
        "        Return True if the box is a cube (all sides are equal), otherwise False.\n",
        "        \"\"\"\n",
        "        return self.length == self.width == self.height\n",
        "\n",
        "    def bigger(self, other):\n",
        "        \"\"\"\n",
        "        Compare this box with another box and\n",
        "        returns the box with the larger volume.\n",
        "        \"\"\"\n",
        "        if self.get_volume() >= other.get_volume():\n",
        "            return self\n",
        "        else:\n",
        "            return other\n",
        "\n",
        "\n",
        "\n",
        "box1 = Box(3, 4, 2)\n",
        "box2 = Box(4, 4, 4)\n",
        "\n",
        "print(\"Box 1 volume:\", box1.get_volume())\n",
        "print(\"Box 2 volume:\", box2.get_volume())\n",
        "print(\"Box 2 is cube:\", box2.is_cube())\n",
        "\n",
        "bigger_box = box1.bigger(box2)\n",
        "print(\"Bigger box volume:\", bigger_box.get_volume())\n"
      ]
    },
    {
      "cell_type": "code",
      "source": [
        "#Challenge 2 Write a class called Song that\n",
        "\n",
        "class Song:\n",
        "    def __init__(self, title, artist, duration):\n",
        "        \"\"\"\n",
        "        Initialize Song with a title, artist, and duration (in seconds).\n",
        "        \"\"\"\n",
        "        self.title = title\n",
        "        self.artist = artist\n",
        "        self.duration = duration\n",
        "\n",
        "    def is_long(self):\n",
        "        \"\"\"\n",
        "        Return True if the song is longer than 5 minutes (300 seconds), else False.\n",
        "        \"\"\"\n",
        "        return self.duration > 300\n",
        "\n",
        "    def same_artist(self, other):\n",
        "        \"\"\"\n",
        "        Return True if this song and the other song are by the same artist.\n",
        "        \"\"\"\n",
        "        return self.artist == other.artist\n",
        "\n",
        "    def longer_song(self, other):\n",
        "        \"\"\"\n",
        "        Return the song with the longer duration.\n",
        "        \"\"\"\n",
        "        if self.duration >= other.duration:\n",
        "            return self\n",
        "        else:\n",
        "            return other\n",
        "\n",
        "\n",
        "song1 = Song(\"Jerusalema\", \"Master KG\", 354)\n",
        "song2 = Song(\"Suzanna\",\"Sauti Sol\", 209)\n",
        "song3 = Song(\"Extravaganza\", \"Sauti Sol\", 183)\n",
        "\n",
        "print(song1.is_long())\n",
        "print(song2.same_artist(song3))\n",
        "print(song3.same_artist(song1))\n",
        "\n",
        "longer = song1.longer_song(song2)\n",
        "print(f\"The longer song is: {longer.title} by {longer.artist}\")  # Bohemian Rhapsody by Queen\n"
      ],
      "metadata": {
        "colab": {
          "base_uri": "https://localhost:8080/"
        },
        "id": "xfqrzW1qEBYO",
        "outputId": "23117213-dd2e-4a55-9119-2d8616a7076f"
      },
      "execution_count": 6,
      "outputs": [
        {
          "output_type": "stream",
          "name": "stdout",
          "text": [
            "True\n",
            "True\n",
            "False\n",
            "The longer song is: Jerusalema by Master KG\n"
          ]
        }
      ]
    }
  ]
}