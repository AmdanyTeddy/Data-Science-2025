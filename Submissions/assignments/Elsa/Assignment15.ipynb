{
  "nbformat": 4,
  "nbformat_minor": 0,
  "metadata": {
    "colab": {
      "provenance": []
    },
    "kernelspec": {
      "name": "python3",
      "display_name": "Python 3"
    },
    "language_info": {
      "name": "python"
    }
  },
  "cells": [
    {
      "cell_type": "code",
      "execution_count": null,
      "metadata": {
        "colab": {
          "base_uri": "https://localhost:8080/"
        },
        "id": "Imy7SButH2DP",
        "outputId": "0497abad-ec1a-46da-ab9a-0ec1023048ff"
      },
      "outputs": [
        {
          "output_type": "stream",
          "name": "stdout",
          "text": [
            "1\n",
            "120\n",
            "5040\n"
          ]
        }
      ],
      "source": [
        "#Lecture 15 Challenge 1:Recur_factorial\n",
        "def recur_factorial(n):\n",
        "    \"\"\"\n",
        "    n: int >= 0\n",
        "\n",
        "    Returns the factorial of n using recursion.\n",
        "    Hint: Base case is when n == 0. In the recursive case, return n * factorial(n-1).\n",
        "    \"\"\"\n",
        "    if n == 0:\n",
        "        return 1\n",
        "    else:\n",
        "        return n * recur_factorial(n - 1)\n",
        "\n",
        "# Examples:\n",
        "print(recur_factorial(0))  # prints 1\n",
        "print(recur_factorial(5))  # prints 120\n",
        "print(recur_factorial(7))  # prints 5040\n"
      ]
    },
    {
      "cell_type": "code",
      "source": [
        "#Lecture 15 Challenge 2: Is_palindrome_recur\n",
        "def is_palindrome_recur(s):\n",
        "    \"\"\"\n",
        "    s: string\n",
        "\n",
        "    Returns True if s is a palindrome using recursion, False otherwise.\n",
        "    Hint: A string is a palindrome if the first and last characters are equal\n",
        "    and the substring in between is also a palindrome.\n",
        "    \"\"\"\n",
        "    # Base case: if the string has 0 or 1 characters, it's a palindrome\n",
        "    if len(s) <= 1:\n",
        "        return True\n",
        "    # If first and last characters don't match, it's not a palindrome\n",
        "    if s[0] != s[-1]:\n",
        "        return False\n",
        "    # Recursive case: check the substring without the first and last characters\n",
        "    return is_palindrome_recur(s[1:-1])\n",
        "\n",
        "# Examples:\n",
        "print(is_palindrome_recur(\"racecar\"))  # prints True\n",
        "print(is_palindrome_recur(\"hello\"))    # prints False\n",
        "print(is_palindrome_recur(\"madam\"))    # prints True\n"
      ],
      "metadata": {
        "colab": {
          "base_uri": "https://localhost:8080/"
        },
        "id": "ZpsxEphFI5MG",
        "outputId": "d611ef5c-033c-4642-dc1c-d46f7f92b137"
      },
      "execution_count": null,
      "outputs": [
        {
          "output_type": "stream",
          "name": "stdout",
          "text": [
            "True\n",
            "False\n",
            "True\n"
          ]
        }
      ]
    }
  ]
}