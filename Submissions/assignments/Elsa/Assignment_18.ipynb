{
  "nbformat": 4,
  "nbformat_minor": 0,
  "metadata": {
    "colab": {
      "provenance": []
    },
    "kernelspec": {
      "name": "python3",
      "display_name": "Python 3"
    },
    "language_info": {
      "name": "python"
    }
  },
  "cells": [
    {
      "cell_type": "code",
      "execution_count": 1,
      "metadata": {
        "colab": {
          "base_uri": "https://localhost:8080/"
        },
        "id": "cmWTGYS5HYnV",
        "outputId": "e28ab843-190a-4cea-b421-6579dfdd1c3b"
      },
      "outputs": [
        {
          "output_type": "stream",
          "name": "stdout",
          "text": [
            "True\n"
          ]
        }
      ],
      "source": [
        "#Task: Build a class-based Library Book Tracker\n",
        "class Book:\n",
        "    def __init__(self, title, author, year, copies_available):\n",
        "        \"\"\"Initialize the book's attributes.\"\"\"\n",
        "        self.title = title\n",
        "        self.author = author\n",
        "        self.year = year\n",
        "        self.copies_available = copies_available\n",
        "\n",
        "    def borrow(self):\n",
        "        \"\"\"Borrow a copy if available.\"\"\"\n",
        "        if self.copies_available > 0:\n",
        "            self.copies_available -= 1\n",
        "        else:\n",
        "            print(\"Not available.\")\n",
        "\n",
        "    def return_book(self):\n",
        "        \"\"\"Return a borrowed copy.\"\"\"\n",
        "        self.copies_available += 1\n",
        "\n",
        "    def is_same_book(self, other):\n",
        "        \"\"\"Check if another book has the same title and author.\"\"\"\n",
        "        return self.title == other.title and self.author == other.author\n",
        "\n",
        "# ✅ Example Test\n",
        "b1 = Book(\"Python Basics\", \"Dennis Omboga\", 2024, 3)\n",
        "b2 = Book(\"Python Basics\", \"Dennis Omboga\", 2024, 2)\n",
        "\n",
        "b1.borrow()          # reduces to 2\n",
        "b1.borrow()          # reduces to 1\n",
        "b1.return_book()     # increases to 2\n",
        "print(b1.is_same_book(b2))  # True\n"
      ]
    },
    {
      "cell_type": "code",
      "source": [
        "#Task: Create a class Fraction with dunder methods\n",
        "from math import gcd\n",
        "\n",
        "class Fraction:\n",
        "    def __init__(self, num, denom):\n",
        "        \"\"\"Initialize numerator and denominator.\"\"\"\n",
        "        self.num = num\n",
        "        self.denom = denom\n",
        "\n",
        "    def simplify(self):\n",
        "        \"\"\"Simplify the fraction to its lowest form.\"\"\"\n",
        "        common = gcd(self.num, self.denom)\n",
        "        self.num //= common\n",
        "        self.denom //= common\n",
        "\n",
        "    def __add__(self, other):\n",
        "        \"\"\"Add two fractions and return a new simplified Fraction.\"\"\"\n",
        "        new_num = self.num * other.denom + other.num * self.denom\n",
        "        new_denom = self.denom * other.denom\n",
        "        result = Fraction(new_num, new_denom)\n",
        "        result.simplify()\n",
        "        return result\n",
        "\n",
        "    def __eq__(self, other):\n",
        "        \"\"\"Check if two fractions are equal.\"\"\"\n",
        "        # Create copies and simplify both before comparing\n",
        "        f1 = Fraction(self.num, self.denom)\n",
        "        f2 = Fraction(other.num, other.denom)\n",
        "        f1.simplify()\n",
        "        f2.simplify()\n",
        "        return f1.num == f2.num and f1.denom == f2.denom\n",
        "\n",
        "    def __str__(self):\n",
        "        \"\"\"Return a string representation like '3/4'.\"\"\"\n",
        "        return f\"{self.num}/{self.denom}\"\n",
        "\n",
        "f1 = Fraction(1, 2)\n",
        "f2 = Fraction(1, 4)\n",
        "f3 = f1 + f2\n",
        "\n",
        "print(f3)                   # Output: 3/4\n",
        "print(f1 == f2)             # Output: False\n",
        "print(f1 == Fraction(2, 4)) # Output: True\n"
      ],
      "metadata": {
        "colab": {
          "base_uri": "https://localhost:8080/"
        },
        "id": "UEQcNTdzIbdQ",
        "outputId": "bce9eb28-e560-43cb-8be6-2eda5335a82f"
      },
      "execution_count": 3,
      "outputs": [
        {
          "output_type": "stream",
          "name": "stdout",
          "text": [
            "3/4\n",
            "False\n",
            "True\n"
          ]
        }
      ]
    }
  ]
}