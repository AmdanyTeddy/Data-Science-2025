{
  "nbformat": 4,
  "nbformat_minor": 0,
  "metadata": {
    "colab": {
      "provenance": []
    },
    "kernelspec": {
      "name": "python3",
      "display_name": "Python 3"
    },
    "language_info": {
      "name": "python"
    }
  },
  "cells": [
    {
      "cell_type": "code",
      "execution_count": 1,
      "metadata": {
        "colab": {
          "base_uri": "https://localhost:8080/"
        },
        "id": "1rIC_BQvtVwV",
        "outputId": "f3304909-da8a-4e70-9100-1496643b81c6"
      },
      "outputs": [
        {
          "output_type": "stream",
          "name": "stdout",
          "text": [
            "Binary Door Code Challenge!\n",
            "Guess the number that matches the secret binary code: 1011\n",
            "Your guess: 2\n",
            "Binary of 2 → 10 → Not a match.\n",
            "\n",
            "Guess the number that matches the secret binary code: 1011\n",
            "Your guess: 11\n",
            "Binary of 11 → 1011 → Door Unlocked!\n"
          ]
        }
      ],
      "source": [
        "# Secret Binary Door Unlocker\n",
        "\n",
        "print(\"Binary Door Code Challenge!\")\n",
        "\n",
        "# 1. Store the secret binary code\n",
        "secret_binary = \"1011\"  # You can change this if you want a different challenge\n",
        "\n",
        "# 2. Start the guessing loop\n",
        "while True:\n",
        "    guess = input(f\"Guess the number that matches the secret binary code: {secret_binary}\\nYour guess: \")\n",
        "\n",
        "    # Check if input is a valid number\n",
        "    if not guess.isdigit():\n",
        "        print(\"Please enter a valid number.\\n\")\n",
        "        continue\n",
        "\n",
        "    # Convert guess to integer and then to binary\n",
        "    guess_decimal = int(guess)\n",
        "    guess_binary = format(guess_decimal, 'b')\n",
        "\n",
        "    # Display conversion\n",
        "    print(f\"Binary of {guess_decimal} → {guess_binary}\", end=\" → \")\n",
        "\n",
        "    # 3. Check if binary matches\n",
        "    if guess_binary == secret_binary:\n",
        "        print(\"Door Unlocked!\")\n",
        "        break\n",
        "    else:\n",
        "        print(\"Not a match.\\n\")"
      ]
    }
  ]
}