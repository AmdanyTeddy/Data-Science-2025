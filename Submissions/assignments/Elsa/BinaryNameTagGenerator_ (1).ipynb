{
  "nbformat": 4,
  "nbformat_minor": 0,
  "metadata": {
    "colab": {
      "provenance": []
    },
    "kernelspec": {
      "name": "python3",
      "display_name": "Python 3"
    },
    "language_info": {
      "name": "python"
    }
  },
  "cells": [
    {
      "cell_type": "code",
      "execution_count": 1,
      "metadata": {
        "colab": {
          "base_uri": "https://localhost:8080/"
        },
        "id": "LeIoaC401QSL",
        "outputId": "ec87d76e-3494-4fbf-b9ed-b8d03a0b3b2c"
      },
      "outputs": [
        {
          "output_type": "stream",
          "name": "stdout",
          "text": [
            "Welcome to the Binary Name Tag Generator!\n",
            "Enter your first name: Elsa\n",
            "\n",
            "Name: ELSA\n",
            "E → 69 → 01000101\n",
            "L → 76 → 01001100\n",
            "S → 83 → 01010011\n",
            "A → 65 → 01000001\n"
          ]
        }
      ],
      "source": [
        "print(\"Welcome to the Binary Name Tag Generator!\")\n",
        "\n",
        "# Ask the user for their first name\n",
        "name = input(\"Enter your first name: \")\n",
        "\n",
        "print(f\"\\nName: {name.upper()}\")\n",
        "\n",
        "# Loop through each character in the name\n",
        "for char in name.upper():\n",
        "    ascii_val = ord(char)  # Get ASCII value\n",
        "    binary_val = format(ascii_val, '08b')  # Convert to 8-bit binary\n",
        "    print(f\"{char} → {ascii_val} → {binary_val}\")"
      ]
    }
  ]
}