{
  "nbformat": 4,
  "nbformat_minor": 0,
  "metadata": {
    "colab": {
      "provenance": []
    },
    "kernelspec": {
      "name": "python3",
      "display_name": "Python 3"
    },
    "language_info": {
      "name": "python"
    }
  },
  "cells": [
    {
      "cell_type": "code",
      "execution_count": 1,
      "metadata": {
        "colab": {
          "base_uri": "https://localhost:8080/"
        },
        "id": "FC6Z-rAKSvO-",
        "outputId": "e166be12-a71a-4ebf-d736-b7c056b74d63"
      },
      "outputs": [
        {
          "output_type": "stream",
          "name": "stdout",
          "text": [
            "True\n",
            "False\n"
          ]
        }
      ],
      "source": [
        "#Write a lambda function that checks if a number is a multiple of 3\n",
        "is_multiple_of_3 = lambda x: x % 3 == 0\n",
        "print(is_multiple_of_3(9))   # True\n",
        "print(is_multiple_of_3(10))  # False\n"
      ]
    },
    {
      "cell_type": "code",
      "source": [
        "#Find the average of a list of numbers\n",
        "def average(L):\n",
        "    if len(L) == 0:\n",
        "        return 0  # avoid division by zero\n",
        "    return sum(L) / len(L)\n",
        "numbers = [12, 21, 33, 44, 57]\n",
        "print(average(numbers))  # Output: 30.0\n",
        "\n"
      ],
      "metadata": {
        "colab": {
          "base_uri": "https://localhost:8080/"
        },
        "id": "dXnrZzbZTjSD",
        "outputId": "cb6123a9-a02e-4f07-c83a-d0bc8f8a0395"
      },
      "execution_count": 3,
      "outputs": [
        {
          "output_type": "stream",
          "name": "stdout",
          "text": [
            "33.4\n"
          ]
        }
      ]
    },
    {
      "cell_type": "code",
      "source": [
        "# Find the total number of letters in a list of string\n",
        "def total_letters(words):\n",
        "    return sum(len(word) for word in words)\n",
        "words_in_list = [\"orange\", \"banana\", \"pinaple\"]\n",
        "print(total_letters(words_in_list))\n"
      ],
      "metadata": {
        "colab": {
          "base_uri": "https://localhost:8080/"
        },
        "id": "F-lJoCrbT0UF",
        "outputId": "9a212ece-fb27-4975-de3f-a80d71dd4e3c"
      },
      "execution_count": 9,
      "outputs": [
        {
          "output_type": "stream",
          "name": "stdout",
          "text": [
            "19\n"
          ]
        }
      ]
    },
    {
      "cell_type": "code",
      "source": [
        "#Use filter() and a lambda to return all numbers divisible by 3 in a list\n",
        "def divisible_by_3(numbers):\n",
        "    return list(filter(lambda x: x % 3 == 0, numbers))\n",
        "nums = [1, 3, 4, 6, 9, 10, 12, 15, 17]\n",
        "result = divisible_by_3(nums)\n",
        "print(result)  # Output: [3, 6, 9, 12, 15]\n"
      ],
      "metadata": {
        "colab": {
          "base_uri": "https://localhost:8080/"
        },
        "id": "QMoqvRoKUDRT",
        "outputId": "f65229fe-a4b7-43d9-a53d-c87db5baf18f"
      },
      "execution_count": 10,
      "outputs": [
        {
          "output_type": "stream",
          "name": "stdout",
          "text": [
            "[3, 6, 9, 12, 15]\n"
          ]
        }
      ]
    },
    {
      "cell_type": "code",
      "source": [
        "def dot_product(tA, tB):\n",
        "    \"\"\"\n",
        "    tA: a tuple of numbers\n",
        "    tB: a tuple of numbers of the same length as tA\n",
        "    Returns a tuple (length, dot product of tA and tB)\n",
        "    \"\"\"\n",
        "    total = 0\n",
        "    for i in range(len(tA)):\n",
        "        total += tA[i] * tB[i]\n",
        "    return (len(tA), total)\n",
        "\n",
        "# Example:\n",
        "print(dot_product((1, 2, 3), (4, 5, 6)))  # ➜ (3, 32)\n",
        "print(dot_product((3, 4, 9,6), (7, 8, 4,7)))"
      ],
      "metadata": {
        "colab": {
          "base_uri": "https://localhost:8080/"
        },
        "id": "WucWmSGJUmAO",
        "outputId": "8d911ab2-804b-4c17-8d37-bca56dfebb54"
      },
      "execution_count": 13,
      "outputs": [
        {
          "output_type": "stream",
          "name": "stdout",
          "text": [
            "(3, 32)\n",
            "(4, 131)\n"
          ]
        }
      ]
    }
  ]
}