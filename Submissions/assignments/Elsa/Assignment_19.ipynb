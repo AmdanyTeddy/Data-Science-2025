{
  "nbformat": 4,
  "nbformat_minor": 0,
  "metadata": {
    "colab": {
      "provenance": []
    },
    "kernelspec": {
      "name": "python3",
      "display_name": "Python 3"
    },
    "language_info": {
      "name": "python"
    }
  },
  "cells": [
    {
      "cell_type": "code",
      "execution_count": 2,
      "metadata": {
        "colab": {
          "base_uri": "https://localhost:8080/"
        },
        "id": "Z99Eb6h-czPY",
        "outputId": "dcb13acc-4341-414d-f2a1-41413c85e19e"
      },
      "outputs": [
        {
          "output_type": "stream",
          "name": "stdout",
          "text": [
            "Name: Elsa\n",
            "Age: 25\n",
            "Weight (kg): 60\n",
            "Height (cm): 165\n",
            "Gender: female\n",
            "BMI: 22.04\n",
            "BMR: 1345.25\n"
          ]
        }
      ],
      "source": [
        "#Assignment a) (Lecture 17: Python Classes) — The S (Single Responsibility Principle)\n",
        "#📝 Challenge Title: Build a HealthProfile Class\n",
        "\n",
        "\n",
        "class HealthProfile:\n",
        "    \"\"\"\n",
        "    A class that stores and manages personal health data.\n",
        "    It follows the Single Responsibility Principle by focusing\n",
        "    only on health metrics (BMI and BMR).\n",
        "    \"\"\"\n",
        "\n",
        "    def __init__(self, name, age, weight_kg, height_cm, gender, activity_level):\n",
        "        self.name = name\n",
        "        self.age = age\n",
        "        self.weight_kg = weight_kg\n",
        "        self.height_cm = height_cm\n",
        "        self.gender = gender\n",
        "        self.activity_level = activity_level\n",
        "\n",
        "    def get_bmi(self):\n",
        "        \"\"\"Calculate and return Body Mass Index (BMI).\"\"\"\n",
        "        height_m = self.height_cm / 100\n",
        "        return round(self.weight_kg / (height_m ** 2), 2)\n",
        "\n",
        "    def get_bmr(self):\n",
        "        \"\"\"Calculate and return Basal Metabolic Rate (BMR) using Mifflin-St Jeor Equation.\"\"\"\n",
        "        if self.gender.lower() == 'male':\n",
        "            bmr = (10 * self.weight_kg) + (6.25 * self.height_cm) - (5 * self.age) + 5\n",
        "        else:\n",
        "            bmr = (10 * self.weight_kg) + (6.25 * self.height_cm) - (5 * self.age) - 161\n",
        "        return round(bmr, 2)\n",
        "\n",
        "\n",
        "# Example usage\n",
        "user = HealthProfile(\"Elsa\", 25, 60, 165, \"female\", \"moderate\")\n",
        "print(\"Name:\", user.name)\n",
        "print(\"Age:\", user.age)\n",
        "print(\"Weight (kg):\", user.weight_kg)\n",
        "print(\"Height (cm):\", user.height_cm)\n",
        "print(\"Gender:\", user.gender)\n",
        "print(\"BMI:\", user.get_bmi())\n",
        "print(\"BMR:\", user.get_bmr())\n"
      ]
    },
    {
      "cell_type": "markdown",
      "source": [
        "The Single Responsibility Principle (SRP) guided my design by ensuring that the HealthProfile class focuses only on storing and managing personal health data. It handles user attributes such as name, age, weight, height, and gender, and provides methods to calculate BMI and BMR — two essential health metrics. I intentionally excluded any workout, calorie tracking, or nutrition logic because those would represent separate responsibilities. By keeping this class dedicated solely to data and basic health calculations, the code becomes cleaner, easier to maintain, and more reusable. If fitness tracking or diet planning features are added later, they can be implemented in separate classes without changing the HealthProfile class."
      ],
      "metadata": {
        "id": "QKJNNjPCdggL"
      }
    },
    {
      "cell_type": "code",
      "source": [
        "#Assignment b) (Lecture 18: More Python Class Methods) — The O (Open/Closed Principle)\n",
        "#📝 Challenge Title: Extendable CalorieCalculator\n",
        "\n",
        "\n",
        "class CalorieCalculator:\n",
        "    \"\"\"Base class for calorie calculation.\"\"\"\n",
        "    def calculate(self, minutes):\n",
        "        raise NotImplementedError(\"Subclasses must implement this method.\")\n",
        "\n",
        "\n",
        "class Walking(CalorieCalculator):\n",
        "    def calculate(self, minutes):\n",
        "        return round(minutes * 4, 2)  # Walking burns about 4 kcal/min\n",
        "\n",
        "\n",
        "class Running(CalorieCalculator):\n",
        "    def calculate(self, minutes):\n",
        "        return round(minutes * 10, 2)  # Running burns about 10 kcal/min\n",
        "\n",
        "\n",
        "class Swimming(CalorieCalculator):\n",
        "    def calculate(self, minutes):\n",
        "        return round(minutes * 8, 2)  # Swimming burns about 8 kcal/min\n",
        "\n",
        "\n",
        "class ActivityPlanner:\n",
        "    \"\"\"Takes user input and calculates total calories burned using polymorphism.\"\"\"\n",
        "    def __init__(self):\n",
        "        self.activities = {\n",
        "            \"walking\": Walking(),\n",
        "            \"running\": Running(),\n",
        "            \"swimming\": Swimming()\n",
        "        }\n",
        "        self.total = 0\n",
        "\n",
        "    def plan_activity(self):\n",
        "        print(\"Welcome to the Activity Planner!\")\n",
        "        print(\"Choose from: walking, running, swimming\")\n",
        "\n",
        "        while True:\n",
        "            activity = input(\"\\nEnter an activity (or 'done' to finish): \").lower()\n",
        "            if activity == \"done\":\n",
        "                break\n",
        "            elif activity in self.activities:\n",
        "                try:\n",
        "                    minutes = int(input(f\"How many minutes did you spend {activity}? \"))\n",
        "                    calories = self.activities[activity].calculate(minutes)\n",
        "                    self.total += calories\n",
        "                    print(f\"You burned {calories} kcal doing {activity}.\")\n",
        "                except ValueError:\n",
        "                    print(\"Please enter a valid number for minutes.\")\n",
        "            else:\n",
        "                print(\"Invalid activity. Please choose walking, running, or swimming.\")\n",
        "\n",
        "        print(f\"\\nTotal calories burned today: {self.total} kcal\")\n",
        "\n",
        "\n",
        "# Run the program\n",
        "if __name__ == \"__main__\":\n",
        "    planner = ActivityPlanner()\n",
        "    planner.plan_activity()\n"
      ],
      "metadata": {
        "colab": {
          "base_uri": "https://localhost:8080/"
        },
        "id": "m8i2t2bofbf7",
        "outputId": "460ffeb3-f281-49bd-9537-d878868bfc19"
      },
      "execution_count": 4,
      "outputs": [
        {
          "output_type": "stream",
          "name": "stdout",
          "text": [
            "Welcome to the Activity Planner!\n",
            "Choose from: walking, running, swimming\n",
            "\n",
            "Enter an activity (or 'done' to finish): walking\n",
            "How many minutes did you spend walking? 67\n",
            "You burned 268 kcal doing walking.\n",
            "\n",
            "Enter an activity (or 'done' to finish): done\n",
            "\n",
            "Total calories burned today: 268 kcal\n"
          ]
        }
      ]
    },
    {
      "cell_type": "markdown",
      "source": [
        "The Open/Closed Principle (OCP) states that classes should be open for extension but closed for modification. In this design, the CalorieCalculator base class defines a general interface (calculate()), while subclasses like Walking, Running, and Swimming extend it with their own calorie formulas. If new activities (like Cycling or Yoga) need to be added, we can simply create new subclasses without altering the existing code. The ActivityPlanner class works with any subclass through polymorphism, ensuring flexibility and scalability. This approach prevents breaking existing functionality, makes the system easier to maintain, and allows for smooth expansion as more activities are introduced — fully aligning with the OCP design principle."
      ],
      "metadata": {
        "id": "GAr6htsGfleR"
      }
    },
    {
      "cell_type": "code",
      "source": [],
      "metadata": {
        "id": "Nbq3Lu_mfvs3"
      },
      "execution_count": null,
      "outputs": []
    }
  ]
}