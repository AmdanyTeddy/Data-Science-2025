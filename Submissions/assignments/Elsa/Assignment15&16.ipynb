{
  "nbformat": 4,
  "nbformat_minor": 0,
  "metadata": {
    "colab": {
      "provenance": []
    },
    "kernelspec": {
      "name": "python3",
      "display_name": "Python 3"
    },
    "language_info": {
      "name": "python"
    }
  },
  "cells": [
    {
      "cell_type": "code",
      "execution_count": 2,
      "metadata": {
        "colab": {
          "base_uri": "https://localhost:8080/"
        },
        "id": "Imy7SButH2DP",
        "outputId": "0497abad-ec1a-46da-ab9a-0ec1023048ff"
      },
      "outputs": [
        {
          "output_type": "stream",
          "name": "stdout",
          "text": [
            "1\n",
            "120\n",
            "5040\n"
          ]
        }
      ],
      "source": [
        "#Lecture 15 Challenge 1:Recur_factorial\n",
        "def recur_factorial(n):\n",
        "    \"\"\"\n",
        "    n: int >= 0\n",
        "\n",
        "    Returns the factorial of n using recursion.\n",
        "    Hint: Base case is when n == 0. In the recursive case, return n * factorial(n-1).\n",
        "    \"\"\"\n",
        "    if n == 0:\n",
        "        return 1\n",
        "    else:\n",
        "        return n * recur_factorial(n - 1)\n",
        "\n",
        "# Examples:\n",
        "print(recur_factorial(0))  # prints 1\n",
        "print(recur_factorial(5))  # prints 120\n",
        "print(recur_factorial(7))  # prints 5040\n"
      ]
    },
    {
      "cell_type": "code",
      "source": [
        "#Lecture 15 Challenge 2: Is_palindrome_recur\n",
        "def is_palindrome_recur(s):\n",
        "    \"\"\"\n",
        "    s: string\n",
        "\n",
        "    Returns True if s is a palindrome using recursion, False otherwise.\n",
        "    Hint: A string is a palindrome if the first and last characters are equal\n",
        "    and the substring in between is also a palindrome.\n",
        "    \"\"\"\n",
        "    # Base case: if the string has 0 or 1 characters, it's a palindrome\n",
        "    if len(s) <= 1:\n",
        "        return True\n",
        "    # If first and last characters don't match, it's not a palindrome\n",
        "    if s[0] != s[-1]:\n",
        "        return False\n",
        "    # Recursive case: check the substring without the first and last characters\n",
        "    return is_palindrome_recur(s[1:-1])\n",
        "\n",
        "# Examples:\n",
        "print(is_palindrome_recur(\"racecar\"))  # prints True\n",
        "print(is_palindrome_recur(\"hello\"))    # prints False\n",
        "print(is_palindrome_recur(\"madam\"))    # prints True\n"
      ],
      "metadata": {
        "colab": {
          "base_uri": "https://localhost:8080/"
        },
        "id": "ZpsxEphFI5MG",
        "outputId": "d611ef5c-033c-4642-dc1c-d46f7f92b137"
      },
      "execution_count": 3,
      "outputs": [
        {
          "output_type": "stream",
          "name": "stdout",
          "text": [
            "True\n",
            "False\n",
            "True\n"
          ]
        }
      ]
    },
    {
      "cell_type": "code",
      "source": [
        "#Lecture 16 Challenge 3: Count_occurrences_nested\n",
        "\n",
        "def count_occurrences_nested(L, target):\n",
        "    \"\"\"\n",
        "    L: a list that may contain other lists (nested)\n",
        "    target: any value\n",
        "\n",
        "    Returns the number of times target appears anywhere in L, including nested sublists.\n",
        "    \"\"\"\n",
        "    count = 0\n",
        "    for item in L:\n",
        "        if isinstance(item, list):\n",
        "            # If the item is a list, recursively count within it\n",
        "            count += count_occurrences_nested(item, target)\n",
        "        else:\n",
        "            # If it's not a list, check if it matches the target\n",
        "            if item == target:\n",
        "                count += 1\n",
        "    return count\n",
        "\n",
        "# Examples:\n",
        "print(count_occurrences_nested([1, [2, [1, 3], 4], 1], 1))  # prints 3\n",
        "print(count_occurrences_nested([[1,2],[3,[4,1]]], 4))       # prints 1\n",
        "print(count_occurrences_nested([[],[],[]], 5))              # prints 0\n"
      ],
      "metadata": {
        "colab": {
          "base_uri": "https://localhost:8080/"
        },
        "id": "585ZIuZDJuZP",
        "outputId": "2b316937-f30b-46e1-b3e0-9c0999075fd7"
      },
      "execution_count": 1,
      "outputs": [
        {
          "output_type": "stream",
          "name": "stdout",
          "text": [
            "3\n",
            "1\n",
            "0\n"
          ]
        }
      ]
    },
    {
      "cell_type": "code",
      "source": [
        "#Lecture 16 Challenge 4: Hanoi_moves\n",
        "\n",
        "def hanoi_moves(n, source, target, spare):\n",
        "    \"\"\"\n",
        "    n: int >= 1\n",
        "    source, target, spare: string names of rods (e.g. \"A\", \"B\", \"C\")\n",
        "\n",
        "    Returns a list of strings representing the sequence of moves needed\n",
        "    to solve the Towers of Hanoi puzzle.\n",
        "    \"\"\"\n",
        "    if n == 1:\n",
        "        return [f\"Move from {source} to {target}\"]\n",
        "    else:\n",
        "        moves = []\n",
        "        # Step 1: Move n-1 disks from source to spare\n",
        "        moves += hanoi_moves(n - 1, source, spare, target)\n",
        "        # Step 2: Move the nth disk from source to target\n",
        "        moves.append(f\"Move from {source} to {target}\")\n",
        "        # Step 3: Move n-1 disks from spare to target\n",
        "        moves += hanoi_moves(n - 1, spare, target, source)\n",
        "        return moves\n",
        "\n",
        "# Examples:\n",
        "print(hanoi_moves(2, 'A', 'C', 'B'))\n",
        "# Output: ['Move from A to B', 'Move from A to C', 'Move from B to C']\n",
        "\n",
        "print(hanoi_moves(3, 'A', 'C', 'B'))\n",
        "# Output:\n",
        "# ['Move from A to C', 'Move from A to B', 'Move from C to B',\n",
        "#  'Move from A to C',\n",
        "#  'Move from B to A', 'Move from B to C', 'Move from A to C']\n"
      ],
      "metadata": {
        "colab": {
          "base_uri": "https://localhost:8080/"
        },
        "id": "sHWS24uQKa2Y",
        "outputId": "b45f9a08-c23e-4a2e-ffe2-1bfca9890635"
      },
      "execution_count": 4,
      "outputs": [
        {
          "output_type": "stream",
          "name": "stdout",
          "text": [
            "['Move from A to B', 'Move from A to C', 'Move from B to C']\n",
            "['Move from A to C', 'Move from A to B', 'Move from C to B', 'Move from A to C', 'Move from B to A', 'Move from B to C', 'Move from A to C']\n"
          ]
        }
      ]
    }
  ]
}