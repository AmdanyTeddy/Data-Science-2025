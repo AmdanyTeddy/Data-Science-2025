{
  "nbformat": 4,
  "nbformat_minor": 0,
  "metadata": {
    "colab": {
      "provenance": []
    },
    "kernelspec": {
      "name": "python3",
      "display_name": "Python 3"
    },
    "language_info": {
      "name": "python"
    }
  },
  "cells": [
    {
      "cell_type": "code",
      "execution_count": 3,
      "metadata": {
        "colab": {
          "base_uri": "https://localhost:8080/"
        },
        "id": "f1HsPNfW4-MH",
        "outputId": "58fe62ba-0683-483d-e3da-8350aa6949cc"
      },
      "outputs": [
        {
          "output_type": "stream",
          "name": "stdout",
          "text": [
            "Enter names separated by commas (e.g. Elsa,Bismark,Teddy): gigi anna joan\n",
            "Processed names: ['anna', 'gigi', 'joan']\n"
          ]
        }
      ],
      "source": [
        "def name_processor():\n",
        "    # Prompt the user to enter names separated by commas\n",
        "    names = input(\"Enter names separated by commas (e.g. Elsa,Bismark,Teddy): \")\n",
        "\n",
        "    # Split the input into a list\n",
        "    name_list = [name.strip() for name in names.split(\",\")]\n",
        "\n",
        "    # Remove duplicates using a set\n",
        "    unique_names = set(name_list)\n",
        "\n",
        "    # Sort the names alphabetically\n",
        "    sorted_names = sorted(unique_names)\n",
        "\n",
        "    # Display the result\n",
        "    print(\"Processed names:\", sorted_names)\n",
        "\n",
        "# Run the function\n",
        "name_processor()\n"
      ]
    },
    {
      "cell_type": "code",
      "source": [
        "2.\t#What happens in this code?\n",
        "#Python Code :\n",
        "\n",
        "L1 = ['sun']\n",
        "#L1 points to a list that contain \"sun\"\n",
        "L2 = L1\n",
        "#L2 is  alias to L1 and points to the list \"sun\"\n",
        "L1 = ['moon']\n",
        "#L1 is reassigned to a new list containing 'moon'\n",
        "#It does not change L2 as L2 still holds the value for the original L1\n",
        "\n",
        "print(L2) #outputs ['sun']\n"
      ],
      "metadata": {
        "colab": {
          "base_uri": "https://localhost:8080/"
        },
        "id": "68BVUBtaFS2u",
        "outputId": "7df035c3-3ac3-40cc-dc17-b5eaf49fdef6"
      },
      "execution_count": 6,
      "outputs": [
        {
          "output_type": "stream",
          "name": "stdout",
          "text": [
            "['sun']\n"
          ]
        }
      ]
    },
    {
      "cell_type": "code",
      "source": [
        "# Step 1: Create a list of 10 names (with some duplicates)\n",
        "names = [\"Alice\", \"Brian\", \"Cynthia\", \"Alice\", \"Diana\", \"Ethan\", \"Brian\", \"Grace\", \"Helen\", \"Cynthia\"]\n",
        "\n",
        "# Step 2: Remove duplicates using a set\n",
        "unique_names = set(names)\n",
        "\n",
        "# Step 3: Sort alphabetically\n",
        "sorted_names = sorted(unique_names)\n",
        "\n",
        "# Step 4: Print the result\n",
        "print(\"Sorted names:\", sorted_names)\n"
      ],
      "metadata": {
        "colab": {
          "base_uri": "https://localhost:8080/"
        },
        "id": "ww8saVJkOI8T",
        "outputId": "80db464a-cdcb-4736-db13-f9343e63da33"
      },
      "execution_count": 7,
      "outputs": [
        {
          "output_type": "stream",
          "name": "stdout",
          "text": [
            "Sorted names: ['Alice', 'Brian', 'Cynthia', 'Diana', 'Ethan', 'Grace', 'Helen']\n"
          ]
        }
      ]
    }
  ]
}