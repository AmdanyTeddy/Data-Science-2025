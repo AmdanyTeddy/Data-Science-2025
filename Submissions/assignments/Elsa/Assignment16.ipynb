{
  "nbformat": 4,
  "nbformat_minor": 0,
  "metadata": {
    "colab": {
      "provenance": []
    },
    "kernelspec": {
      "name": "python3",
      "display_name": "Python 3"
    },
    "language_info": {
      "name": "python"
    }
  },
  "cells": [
    {
      "cell_type": "code",
      "execution_count": null,
      "metadata": {
        "id": "_NQul6bDjbw1"
      },
      "outputs": [],
      "source": []
    },
    {
      "cell_type": "code",
      "source": [
        "#Lecture 16 Challenge 3: Count_occurrences_nested\n",
        "\n",
        "def count_occurrences_nested(L, target):\n",
        "    \"\"\"\n",
        "    L: a list that may contain other lists (nested)\n",
        "    target: any value\n",
        "\n",
        "    Returns the number of times target appears anywhere in L, including nested sublists.\n",
        "    \"\"\"\n",
        "    count = 0\n",
        "    for item in L:\n",
        "        if isinstance(item, list):\n",
        "            # If the item is a list, recursively count within it\n",
        "            count += count_occurrences_nested(item, target)\n",
        "        else:\n",
        "            # If it's not a list, check if it matches the target\n",
        "            if item == target:\n",
        "                count += 1\n",
        "    return count\n",
        "\n",
        "# Examples:\n",
        "print(count_occurrences_nested([1, [2, [1, 3], 4], 1], 1))  # prints 3\n",
        "print(count_occurrences_nested([[1,2],[3,[4,1]]], 4))       # prints 1\n",
        "print(count_occurrences_nested([[],[],[]], 5))              # prints 0\n"
      ],
      "metadata": {
        "colab": {
          "base_uri": "https://localhost:8080/"
        },
        "id": "585ZIuZDJuZP",
        "outputId": "2b316937-f30b-46e1-b3e0-9c0999075fd7"
      },
      "execution_count": null,
      "outputs": [
        {
          "output_type": "stream",
          "name": "stdout",
          "text": [
            "3\n",
            "1\n",
            "0\n"
          ]
        }
      ]
    },
    {
      "cell_type": "code",
      "source": [],
      "metadata": {
        "id": "CgQL6ZLqjvb3"
      },
      "execution_count": null,
      "outputs": []
    },
    {
      "cell_type": "code",
      "source": [
        "#Lecture 16 Challenge 4: Hanoi_moves\n",
        "\n",
        "def hanoi_moves(n, source, target, spare):\n",
        "    \"\"\"\n",
        "    n: int >= 1\n",
        "    source, target, spare: string names of rods (e.g. \"A\", \"B\", \"C\")\n",
        "\n",
        "    Returns a list of strings representing the sequence of moves needed\n",
        "    to solve the Towers of Hanoi puzzle.\n",
        "    \"\"\"\n",
        "    if n == 1:\n",
        "        return [f\"Move from {source} to {target}\"]\n",
        "    else:\n",
        "        moves = []\n",
        "        # Step 1: Move n-1 disks from source to spare\n",
        "        moves += hanoi_moves(n - 1, source, spare, target)\n",
        "        # Step 2: Move the nth disk from source to target\n",
        "        moves.append(f\"Move from {source} to {target}\")\n",
        "        # Step 3: Move n-1 disks from spare to target\n",
        "        moves += hanoi_moves(n - 1, spare, target, source)\n",
        "        return moves\n",
        "\n",
        "# Examples:\n",
        "print(hanoi_moves(2, 'A', 'C', 'B'))\n",
        "# Output: ['Move from A to B', 'Move from A to C', 'Move from B to C']\n",
        "\n",
        "print(hanoi_moves(3, 'A', 'C', 'B'))\n",
        "# Output:\n",
        "# ['Move from A to C', 'Move from A to B', 'Move from C to B',\n",
        "#  'Move from A to C',\n",
        "#  'Move from B to A', 'Move from B to C', 'Move from A to C']\n"
      ],
      "metadata": {
        "colab": {
          "base_uri": "https://localhost:8080/"
        },
        "id": "sHWS24uQKa2Y",
        "outputId": "b45f9a08-c23e-4a2e-ffe2-1bfca9890635"
      },
      "execution_count": null,
      "outputs": [
        {
          "output_type": "stream",
          "name": "stdout",
          "text": [
            "['Move from A to B', 'Move from A to C', 'Move from B to C']\n",
            "['Move from A to C', 'Move from A to B', 'Move from C to B', 'Move from A to C', 'Move from B to A', 'Move from B to C', 'Move from A to C']\n"
          ]
        }
      ]
    }
  ]
}