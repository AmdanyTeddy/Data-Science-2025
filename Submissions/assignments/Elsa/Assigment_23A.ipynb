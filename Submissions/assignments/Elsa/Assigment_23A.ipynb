{
  "nbformat": 4,
  "nbformat_minor": 0,
  "metadata": {
    "colab": {
      "provenance": []
    },
    "kernelspec": {
      "name": "python3",
      "display_name": "Python 3"
    },
    "language_info": {
      "name": "python"
    }
  },
  "cells": [
    {
      "cell_type": "markdown",
      "source": [
        "1.Classify complexity of these tasks:\n",
        "\n",
        "     -Checking if a list has duplicates.\n",
        "     -Sorting a dataset of 1M entries.\n",
        "     -Training k-NN on n samples.\n",
        "     -Running BFS on a graph with V vertices, E edges.\n"
      ],
      "metadata": {
        "id": "McsxOBZkbPjA"
      }
    },
    {
      "cell_type": "code",
      "source": [
        "#Checking if a list has duplicates.\n",
        "# Method 1: Using a set (efficient way)\n",
        "def has_duplicates_set(lst):\n",
        "    seen = set()\n",
        "    for item in lst:\n",
        "        if item in seen:\n",
        "            return True\n",
        "        seen.add(item)\n",
        "    return False\n",
        "\n",
        "\n",
        "# Method 2: Using sorting\n",
        "def has_duplicates_sort(lst):\n",
        "    lst_sorted = sorted(lst)\n",
        "    for i in range(1, len(lst_sorted)):\n",
        "        if lst_sorted[i] == lst_sorted[i - 1]:\n",
        "            return True\n",
        "    return False\n",
        "\n",
        "\n",
        "# Method 3:  nested loops (least efficient)\n",
        "def has_duplicates_naive(lst):\n",
        "    for i in range(len(lst)):\n",
        "        for j in range(i + 1, len(lst)):\n",
        "            if lst[i] == lst[j]:\n",
        "                return True\n",
        "    return False\n",
        "\n",
        "\n",
        "# Example usage\n",
        "data = [1, 2, 3, 4, 5, 2]\n",
        "\n",
        "print(\"Set method:\", has_duplicates_set(data))     # True\n",
        "print(\"Sort method:\", has_duplicates_sort(data))   # True\n",
        "print(\"loops method:\", has_duplicates_naive(data)) # True\n"
      ],
      "metadata": {
        "colab": {
          "base_uri": "https://localhost:8080/"
        },
        "id": "hKa2LxWLbXMv",
        "outputId": "2d5ac583-98de-4a34-cbf2-534bcb733cbb"
      },
      "execution_count": 1,
      "outputs": [
        {
          "output_type": "stream",
          "name": "stdout",
          "text": [
            "Set method: True\n",
            "Sort method: True\n",
            "Naive method: True\n"
          ]
        }
      ]
    },
    {
      "cell_type": "markdown",
      "source": [
        "Summary of Big-Theta complexities\n",
        "\n",
        "Loops approach: Θ(\n",
        "𝑛\n",
        "2\n",
        "n\n",
        "2\n",
        ")\n",
        "\n",
        "Sorting approach: Θ(\n",
        "𝑛\n",
        "log\n",
        "⁡\n",
        "𝑛\n",
        "nlogn)\n",
        "\n",
        "Hash set approach: Θ(\n",
        "𝑛\n",
        "n) on average"
      ],
      "metadata": {
        "id": "hTOAoqpScYby"
      }
    },
    {
      "cell_type": "code",
      "source": [
        "#Sorting a dataset of 1M entries.\n",
        "import random\n",
        "import time\n",
        "\n",
        "# Generate 1M random integers\n",
        "data = [random.randint(0, 10**6) for _ in range(10**6)]\n",
        "\n",
        "start = time.time()\n",
        "sorted_data = sorted(data)   # Uses Timsort (O(n log n))\n",
        "end = time.time()\n",
        "\n",
        "print(f\"Sorting took {end - start:.2f} seconds\")\n"
      ],
      "metadata": {
        "colab": {
          "base_uri": "https://localhost:8080/"
        },
        "id": "tqzllJhDc-9x",
        "outputId": "ec5a8473-a328-4fd5-f3ed-47a10b1e05f6"
      },
      "execution_count": 2,
      "outputs": [
        {
          "output_type": "stream",
          "name": "stdout",
          "text": [
            "Sorting took 0.45 seconds\n"
          ]
        }
      ]
    },
    {
      "cell_type": "markdown",
      "source": [
        "Time complexity:\n",
        "𝑂\n",
        "(\n",
        "𝑛\n",
        "log\n",
        "⁡\n",
        "𝑛\n",
        ")\n",
        "O(nlogn)"
      ],
      "metadata": {
        "id": "5qkbcWGXd4FG"
      }
    },
    {
      "cell_type": "code",
      "source": [],
      "metadata": {
        "id": "2BZE28YIeLRg"
      },
      "execution_count": null,
      "outputs": []
    },
    {
      "cell_type": "markdown",
      "source": [
        "-Training k-NN on n samples.\n",
        "\n",
        "The Big-Theta complexity of training k-NN is Θ(\n",
        "𝑛\n",
        "⋅\n",
        "𝑑\n",
        "n⋅d)\n",
        "\n",
        "if the data is only stored, and Θ(\n",
        "𝑛\n",
        "log\n",
        "⁡\n",
        "𝑛\n",
        "nlogn) if an indexing structure is built."
      ],
      "metadata": {
        "id": "29Ha0k2OfG9L"
      }
    },
    {
      "cell_type": "markdown",
      "source": [
        "\n",
        "Running BFS on a graph with V vertices, E edges.\n",
        "\n",
        "Time Complexity:\n",
        "\n",
        "Visiting all vertices takes Θ(\n",
        "𝑉\n",
        "V).\n",
        "\n",
        "Traversing all edges takes Θ(\n",
        "𝐸\n",
        "E).\n",
        "\n",
        "Therefore, total time = Θ(\n",
        "𝑉\n",
        "+\n",
        "𝐸\n",
        "V+E).\n",
        "\n",
        "Space Complexity:\n",
        "\n",
        "A queue to store vertices can hold up to Θ(\n",
        "𝑉\n",
        "V).\n",
        "\n",
        "A visited array (or similar structure) requires Θ(\n",
        "𝑉\n",
        "V).\n",
        "\n",
        "Storing the graph itself requires Θ(\n",
        "𝑉\n",
        "+\n",
        "𝐸\n",
        "V+E) (adjacency list).\n",
        "\n",
        "Hence, total auxiliary space = Θ(\n",
        "𝑉\n",
        "V), plus the graph storage.\n",
        "\n",
        "\n",
        "the Big-Theta complexity of BFS is:\n",
        "\n",
        "Time: Θ(\n",
        "𝑉\n",
        "+\n",
        "𝐸\n",
        "V+E)\n",
        "\n",
        "Space: Θ(\n",
        "𝑉\n",
        "V) auxiliary (excluding the graph storage)."
      ],
      "metadata": {
        "id": "47Z__RIZggpM"
      }
    },
    {
      "cell_type": "code",
      "source": [
        "#Write your own binary search and prove its Θ(log n).\n",
        "\n",
        "\n",
        "\n",
        "def binary_search(arr, target):\n",
        "    low, high = 0, len(arr) - 1\n",
        "    while low <= high:\n",
        "        mid = (low + high) // 2\n",
        "        if arr[mid] == target:\n",
        "            return mid\n",
        "        elif arr[mid] < target:\n",
        "            low = mid + 1\n",
        "        else:\n",
        "            high = mid - 1\n",
        "    return -1\n",
        "\n"
      ],
      "metadata": {
        "id": "9mLDi0P-hCRy"
      },
      "execution_count": 1,
      "outputs": []
    },
    {
      "cell_type": "markdown",
      "source": [
        "Proof of Θ(log n) Complexity\n",
        "\n",
        "1.\tObservation:\n",
        "o\tAt each step, binary search halves the search interval.\n",
        "o\tStarting with nnn elements → n/2n/2n/2 → n/4n/4n/4 → … until 1 element remains.\n",
        "2.\tRecurrence Relation:\n",
        "o\tLet T(n)T(n)T(n) = time to search in nnn elements.\n",
        "o\tAt each step: one comparison (Θ(1)) + recursive search in half:\n",
        "T(n)=T(n/2)+Θ(1)T(n) = T(n/2) + Θ(1)T(n)=T(n/2)+Θ(1)\n",
        "3.\tExpansion:\n",
        "T(n)=T(n/2)+Θ(1)=T(n/4)+Θ(1)+Θ(1)=T(n/8)+3Θ(1)T(n) = T(n/2) + Θ(1) = T(n/4) + Θ(1) + Θ(1) = T(n/8) + 3Θ(1) T(n)=T(n/2)+Θ(1)=T(n/4)+Θ(1)+Θ(1)=T(n/8)+3Θ(1)\n",
        "After kkk steps:\n",
        "T(n)=T(n/2k)+kΘ(1)T(n) = T(n/2^k) + kΘ(1)T(n)=T(n/2k)+kΘ(1)\n",
        "4.\tStopping condition:\n",
        "o\tSearch space reduces to 1 when n/2k=1n/2^k = 1n/2k=1.\n",
        "o\tSolve: k=log⁡2nk = \\log_2 nk=log2n.\n",
        "5.\tFinal Complexity:\n",
        "T(n)=Θ(log⁡n)T(n) = Θ(\\log n)T(n)=Θ(logn)\n"
      ],
      "metadata": {
        "id": "CNnMOi5SKZ61"
      }
    },
    {
      "cell_type": "code",
      "source": [
        "#Compare runtime of:\n",
        "\n",
        "#fib_recur(n) vs an iterative Fibonacci implementation.\n",
        "#Plot time taken for n = 10…40.\n",
        "\n",
        "import time\n",
        "import matplotlib.pyplot as plt\n",
        "\n",
        "# Recursive Fibonacci (inefficient)\n",
        "def fib_recur(n):\n",
        "    if n <= 1:\n",
        "        return n\n",
        "    return fib_recur(n-1) + fib_recur(n-2)\n",
        "\n",
        "# Iterative Fibonacci (efficient)\n",
        "def fib_iter(n):\n",
        "    a, b = 0, 1\n",
        "    for _ in range(n):\n",
        "        a, b = b, a + b\n",
        "    return a\n",
        "\n",
        "# Measure runtimes\n",
        "n_values = list(range(10, 36))\n",
        "recur_times, iter_times = [], []\n",
        "\n",
        "for n in n_values:\n",
        "    # Recursive Fibonacci timing\n",
        "    start = time.time()\n",
        "    fib_recur(n)\n",
        "    recur_times.append(time.time() - start)\n",
        "\n",
        "    # Iterative Fibonacci timing\n",
        "    start = time.time()\n",
        "    fib_iter(n)\n",
        "    iter_times.append(time.time() - start)\n",
        "\n",
        "# Plot results\n",
        "plt.figure(figsize=(8, 5))\n",
        "plt.plot(n_values, recur_times, label=\"Recursive Fibonacci (Θ(2^n))\", marker=\"o\", color=\"red\")\n",
        "plt.plot(n_values, iter_times, label=\"Iterative Fibonacci (Θ(n))\", marker=\"s\", color=\"blue\")\n",
        "plt.xlabel(\"n\")\n",
        "plt.ylabel(\"Time (seconds)\")\n",
        "plt.title(\"Recursive vs Iterative Fibonacci Runtime (n=10…35)\")\n",
        "plt.legend()\n",
        "plt.grid(True)\n",
        "plt.show()\n"
      ],
      "metadata": {
        "colab": {
          "base_uri": "https://localhost:8080/",
          "height": 487
        },
        "id": "2FE4qWQ6Jn3-",
        "outputId": "bb13eacc-c05c-4607-e031-87f23d191343"
      },
      "execution_count": 3,
      "outputs": [
        {
          "output_type": "display_data",
          "data": {
            "text/plain": [
              "<Figure size 800x500 with 1 Axes>"
            ],
            "image/png": "[encoded data removed]"
          },
          "metadata": {}
        }
      ]
    }
  ]
}