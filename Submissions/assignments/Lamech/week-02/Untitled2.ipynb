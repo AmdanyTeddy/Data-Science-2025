{
  "nbformat": 4,
  "nbformat_minor": 0,
  "metadata": {
    "colab": {
      "provenance": []
    },
    "kernelspec": {
      "name": "python3",
      "display_name": "Python 3"
    },
    "language_info": {
      "name": "python"
    }
  },
  "cells": [
    {
      "cell_type": "code",
      "execution_count": null,
      "metadata": {
        "id": "zDodn4SD6g0w"
      },
      "outputs": [],
      "source": []
    },
    {
      "cell_type": "code",
      "source": [
        "\n",
        "#define two variables: step and health\n",
        "steps = 0\n",
        "health = 50\n",
        "for _ in range(10):\n",
        "    user_input = input(\"Did you take any steps today? (yes/no):\")\n",
        "    #if yes in crement  a count; if  no, decrement health by one\n",
        "    if user_input == \"yes\":\n",
        "        steps += 1\n",
        "        print(\"you took step\")\n",
        "    elif user_input == \"no\":\n",
        "        health -= 1\n",
        "        print(\"health decreased\")\n",
        "    else:\n",
        "        print(\"Invalid input. Please enter 'yes' or 'no')\")\n",
        "    #Stop early if health reaches 0 or below\n",
        "    if health <= 0:\n",
        "        print(\"stop early(use break)\")\n",
        "        break\n",
        "\n",
        "\n"
      ],
      "metadata": {
        "colab": {
          "base_uri": "https://localhost:8080/"
        },
        "id": "caKhfyMyk0az",
        "outputId": "d71b54c9-5e29-431b-b9f5-697e1f49cfa3"
      },
      "execution_count": null,
      "outputs": [
        {
          "metadata": {
            "tags": null
          },
          "name": "stdout",
          "output_type": "stream",
          "text": [
            "you took step\n"
          ]
        }
      ]
    }
  ]
}