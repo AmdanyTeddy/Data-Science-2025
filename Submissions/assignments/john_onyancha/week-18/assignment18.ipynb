{
  "nbformat": 4,
  "nbformat_minor": 0,
  "metadata": {
    "colab": {
      "provenance": []
    },
    "kernelspec": {
      "name": "python3",
      "display_name": "Python 3"
    },
    "language_info": {
      "name": "python"
    }
  },
  "cells": [
    {
      "cell_type": "code",
      "execution_count": 20,
      "metadata": {
        "colab": {
          "base_uri": "https://localhost:8080/"
        },
        "id": "GSCItnzB2zf4",
        "outputId": "6e468cdc-dc29-46f7-f4b8-e1299e6dcea4"
      },
      "outputs": [
        {
          "output_type": "stream",
          "name": "stdout",
          "text": [
            "False\n"
          ]
        }
      ],
      "source": [
        "#create a class book\n",
        "class book:\n",
        "\n",
        "  def __init__(self,bk_title,bk_author,yearofpub,available_copies):\n",
        "    ''' defining a class constructor that initializes a book object with four attributes'''\n",
        "    self.bk_title=bk_title\n",
        "    self.bk_author=bk_author\n",
        "    self.yearpfpub=yearofpub\n",
        "    self.available_copies=available_copies\n",
        "\n",
        "  def borrow_book(self):\n",
        "    ''' defining a function that checks if the borrowed book is available'''\n",
        "    if self.available_copies>0:\n",
        "      self.available_copies-=1\n",
        "    else:\n",
        "        print(\"no copies available\")\n",
        "\n",
        "  def return_book(self):\n",
        "      ''' updates the number of book upon returning'''\n",
        "      self.available_copies+=1;\n",
        "\n",
        "  def is_similar_book(self,other):\n",
        "      if self.bk_title==other.bk_title and self.bk_author==other.bk_title:\n",
        "        return True\n",
        "      else:\n",
        "        return False\n",
        "#creating an instances/object of the class book\n",
        "book1=book(\"automating boring stuff with python\",\"sweigrat\",2012,10)\n",
        "book5=book(\"remember\",\"lisa Genova\",2021,0)\n",
        "\n",
        "#accessing methods of a class using an object\n",
        "book1.borrow_book()\n",
        "book1.borrow_book()\n",
        "book1.borrow_book()\n",
        "book1.return_book()\n",
        "\n",
        "print(f'{book1.is_similar_book(book5)}')\n",
        "\n",
        "\n",
        "\n",
        "\n",
        "\n",
        "\n",
        "\n"
      ]
    },
    {
      "cell_type": "code",
      "source": [
        "#define a fraction class\n",
        "class Fraction:\n",
        "  #defining a constructor that initializes a fraction object with numerator and denominator attribute\n",
        "  def __init__(self,num,denom):\n",
        "    if denom == 0:\n",
        "      print(\"Error :Denominator cannot be zero\")\n",
        "      raise ValueError\n",
        "    self.num=num\n",
        "    self.denom=denom\n",
        "    #simplifying the fraction to make things clean\n",
        "    self.simplify()\n",
        "\n",
        "  #finding the gcd for simplifying\n",
        "  def gcd(self,a,b):\n",
        "    a=abs(a)\n",
        "    b=abs(b)\n",
        "    while b!=0:\n",
        "      temp=b\n",
        "      b=a%b\n",
        "      a=temp\n",
        "    return a\n",
        "  #define a function to determine the simplest form of a fraction\n",
        "  def simplify(self):\n",
        "        g = self.gcd(self.num, self.denom)\n",
        "        self.num = self.num // g\n",
        "        self.denom = self.denom // g\n",
        "        # Make sure denominator is positive\n",
        "        if self.denom < 0:\n",
        "            self.num = -self.num\n",
        "            self.denom = -self.denom\n",
        "\n",
        "    # Add two fractions\n",
        "  def __add__(self, other):\n",
        "        new_num = self.num * other.denom + other.num * self.denom\n",
        "        new_denom = self.denom * other.denom\n",
        "        return Fraction(new_num, new_denom)\n",
        "\n",
        "  # Check if two fractions are equal\n",
        "  def __eq__(self, other):\n",
        "        return self.num == other.num and self.denom == other.denom\n",
        "\n",
        "    # Print fraction nicely\n",
        "  def __str__(self):\n",
        "        return str(self.num) + \"/\" + str(self.denom)\n",
        "\n",
        "# create instances of the class and test if it works\n",
        "f1 = Fraction(1, 2)\n",
        "f2 = Fraction(1, 4)\n",
        "f3 = f1 + f2\n",
        "print(f3)\n",
        "print(f1 == f2)\n",
        "print(f1 == Fraction(2, 4))\n",
        ""
      ],
      "metadata": {
        "colab": {
          "base_uri": "https://localhost:8080/"
        },
        "id": "NYV4hXRvDVdd",
        "outputId": "dfb63738-6a72-47c7-e54d-427ac5e99c73"
      },
      "execution_count": 21,
      "outputs": [
        {
          "output_type": "stream",
          "name": "stdout",
          "text": [
            "3/4\n",
            "False\n",
            "True\n"
          ]
        }
      ]
    }
  ]
}