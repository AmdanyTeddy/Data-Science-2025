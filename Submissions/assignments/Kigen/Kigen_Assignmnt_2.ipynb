{
  "nbformat": 4,
  "nbformat_minor": 0,
  "metadata": {
    "colab": {
      "provenance": []
    },
    "kernelspec": {
      "name": "python3",
      "display_name": "Python 3"
    },
    "language_info": {
      "name": "python"
    }
  },
  "cells": [
    {
      "cell_type": "code",
      "execution_count": 1,
      "metadata": {
        "colab": {
          "base_uri": "https://localhost:8080/"
        },
        "id": "LXfad9GZt8nD",
        "outputId": "0a5132ea-d8be-4236-eaed-2d3a8945591f"
      },
      "outputs": [
        {
          "output_type": "stream",
          "name": "stdout",
          "text": [
            "Vol: 141.37155 SurfArea: 150.79631999999998\n"
          ]
        }
      ],
      "source": [
        "### **Assignment Instructions:**\n",
        "# 1. **Refactor the Code:**\n",
        "    #- **Improve Formatting:**\n",
        "        #- Separate multiple statements onto individual lines.\n",
        "        #- Ensure proper spacing around operators.\n",
        "    #- **Use Meaningful Variable Names:**\n",
        "        #- Rename variables like `r`, `h`, `vol`, and `sa` to more descriptive names (e.g., `radius`, `height`, `volume`, `surface_area`).\n",
        "    #- **Add Comments:**\n",
        "        #- Include comments that explain each part of the code (e.g., what the formulas compute).\n",
        "    #- **Enhance Readability:**\n",
        "        #- Structure the code in a way that it is easy to read and understand.\n",
        "#2. **Test Your Code:**\n",
        "    #- Run the refactored code to verify that it correctly computes and prints the cylinder’s volume and surface area.\n",
        "    #- Ensure that the functionality remains unchanged.\n",
        "\n",
        "\n",
        "# messy code to compute cylinder metrics\n",
        "r=3.0; h=5\n",
        "vol=3.14159*r**2*h; sa=2*3.14159*r*(r+h)\n",
        "print(\"Vol:\",vol,\"SurfArea:\", sa)"
      ]
    },
    {
      "cell_type": "code",
      "source": [
        "# Calculating the Volume and Surface Area of a closed Cylinder\n",
        "# Define the radius and height of the closed cylinder\n",
        "radius = 3.0\n",
        "height = 5.0\n",
        "\n",
        "# Calculate the Volume of the Cylinder\n",
        "volume = 3.14159 * radius ** 2 * height\n",
        "\n",
        "# Calculate the Surface Area of the closed Cylinder\n",
        "surface_area = 2 * 3.14159 * radius * (radius + height)\n",
        "\n",
        "# Print the Volume and Surface Area\n",
        "print(\"Volume:\", volume,  \"Surface Area:\", surface_area)\n"
      ],
      "metadata": {
        "colab": {
          "base_uri": "https://localhost:8080/"
        },
        "id": "E1r2fb-LuG9o",
        "outputId": "bbabfbc1-3d82-4cda-f059-7fe81f040d56"
      },
      "execution_count": 2,
      "outputs": [
        {
          "output_type": "stream",
          "name": "stdout",
          "text": [
            "Volume: 141.37155 Surface Area: 150.79631999999998\n"
          ]
        }
      ]
    }
  ]
}