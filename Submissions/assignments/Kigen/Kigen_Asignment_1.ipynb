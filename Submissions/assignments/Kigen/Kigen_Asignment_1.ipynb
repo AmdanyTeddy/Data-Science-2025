{
  "nbformat": 4,
  "nbformat_minor": 0,
  "metadata": {
    "colab": {
      "provenance": []
    },
    "kernelspec": {
      "name": "python3",
      "display_name": "Python 3"
    },
    "language_info": {
      "name": "python"
    }
  },
  "cells": [
    {
      "cell_type": "code",
      "execution_count": 1,
      "metadata": {
        "colab": {
          "base_uri": "https://localhost:8080/"
        },
        "id": "sukh4A-MrSBD",
        "outputId": "7806ed54-1e88-4d0d-e96a-a2bed0d98ee5"
      },
      "outputs": [
        {
          "output_type": "stream",
          "name": "stdout",
          "text": [
            "Area: 24.0\n",
            "Perimeter (buggy): 19.0\n"
          ]
        }
      ],
      "source": [
        "# Below is an intentionally buggy version of the program. Notice that the calculation of the perimeter is incorrect.\n",
        "# Run this code, observe its output, discuss why the result is wrong, and identify what needs to be fixed.\n",
        "# Buggy version: Calculate rectangle metrics with an incorrect perimeter calculation\n",
        "# Modify the buggy version to apply the correct formula.\n",
        "# Re-run the code to verify that the corrected version prints the expected perimeter (22.0 in this example).\n",
        "\n",
        "\n",
        "\n",
        "# Define the dimensions of the rectangle\n",
        "\n",
        "length = 8.0       # Length of the rectangle (in units)\n",
        "width = 3.0        # Width of the rectangle (in units)\n",
        "\n",
        "# Calculate the area of the rectangle correctly\n",
        "area = length * width\n",
        "\n",
        "# Bug: Incorrect perimeter calculation\n",
        "# Intended formula: 2 * (length + width)\n",
        "# Buggy formula here misses one full width value\n",
        "perimeter = (length * 2) + width\n",
        "\n",
        "# Print the results\n",
        "print(\"Area:\", area)\n",
        "print(\"Perimeter (buggy):\", perimeter)"
      ]
    },
    {
      "cell_type": "code",
      "source": [
        "# Define the dimensions of the rectangle\n",
        "\n",
        "length = 8.0    # Length of the rectangle (in units)\n",
        "width = 3.0     # Width of the rectangle (in units)\n",
        "\n",
        "# Calculate the area and perimeter of the rectangle correctly\n",
        "area = length * width\n",
        "perimeter = 2 * (length + width)\n",
        "\n",
        "# Print the results\n",
        "print(\"Area:\", area)\n",
        "print(\"Perimeter:\", perimeter)"
      ],
      "metadata": {
        "colab": {
          "base_uri": "https://localhost:8080/"
        },
        "id": "4kSotuCJtL2f",
        "outputId": "507fcbac-4870-492d-ee77-08b62b88296b"
      },
      "execution_count": 2,
      "outputs": [
        {
          "output_type": "stream",
          "name": "stdout",
          "text": [
            "Area: 24.0\n",
            "Perimeter: 22.0\n"
          ]
        }
      ]
    }
  ]
}