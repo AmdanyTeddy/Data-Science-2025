{
  "nbformat": 4,
  "nbformat_minor": 0,
  "metadata": {
    "colab": {
      "provenance": []
    },
    "kernelspec": {
      "name": "python3",
      "display_name": "Python 3"
    },
    "language_info": {
      "name": "python"
    }
  },
  "cells": [
    {
      "cell_type": "code",
      "execution_count": 1,
      "metadata": {
        "id": "xd2OIQm-ADk1",
        "colab": {
          "base_uri": "https://localhost:8080/"
        },
        "outputId": "de06b29d-8100-4662-eda5-66505a245de1"
      },
      "outputs": [
        {
          "output_type": "stream",
          "name": "stdout",
          "text": [
            "bbs\n"
          ]
        }
      ],
      "source": [
        "def keep_consonants(word):\n",
        "    vowels = \"aeiou\"\n",
        "    result = \"\"\n",
        "    for char in word:\n",
        "        if char not in vowels:\n",
        "            result += char\n",
        "    return result\n",
        "\n",
        "print(keep_consonants(\"babas\"))"
      ]
    }
  ]
}