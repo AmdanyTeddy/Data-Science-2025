{
  "nbformat": 4,
  "nbformat_minor": 0,
  "metadata": {
    "colab": {
      "provenance": []
    },
    "kernelspec": {
      "name": "python3",
      "display_name": "Python 3"
    },
    "language_info": {
      "name": "python"
    }
  },
  "cells": [
    {
      "cell_type": "code",
      "execution_count": 2,
      "metadata": {
        "colab": {
          "base_uri": "https://localhost:8080/"
        },
        "id": "K6KBJznyo5Lh",
        "outputId": "82b97f4f-7d67-4791-8fc8-fe365b4f5b4f"
      },
      "outputs": [
        {
          "output_type": "stream",
          "name": "stdout",
          "text": [
            "3\n",
            "1\n",
            "0\n"
          ]
        }
      ],
      "source": [
        "# Assignment\n",
        "# Topic 16 (Recursion on non-numerics, Towers of Hanoi, memoization).\n",
        "# Lecture 16 Challenge 3:\n",
        "def count_occurrences_nested(L, target):\n",
        "    \"\"\"\n",
        "    L: a list that may contain other lists (nested)\n",
        "    target: any value\n",
        "\n",
        "    Returns the number of times target appears anywhere in L, including nested sublists.\n",
        "    \"\"\"\n",
        "    count = 0\n",
        "    for item in L:\n",
        "        if isinstance(item, list):\n",
        "            count += count_occurrences_nested(item, target)\n",
        "        elif item == target:\n",
        "            count += 1\n",
        "    return count\n",
        "\n",
        "# Examples:\n",
        "print(count_occurrences_nested([1, [2, [1, 3], 4], 1], 1))  # prints 3\n",
        "print(count_occurrences_nested([[1,2],[3,[4,1]]], 4))       # prints 1\n",
        "print(count_occurrences_nested([[],[],[]], 5))              # prints 0"
      ]
    },
    {
      "cell_type": "code",
      "source": [
        "# Lecture 16 Challenge 4:\n",
        "# Hanoi_moves\n",
        "def hanoi_moves(n, source, target, spare):\n",
        "    \"\"\"\n",
        "    n: int >= 1\n",
        "    source, target, spare: string names of rods (e.g. \"A\", \"B\", \"C\")\n",
        "\n",
        "    Returns a list of strings representing the sequence of moves needed\n",
        "    to solve the Towers of Hanoi puzzle.\n",
        "    \"\"\"\n",
        "    if n == 1:\n",
        "        return [f'Move from {source} to {target}']\n",
        "    else:\n",
        "        moves = []\n",
        "        moves.extend(hanoi_moves(n - 1, source, spare, target))\n",
        "        moves.append(f'Move from {source} to {target}')\n",
        "        moves.extend(hanoi_moves(n - 1, spare, target, source))\n",
        "        return moves\n",
        "\n",
        "# Example:\n",
        "print(hanoi_moves(2, 'A', 'C', 'B'))\n",
        "# prints ['Move from A to B', 'Move from A to C', 'Move from B to C']\n",
        "\n",
        "print(hanoi_moves(3, 'A', 'C', 'B'))\n",
        "# prints ['Move from A to C', 'Move from A to B', 'Move from C to B', ...]"
      ],
      "metadata": {
        "colab": {
          "base_uri": "https://localhost:8080/"
        },
        "id": "daQCG3FJp9Vz",
        "outputId": "dd8b0805-64b2-4065-cc3b-5c4f6da21976"
      },
      "execution_count": 3,
      "outputs": [
        {
          "output_type": "stream",
          "name": "stdout",
          "text": [
            "['Move from A to B', 'Move from A to C', 'Move from B to C']\n",
            "['Move from A to C', 'Move from A to B', 'Move from C to B', 'Move from A to C', 'Move from B to A', 'Move from B to C', 'Move from A to C']\n"
          ]
        }
      ]
    }
  ]
}