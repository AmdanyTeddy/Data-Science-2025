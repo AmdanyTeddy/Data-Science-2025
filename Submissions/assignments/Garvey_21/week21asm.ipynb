{
  "nbformat": 4,
  "nbformat_minor": 0,
  "metadata": {
    "colab": {
      "provenance": []
    },
    "kernelspec": {
      "name": "python3",
      "display_name": "Python 3"
    },
    "language_info": {
      "name": "python"
    }
  },
  "cells": [
    {
      "cell_type": "code",
      "execution_count": null,
      "metadata": {
        "id": "4cU3j-KwwnXu"
      },
      "outputs": [],
      "source": []
    },
    {
      "cell_type": "markdown",
      "metadata": {
        "id": "93651add"
      },
      "source": [
        "# Task\n",
        "Implement a command-line password vault tool in Python with features for adding, retrieving, and deleting password entries, using Fernet encryption and JSON file storage, and include basic testing and documentation."
      ]
    },
    {
      "cell_type": "markdown",
      "metadata": {
        "id": "74bcf300"
      },
      "source": [
        "## Setup and dependencies\n",
        "\n",
        "### Subtask:\n",
        "Install any necessary libraries (e.g., `cryptography` for Fernet encryption).\n"
      ]
    },
    {
      "cell_type": "markdown",
      "metadata": {
        "id": "42e3225f"
      },
      "source": [
        "**Reasoning**:\n",
        "The subtask is to install the `cryptography` library. This can be done using the pip package manager within a code block.\n",
        "\n"
      ]
    },
    {
      "cell_type": "code",
      "metadata": {
        "colab": {
          "base_uri": "https://localhost:8080/"
        },
        "id": "aedcaec5",
        "outputId": "de034125-470d-483e-9780-6ba0e1a347c1"
      },
      "source": [
        "%pip install cryptography"
      ],
      "execution_count": 1,
      "outputs": [
        {
          "output_type": "stream",
          "name": "stdout",
          "text": [
            "Requirement already satisfied: cryptography in /usr/local/lib/python3.12/dist-packages (43.0.3)\n",
            "Requirement already satisfied: cffi>=1.12 in /usr/local/lib/python3.12/dist-packages (from cryptography) (1.17.1)\n",
            "Requirement already satisfied: pycparser in /usr/local/lib/python3.12/dist-packages (from cffi>=1.12->cryptography) (2.22)\n"
          ]
        }
      ]
    },
    {
      "cell_type": "markdown",
      "metadata": {
        "id": "296ff5cb"
      },
      "source": [
        "## Encryption/decryption module\n",
        "\n",
        "### Subtask:\n",
        "Create functions for encrypting and decrypting passwords using Fernet.\n"
      ]
    },
    {
      "cell_type": "markdown",
      "metadata": {
        "id": "5ce9f836"
      },
      "source": [
        "**Reasoning**:\n",
        "Implement the functions for generating a key, encrypting, and decrypting data using Fernet as per the instructions.\n",
        "\n"
      ]
    },
    {
      "cell_type": "code",
      "metadata": {
        "id": "0e999414"
      },
      "source": [
        "from cryptography.fernet import Fernet\n",
        "\n",
        "def generate_key():\n",
        "  \"\"\"Generates a new Fernet key.\"\"\"\n",
        "  return Fernet.generate_key()\n",
        "\n",
        "def encrypt_data(key, data):\n",
        "  \"\"\"Encrypts data using a Fernet key.\"\"\"\n",
        "  try:\n",
        "    f = Fernet(key)\n",
        "    encrypted_data = f.encrypt(data.encode())\n",
        "    return encrypted_data\n",
        "  except Exception as e:\n",
        "    print(f\"Encryption error: {e}\")\n",
        "    return None\n",
        "\n",
        "def decrypt_data(key, encrypted_data):\n",
        "  \"\"\"Decrypts data using a Fernet key.\"\"\"\n",
        "  try:\n",
        "    f = Fernet(key)\n",
        "    decrypted_data = f.decrypt(encrypted_data).decode()\n",
        "    return decrypted_data\n",
        "  except Exception as e:\n",
        "    print(f\"Decryption error: {e}\")\n",
        "    return None"
      ],
      "execution_count": 2,
      "outputs": []
    },
    {
      "cell_type": "markdown",
      "metadata": {
        "id": "9c01a3e1"
      },
      "source": [
        "## Password vault class/functions\n",
        "\n",
        "### Subtask:\n",
        "Implement functions to add, retrieve, and delete password entries. Use a dictionary to store the password entries in memory.\n"
      ]
    },
    {
      "cell_type": "markdown",
      "metadata": {
        "id": "29d60366"
      },
      "source": [
        "**Reasoning**:\n",
        "Implement the PasswordVault class with methods for adding, retrieving, and deleting entries as specified in the instructions.\n",
        "\n"
      ]
    },
    {
      "cell_type": "code",
      "metadata": {
        "id": "7ba411f9"
      },
      "source": [
        "class PasswordVault:\n",
        "  \"\"\"A simple in-memory password vault.\"\"\"\n",
        "\n",
        "  def __init__(self):\n",
        "    \"\"\"Initializes an empty password vault.\"\"\"\n",
        "    self.entries = {}\n",
        "\n",
        "  def add_entry(self, service, username, password):\n",
        "    \"\"\"Adds a new password entry.\"\"\"\n",
        "    self.entries[service] = {\"username\": username, \"password\": password}\n",
        "    print(f\"Entry for {service} added.\")\n",
        "\n",
        "  def retrieve_entry(self, service):\n",
        "    \"\"\"Retrieves a password entry.\"\"\"\n",
        "    return self.entries.get(service)\n",
        "\n",
        "  def delete_entry(self, service):\n",
        "    \"\"\"Deletes a password entry.\"\"\"\n",
        "    if service in self.entries:\n",
        "      del self.entries[service]\n",
        "      print(f\"Entry for {service} deleted.\")\n",
        "    else:\n",
        "      print(f\"Entry for {service} not found.\")\n"
      ],
      "execution_count": 3,
      "outputs": []
    },
    {
      "cell_type": "markdown",
      "metadata": {
        "id": "bf06e267"
      },
      "source": [
        "## File handling\n",
        "\n",
        "### Subtask:\n",
        "Implement functions to save the password vault to a file (e.g., JSON) after encryption. Implement functions to load the password vault from the file, decrypting it upon loading.\n"
      ]
    },
    {
      "cell_type": "markdown",
      "metadata": {
        "id": "1a12228c"
      },
      "source": [
        "**Reasoning**:\n",
        "Implement the `save_vault` and `load_vault` functions with error handling for file operations and encryption/decryption, using the previously defined encryption and decryption functions and the `PasswordVault` class.\n",
        "\n"
      ]
    },
    {
      "cell_type": "code",
      "metadata": {
        "id": "1edc49bd"
      },
      "source": [
        "import json\n",
        "\n",
        "def save_vault(vault, file_path, key):\n",
        "  \"\"\"Saves the password vault to a file after encryption.\"\"\"\n",
        "  try:\n",
        "    vault_data = json.dumps(vault.entries)\n",
        "    encrypted_data = encrypt_data(key, vault_data)\n",
        "    if encrypted_data:\n",
        "      with open(file_path, 'wb') as f:\n",
        "        f.write(encrypted_data)\n",
        "      print(f\"Vault saved to {file_path}\")\n",
        "    else:\n",
        "      print(\"Failed to encrypt vault data.\")\n",
        "  except IOError as e:\n",
        "    print(f\"File saving error: {e}\")\n",
        "  except Exception as e:\n",
        "    print(f\"An unexpected error occurred during saving: {e}\")\n",
        "\n",
        "def load_vault(file_path, key):\n",
        "  \"\"\"Loads the password vault from a file and decrypts it.\"\"\"\n",
        "  try:\n",
        "    with open(file_path, 'rb') as f:\n",
        "      encrypted_data = f.read()\n",
        "\n",
        "    decrypted_data = decrypt_data(key, encrypted_data)\n",
        "    if decrypted_data:\n",
        "      vault_data = json.loads(decrypted_data)\n",
        "      vault = PasswordVault()\n",
        "      vault.entries = vault_data\n",
        "      print(f\"Vault loaded from {file_path}\")\n",
        "      return vault\n",
        "    else:\n",
        "      print(\"Failed to decrypt vault data.\")\n",
        "      return None\n",
        "  except FileNotFoundError:\n",
        "    print(f\"Error: File not found at {file_path}\")\n",
        "    return None\n",
        "  except IOError as e:\n",
        "    print(f\"File loading error: {e}\")\n",
        "    return None\n",
        "  except json.JSONDecodeError:\n",
        "    print(\"Error: Could not decode vault data as JSON.\")\n",
        "    return None\n",
        "  except Exception as e:\n",
        "    print(f\"An unexpected error occurred during loading: {e}\")\n",
        "    return None"
      ],
      "execution_count": 5,
      "outputs": []
    },
    {
      "cell_type": "code",
      "metadata": {
        "colab": {
          "base_uri": "https://localhost:8080/"
        },
        "id": "d2d41c73",
        "outputId": "1b7168bc-bf49-46ee-b4b6-f663ccb9a454"
      },
      "source": [
        "import os\n",
        "\n",
        "KEY_FILE = 'vault.key'\n",
        "VAULT_FILE = 'vault.json'\n",
        "\n",
        "def main():\n",
        "    \"\"\"Handles the CLI interactions for the password vault.\"\"\"\n",
        "    key = None\n",
        "    if os.path.exists(KEY_FILE):\n",
        "        with open(KEY_FILE, 'rb') as f:\n",
        "            key = f.read()\n",
        "        print(\"Loaded existing encryption key.\")\n",
        "    else:\n",
        "        key = generate_key()\n",
        "        with open(KEY_FILE, 'wb') as f:\n",
        "            f.write(key)\n",
        "        print(\"Generated and saved new encryption key.\")\n",
        "\n",
        "    vault = None\n",
        "    if os.path.exists(VAULT_FILE):\n",
        "        vault = load_vault(VAULT_FILE, key)\n",
        "        if vault is None:\n",
        "            print(\"Failed to load vault. Starting with an empty vault.\")\n",
        "            vault = PasswordVault()\n",
        "    else:\n",
        "        print(\"Vault file not found. Starting with an empty vault.\")\n",
        "        vault = PasswordVault()\n",
        "\n",
        "    while True:\n",
        "        command = input(\"Enter command (add, retrieve, delete, save, load, quit): \").strip().lower()\n",
        "\n",
        "        if command == 'add':\n",
        "            service = input(\"Enter service name: \").strip()\n",
        "            if not service:\n",
        "                print(\"Service name cannot be empty.\")\n",
        "                continue\n",
        "            username = input(\"Enter username: \").strip()\n",
        "            password = input(\"Enter password: \").strip()\n",
        "            vault.add_entry(service, username, password)\n",
        "\n",
        "        elif command == 'retrieve':\n",
        "            service = input(\"Enter service name: \").strip()\n",
        "            if not service:\n",
        "                print(\"Service name cannot be empty.\")\n",
        "                continue\n",
        "            entry = vault.retrieve_entry(service)\n",
        "            if entry:\n",
        "                print(f\"Service: {service}, Username: {entry['username']}, Password: {decrypt_data(key, entry['password'])}\")\n",
        "            else:\n",
        "                print(f\"Entry for {service} not found.\")\n",
        "\n",
        "        elif command == 'delete':\n",
        "            service = input(\"Enter service name: \").strip()\n",
        "            if not service:\n",
        "                print(\"Service name cannot be empty.\")\n",
        "                continue\n",
        "            vault.delete_entry(service)\n",
        "\n",
        "        elif command == 'save':\n",
        "            save_vault(vault, VAULT_FILE, key)\n",
        "\n",
        "        elif command == 'load':\n",
        "            loaded_vault = load_vault(VAULT_FILE, key)\n",
        "            if loaded_vault:\n",
        "                vault = loaded_vault\n",
        "\n",
        "        elif command == 'quit':\n",
        "            break\n",
        "\n",
        "        else:\n",
        "            print(\"Invalid command. Please try again.\")\n",
        "\n",
        "if __name__ == \"__main__\":\n",
        "    main()"
      ],
      "execution_count": 6,
      "outputs": [
        {
          "name": "stdout",
          "output_type": "stream",
          "text": [
            "Generated and saved new encryption key.\n",
            "Vault file not found. Starting with an empty vault.\n",
            "Enter command (add, retrieve, delete, save, load, quit): add\n",
            "Enter service name: communicate\n",
            "Enter username: garvey\n",
            "Enter password: 12345678\n",
            "Entry for communicate added.\n",
            "Enter command (add, retrieve, delete, save, load, quit): quit\n"
          ]
        }
      ]
    }
  ]
}