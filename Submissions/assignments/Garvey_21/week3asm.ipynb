{
  "nbformat": 4,
  "nbformat_minor": 0,
  "metadata": {
    "colab": {
      "provenance": []
    },
    "kernelspec": {
      "name": "python3",
      "display_name": "Python 3"
    },
    "language_info": {
      "name": "python"
    }
  },
  "cells": [
    {
      "cell_type": "code",
      "source": [
        "# ELDO-HUB - DATA SCIENCE – Python Programming\n",
        "\n",
        "# Class Assignment – Topic 3 Iteration\n",
        "# Challenge 1: Digit Frequency Counter\n",
        "# Goal: Practice for loops, string handling, and dictionaries to count how often each digit appears.\n",
        "\n",
        "num_str = input(\"Enter a positive integer: \")\n",
        "\n",
        "if num_str.isdigit():\n",
        "    counts = {}\n",
        "    for ch in num_str:\n",
        "        counts[ch] = counts.get(ch, 0) + 1\n",
        "\n",
        "    for digit in sorted(counts):\n",
        "        print(f\"Digit {digit}: {counts[digit]} time(s)\")\n",
        "else:\n",
        "    print(\"Invalid input. Please enter a positive integer.\")"
      ],
      "metadata": {
        "colab": {
          "base_uri": "https://localhost:8080/"
        },
        "id": "bX79hepAQyzz",
        "outputId": "05169910-7a7e-4ee3-9d24-903d434ebea7"
      },
      "execution_count": 11,
      "outputs": [
        {
          "output_type": "stream",
          "name": "stdout",
          "text": [
            "Enter a positive integer: 2468\n",
            "Digit 2: 1 time(s)\n",
            "Digit 4: 1 time(s)\n",
            "Digit 6: 1 time(s)\n",
            "Digit 8: 1 time(s)\n"
          ]
        }
      ]
    },
    {
      "cell_type": "code",
      "source": [
        "# Challenge 2: Guess‑the‑Number Game with Limited Attempts\n",
        "# Goal: Combine while loops, branching, and input/output to create an interactive game.\n",
        "\n",
        "import random\n",
        "\n",
        "secret = random.randint(1, 50)\n",
        "attempts = 0\n",
        "max_attempts = 5\n",
        "\n",
        "while attempts < max_attempts:\n",
        "    guess = int(input(f\"Attempt {attempts+1}/{max_attempts}: Your guess? \"))\n",
        "    attempts += 1\n",
        "\n",
        "    if guess == secret:\n",
        "        print(\"🎉 Correct! You guessed the number in\", attempts, \"tries.\")\n",
        "        break\n",
        "    elif guess < secret:\n",
        "        print(\"Too low! Try again.\")\n",
        "    else:\n",
        "        print(\"Too high! Try again.\")\n",
        "else:\n",
        "    print(f\"Game over! The secret number was {secret}. You ran out of attempts.\")"
      ],
      "metadata": {
        "colab": {
          "base_uri": "https://localhost:8080/"
        },
        "id": "xlQ5gJ1IT6_r",
        "outputId": "94eadf60-12ec-4ee3-dcce-fb2573ce4ed4"
      },
      "execution_count": 12,
      "outputs": [
        {
          "output_type": "stream",
          "name": "stdout",
          "text": [
            "Attempt 1/5: Your guess? 2\n",
            "Too low! Try again.\n",
            "Attempt 2/5: Your guess? 4\n",
            "Too low! Try again.\n",
            "Attempt 3/5: Your guess? 5\n",
            "Too low! Try again.\n",
            "Attempt 4/5: Your guess? 4\n",
            "Too low! Try again.\n",
            "Attempt 5/5: Your guess? 5\n",
            "Too low! Try again.\n",
            "Game over! The secret number was 44. You ran out of attempts.\n"
          ]
        }
      ]
    }
  ]
}