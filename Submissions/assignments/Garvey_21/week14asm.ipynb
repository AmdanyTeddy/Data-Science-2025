{
  "nbformat": 4,
  "nbformat_minor": 0,
  "metadata": {
    "colab": {
      "provenance": []
    },
    "kernelspec": {
      "name": "python3",
      "display_name": "Python 3"
    },
    "language_info": {
      "name": "python"
    }
  },
  "cells": [
    {
      "cell_type": "code",
      "execution_count": 2,
      "metadata": {
        "colab": {
          "base_uri": "https://localhost:8080/"
        },
        "id": "k_k-aL-_nN61",
        "outputId": "c0e8241c-e596-4f31-b413-d35def69be2c"
      },
      "outputs": [
        {
          "output_type": "stream",
          "name": "stdout",
          "text": [
            "['Alice', 'Bob', 'Daisy']\n",
            "[]\n"
          ]
        }
      ],
      "source": [
        "def student_score_summary(scores, threshold):\n",
        "    \"\"\"\n",
        "    scores: a dictionary mapping student names (str) to total scores (int).\n",
        "    threshold: an integer score threshold.\n",
        "\n",
        "    Returns a list of student names who scored above the threshold.\n",
        "    The list should be sorted alphabetically.\n",
        "    \"\"\"\n",
        "    # Your code here\n",
        "    above_threshold = [name for name, score in scores.items() if score > threshold]\n",
        "    return sorted(above_threshold)\n",
        "\n",
        "# Examples:\n",
        "students = {\"Alice\": 85, \"Bob\": 92, \"Charlie\": 78, \"Daisy\": 95}\n",
        "print(student_score_summary(students, 80))   # prints ['Alice', 'Bob', 'Daisy']\n",
        "print(student_score_summary(students, 100))  # prints []"
      ]
    },
    {
      "cell_type": "code",
      "source": [
        "def merge_inventory(inv1, inv2):\n",
        "    \"\"\"\n",
        "    inv1 and inv2 are dictionaries mapping item names (str) to quantities (int).\n",
        "\n",
        "    Returns a new dictionary that combines both inventories.\n",
        "    If an item appears in both, their quantities are summed.\n",
        "    \"\"\"\n",
        "    # Your code here\n",
        "    merged_inv = inv1.copy()  # Start with a copy of the first inventory\n",
        "    for item, quantity in inv2.items():\n",
        "        merged_inv[item] = merged_inv.get(item, 0) + quantity # Add quantity from the second inventory, or add the new item\n",
        "    return merged_inv\n",
        "\n",
        "# Examples:\n",
        "inv1 = {\"pen\": 10, \"notebook\": 5}\n",
        "inv2 = {\"notebook\": 3, \"eraser\": 7}\n",
        "print(merge_inventory(inv1, inv2))"
      ],
      "metadata": {
        "colab": {
          "base_uri": "https://localhost:8080/"
        },
        "id": "26KPQ8Ffne_J",
        "outputId": "7de58593-add5-46e3-e457-f68352c7024a"
      },
      "execution_count": 3,
      "outputs": [
        {
          "output_type": "stream",
          "name": "stdout",
          "text": [
            "{'pen': 10, 'notebook': 8, 'eraser': 7}\n"
          ]
        }
      ]
    }
  ]
}