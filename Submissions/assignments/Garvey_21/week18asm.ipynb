{
  "nbformat": 4,
  "nbformat_minor": 0,
  "metadata": {
    "colab": {
      "provenance": []
    },
    "kernelspec": {
      "name": "python3",
      "display_name": "Python 3"
    },
    "language_info": {
      "name": "python"
    }
  },
  "cells": [
    {
      "cell_type": "code",
      "execution_count": 2,
      "metadata": {
        "colab": {
          "base_uri": "https://localhost:8080/"
        },
        "id": "lAjV-TBXtvaM",
        "outputId": "f2e3ea75-81e0-408f-8e28-579ee6efc2aa"
      },
      "outputs": [
        {
          "output_type": "stream",
          "name": "stdout",
          "text": [
            "True\n"
          ]
        }
      ],
      "source": [
        "# Assigment 18\n",
        "# Assignment 1: Understanding OOP with a Library System\n",
        "\n",
        "class Book:\n",
        "    def __init__(self, title, author, year, copies_available):\n",
        "        self.title = title\n",
        "        self.author = author\n",
        "        self.year = year\n",
        "        self.copies_available = copies_available\n",
        "\n",
        "    def borrow(self):\n",
        "        if self.copies_available > 0:\n",
        "            self.copies_available -= 1\n",
        "        else:\n",
        "            print(\"Not available.\")\n",
        "\n",
        "    def return_book(self):\n",
        "        self.copies_available += 1\n",
        "\n",
        "    def is_same_book(self, other):\n",
        "        return self.title == other.title and self.author == other.author\n",
        "\n",
        "# Example Test:\n",
        "b1 = Book(\"Python Basics\", \"Dennis Omboga\", 2024, 3)\n",
        "b2 = Book(\"Python Basics\", \"Dennis Omboga\", 2024, 2)\n",
        "\n",
        "b1.borrow()          # reduces to 2\n",
        "b1.borrow()          # reduces to 1\n",
        "b1.return_book()     # increases to 2\n",
        "print(b1.is_same_book(b2))  # True"
      ]
    }
  ]
}