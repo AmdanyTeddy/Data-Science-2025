{
  "nbformat": 4,
  "nbformat_minor": 0,
  "metadata": {
    "colab": {
      "provenance": []
    },
    "kernelspec": {
      "name": "python3",
      "display_name": "Python 3"
    },
    "language_info": {
      "name": "python"
    }
  },
  "cells": [
    {
      "cell_type": "code",
      "metadata": {
        "colab": {
          "base_uri": "https://localhost:8080/"
        },
        "id": "2d2ede25",
        "outputId": "81a5e3bb-6a4c-4d52-ee05-935eaf2e11a1"
      },
      "source": [
        "# ✅ Topic 13: Exceptions and Assertions\n",
        "\n",
        "# Q1. Implement the function that meets the specification below:\n",
        "\n",
        "def safe_average(L):\n",
        "    \"\"\"\n",
        "    L is a list of numbers (ints or floats). It may be empty or contain non-numeric values.\n",
        "\n",
        "    Returns the average of all valid numeric elements in the list.\n",
        "\n",
        "    - Ignores non-numeric items using exception handling.\n",
        "    - If there are no numeric elements, raises a ValueError.\n",
        "    \"\"\"\n",
        "    numeric_elements = []\n",
        "    for item in L:\n",
        "        try:\n",
        "            numeric_elements.append(float(item))\n",
        "        except (ValueError, TypeError):\n",
        "            # Ignore non-numeric items\n",
        "            pass\n",
        "\n",
        "    if not numeric_elements:\n",
        "        raise ValueError(\"No numeric elements found in the list.\")\n",
        "\n",
        "    return sum(numeric_elements) / len(numeric_elements)\n",
        "\n",
        "# Examples:\n",
        "print(safe_average([10, 20, \"thirty\", 40]))\n",
        "try:\n",
        "    print(safe_average([\"a\", \"b\"]))\n",
        "except ValueError as e:\n",
        "    print(e)"
      ],
      "execution_count": 2,
      "outputs": [
        {
          "output_type": "stream",
          "name": "stdout",
          "text": [
            "23.333333333333332\n",
            "No numeric elements found in the list.\n"
          ]
        }
      ]
    },
    {
      "cell_type": "code",
      "source": [
        "#Q2. Implement the function that meets the specification below:\n",
        "\n",
        "def validate_transaction(amounts):\n",
        "    \"\"\"\n",
        "    amounts is a non-empty list of positive integers or floats representing transaction values.\n",
        "\n",
        "    Uses assertions to ensure:\n",
        "    - the list is not empty\n",
        "    - all amounts are positive\n",
        "    Returns the total amount.\n",
        "\n",
        "    Raises AssertionError with a message if validations fail.\n",
        "    \"\"\"\n",
        "    assert amounts, \"The list of amounts cannot be empty.\"\n",
        "    for amount in amounts:\n",
        "        assert amount > 0, \"All transaction amounts must be positive.\"\n",
        "\n",
        "    return sum(amounts)\n",
        "\n",
        "# Examples:\n",
        "print(validate_transaction([100, 50.5, 20]))\n",
        "\n",
        "try:\n",
        "    print(validate_transaction([]))\n",
        "except AssertionError as e:\n",
        "    print(e)\n",
        "\n",
        "try:\n",
        "    print(validate_transaction([10, -5, 20]))\n",
        "except AssertionError as e:\n",
        "    print(e)"
      ],
      "metadata": {
        "colab": {
          "base_uri": "https://localhost:8080/"
        },
        "id": "y1eoFdUylaE_",
        "outputId": "1db21b68-ae8b-43b0-ae26-dd146fe7ecfd"
      },
      "execution_count": 4,
      "outputs": [
        {
          "output_type": "stream",
          "name": "stdout",
          "text": [
            "170.5\n",
            "The list of amounts cannot be empty.\n",
            "All transaction amounts must be positive.\n"
          ]
        }
      ]
    },
    {
      "cell_type": "code",
      "source": [
        "# ✅ Topic 14: Dictionaries\n",
        "\n",
        "# Q3. Implement the function that meets the specification below\n",
        "def student_score_summary(scores, threshold):\n",
        "    \"\"\"\n",
        "    scores: a dictionary mapping student names (str) to total scores (int).\n",
        "    threshold: an integer score threshold.\n",
        "\n",
        "    Returns a list of student names who scored above the threshold.\n",
        "    The list should be sorted alphabetically.\n",
        "    \"\"\"\n",
        "    above_threshold_students = [name for name, score in scores.items() if score > threshold]\n",
        "    return sorted(above_threshold_students)\n",
        "\n",
        "# Examples:\n",
        "students = {\"Alice\": 85, \"Bob\": 92, \"Charlie\": 78, \"Daisy\": 95}\n",
        "print(student_score_summary(students, 80))\n",
        "print(student_score_summary(students, 100))"
      ],
      "metadata": {
        "colab": {
          "base_uri": "https://localhost:8080/"
        },
        "id": "6TCQ5A1Flo1U",
        "outputId": "398492e1-40ae-48c0-f391-719da3c47c09"
      },
      "execution_count": 6,
      "outputs": [
        {
          "output_type": "stream",
          "name": "stdout",
          "text": [
            "['Alice', 'Bob', 'Daisy']\n",
            "[]\n"
          ]
        }
      ]
    },
    {
      "cell_type": "code",
      "source": [
        "#Q4. Implement the function that meets the specification below:\n",
        "def merge_inventory(inv1, inv2):\n",
        "    \"\"\"\n",
        "    inv1 and inv2 are dictionaries mapping item names (str) to quantities (int).\n",
        "\n",
        "    Returns a new dictionary that combines both inventories.\n",
        "    If an item appears in both, their quantities are summed.\n",
        "    \"\"\"\n",
        "    merged_inventory = inv1.copy()  # Start with a copy of inv1\n",
        "    for item, quantity in inv2.items():\n",
        "        merged_inventory[item] = merged_inventory.get(item, 0) + quantity\n",
        "    return merged_inventory\n",
        "\n",
        "# Examples:\n",
        "inv1 = {\"pen\": 10, \"notebook\": 5}\n",
        "inv2 = {\"notebook\": 3, \"eraser\": 7}\n",
        "print(merge_inventory(inv1, inv2))"
      ],
      "metadata": {
        "colab": {
          "base_uri": "https://localhost:8080/"
        },
        "id": "uHv7GsUGl3XD",
        "outputId": "b6a242b9-50b0-4097-bfc4-d1121cc67e8b"
      },
      "execution_count": 7,
      "outputs": [
        {
          "output_type": "stream",
          "name": "stdout",
          "text": [
            "{'pen': 10, 'notebook': 8, 'eraser': 7}\n"
          ]
        }
      ]
    }
  ]
}