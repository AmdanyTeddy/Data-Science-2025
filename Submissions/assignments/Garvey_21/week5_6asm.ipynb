{
  "nbformat": 4,
  "nbformat_minor": 0,
  "metadata": {
    "colab": {
      "provenance": []
    },
    "kernelspec": {
      "name": "python3",
      "display_name": "Python 3"
    },
    "language_info": {
      "name": "python"
    }
  },
  "cells": [
    {
      "cell_type": "markdown",
      "metadata": {
        "id": "f721ed62"
      },
      "source": [
        "# Task\n",
        "Implement the solutions for the four problems described in the requirements in the selected empty cell."
      ]
    },
    {
      "cell_type": "markdown",
      "metadata": {
        "id": "a8360c1a"
      },
      "source": [
        "## Problem 1: cube root using bisection search\n",
        "\n",
        "### Subtask:\n",
        "Implement a function to find the cube root of a number between -1000 and 1000 using bisection search, handling negative inputs correctly.\n"
      ]
    },
    {
      "cell_type": "markdown",
      "metadata": {
        "id": "9a894308"
      },
      "source": [
        "**Reasoning**:\n",
        "Implement the `cube_root_bisection` function as described in the instructions, handling negative numbers and using bisection search.\n",
        "\n"
      ]
    },
    {
      "cell_type": "code",
      "metadata": {
        "id": "199116f1"
      },
      "source": [
        "def cube_root_bisection(x):\n",
        "    \"\"\"\n",
        "    Finds the cube root of a number between -1000 and 1000 using bisection search.\n",
        "\n",
        "    Args:\n",
        "        x: The number for which to find the cube root (-1000 <= x <= 1000).\n",
        "\n",
        "    Returns:\n",
        "        The cube root of x.\n",
        "    \"\"\"\n",
        "    is_negative = x < 0\n",
        "    abs_x = abs(x)\n",
        "\n",
        "    low = 0\n",
        "    high = 10\n",
        "    epsilon = 0.001\n",
        "\n",
        "    if abs_x < 1:\n",
        "      high = 1\n",
        "\n",
        "    while high - low > epsilon:\n",
        "        mid = (low + high) / 2\n",
        "        if abs(mid**3 - abs_x) < epsilon:\n",
        "            break\n",
        "        elif mid**3 < abs_x:\n",
        "            low = mid\n",
        "        else:\n",
        "            high = mid\n",
        "\n",
        "    if is_negative:\n",
        "        return -mid\n",
        "    else:\n",
        "        return mid\n"
      ],
      "execution_count": 7,
      "outputs": []
    },
    {
      "cell_type": "markdown",
      "metadata": {
        "id": "6c488bcc"
      },
      "source": [
        "**Reasoning**:\n",
        "Test the implemented `cube_root_bisection` function with a few examples.\n",
        "\n"
      ]
    },
    {
      "cell_type": "code",
      "metadata": {
        "colab": {
          "base_uri": "https://localhost:8080/"
        },
        "id": "a349e885",
        "outputId": "be1fc59f-0a07-4f5e-c57c-51e9c68a3185"
      },
      "source": [
        "print(f\"Cube root of 27: {cube_root_bisection(27)}\")\n",
        "print(f\"Cube root of -27: {cube_root_bisection(-27)}\")\n",
        "print(f\"Cube root of 8: {cube_root_bisection(8)}\")\n",
        "print(f\"Cube root of -8: {cube_root_bisection(-8)}\")\n",
        "print(f\"Cube root of 0: {cube_root_bisection(0)}\")\n",
        "print(f\"Cube root of 1: {cube_root_bisection(1)}\")\n",
        "print(f\"Cube root of -1: {cube_root_bisection(-1)}\")\n",
        "print(f\"Cube root of 1000: {cube_root_bisection(1000)}\")\n",
        "print(f\"Cube root of -1000: {cube_root_bisection(-1000)}\")\n",
        "print(f\"Cube root of 0.125: {cube_root_bisection(0.125)}\")\n",
        "print(f\"Cube root of -0.125: {cube_root_bisection(-0.125)}\")"
      ],
      "execution_count": 5,
      "outputs": [
        {
          "output_type": "stream",
          "name": "stdout",
          "text": [
            "Cube root of 27: 2.9998779296875\n",
            "Cube root of -27: -2.9998779296875\n",
            "Cube root of 8: 2.0001220703125\n",
            "Cube root of -8: -2.0001220703125\n",
            "Cube root of 0: 0.0625\n",
            "Cube root of 1: 0.999755859375\n",
            "Cube root of -1: -0.999755859375\n",
            "Cube root of 1000: 9.9993896484375\n",
            "Cube root of -1000: -9.9993896484375\n",
            "Cube root of 0.125: 0.5\n",
            "Cube root of -0.125: -0.5\n"
          ]
        }
      ]
    },
    {
      "cell_type": "markdown",
      "metadata": {
        "id": "23917f07"
      },
      "source": [
        "## Problem 2: square root using newton-raphson\n",
        "\n",
        "### Subtask:\n",
        "Implement a function to find the square root of a number between 0 and 1 using the Newton-Raphson method.\n"
      ]
    },
    {
      "cell_type": "markdown",
      "metadata": {
        "id": "8b10f3f2"
      },
      "source": [
        "**Reasoning**:\n",
        "Define the `square_root_newton_raphson` function as described in the instructions and include example usage.\n",
        "\n"
      ]
    },
    {
      "cell_type": "code",
      "metadata": {
        "colab": {
          "base_uri": "https://localhost:8080/"
        },
        "id": "135e01e4",
        "outputId": "27b48fbd-462c-4299-d1c4-c055e0f0c798"
      },
      "source": [
        "def square_root_newton_raphson(x):\n",
        "    \"\"\"\n",
        "    Finds the square root of a number between 0 and 1 using the Newton-Raphson method.\n",
        "\n",
        "    Args:\n",
        "        x: The number for which to find the square root (0 <= x <= 1).\n",
        "\n",
        "    Returns:\n",
        "        The square root of x.\n",
        "    \"\"\"\n",
        "    if not (0 <= x <= 1):\n",
        "        raise ValueError(\"Input must be between 0 and 1\")\n",
        "\n",
        "    guess = x\n",
        "    epsilon = 0.0001\n",
        "\n",
        "    # Handle edge case for x=0 separately to avoid division by zero\n",
        "    if x == 0:\n",
        "        return 0\n",
        "\n",
        "    while abs(guess**2 - x) > epsilon:\n",
        "        guess = guess - (guess**2 - x) / (2 * guess)\n",
        "\n",
        "    return guess\n",
        "\n",
        "# Example usage\n",
        "print(f\"Square root of 0.25: {square_root_newton_raphson(0.25)}\")\n",
        "print(f\"Square root of 0.5: {square_root_newton_raphson(0.5)}\")\n",
        "print(f\"Square root of 0.75: {square_root_newton_raphson(0.75)}\")\n",
        "print(f\"Square root of 0: {square_root_newton_raphson(0)}\")\n",
        "print(f\"Square root of 1: {square_root_newton_raphson(1)}\")"
      ],
      "execution_count": 6,
      "outputs": [
        {
          "output_type": "stream",
          "name": "stdout",
          "text": [
            "Square root of 0.25: 0.5000000232305737\n",
            "Square root of 0.5: 0.7071078431372549\n",
            "Square root of 0.75: 0.8660714285714286\n",
            "Square root of 0: 0\n",
            "Square root of 1: 1\n"
          ]
        }
      ]
    },
    {
      "cell_type": "markdown",
      "metadata": {
        "id": "c7493924"
      },
      "source": [
        "## Problem 3: square root comparison\n",
        "\n",
        "### Subtask:\n",
        "Modify the square root program to use incremental approximation and compare the number of steps required with bisection search for a given value (x = 12345).\n"
      ]
    },
    {
      "cell_type": "markdown",
      "metadata": {
        "id": "687cd706"
      },
      "source": [
        "**Reasoning**:\n",
        "Implement the two functions for calculating the square root using incremental approximation and bisection search, and set the value of x.\n",
        "\n"
      ]
    },
    {
      "cell_type": "code",
      "metadata": {
        "id": "9b7f62a8"
      },
      "source": [
        "def square_root_incremental(x, step=0.0001, epsilon=0.0001):\n",
        "    \"\"\"\n",
        "    Finds the square root of x using incremental approximation and counts steps.\n",
        "\n",
        "    Args:\n",
        "        x: The number for which to find the square root.\n",
        "        step: The increment step size.\n",
        "        epsilon: The tolerance for the approximation.\n",
        "\n",
        "    Returns:\n",
        "        A tuple containing the approximated square root and the number of steps.\n",
        "    \"\"\"\n",
        "    guess = 0.0\n",
        "    steps = 0\n",
        "    while guess * guess < x:\n",
        "        guess += step\n",
        "        steps += 1\n",
        "    return guess, steps\n",
        "\n",
        "def square_root_bisection_comparison(x, epsilon=0.0001):\n",
        "    \"\"\"\n",
        "    Finds the square root of x using bisection search and counts steps.\n",
        "\n",
        "    Args:\n",
        "        x: The number for which to find the square root.\n",
        "        epsilon: The tolerance for the approximation.\n",
        "\n",
        "    Returns:\n",
        "        A tuple containing the approximated square root and the number of steps.\n",
        "    \"\"\"\n",
        "    low = 0.0\n",
        "    high = x\n",
        "    steps = 0\n",
        "    while high - low > epsilon:\n",
        "        mid = (low + high) / 2.0\n",
        "        steps += 1\n",
        "        if mid * mid < x:\n",
        "            low = mid\n",
        "        else:\n",
        "            high = mid\n",
        "    return (low + high) / 2.0, steps\n",
        "\n",
        "number_to_compare = 12345"
      ],
      "execution_count": 8,
      "outputs": []
    },
    {
      "cell_type": "markdown",
      "metadata": {
        "id": "802d77b4"
      },
      "source": [
        "**Reasoning**:\n",
        "Call the implemented functions with the specified number and print the results and step counts for comparison.\n",
        "\n"
      ]
    },
    {
      "cell_type": "code",
      "metadata": {
        "colab": {
          "base_uri": "https://localhost:8080/"
        },
        "id": "02d98d92",
        "outputId": "46b4e1db-071f-48bd-83ad-68773166625c"
      },
      "source": [
        "sqrt_approx, steps_approx = square_root_incremental(number_to_compare)\n",
        "sqrt_bisection, steps_bisection = square_root_bisection_comparison(number_to_compare)\n",
        "\n",
        "print(f\"Number to find square root of: {number_to_compare}\")\n",
        "print(f\"Incremental Approximation:\")\n",
        "print(f\"  Approximate square root: {sqrt_approx}\")\n",
        "print(f\"  Number of steps: {steps_approx}\")\n",
        "print(f\"Bisection Search:\")\n",
        "print(f\"  Approximate square root: {sqrt_bisection}\")\n",
        "print(f\"  Number of steps: {steps_bisection}\")"
      ],
      "execution_count": 10,
      "outputs": [
        {
          "output_type": "stream",
          "name": "stdout",
          "text": [
            "Number to find square root of: 12345\n",
            "Incremental Approximation:\n",
            "  Approximate square root: 111.10810000256487\n",
            "  Number of steps: 1111081\n",
            "Bisection Search:\n",
            "  Approximate square root: 111.10803047195077\n",
            "  Number of steps: 27\n"
          ]
        }
      ]
    },
    {
      "cell_type": "markdown",
      "metadata": {
        "id": "938b6361"
      },
      "source": [
        "## Problem 4: guessing game\n",
        "\n",
        "### Subtask:\n",
        "Create a number guessing game where the computer picks a random number and the user guesses it using bisection search principles with \"Too high\", \"Too low\", or \"Correct\" feedback.\n"
      ]
    },
    {
      "cell_type": "markdown",
      "metadata": {
        "id": "05b3bfa7"
      },
      "source": [
        "**Reasoning**:\n",
        "Implement the number guessing game following the instructions, using random for secret number generation and a loop with bisection principles for guessing and updating bounds based on user input.\n",
        "\n"
      ]
    },
    {
      "cell_type": "code",
      "metadata": {
        "colab": {
          "base_uri": "https://localhost:8080/"
        },
        "id": "e4a771fc",
        "outputId": "b7c5c0f6-701f-475b-f87a-a1dfb94e3384"
      },
      "source": [
        "import random\n",
        "\n",
        "# 2. Computer picks a random number\n",
        "secret_number = random.randint(1, 100)\n",
        "print(\"I have picked a secret number between 1 and 100. Try to guess it!\")\n",
        "\n",
        "# 3. Initialize bounds and attempts\n",
        "low = 1\n",
        "high = 100\n",
        "attempts = 0\n",
        "max_attempts = 3\n",
        "\n",
        "# 4. Start the guessing loop\n",
        "while attempts < max_attempts:\n",
        "    # 5. Calculate the guess using bisection\n",
        "    guess = (low + high) // 2\n",
        "\n",
        "    # 6. Print the computer's guess\n",
        "    print(f\"My guess is: {guess}\")\n",
        "\n",
        "    # 7. Prompt user for feedback\n",
        "    feedback = input(\"Is this (Too high), (Too low), or (Correct)? \").lower()\n",
        "\n",
        "    # 8. Update bounds or break loop based on feedback\n",
        "    if feedback == \"too high\":\n",
        "        high = guess - 1\n",
        "    elif feedback == \"too low\":\n",
        "        low = guess + 1\n",
        "    elif feedback == \"correct\":\n",
        "        # 9. Congratulatory message and break\n",
        "        print(f\"Yay! I guessed your secret number correctly: {guess}\")\n",
        "        break\n",
        "    else:\n",
        "        print(\"Invalid feedback. Please enter 'Too high', 'Too low', or 'Correct'.\")\n",
        "\n",
        "    attempts += 1\n",
        "\n",
        "# 10. Check if attempts exceeded\n",
        "if attempts == max_attempts:\n",
        "    print(f\"You ran out of attempts! The secret number was {secret_number}\")"
      ],
      "execution_count": 14,
      "outputs": [
        {
          "output_type": "stream",
          "name": "stdout",
          "text": [
            "I have picked a secret number between 1 and 100. Try to guess it!\n",
            "My guess is: 50\n",
            "Is this (Too high), (Too low), or (Correct)? 90\n",
            "Invalid feedback. Please enter 'Too high', 'Too low', or 'Correct'.\n",
            "My guess is: 50\n",
            "Is this (Too high), (Too low), or (Correct)? 2\n",
            "Invalid feedback. Please enter 'Too high', 'Too low', or 'Correct'.\n",
            "My guess is: 50\n",
            "Is this (Too high), (Too low), or (Correct)? 80\n",
            "Invalid feedback. Please enter 'Too high', 'Too low', or 'Correct'.\n",
            "You ran out of attempts! The secret number was 58\n"
          ]
        }
      ]
    }
  ]
}