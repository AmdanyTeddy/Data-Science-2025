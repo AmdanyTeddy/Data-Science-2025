{
  "nbformat": 4,
  "nbformat_minor": 0,
  "metadata": {
    "colab": {
      "provenance": []
    },
    "kernelspec": {
      "name": "python3",
      "display_name": "Python 3"
    },
    "language_info": {
      "name": "python"
    }
  },
  "cells": [
    {
      "cell_type": "code",
      "execution_count": 4,
      "metadata": {
        "colab": {
          "base_uri": "https://localhost:8080/"
        },
        "id": "6CQ7otBJsLXV",
        "outputId": "1c3c2e36-3d9a-4a32-970d-4620e9f393a5"
      },
      "outputs": [
        {
          "output_type": "stream",
          "name": "stdout",
          "text": [
            "Volume of box1: 24\n",
            "Volume of box2: 27\n",
            "Is box1 a cube? False\n",
            "Is box2 a cube? True\n",
            "The bigger box has a volume of: 27\n"
          ]
        }
      ],
      "source": [
        "# Assignment \t17\n",
        "# Topic: Object-Oriented Programming\n",
        "# Subtopics: Data Abstraction, Class Definition, Class Instances, Methods\n",
        "# Challenge 1: 📦 The Box Class\n",
        "# Goal: Practice class creation, comparison between objects, and area/volume\n",
        "\n",
        "class Box:\n",
        "    def __init__(self, length, width, height):\n",
        "        self.length = length\n",
        "        self.width = width\n",
        "        self.height = height\n",
        "\n",
        "    def get_volume(self):\n",
        "        return self.length * self.width * self.height\n",
        "\n",
        "    def is_cube(self):\n",
        "        return self.length == self.width == self.height\n",
        "\n",
        "    def bigger(self, other):\n",
        "        if self.get_volume() > other.get_volume():\n",
        "            return self\n",
        "        else:\n",
        "            return other\n",
        "# Create two Box objects\n",
        "box1 = Box(2, 3, 4)\n",
        "box2 = Box(3, 3, 3)\n",
        "\n",
        "# Test the get_volume() method\n",
        "print(f\"Volume of box1: {box1.get_volume()}\")\n",
        "print(f\"Volume of box2: {box2.get_volume()}\")\n",
        "\n",
        "# Test the is_cube() method\n",
        "print(f\"Is box1 a cube? {box1.is_cube()}\")\n",
        "print(f\"Is box2 a cube? {box2.is_cube()}\")\n",
        "\n",
        "# Test the bigger() method\n",
        "bigger_box = box1.bigger(box2)\n",
        "print(f\"The bigger box has a volume of: {bigger_box.get_volume()}\")"
      ]
    },
    {
      "cell_type": "code",
      "source": [
        "#  Challenge 2: 🎵 The Song Class\n",
        "# Goal: Practice instance attributes, conditionals, methods, and object interaction.\n",
        "\n",
        "# Challenge 2\n",
        "# Write a class called Song that:\n",
        "\n",
        "class Song:\n",
        "    def __init__(self, title, artist, duration):\n",
        "        self.title = title\n",
        "        self.artist = artist\n",
        "        self.duration = duration\n",
        "\n",
        "    def is_long(self):\n",
        "        return self.duration > 300\n",
        "\n",
        "    def same_artist(self, other):\n",
        "        return self.artist == other.artist\n",
        "\n",
        "    def longer_song(self, other):\n",
        "        if self.duration > other.duration:\n",
        "            return self\n",
        "        else:\n",
        "            return other\n",
        "# Create two Song objects\n",
        "song1 = Song(\"Bohemian Rhapsody\", \"Queen\", 354) # 5 minutes and 54 seconds\n",
        "song2 = Song(\"Stairway to Heaven\", \"Led Zeppelin\", 482) # 8 minutes and 2 seconds\n",
        "song3 = Song(\"Another One Bites the Dust\", \"Queen\", 217) # 3 minutes and 37 seconds\n",
        "\n",
        "# Test the is_long() method\n",
        "print(f\"Is '{song1.title}' long? {song1.is_long()}\")\n",
        "print(f\"Is '{song3.title}' long? {song3.is_long()}\")\n",
        "\n",
        "# Test the same_artist() method\n",
        "print(f\"Do '{song1.title}' and '{song3.title}' have the same artist? {song1.same_artist(song3)}\")\n",
        "print(f\"Do '{song1.title}' and '{song2.title}' have the same artist? {song1.same_artist(song2)}\")\n",
        "\n",
        "# Test the longer_song() method\n",
        "longer = song1.longer_song(song2)\n",
        "print(f\"The longer song between '{song1.title}' and '{song2.title}' is: '{longer.title}'\")\n",
        "\n",
        "longer = song1.longer_song(song3)\n",
        "print(f\"The longer song between '{song1.title}' and '{song3.title}' is: '{longer.title}'\")"
      ],
      "metadata": {
        "colab": {
          "base_uri": "https://localhost:8080/"
        },
        "id": "aPiTXEEFsqU6",
        "outputId": "930d8da2-8102-46a1-bc93-16c9de1be0cc"
      },
      "execution_count": 7,
      "outputs": [
        {
          "output_type": "stream",
          "name": "stdout",
          "text": [
            "Is 'Bohemian Rhapsody' long? True\n",
            "Is 'Another One Bites the Dust' long? False\n",
            "Do 'Bohemian Rhapsody' and 'Another One Bites the Dust' have the same artist? True\n",
            "Do 'Bohemian Rhapsody' and 'Stairway to Heaven' have the same artist? False\n",
            "The longer song between 'Bohemian Rhapsody' and 'Stairway to Heaven' is: 'Stairway to Heaven'\n",
            "The longer song between 'Bohemian Rhapsody' and 'Another One Bites the Dust' is: 'Bohemian Rhapsody'\n"
          ]
        }
      ]
    }
  ]
}