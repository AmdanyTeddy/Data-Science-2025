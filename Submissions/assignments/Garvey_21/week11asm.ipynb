{
  "nbformat": 4,
  "nbformat_minor": 0,
  "metadata": {
    "colab": {
      "provenance": []
    },
    "kernelspec": {
      "name": "python3",
      "display_name": "Python 3"
    },
    "language_info": {
      "name": "python"
    }
  },
  "cells": [
    {
      "cell_type": "code",
      "execution_count": 1,
      "metadata": {
        "colab": {
          "base_uri": "https://localhost:8080/"
        },
        "id": "vt7cpTp2ibHa",
        "outputId": "d725c1d2-de1c-453d-cb4f-f1c5945df9d8"
      },
      "outputs": [
        {
          "output_type": "stream",
          "name": "stdout",
          "text": [
            "[3, 6]\n"
          ]
        }
      ],
      "source": [
        "# Finger Exercise Lecture 11\n",
        "# Implement the function that meets the specifications below:\n",
        "# def remove_and_sort(Lin, k):\n",
        "#     \"\"\" Lin is a list of ints\n",
        "#         k is an int >= 0\n",
        "#     Mutates Lin to remove the first k elements in Lin and\n",
        "#     then sorts the remaining elements in ascending order.\n",
        "#     If you run out of items to remove, Lin is mutated to an empty list.\n",
        "#     Does not return anything.\n",
        "#     \"\"\"\n",
        "#     # Your code here\n",
        "\n",
        "# # Examples:\n",
        "# L = [1,6,3]\n",
        "# k = 1\n",
        "# remove_and_sort(L, k)\n",
        "# print(L)\n",
        "\n",
        "def remove_and_sort(Lin, k):\n",
        "    \"\"\" Lin is a list of ints\n",
        "        k is an int >= 0\n",
        "    Mutates Lin to remove the first k elements in Lin and\n",
        "    then sorts the remaining elements in ascending order.\n",
        "    If you run out of items to remove, Lin is mutated to an empty list.\n",
        "    Does not return anything.\n",
        "    \"\"\"\n",
        "    # Your code here\n",
        "    del Lin[:k]\n",
        "    Lin.sort()\n",
        "\n",
        "# Examples:\n",
        "L = [1,6,3]\n",
        "k = 1\n",
        "remove_and_sort(L, k)\n",
        "print(L)"
      ]
    }
  ]
}