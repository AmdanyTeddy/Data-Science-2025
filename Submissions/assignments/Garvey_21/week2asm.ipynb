{
  "nbformat": 4,
  "nbformat_minor": 0,
  "metadata": {
    "colab": {
      "provenance": []
    },
    "kernelspec": {
      "name": "python3",
      "display_name": "Python 3"
    },
    "language_info": {
      "name": "python"
    }
  },
  "cells": [
    {
      "cell_type": "code",
      "execution_count": 2,
      "metadata": {
        "colab": {
          "base_uri": "https://localhost:8080/"
        },
        "id": "VMbbiPPLIg7Y",
        "outputId": "249fa459-2276-4d31-f654-d8389437a83b"
      },
      "outputs": [
        {
          "output_type": "stream",
          "name": "stdout",
          "text": [
            "Volume: 141.3716694115407 Surface Area: 150.79644737231007\n"
          ]
        }
      ],
      "source": [
        "# Assignment Instructions:\n",
        "# 1. Refactor the Code:\n",
        "# - Improve Formatting:\n",
        "# - Separate multiple statements onto individual lines.\n",
        "# - Ensure proper spacing around operators.\n",
        "# - Use Meaningful Variable Names:\n",
        "# - Rename variables like r, h, vol, and sa to more descriptive names (e.g., radius, height, volume, surface_area).\n",
        "# - Add Comments:\n",
        "# - Include comments that explain each part of the code (e.g., what the formulas compute).\n",
        "# - Enhance Readability:\n",
        "# - Structure the code in a way that it is easy to read and understand.\n",
        "# 2. Test Your Code:\n",
        "# - Run the refactored code to verify that it correctly computes and prints the cylinder’s volume and surface area.\n",
        "# - Ensure that the functionality remains unchanged.\n",
        "\n",
        "# messy code to compute cylinder metrics\n",
        "import math\n",
        "\n",
        "radius = 3.0\n",
        "height = 5\n",
        "\n",
        "# Compute the volume of the cylinder\n",
        "volume = math.pi * radius**2 * height\n",
        "\n",
        "# Compute the surface area of the cylinder\n",
        "surface_area = 2 * math.pi * radius * (radius + height)\n",
        "\n",
        "# Print the results\n",
        "print(\"Volume:\", volume, \"Surface Area:\", surface_area)"
      ]
    }
  ]
}