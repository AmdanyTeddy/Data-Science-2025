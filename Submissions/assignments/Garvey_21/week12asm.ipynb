{
  "nbformat": 4,
  "nbformat_minor": 0,
  "metadata": {
    "colab": {
      "provenance": []
    },
    "kernelspec": {
      "name": "python3",
      "display_name": "Python 3"
    },
    "language_info": {
      "name": "python"
    }
  },
  "cells": [
    {
      "cell_type": "code",
      "source": [
        "# 1. Fix the Bug:\n",
        "\n",
        "def subtract():\n",
        "    a = int(input(\"Enter number: \"))\n",
        "    b = int(input(\"Enter number: \"))\n",
        "    print(\"Result:\", a - b)\n",
        "\n",
        "# Example usage:\n",
        "# subtract()\n",
        "\n",
        "# 2. Add assert to This Code:\n",
        "\n",
        "def check_age(age):\n",
        "    assert age > 0, \"Age cannot be negative or zero.\"\n",
        "    print(\"Age is okay.\")\n",
        "\n",
        "# Example usage:\n",
        "# check_age(25)\n",
        "# check_age(-5) # This will raise an AssertionError\n",
        "\n",
        "# 3. Use raise to catch invalid input:\n",
        "\n",
        "def is_even(n):\n",
        "    if not isinstance(n, int):\n",
        "        raise Exception(\"Input must be an integer.\")\n",
        "    return n % 2 == 0\n",
        "\n",
        "# Example usage:\n",
        "print(is_even(4))\n",
        "try:\n",
        "    print(is_even(\"hello\")) # This will raise an Exception\n",
        "except Exception as e:\n",
        "    print(f\"Caught expected exception: {e}\")"
      ],
      "metadata": {
        "colab": {
          "base_uri": "https://localhost:8080/"
        },
        "id": "0b3UiXpFkIPT",
        "outputId": "0caa6f12-f310-4f90-aa00-2e559b35db75"
      },
      "execution_count": 5,
      "outputs": [
        {
          "output_type": "stream",
          "name": "stdout",
          "text": [
            "True\n",
            "Caught expected exception: Input must be an integer.\n"
          ]
        }
      ]
    }
  ]
}