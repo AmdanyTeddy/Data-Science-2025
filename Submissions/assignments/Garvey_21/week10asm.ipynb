{
  "nbformat": 4,
  "nbformat_minor": 0,
  "metadata": {
    "colab": {
      "provenance": []
    },
    "kernelspec": {
      "name": "python3",
      "display_name": "Python 3"
    },
    "language_info": {
      "name": "python"
    }
  },
  "cells": [
    {
      "cell_type": "code",
      "execution_count": 1,
      "metadata": {
        "colab": {
          "base_uri": "https://localhost:8080/"
        },
        "id": "X6yv_MpChwx3",
        "outputId": "149a13c6-67cd-4d82-a4c3-a793d3ddd435"
      },
      "outputs": [
        {
          "output_type": "stream",
          "name": "stdout",
          "text": [
            "['Alice', 'Bob', 'Charlie', 'David']\n"
          ]
        }
      ],
      "source": [
        "# Assigment:\n",
        "#     1. Write a program that:\n",
        "#         ◦ Takes a list of names\n",
        "#         ◦ Removes duplicates\n",
        "#         ◦ Sorts alphabetically\n",
        "#     2. What happens in this code?\n",
        "# Python Code :\n",
        "\n",
        "# L1 = ['sun']\n",
        "# L2 = L1\n",
        "# L1 = ['moon']\n",
        "# print(L2)\n",
        "\n",
        "def process_names(names_list):\n",
        "    \"\"\"\n",
        "    Takes a list of names, removes duplicates, and sorts them alphabetically.\n",
        "\n",
        "    Args:\n",
        "        names_list: A list of strings representing names.\n",
        "\n",
        "    Returns:\n",
        "        A new list containing unique names, sorted alphabetically.\n",
        "    \"\"\"\n",
        "    # Remove duplicates by converting to a set and back to a list\n",
        "    unique_names = list(set(names_list))\n",
        "    # Sort the unique names alphabetically\n",
        "    sorted_names = sorted(unique_names)\n",
        "    return sorted_names\n",
        "\n",
        "# Example usage:\n",
        "names = [\"Alice\", \"Bob\", \"Charlie\", \"Alice\", \"David\", \"Bob\"]\n",
        "processed_names = process_names(names)\n",
        "print(processed_names)"
      ]
    }
  ]
}