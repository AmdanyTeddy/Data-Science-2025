{
  "nbformat": 4,
  "nbformat_minor": 0,
  "metadata": {
    "colab": {
      "provenance": []
    },
    "kernelspec": {
      "name": "python3",
      "display_name": "Python 3"
    },
    "language_info": {
      "name": "python"
    }
  },
  "cells": [
    {
      "cell_type": "code",
      "execution_count": 4,
      "metadata": {
        "id": "HdclJZ_vwxWB",
        "colab": {
          "base_uri": "https://localhost:8080/"
        },
        "outputId": "d96b1b17-3d38-4387-c90b-163403188957"
      },
      "outputs": [
        {
          "output_type": "stream",
          "name": "stdout",
          "text": [
            "Welcome to the Binary Snack Machine! \n",
            "Enter snack price (between 0 and 10): 39\n",
            "Price must be between 0 and 10.\n",
            "Enter snack price (between 0 and 10): 9\n",
            "Binary price: 1001.00000000\n",
            "Enjoy your snack! \n"
          ]
        }
      ],
      "source": [
        "# Challenge: Binary Snack Machine (15–20 min, Individual or Pairs)\n",
        "\n",
        "print(\"Welcome to the Binary Snack Machine! \")\n",
        "\n",
        "while True:\n",
        "    try:\n",
        "        price = float(input(\"Enter snack price (between 0 and 10): \"))\n",
        "        if 0 <= price <= 10:\n",
        "            break\n",
        "        else:\n",
        "            print(\"Price must be between 0 and 10.\")\n",
        "    except ValueError:\n",
        "        print(\"Invalid input. Please enter a valid number.\")\n",
        "\n",
        "integer_part = int(price)\n",
        "fractional_part = price - integer_part\n",
        "\n",
        "# Convert integer part to binary\n",
        "binary_integer = bin(integer_part)[2:]\n",
        "\n",
        "# Convert fractional part to binary using guess-and-check\n",
        "binary_fractional = \"\"\n",
        "temp_fractional = fractional_part\n",
        "for _ in range(8):  # Limit to 8 bits for fractional part\n",
        "    temp_fractional *= 2\n",
        "    if temp_fractional >= 1:\n",
        "        binary_fractional += \"1\"\n",
        "        temp_fractional -= 1\n",
        "    else:\n",
        "        binary_fractional += \"0\"\n",
        "\n",
        "# Combine integer and fractional parts\n",
        "if binary_fractional:\n",
        "    binary_price = f\"{binary_integer}.{binary_fractional}\"\n",
        "else:\n",
        "    binary_price = binary_integer\n",
        "\n",
        "print(f\"Binary price: {binary_price}\")\n",
        "print(\"Enjoy your snack! \")"
      ]
    },
    {
      "cell_type": "code",
      "source": [
        "# Final Assignment Topic 4\n",
        "# Assignment 1: Binary Name Tag Generator (For Loop + ASCII + Binary)\n",
        "\n",
        "print(\"Welcome to the Binary Name Tag Generator! \")\n",
        "\n",
        "name = input(\"Enter your first name: \")\n",
        "\n",
        "print(f\"Name: {name.upper()}\")\n",
        "\n",
        "for char in name:\n",
        "    # Convert character to ASCII\n",
        "    ascii_code = ord(char)\n",
        "\n",
        "    # Convert ASCII to 8-bit binary\n",
        "    binary_value = format(ascii_code, '08b')\n",
        "\n",
        "    # Print the result\n",
        "    print(f\"{char.upper()} → {ascii_code} → {binary_value}\")\n",
        "\n",
        "print(\"Enjoy your binary name tag! \")"
      ],
      "metadata": {
        "colab": {
          "base_uri": "https://localhost:8080/"
        },
        "id": "kw7k7mjUXj1O",
        "outputId": "c90e599e-a1d7-44ee-8cfc-5c41eeadd51e"
      },
      "execution_count": 6,
      "outputs": [
        {
          "output_type": "stream",
          "name": "stdout",
          "text": [
            "Welcome to the Binary Name Tag Generator! \n",
            "Enter your first name: garvey\n",
            "Name: GARVEY\n",
            "G → 103 → 01100111\n",
            "A → 97 → 01100001\n",
            "R → 114 → 01110010\n",
            "V → 118 → 01110110\n",
            "E → 101 → 01100101\n",
            "Y → 121 → 01111001\n",
            "Enjoy your binary name tag! \n"
          ]
        }
      ]
    },
    {
      "cell_type": "code",
      "source": [
        "print(\"Binary Door Code Challenge! \")\n",
        "\n",
        "secret_binary = '1011'  # This is the secret binary code (decimal 11)\n",
        "\n",
        "while True:\n",
        "    try:\n",
        "        guess = int(input(f\"Guess the number that matches the secret binary code: {secret_binary}\\nYour guess: \"))\n",
        "\n",
        "        # Convert the guess to binary\n",
        "        binary_guess = bin(guess)[2:]\n",
        "\n",
        "        # Check if the binary guess matches the secret binary\n",
        "        if binary_guess == secret_binary:\n",
        "            print(f\"Binary of {guess} → {binary_guess} →  Door Unlocked! \")\n",
        "            break\n",
        "        else:\n",
        "            print(f\"Binary of {guess} → {binary_guess} →  Not a match.\")\n",
        "\n",
        "    except ValueError:\n",
        "        print(\"Invalid input. Please enter an integer.\")"
      ],
      "metadata": {
        "colab": {
          "base_uri": "https://localhost:8080/"
        },
        "id": "C5VDPFo8X4W9",
        "outputId": "a9d4ece5-2bfc-4b6e-f26a-f9b30d9710c2"
      },
      "execution_count": 9,
      "outputs": [
        {
          "output_type": "stream",
          "name": "stdout",
          "text": [
            "Binary Door Code Challenge! \n",
            "Guess the number that matches the secret binary code: 1011\n",
            "Your guess: 1\n",
            "Binary of 1 → 1 →  Not a match.\n",
            "Guess the number that matches the secret binary code: 1011\n",
            "Your guess: 2\n",
            "Binary of 2 → 10 →  Not a match.\n",
            "Guess the number that matches the secret binary code: 1011\n",
            "Your guess: 5\n",
            "Binary of 5 → 101 →  Not a match.\n",
            "Guess the number that matches the secret binary code: 1011\n",
            "Your guess: 9\n",
            "Binary of 9 → 1001 →  Not a match.\n",
            "Guess the number that matches the secret binary code: 1011\n",
            "Your guess: 11\n",
            "Binary of 11 → 1011 →  Door Unlocked! \n"
          ]
        }
      ]
    },
    {
      "cell_type": "code",
      "source": [],
      "metadata": {
        "id": "la0b_3p4Ye_6"
      },
      "execution_count": null,
      "outputs": []
    }
  ]
}