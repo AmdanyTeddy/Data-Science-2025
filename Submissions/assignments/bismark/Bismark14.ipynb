{
  "nbformat": 4,
  "nbformat_minor": 0,
  "metadata": {
    "colab": {
      "provenance": []
    },
    "kernelspec": {
      "name": "python3",
      "display_name": "Python 3"
    },
    "language_info": {
      "name": "python"
    }
  },
  "cells": [
    {
      "cell_type": "markdown",
      "source": [
        "Weekend Assignment:\n",
        "Total Questions: 2\n",
        "\n",
        "Instructions:\n",
        "•\tImplement each function to meet its specification.\n",
        "•\tTest your functions with the provided example cases.\n",
        "•\tInclude error handling where necessary using try/except and assert.\n",
        "\n",
        "\n",
        "✅ Topic 14: Dictionaries\n",
        "\n",
        "Q1. Implement the function that meets the specification below:\n",
        "\n",
        "def student_score_summary(scores, threshold):\n",
        "    \"\"\"\n",
        "    scores: a dictionary mapping student names (str) to total scores (int).\n",
        "    threshold: an integer score threshold.\n",
        "    \n",
        "    Returns a list of student names who scored above the threshold.\n",
        "    The list should be sorted alphabetically.\n",
        "    \"\"\"\n",
        "    # Your code here\n",
        "\n",
        "# Examples:\n",
        "students = {\"Alice\": 85, \"Bob\": 92, \"Charlie\": 78, \"Daisy\": 95}\n",
        "print(student_score_summary(students, 80))   # prints ['Alice', 'Bob', 'Daisy']\n",
        "print(student_score_summary(students, 100))  # prints []\n",
        "\n",
        "\n",
        "\n",
        "Q2. Implement the function that meets the specification below:\n",
        "\n",
        "def merge_inventory(inv1, inv2):\n",
        "    \"\"\"\n",
        "    inv1 and inv2 are dictionaries mapping item names (str) to quantities (int).\n",
        "    \n",
        "    Returns a new dictionary that combines both inventories.\n",
        "    If an item appears in both, their quantities are summed.\n",
        "    \"\"\"\n",
        "    # Your code here\n",
        "\n",
        "# Examples:\n",
        "inv1 = {\"pen\": 10, \"notebook\": 5}\n",
        "inv2 = {\"notebook\": 3, \"eraser\": 7}\n",
        "print(merge_inventory(inv1, inv2))  # prints {'pen': 10, 'notebook': 8, 'eraser': 7}\n",
        "\n"
      ],
      "metadata": {
        "id": "cQPDs_86cSkE"
      }
    },
    {
      "cell_type": "code",
      "source": [
        "def student_score_summary(scores, threshold):\n",
        "    \"\"\"\n",
        "    scores: a dictionary mapping student names (str) to total scores (int).\n",
        "    threshold: an integer score threshold.\n",
        "\n",
        "    Returns a list of student names who scored above the threshold.\n",
        "    The list should be sorted alphabetically.\n",
        "    \"\"\"\n",
        "    try:\n",
        "        assert isinstance(scores, dict), \"Scores must be a dictionary\"\n",
        "        assert isinstance(threshold, int), \"Threshold must be an integer\"\n",
        "\n",
        "        result = [name for name, score in scores.items() if score > threshold]\n",
        "        return sorted(result)\n",
        "    except AssertionError as e:\n",
        "        print(f\"AssertionError: {e}\")\n",
        "    except Exception as e:\n",
        "        print(f\"Error: {e}\")\n",
        "\n",
        "# Example test cases:\n",
        "students = {\"Alice\": 85, \"Bob\": 92, \"Charlie\": 78, \"Daisy\": 95}\n",
        "print(student_score_summary(students, 80))    # ['Alice', 'Bob', 'Daisy']\n",
        "print(student_score_summary(students, 100))   # []\n"
      ],
      "metadata": {
        "colab": {
          "base_uri": "https://localhost:8080/"
        },
        "id": "6dAVPvizcUfu",
        "outputId": "d9ae88d9-0640-403e-a6e1-beab65d1a2bc"
      },
      "execution_count": 1,
      "outputs": [
        {
          "output_type": "stream",
          "name": "stdout",
          "text": [
            "['Alice', 'Bob', 'Daisy']\n",
            "[]\n"
          ]
        }
      ]
    },
    {
      "cell_type": "code",
      "source": [
        "def merge_inventory(inv1, inv2):\n",
        "    \"\"\"\n",
        "    inv1 and inv2 are dictionaries mapping item names (str) to quantities (int).\n",
        "    Returns a new dictionary that combines both inventories.\n",
        "    If an item appears in both, their quantities are summed.\n",
        "    \"\"\"\n",
        "    try:\n",
        "        assert isinstance(inv1, dict) and isinstance(inv2, dict), \"Both inputs must be dictionaries\"\n",
        "\n",
        "        merged = inv1.copy()\n",
        "        for item, qty in inv2.items():\n",
        "            if item in merged:\n",
        "                merged[item] += qty\n",
        "            else:\n",
        "                merged[item] = qty\n",
        "        return merged\n",
        "    except AssertionError as e:\n",
        "        print(f\"AssertionError: {e}\")\n",
        "    except Exception as e:\n",
        "        print(f\"Error: {e}\")\n",
        "\n",
        "# Example test cases:\n",
        "inv1 = {\"pen\": 10, \"notebook\": 5}\n",
        "inv2 = {\"notebook\": 3, \"eraser\": 7}\n",
        "print(merge_inventory(inv1, inv2))  # {'pen': 10, 'notebook': 8, 'eraser': 7}\n"
      ],
      "metadata": {
        "colab": {
          "base_uri": "https://localhost:8080/"
        },
        "id": "Sqal1IDTccoo",
        "outputId": "75158429-a21f-4907-cdba-afcfafe9f456"
      },
      "execution_count": 3,
      "outputs": [
        {
          "output_type": "stream",
          "name": "stdout",
          "text": [
            "{'pen': 10, 'notebook': 8, 'eraser': 7}\n"
          ]
        }
      ]
    },
    {
      "cell_type": "code",
      "source": [],
      "metadata": {
        "id": "NSmZhpROcjdz"
      },
      "execution_count": null,
      "outputs": []
    }
  ]
}