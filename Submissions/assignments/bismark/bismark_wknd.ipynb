{
  "nbformat": 4,
  "nbformat_minor": 0,
  "metadata": {
    "colab": {
      "provenance": []
    },
    "kernelspec": {
      "name": "python3",
      "display_name": "Python 3"
    },
    "language_info": {
      "name": "python"
    }
  },
  "cells": [
    {
      "cell_type": "code",
      "execution_count": 1,
      "metadata": {
        "colab": {
          "base_uri": "https://localhost:8080/"
        },
        "id": "c-qY8E3kXdxw",
        "outputId": "0be43220-4c50-4c7c-de9c-a140ca82d3dd"
      },
      "outputs": [
        {
          "output_type": "stream",
          "name": "stdout",
          "text": [
            "Enter a number between -1000 and 1000: 700\n",
            "Approximate cube root of 700.0 is 8.87904\n",
            "Steps taken: 20\n"
          ]
        }
      ],
      "source": [
        "# Problem 1:\n",
        "# Write a Python program to find the cube root of any float between -1000 and 1000 using bisection search. Handle negative cubes correctly.\n",
        "# Get number from user\n",
        "num = float(input(\"Enter a number between -1000 and 1000: \"))\n",
        "\n",
        "# Check range\n",
        "if num < -1000 or num > 1000:\n",
        "    print(\"Number is out of range!\")\n",
        "else:\n",
        "    # Handle negative numbers\n",
        "    is_negative = num < 0\n",
        "    cube = abs(num)\n",
        "\n",
        "    low = 0\n",
        "    high = max(1, cube)\n",
        "    guess = (low + high) / 2\n",
        "    epsilon = 0.01\n",
        "    steps = 0\n",
        "\n",
        "    # Bisection loop\n",
        "    while abs(guess**3 - cube) >= epsilon:\n",
        "        if guess**3 < cube:\n",
        "            low = guess\n",
        "        else:\n",
        "            high = guess\n",
        "        guess = (low + high) / 2\n",
        "        steps += 1\n",
        "\n",
        "    # Flip result if original number was negative\n",
        "    if is_negative:\n",
        "        guess = -guess\n",
        "\n",
        "    print(\"Approximate cube root of\", num, \"is\", round(guess, 5))\n",
        "    print(\"Steps taken:\", steps)\n"
      ]
    },
    {
      "cell_type": "code",
      "source": [
        "# Problem 2:\n",
        "# Find the square root of any number between 0 and 1 using Newton-Raphson.\n",
        "# Ask user for a number\n",
        "try:\n",
        "    num = float(input(\"Enter a number between 0 and 1 (like 0.25): \"))\n",
        "\n",
        "    # Check if number is in the valid range\n",
        "    if num < 0 or num > 1:\n",
        "        print(\"Number must be between 0 and 1.\")\n",
        "    elif num == 0:\n",
        "        print(\"Square root of 0 is 0.\")\n",
        "    else:\n",
        "        # Start guessing\n",
        "        guess = num / 2\n",
        "        epsilon = 0.000001\n",
        "        steps = 0\n",
        "\n",
        "        # Newton-Raphson method\n",
        "        while abs(guess**2 - num) >= epsilon:\n",
        "            guess = guess - ((guess**2 - num) / (2 * guess))\n",
        "            steps += 1\n",
        "\n",
        "        # Print result\n",
        "        print(\"Square root of\", num, \"is approximately\", round(guess, 6))\n",
        "        print(\"Steps taken:\", steps)\n",
        "\n",
        "except ValueError:\n",
        "    print(\"Please enter a valid number between 0 and 1.\")\n"
      ],
      "metadata": {
        "colab": {
          "base_uri": "https://localhost:8080/"
        },
        "id": "adisY10BZmXh",
        "outputId": "01947173-bd6d-4b64-8593-c96e88a39987"
      },
      "execution_count": 2,
      "outputs": [
        {
          "output_type": "stream",
          "name": "stdout",
          "text": [
            "Enter a number between 0 and 1 (like 0.25): 0.75\n",
            "Square root of 0.75 is approximately 0.866025\n",
            "Steps taken: 5\n"
          ]
        }
      ]
    },
    {
      "cell_type": "code",
      "source": [
        "#Problem 3 (From Topic 5 - Approximation):\n",
        "#Modify your square root program to use the approximation method with incremental steps\n",
        " #(like 0.0001) and compare how many steps it takes vs. bisection search for the same value of x = 12345.\n",
        "\n",
        "def find_sqrt_by_steps(number, step=0.0001, margin=0.01):\n",
        "    guess = 0.0\n",
        "    steps = 0\n",
        "\n",
        "    # Keep guessing until we're close enough to the real square root\n",
        "    while guess ** 2 < number and abs(guess ** 2 - number) >= margin:\n",
        "        guess += step\n",
        "        steps += 1\n",
        "\n",
        "    if abs(guess ** 2 - number) < margin:\n",
        "        return guess, steps\n",
        "    else:\n",
        "        return None, steps  # Couldn't find within the allowed range\n",
        "\n",
        "\n",
        "# ------ Program starts here ------\n",
        "try:\n",
        "    x = float(input(\" Enter any number to find its square root: \"))\n",
        "\n",
        "    print(\"\\n Finding square root by guessing step-by-step...\")\n",
        "    result, tries = find_sqrt_by_steps(x)\n",
        "\n",
        "    if result is not None:\n",
        "        print(f\" Approx square root of {x} is {round(result, 5)} (found in {tries} steps)\")\n",
        "    else:\n",
        "        print(f\" Couldn't find a good result after {tries} steps. Try a smaller number.\")\n",
        "\n",
        "except ValueError:\n",
        "    print(\" Please enter a valid number (like 2 or 9.5)\")\n"
      ],
      "metadata": {
        "colab": {
          "base_uri": "https://localhost:8080/"
        },
        "id": "2TqC5mNsaB1C",
        "outputId": "b068d15d-7744-4918-bf20-944933b3d542"
      },
      "execution_count": 6,
      "outputs": [
        {
          "output_type": "stream",
          "name": "stdout",
          "text": [
            " Enter any number to find its square root: 144\n",
            "\n",
            " Finding square root by guessing step-by-step...\n",
            " Approx square root of 144.0 is 11.9996 (found in 119996 steps)\n"
          ]
        }
      ]
    },
    {
      "cell_type": "code",
      "source": [
        "# Problem 4 (Guessing game):\n",
        "# Create a guessing game where the computer randomly chooses a number and you guess it using bisection search. The program should guide you: \"Too high\", \"Too low\", or \"Correct\".\n",
        "# One-player guessing game\n",
        "print(\"Welcome to the Guessing Game!\")\n",
        "print(\"I'm thinking of a number between 1 and 100.\")\n",
        "secret = 42\n",
        "\n",
        "tries = 0\n",
        "guess = None\n",
        "\n",
        "while guess != secret:\n",
        "    try:\n",
        "        guess = int(input(\"Your guess: \"))\n",
        "        tries += 1\n",
        "\n",
        "        if guess < secret:6\n",
        "            print(\"Too low!\\n\")\n",
        "        elif guess > secret:\n",
        "            print(\"Too high!\\n\")\n",
        "        else:\n",
        "            print(f\" Correct! You got it in {tries} tries.\")\n",
        "    except ValueError:\n",
        "        print(\" Please enter a whole number.\\n\")\n",
        "\n"
      ],
      "metadata": {
        "colab": {
          "base_uri": "https://localhost:8080/"
        },
        "id": "COWXLtGEbeOi",
        "outputId": "eb47489b-5e44-48d5-a514-bd4e52f3f8e5"
      },
      "execution_count": 8,
      "outputs": [
        {
          "output_type": "stream",
          "name": "stdout",
          "text": [
            "Welcome to the Guessing Game!\n",
            "I'm thinking of a number between 1 and 100.\n",
            "Your guess: 57\n",
            "Too high!\n",
            "\n",
            "Your guess: 4\n",
            "Too low!\n",
            "\n",
            "Your guess: 49\n",
            "Too high!\n",
            "\n",
            "Your guess: 50\n",
            "Too high!\n",
            "\n",
            "Your guess: 42\n",
            " Correct! You got it in 5 tries.\n"
          ]
        }
      ]
    },
    {
      "cell_type": "code",
      "source": [],
      "metadata": {
        "id": "cAQu2SZz_Y7K"
      },
      "execution_count": null,
      "outputs": []
    }
  ]
}