{
  "nbformat": 4,
  "nbformat_minor": 0,
  "metadata": {
    "colab": {
      "provenance": []
    },
    "kernelspec": {
      "name": "python3",
      "display_name": "Python 3"
    },
    "language_info": {
      "name": "python"
    }
  },
  "cells": [
    {
      "cell_type": "code",
      "execution_count": 4,
      "metadata": {
        "colab": {
          "base_uri": "https://localhost:8080/"
        },
        "id": "V3CcAY326opD",
        "outputId": "42fb1dfa-8403-4dc6-c2f3-08dfddcea6ef"
      },
      "outputs": [
        {
          "output_type": "stream",
          "name": "stdout",
          "text": [
            "[3, 6]\n",
            "[1, 9]\n",
            "[]\n"
          ]
        }
      ],
      "source": [
        "# Finger Exercise Lecture 11\n",
        "# Implement the function that meets the specifications below:\n",
        "# def remove_and_sort(Lin, k):\n",
        "#     \"\"\" Lin is a list of ints\n",
        "#         k is an int >= 0\n",
        "#     Mutates Lin to remove the first k elements in Lin and\n",
        "#     then sorts the remaining elements in ascending order.\n",
        "#     If you run out of items to remove, Lin is mutated to an empty list.\n",
        "#     Does not return anything.\n",
        "#     \"\"\"\n",
        "#     # Your code here\n",
        "\n",
        "# # Examples:\n",
        "# L = [1,6,3]\n",
        "# k = 1\n",
        "# remove_and_sort(L, k)\n",
        "# print(L)   # prints the list [3, 6]\n",
        "def removeandsort(Lin, k):\n",
        "    del Lin[:k]\n",
        "    Lin.sort()\n",
        "\n",
        "L = [1, 6, 3]\n",
        "k = 1\n",
        "removeandsort(L, k)\n",
        "print(L)\n",
        "\n",
        "L = [5, 2, 8, 1, 9]\n",
        "k = 3\n",
        "removeandsort(L, k)\n",
        "print(L)\n",
        "\n",
        "L = [10, 20, 30]\n",
        "k = 5\n",
        "removeandsort(L, k)\n",
        "print(L)\n"
      ]
    },
    {
      "cell_type": "code",
      "source": [],
      "metadata": {
        "id": "n1ToaNKJ72rc"
      },
      "execution_count": null,
      "outputs": []
    }
  ]
}