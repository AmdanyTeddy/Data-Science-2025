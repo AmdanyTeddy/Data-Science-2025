{
  "nbformat": 4,
  "nbformat_minor": 0,
  "metadata": {
    "colab": {
      "provenance": []
    },
    "kernelspec": {
      "name": "python3",
      "display_name": "Python 3"
    },
    "language_info": {
      "name": "python"
    }
  },
  "cells": [
    {
      "cell_type": "code",
      "source": [
        "# Below is an intentionally buggy version of the program. Notice that the calculation of the perimeter is incorrect.\n",
        "# Run this code, observe its output, discuss why the result is wrong, and identify what needs to be fixed.\n",
        "# Buggy version: Calculate rectangle metrics with an incorrect perimeter calculation\n",
        "# Modify the buggy version to apply the correct formula.\n",
        "# Re-run the code to verify that the corrected version prints the expected perimeter (22.0 in this example).\n",
        "\n",
        "\n",
        "\n",
        "#Dimensions\n",
        "length = 8.0       # Length of the rectangle (in units)\n",
        "width = 3.0        # Width of the rectangle (in units)\n",
        "#Formula\n",
        "perimeter = 2 * (length + width)\n",
        "area = length * width\n",
        "\n",
        "# Print the results\n",
        "print(\"Area:\", area)\n",
        "print(\"Perimeter (buggy):\", perimeter)"
      ],
      "metadata": {
        "id": "OR0wmWID_1yZ",
        "outputId": "8b23df54-27d6-4adf-a637-ee39df80f6f4",
        "colab": {
          "base_uri": "https://localhost:8080/"
        }
      },
      "execution_count": 2,
      "outputs": [
        {
          "output_type": "stream",
          "name": "stdout",
          "text": [
            "Area: 24.0\n",
            "Perimeter (buggy): 22.0\n"
          ]
        }
      ]
    },
    {
      "cell_type": "code",
      "source": [],
      "metadata": {
        "id": "UMMHhaZcSNP7"
      },
      "execution_count": null,
      "outputs": []
    }
  ]
}