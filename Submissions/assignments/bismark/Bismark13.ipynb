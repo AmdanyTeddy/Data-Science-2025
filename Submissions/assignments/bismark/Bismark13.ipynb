{
  "nbformat": 4,
  "nbformat_minor": 0,
  "metadata": {
    "colab": {
      "provenance": []
    },
    "kernelspec": {
      "name": "python3",
      "display_name": "Python 3"
    },
    "language_info": {
      "name": "python"
    }
  },
  "cells": [
    {
      "cell_type": "markdown",
      "source": [
        "Weekend Assignment:\n",
        "\n",
        "Total Questions: 2\n",
        "Instructions:\n",
        "•\tImplement each function to meet its specification.\n",
        "•\tTest your functions with the provided example cases.\n",
        "•\tInclude error handling where necessary using try/except and assert.\n",
        "\n",
        "✅ Topic 13: Exceptions and Assertions\n",
        "\n",
        "Q1. Implement the function that meets the specification below:\n",
        "python\n",
        "CopyEdit\n",
        "def safe_average(L):\n",
        "    \"\"\"\n",
        "    L is a list of numbers (ints or floats). It may be empty or contain non-numeric values.\n",
        "    \n",
        "    Returns the average of all valid numeric elements in the list.\n",
        "    \n",
        "    - Ignores non-numeric items using exception handling.\n",
        "    - If there are no numeric elements, raises a ValueError.\n",
        "    \"\"\"\n",
        "    # Your code here\n",
        "\n",
        "# Examples:\n",
        "print(safe_average([10, 20, \"thirty\", 40]))  # prints 23.333...\n",
        "print(safe_average([\"a\", \"b\"]))              # raises ValueError\n",
        "\n",
        "Q2. Implement the function that meets the specification below:\n",
        "python\n",
        "CopyEdit\n",
        "def validate_transaction(amounts):\n",
        "    \"\"\"\n",
        "    amounts is a non-empty list of positive integers or floats representing transaction values.\n",
        "    \n",
        "    Uses assertions to ensure:\n",
        "    - the list is not empty\n",
        "    - all amounts are positive\n",
        "    Returns the total amount.\n",
        "    \n",
        "    Raises AssertionError with a message if validations fail.\n",
        "    \"\"\"\n",
        "    # Your code here\n",
        "\n",
        "# Examples:\n",
        "print(validate_transaction([100, 250.5, 89]))   # prints 439.5\n",
        "print(validate_transaction([]))                # raises AssertionError: \"Transaction list is empty\"\n",
        "print(validate_transaction([100, -50]))        # raises AssertionError: \"Transaction amount must be positive\"\n",
        "\n",
        "✅ Topic 14: Dictionaries\n",
        "\n",
        "Q3. Implement the function that meets the specification below:\n",
        "python\n",
        "CopyEdit\n",
        "def student_score_summary(scores, threshold):\n",
        "    \"\"\"\n",
        "    scores: a dictionary mapping student names (str) to total scores (int).\n",
        "    threshold: an integer score threshold.\n",
        "    \n",
        "    Returns a list of student names who scored above the threshold.\n",
        "    The list should be sorted alphabetically.\n",
        "    \"\"\"\n",
        "    # Your code here\n",
        "\n",
        "# Examples:\n",
        "students = {\"Alice\": 85, \"Bob\": 92, \"Charlie\": 78, \"Daisy\": 95}\n",
        "print(student_score_summary(students, 80))   # prints ['Alice', 'Bob', 'Daisy']\n",
        "print(student_score_summary(students, 100))  # prints []\n",
        "\n",
        "Q4. Implement the function that meets the specification below:\n",
        "python\n",
        "CopyEdit\n",
        "def merge_inventory(inv1, inv2):\n",
        "    \"\"\"\n",
        "    inv1 and inv2 are dictionaries mapping item names (str) to quantities (int).\n",
        "    \n",
        "    Returns a new dictionary that combines both inventories.\n",
        "    If an item appears in both, their quantities are summed.\n",
        "    \"\"\"\n",
        "    # Your code here\n",
        "\n",
        "# Examples:\n",
        "inv1 = {\"pen\": 10, \"notebook\": 5}\n",
        "inv2 = {\"notebook\": 3, \"eraser\": 7}\n",
        "print(merge_inventory(inv1, inv2))  # prints {'pen': 10, 'notebook': 8, 'eraser': 7}\n",
        "\n"
      ],
      "metadata": {
        "id": "rJGqnKjZbc9s"
      }
    },
    {
      "cell_type": "code",
      "source": [
        "def safe_average(L):\n",
        "    \"\"\"\n",
        "    L is a list of numbers (ints or floats). It may be empty or contain non-numeric values.\n",
        "    Returns the average of all valid numeric elements in the list.\n",
        "    Ignores non-numeric items using exception handling.\n",
        "    If there are no numeric elements, raises a ValueError.\n",
        "    \"\"\"\n",
        "    total = 0\n",
        "    count = 0\n",
        "    for item in L:\n",
        "        try:\n",
        "            num = float(item)\n",
        "            total += num\n",
        "            count += 1\n",
        "        except (ValueError, TypeError):\n",
        "            continue\n",
        "\n",
        "    if count == 0:\n",
        "        raise ValueError(\"No numeric elements found.\")\n",
        "\n",
        "    return total / count\n",
        "\n",
        "# Example tests\n",
        "print(safe_average([10, 20, \"thirty\", 40]))  # prints 23.333...\n",
        "# print(safe_average([\"a\", \"b\"]))            # raises ValueError\n"
      ],
      "metadata": {
        "colab": {
          "base_uri": "https://localhost:8080/"
        },
        "id": "aEoAxDoYbdSN",
        "outputId": "21ee228b-41c1-4aa9-ffa8-4210c5fe0384"
      },
      "execution_count": 8,
      "outputs": [
        {
          "output_type": "stream",
          "name": "stdout",
          "text": [
            "23.333333333333332\n"
          ]
        }
      ]
    },
    {
      "cell_type": "code",
      "source": [
        "def validate_transaction(amounts):\n",
        "    \"\"\"\n",
        "    amounts is a non-empty list of positive integers or floats representing transaction values.\n",
        "    Uses assertions to ensure:\n",
        "    - the list is not empty\n",
        "    - all amounts are positive\n",
        "    Returns the total amount.\n",
        "    Raises AssertionError with a message if validations fail.\n",
        "    \"\"\"\n",
        "    assert len(amounts) > 0, \"Transaction list is empty\"\n",
        "    for amount in amounts:\n",
        "        assert amount > 0, \"Transaction amount must be positive\"\n",
        "\n",
        "    return sum(amounts)\n",
        "\n",
        "# Example tests\n",
        "print(validate_transaction([100, 250.5, 89]))   # prints 439.5\n",
        "# print(validate_transaction([]))              # raises AssertionError\n",
        "# print(validate_transaction([100, -50]))      # raises AssertionError\n"
      ],
      "metadata": {
        "colab": {
          "base_uri": "https://localhost:8080/"
        },
        "id": "uXPdk7WObMdu",
        "outputId": "19385316-c6c2-439b-de41-d77f275b46ed"
      },
      "execution_count": 5,
      "outputs": [
        {
          "output_type": "stream",
          "name": "stdout",
          "text": [
            "439.5\n"
          ]
        }
      ]
    },
    {
      "cell_type": "code",
      "source": [
        "def student_score_summary(scores, threshold):\n",
        "    \"\"\"\n",
        "    scores: a dictionary mapping student names (str) to total scores (int).\n",
        "    threshold: an integer score threshold.\n",
        "    Returns a list of student names who scored above the threshold.\n",
        "    The list should be sorted alphabetically.\n",
        "    \"\"\"\n",
        "    result = [name for name, score in scores.items() if score > threshold]\n",
        "    return sorted(result)\n",
        "\n",
        "# Example tests\n",
        "students = {\"Alice\": 85, \"Bob\": 92, \"Charlie\": 78, \"Daisy\": 95}\n",
        "print(student_score_summary(students, 80))   # prints ['Alice', 'Bob', 'Daisy']\n",
        "print(student_score_summary(students, 100))  # prints []\n"
      ],
      "metadata": {
        "colab": {
          "base_uri": "https://localhost:8080/"
        },
        "id": "7fsqpsxlbPIA",
        "outputId": "f70dec01-4bbf-444e-b8c2-b0dd159a630d"
      },
      "execution_count": 6,
      "outputs": [
        {
          "output_type": "stream",
          "name": "stdout",
          "text": [
            "['Alice', 'Bob', 'Daisy']\n",
            "[]\n"
          ]
        }
      ]
    },
    {
      "cell_type": "code",
      "source": [
        "def merge_inventory(inv1, inv2):\n",
        "    \"\"\"\n",
        "    inv1 and inv2 are dictionaries mapping item names (str) to quantities (int).\n",
        "    Returns a new dictionary that combines both inventories.\n",
        "    If an item appears in both, their quantities are summed.\n",
        "    \"\"\"\n",
        "    merged = inv1.copy()\n",
        "    for item, quantity in inv2.items():\n",
        "        if item in merged:\n",
        "            merged[item] += quantity\n",
        "        else:\n",
        "            merged[item] = quantity\n",
        "    return merged\n",
        "\n",
        "# Example tests\n",
        "inv1 = {\"pen\": 10, \"notebook\": 5}\n",
        "inv2 = {\"notebook\": 3, \"eraser\": 7}\n",
        "print(merge_inventory(inv1, inv2))  # prints {'pen': 10, 'notebook': 8, 'eraser': 7}\n"
      ],
      "metadata": {
        "colab": {
          "base_uri": "https://localhost:8080/"
        },
        "id": "BMs4yc_tbRrS",
        "outputId": "cdbd7b7a-6a30-4ff4-add3-9cd3371056c2"
      },
      "execution_count": 7,
      "outputs": [
        {
          "output_type": "stream",
          "name": "stdout",
          "text": [
            "{'pen': 10, 'notebook': 8, 'eraser': 7}\n"
          ]
        }
      ]
    },
    {
      "cell_type": "code",
      "source": [],
      "metadata": {
        "id": "xoJzkrfybVT6"
      },
      "execution_count": null,
      "outputs": []
    }
  ]
}