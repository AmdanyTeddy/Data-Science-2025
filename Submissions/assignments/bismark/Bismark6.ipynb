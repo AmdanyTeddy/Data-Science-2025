{
  "nbformat": 4,
  "nbformat_minor": 0,
  "metadata": {
    "colab": {
      "provenance": []
    },
    "kernelspec": {
      "name": "python3",
      "display_name": "Python 3"
    },
    "language_info": {
      "name": "python"
    }
  },
  "cells": [
    {
      "cell_type": "code",
      "execution_count": 3,
      "metadata": {
        "colab": {
          "base_uri": "https://localhost:8080/"
        },
        "id": "WXYRtHnx5MiD",
        "outputId": "859bef20-ada1-4476-8fb7-d145459f6673"
      },
      "outputs": [
        {
          "output_type": "stream",
          "name": "stdout",
          "text": [
            "Enter a number(27\n",
            "Multiple of 3\n"
          ]
        }
      ],
      "source": [
        "# ELDOHUB\n",
        "# Assignment on Topic 7 and 8 - Functions\n",
        "# Challenge 1: Lambda Magic – Multiples of 3\n",
        "# Problem:\n",
        "# Write a lambda function that checks if a number is a multiple of 3.(10 Marks)\n",
        "# Lambda function to check multiple of 3\n",
        "\n",
        "# User input\n",
        "num = int(input(\"Enter a number(\"))\n",
        "#Lmbuda Magic formula\n",
        "is_multp_of_3 = lambda x: x % 3 == 0\n",
        "if is_multp_of_3(num):\n",
        "#Print\n",
        "    print(\"Multiple of 3\")\n",
        "else:\n",
        "    print(\"Not a multiple of 3\")\n",
        "\n"
      ]
    },
    {
      "cell_type": "code",
      "source": [
        "# Challenge 2: Using sum() and len() with Lists\n",
        "# Problem A: Find the average of a list of numbers (10 marks)\n",
        "# Function Signature:\n",
        "def average(L):\n",
        "    tl = sum(L)\n",
        "    co = len(L)\n",
        "    r = tl / co\n",
        "    return r\n",
        "\n",
        "my_list = [4, 8, 10, 6]\n",
        "print(\"Average is:\", average(my_list))\n"
      ],
      "metadata": {
        "colab": {
          "base_uri": "https://localhost:8080/"
        },
        "id": "Jha55x1O6Vvl",
        "outputId": "7244b04c-075b-4ac1-82a2-dcaad8b4f099"
      },
      "execution_count": 4,
      "outputs": [
        {
          "output_type": "stream",
          "name": "stdout",
          "text": [
            "Average is: 7.0\n"
          ]
        }
      ]
    },
    {
      "cell_type": "code",
      "source": [
        "#Problem B: Find the total number of letters in a list of strings(10 Marks)\n",
        "#Function Signature:\n",
        "def total_(words):\n",
        "    total = 0\n",
        "    for word in words:\n",
        "        total += len(word)\n",
        "    return total\n",
        "my_list = [\"Ngwashe\", \"Uji\", \"Matoke\"]\n",
        "print(\"Total letters:\", total_(my_list))"
      ],
      "metadata": {
        "colab": {
          "base_uri": "https://localhost:8080/"
        },
        "id": "1elRnM_47aH3",
        "outputId": "4633dda7-396c-42cd-e94d-e233dab4192f"
      },
      "execution_count": 5,
      "outputs": [
        {
          "output_type": "stream",
          "name": "stdout",
          "text": [
            "Total letters: 16\n"
          ]
        }
      ]
    },
    {
      "cell_type": "code",
      "source": [
        "# Challenge 3: Combine Lambda + List(10 Marks)\n",
        "# Problem:\n",
        "# Use filter() and a lambda to return all numbers divisible by 3 in a list.\n",
        "#My numbers\n",
        "numbers = [3, 4, 6, 8, 9]\n",
        "\n",
        "# Filter with lambda to GET numbers div3\n",
        "div3 = filter(lambda number: number % 3 == 0, numbers)\n",
        "\n",
        "# Convert & print it\n",
        "print(\"Numbers divisible by 3:\", list(div3))\n",
        "\n"
      ],
      "metadata": {
        "colab": {
          "base_uri": "https://localhost:8080/"
        },
        "id": "lswyf9qD7aO0",
        "outputId": "aa298ccb-b7d5-4128-c75f-db62679f71da"
      },
      "execution_count": 9,
      "outputs": [
        {
          "output_type": "stream",
          "name": "stdout",
          "text": [
            "Numbers divisible by 3: [3, 6, 9]\n"
          ]
        }
      ]
    },
    {
      "cell_type": "code",
      "source": [
        "# Challenge 4 (10 Marks)\n",
        "# Task:\n",
        "# Implement a function dot_product that does the following:\n",
        "# NB:Copy the whole code and run the problem first(Task on””” tA & tB”””)\n",
        "\n",
        "# def dot_product(tA, tB):\n",
        "#     \"\"\"\n",
        "#     tA: a tuple of numbers\n",
        "#     tB: a tuple of numbers of the same length as tA\n",
        "#     Returns a tuple (length, dot product of tA and tB)\n",
        "#     \"\"\"\n",
        "#     total = 0\n",
        "#     for i in range(len(tA)):\n",
        "#         total += tA[i] * tB[i]\n",
        "def dot_prod(tA, tB):\n",
        "    total = 0\n",
        "    for i in range(len(tA)):\n",
        "        total = total + (tA[i] * tB[i])\n",
        "    return (len(tA), total)\n",
        "a = (1, 2, 3)\n",
        "b = (4, 5, 6)\n",
        "\n",
        "answer = dot_prod(a, b)\n",
        "\n",
        "print(\"Length of tuples:\", answer[0])\n",
        "print(\"Dot prod:\", answer[1])\n"
      ],
      "metadata": {
        "colab": {
          "base_uri": "https://localhost:8080/"
        },
        "id": "kwy26AEU-jBC",
        "outputId": "519ed77c-4366-4036-a82f-61cd61199ccb"
      },
      "execution_count": 10,
      "outputs": [
        {
          "output_type": "stream",
          "name": "stdout",
          "text": [
            "Length of tuples: 3\n",
            "Dot prod: 32\n"
          ]
        }
      ]
    },
    {
      "cell_type": "code",
      "source": [],
      "metadata": {
        "id": "d8yYmZZsAFei"
      },
      "execution_count": null,
      "outputs": []
    }
  ]
}