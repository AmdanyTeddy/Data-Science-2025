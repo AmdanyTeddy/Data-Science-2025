{
  "nbformat": 4,
  "nbformat_minor": 0,
  "metadata": {
    "colab": {
      "provenance": []
    },
    "kernelspec": {
      "name": "python3",
      "display_name": "Python 3"
    },
    "language_info": {
      "name": "python"
    }
  },
  "cells": [
    {
      "cell_type": "markdown",
      "source": [
        "**Assignment \t17**\n",
        "\n",
        "Topic: Object-Oriented Programming\n",
        "\n",
        "Subtopics: Data Abstraction, Class Definition, Class Instances, Methods\n",
        "\n",
        "Challenge 1: 📦 The Box Class\n",
        "\n",
        "Goal: Practice class creation, comparison between objects, and area/volume calculations.\n",
        "\n",
        "Challenge 1\n",
        "Write a class called Box that:\n",
        "•\tHas attributes: length, width, height\n",
        "•\tHas a method get_volume() that returns the volume (length × width × height)\n",
        "•\tHas a method is_cube() that returns True if all sides are equal\n",
        "•\tHas a method bigger(other) that returns the box with a larger volume\n",
        "\n"
      ],
      "metadata": {
        "id": "lPmUoITsBtyJ"
      }
    },
    {
      "cell_type": "code",
      "source": [
        "class Box:\n",
        "    def __init__(self, length, width, height):\n",
        "        self.length = length\n",
        "        self.width = width\n",
        "        self.height = height\n",
        "\n",
        "    # The volume of the box (L × W × H)\n",
        "    def get_volume(self):\n",
        "        return self.length * self.width * self.height\n",
        "    def is_cube(self):\n",
        "        return self.length == self.width == self.height\n",
        "    def bigger(self, other_box):\n",
        "        if self.get_volume() >= other_box.get_volume():\n",
        "            return self\n",
        "        else:\n",
        "            return other_box\n"
      ],
      "metadata": {
        "id": "PcB5XVKrCqqZ"
      },
      "execution_count": 1,
      "outputs": []
    },
    {
      "cell_type": "code",
      "source": [
        "box1 = Box(2, 2, 2)\n",
        "box2 = Box(3, 2, 1)\n",
        "\n",
        "\n",
        "print(\"Box 1 volume:\", box1.get_volume())\n",
        "print(\"Box 2 volume:\", box2.get_volume())\n",
        "\n",
        "print(\"Is Box 1 a cube?\", box1.is_cube())\n",
        "print(\"Is Box 2 a cube?\", box2.is_cube())\n",
        "\n",
        "\n",
        "bigger_box = box1.bigger(box2)\n",
        "print(\"The bigger box has volume:\", bigger_box.get_volume())"
      ],
      "metadata": {
        "colab": {
          "base_uri": "https://localhost:8080/"
        },
        "id": "Rw9HKFIsC_qv",
        "outputId": "972232bd-ae68-44b6-e8b3-eeccd892161d"
      },
      "execution_count": 3,
      "outputs": [
        {
          "output_type": "stream",
          "name": "stdout",
          "text": [
            "Box 1 volume: 8\n",
            "Box 2 volume: 6\n",
            "Is Box 1 a cube? True\n",
            "Is Box 2 a cube? False\n",
            "The bigger box has volume: 8\n"
          ]
        }
      ]
    },
    {
      "cell_type": "markdown",
      "source": [
        "🧪\n",
        "\n",
        " Challenge 2: 🎵 The Song Class\n",
        "\n",
        "Goal: Practice instance attributes, conditionals, methods, and object interaction.\n",
        "\n",
        "Challenge 2\n",
        "\n",
        "Write a class called Song that:\n",
        "•\tHas attributes: title, artist, duration (in seconds)\n",
        "\n",
        "•\tHas a method is_long() that returns True if the song is over 5 minutes (300 seconds)\n",
        "\n",
        "•\tHas a method same_artist(other) that returns True if two songs have the same artist\n",
        "\n",
        "•\tHas a method longer_song(other) that returns the song with the longer duration\n"
      ],
      "metadata": {
        "id": "BOSXaIBtDkWp"
      }
    },
    {
      "cell_type": "code",
      "source": [
        "class Song:\n",
        "    def __init__(self, title, artist, duration):\n",
        "        self.title = title\n",
        "        self.artist = artist\n",
        "        self.duration = duration\n",
        "\n",
        "    def is_long(self):\n",
        "        return self.duration > 300\n",
        "\n",
        "    def same_artist(self, other_song):\n",
        "        return self.artist.lower() == other_song.artist.lower()\n",
        "\n",
        "    def longer_song(self, other_song):\n",
        "        if self.duration >= other_song.duration:\n",
        "            return self\n",
        "        else:\n",
        "            return other_song\n"
      ],
      "metadata": {
        "id": "taVI0gOlB_Iw"
      },
      "execution_count": 4,
      "outputs": []
    },
    {
      "cell_type": "code",
      "source": [
        "song1 = Song(\"Backbencher\", \"Toxic Lyrikali\", 326)\n",
        "song2 = Song(\"Thugnificent\", \"Toxic Lyrikali\", 298)\n",
        "print(\"Is song1 long?\", song1.is_long())\n",
        "print(\"Is song2 long?\", song2.is_long())\n",
        "\n",
        "print(\"Same artist?\", song1.same_artist(song2))\n",
        "\n",
        "longer = song1.longer_song(song2)\n",
        "print(\"The longer song is:\", longer.title)\n"
      ],
      "metadata": {
        "colab": {
          "base_uri": "https://localhost:8080/"
        },
        "id": "EBUJ6kcNBudI",
        "outputId": "aadcd2fb-def0-4ae0-ca39-4b04a0f80718"
      },
      "execution_count": 6,
      "outputs": [
        {
          "output_type": "stream",
          "name": "stdout",
          "text": [
            "Is song1 long? True\n",
            "Is song2 long? False\n",
            "Same artist? True\n",
            "The longer song is: Backbencher\n"
          ]
        }
      ]
    },
    {
      "cell_type": "code",
      "source": [],
      "metadata": {
        "id": "Ly9f982WELwp"
      },
      "execution_count": null,
      "outputs": []
    }
  ]
}