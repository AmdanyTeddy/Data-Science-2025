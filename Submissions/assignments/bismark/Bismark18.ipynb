{
  "nbformat": 4,
  "nbformat_minor": 0,
  "metadata": {
    "colab": {
      "provenance": []
    },
    "kernelspec": {
      "name": "python3",
      "display_name": "Python 3"
    },
    "language_info": {
      "name": "python"
    }
  },
  "cells": [
    {
      "cell_type": "markdown",
      "source": [
        "**Assigment 18**\n",
        "\n",
        "**Assignment 1: Understanding OOP with a Library System**\n",
        "\n",
        "**Objective: Practice __init__, self, custom methods, and comparison between objects (Lecture 17 focus)**\n",
        "\n",
        "📘 Task: Build a class-based Library Book Tracker\n",
        "Write a class called Book that:\n",
        "•\tHas attributes: title, author, year, copies_available\n",
        "•\tHas methods:\n",
        "•\tborrow() → Decrease copies_available by 1 if at least one copy is available, else print “Not available.”\n",
        "•\treturn_book() → Increase copies_available by 1\n",
        "•\tis_same_book(other) → Returns True if title and author match another book object\n",
        "\n"
      ],
      "metadata": {
        "id": "Si6FMZE9FgYz"
      }
    },
    {
      "cell_type": "code",
      "source": [
        "\n",
        "# # Sample Structure\n",
        "# class Book:\n",
        "#     def __init__(self, title, author, year, copies_available):\n",
        "#         # Initialize all attributes\n",
        "\n",
        "#     def borrow(self):\n",
        "#         # Reduce copies_available or print \"Not available.\"\n",
        "\n",
        "#     def return_book(self):\n",
        "#         # Increase copies_available\n",
        "\n",
        "#     def is_same_book(self, other):\n",
        "#         # Compare title and author\n",
        "# ✅ Example Test:\n",
        "\n",
        "# b1 = Book(\"Python Basics\", \"Dennis Omboga\", 2024, 3)\n",
        "# b2 = Book(\"Python Basics\", \"Dennis Omboga\", 2024, 2)\n",
        "\n",
        "# b1.borrow()          # reduces to 2\n",
        "# b1.borrow()          # reduces to 1\n",
        "# b1.return_book()     # increases to 2\n",
        "# print(b1.is_same_book(b2))  # True\n",
        "class Book:\n",
        "    def __init__(self, title, author, year, copies_available):\n",
        "        self.title = title\n",
        "        self.author = author\n",
        "        self.year = year\n",
        "        self.copies_available = copies_available\n",
        "\n",
        "    def borrow(self):\n",
        "        if self.copies_available > 0:\n",
        "            self.copies_available -= 1\n",
        "        else:\n",
        "            print(\"Not available.\")\n",
        "\n",
        "    def return_book(self):\n",
        "        self.copies_available += 1\n",
        "\n",
        "    def is_same_book(self, other):\n",
        "        return self.title.lower() == other.title.lower() and self.author.lower() == other.author.lower()"
      ],
      "metadata": {
        "id": "z2FiOyP9Fgnw"
      },
      "execution_count": null,
      "outputs": []
    },
    {
      "cell_type": "code",
      "source": [
        "b1 = Book(\"Python Basics\", \"Dennis Omboga\", 2024, 3)\n",
        "b2 = Book(\"Python Basics\", \"Dennis Omboga\", 2024, 2)\n",
        "\n",
        "b1.borrow()          # reduces to 2\n",
        "print(b1.copies_available)  # Output: 2\n",
        "\n",
        "b1.borrow()          # reduces to 1\n",
        "print(b1.copies_available)  # Output: 1\n",
        "\n",
        "b1.return_book()     # increases to 2\n",
        "print(b1.copies_available)  # Output: 2\n",
        "\n",
        "print(b1.is_same_book(b2))  # Output: True\n"
      ],
      "metadata": {
        "id": "0L8j4dAYG5z2",
        "colab": {
          "base_uri": "https://localhost:8080/"
        },
        "outputId": "551954b5-96e1-4212-cfd0-adacf5459646"
      },
      "execution_count": 2,
      "outputs": [
        {
          "output_type": "stream",
          "name": "stdout",
          "text": [
            "2\n",
            "1\n",
            "2\n",
            "True\n"
          ]
        }
      ]
    },
    {
      "cell_type": "markdown",
      "source": [
        "**Assignment 2: Customizing Behavior with Dunder**\n",
        "\n",
        "**Methods – Fraction Calculator**\n",
        "\n",
        "Objective: Apply __add__, __str__, and class composition (Lecture 18 focus)\n",
        "📗 Task: Create a class Fraction with dunder methods\n",
        "Write a class Fraction that:\n",
        "•\tStores a numerator and denominator (num, denom)\n",
        "•\tHas a method simplify() → Reduces the fraction (optional for bonus)\n",
        "•\tOverrides:\n",
        "•\t__add__ → Add two fractions using formula\n",
        "•\t__str__ → Pretty print (e.g., \"1/2\")\n",
        "•\t__eq__ → Return True if fractions are equal (e.g., 1/2 == 2/4)\n"
      ],
      "metadata": {
        "id": "YPZiQ_hAGG7-"
      }
    },
    {
      "cell_type": "code",
      "source": [
        "# # Sample Structure\n",
        "# class Fraction:\n",
        "#     def __init__(self, num, denom):\n",
        "#         # Store values\n",
        "\n",
        "#     def __add__(self, other):\n",
        "#         # Return a new Fraction object\n",
        "\n",
        "#     def __eq__(self, other):\n",
        "#         # Compare fractions\n",
        "\n",
        "#     def __str__(self):\n",
        "#         # Return \"num/denom\"\n",
        "# ✅ Example Test:\n",
        "\n",
        "# f1 = Fraction(1, 2)\n",
        "# f2 = Fraction(1, 4)\n",
        "# f3 = f1 + f2\n",
        "# print(f3)          # Output: 6/8 (or simplified)\n",
        "# print(f1 == f2)    # Output: False\n",
        "# print(f1 == Fraction(2, 4))  # True if simplified\n",
        "class Fraction:\n",
        "    def __init__(self, num, denom):\n",
        "        self.num = num\n",
        "        self.denom = denom\n",
        "\n",
        "    def simplify(self):\n",
        "        gcd = self._find_gcd(self.num, self.denom)\n",
        "        self.num //= gcd\n",
        "        self.denom //= gcd\n",
        "        return self\n",
        "\n",
        "    def _find_gcd(self, a, b):\n",
        "        while b != 0:\n",
        "            a, b = b, a % b\n",
        "        return a\n",
        "\n",
        "    def __add__(self, other):\n",
        "        new_num = self.num * other.denom + other.num * self.denom\n",
        "        new_denom = self.denom * other.denom\n",
        "        return Fraction(new_num, new_denom).simplify()\n",
        "\n",
        "    def __eq__(self, other):\n",
        "        a = Fraction(self.num, self.denom).simplify()\n",
        "        b = Fraction(other.num, other.denom).simplify()\n",
        "        return a.num == b.num and a.denom == b.denom\n",
        "\n",
        "    def __str__(self):\n",
        "        return f\"{self.num}/{self.denom}\"\n",
        "\n"
      ],
      "metadata": {
        "id": "DZFL_QR8GHXF"
      },
      "execution_count": 3,
      "outputs": []
    },
    {
      "cell_type": "code",
      "source": [
        "f1 = Fraction(1, 2)\n",
        "f2 = Fraction(1, 4)\n",
        "f3 = f1 + f2\n",
        "\n",
        "print(f3)                    # Output: 3/4\n",
        "print(f1 == f2)              # Output: False\n",
        "print(f1 == Fraction(2, 4))  # Output: True\n"
      ],
      "metadata": {
        "id": "6R8-aq2IHa_G",
        "outputId": "fd9225c9-01d2-45ef-86c8-b16546e6f2b7",
        "colab": {
          "base_uri": "https://localhost:8080/"
        }
      },
      "execution_count": 4,
      "outputs": [
        {
          "output_type": "stream",
          "name": "stdout",
          "text": [
            "3/4\n",
            "False\n",
            "True\n"
          ]
        }
      ]
    },
    {
      "cell_type": "code",
      "source": [],
      "metadata": {
        "id": "T3aK0u03Hd24"
      },
      "execution_count": null,
      "outputs": []
    }
  ]
}