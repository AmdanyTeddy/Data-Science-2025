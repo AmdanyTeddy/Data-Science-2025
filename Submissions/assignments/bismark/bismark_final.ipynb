{
  "nbformat": 4,
  "nbformat_minor": 0,
  "metadata": {
    "colab": {
      "provenance": []
    },
    "kernelspec": {
      "name": "python3",
      "display_name": "Python 3"
    },
    "language_info": {
      "name": "python"
    }
  },
  "cells": [
    {
      "cell_type": "code",
      "execution_count": 1,
      "metadata": {
        "colab": {
          "base_uri": "https://localhost:8080/"
        },
        "id": "0srGwkI48hwv",
        "outputId": "3d218a52-f298-4edd-c508-4888db20f871"
      },
      "outputs": [
        {
          "output_type": "stream",
          "name": "stdout",
          "text": [
            "Enter a word: I love the chaporolex price from Quickmart.\n",
            "Consonants: lvthchprlxprcfrmQckmrt\n"
          ]
        }
      ],
      "source": [
        "# Final Assignment\n",
        "# 🚀 Assignment Task 1:\n",
        "# Create a function that:\n",
        "# 1.\tAsks the user for a word.\n",
        "# 2.\tReturns only the consonants from that word.\n",
        "# Ask the user to enter a word\n",
        "word = input(\"Enter a word: \")\n",
        "\n",
        "# Defined vowels and the full alphabet\n",
        "vowels = \"aeiouAEIOU\"\n",
        "alphabet = \"abcdefghijklmnopqrstuvwxyzABCDEFGHIJKLMNOPQRSTUVWXYZ\"\n",
        "\n",
        "# Start with an empty string for consonants\n",
        "consonants = \"\"\n",
        "\n",
        "# Go through each letter\n",
        "for letter in word:\n",
        "    if letter in alphabet and letter not in vowels:\n",
        "        consonants += letter\n",
        "\n",
        "# Show the result\n",
        "print(\"Consonants:\", consonants)\n"
      ]
    },
    {
      "cell_type": "code",
      "source": [],
      "metadata": {
        "id": "nP4zC7t29I1V"
      },
      "execution_count": null,
      "outputs": []
    }
  ]
}