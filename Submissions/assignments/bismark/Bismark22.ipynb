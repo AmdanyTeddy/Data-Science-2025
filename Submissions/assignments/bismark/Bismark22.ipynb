{
  "cells": [
    {
      "cell_type": "markdown",
      "metadata": {
        "id": "XXO0xZz06j0q"
      },
      "source": [
        "# 📘 Assessment: Timing Programs, Counting Operations, and Complexity Analysis\n",
        "MIT 6.100L (Inspired) – Introduction to Computer Science and Programming Using Python  \n",
        "Eldo-Hub – Data Science Students  \n",
        "\n",
        "---\n",
        "## 🎯 Learning Goals\n",
        "- Reinforce concepts from **Lecture 21** (Timing Programs, Counting Operations)\n",
        "- Apply theory from **Lecture 22** (Big-O, Big-Theta, Order of Growth)\n",
        "- Practice analyzing and comparing algorithm performance\n",
        "- Build intuition for how runtime and complexity grow with input size\n",
        "\n",
        "---\n",
        "## 📂 Instructions\n",
        "- Complete each question below inside this notebook.\n",
        "- Use **code cells** for programming tasks.\n",
        "- Use **markdown cells** for explanations.\n",
        "- Submit your completed notebook as your assessment.\n",
        "\n",
        "---"
      ],
      "id": "XXO0xZz06j0q"
    },
    {
      "cell_type": "markdown",
      "metadata": {
        "id": "3ae8ZjI16j00"
      },
      "source": [
        "## Part 1: Timing Programs (Lecture 21)\n",
        "\n",
        "### Q1. Timing Functions\n",
        "Write two functions:\n",
        "1. A function that computes the sum of integers from 1 to n using a **loop**.\n",
        "2. A function that computes the sum of integers from 1 to n using the **formula** (n(n+1)/2).\n",
        "\n",
        "Use Python's `time` module to measure execution time for increasing values of n (`[10**3, 10**5, 10**7]`).\n",
        "\n",
        "**Task:** Compare the timing results and explain why they differ."
      ],
      "id": "3ae8ZjI16j00"
    },
    {
      "cell_type": "code",
      "source": [
        "import time\n",
        "\n",
        "def loop_sum(n):\n",
        "    total = 0\n",
        "    for i in range(1, n+1):\n",
        "        total += i\n",
        "    return total\n",
        "\n",
        "def formula_sum(n):\n",
        "    return n * (n + 1) // 2\n",
        "\n",
        "sizes = [10**3, 10**5, 10**7]\n",
        "\n",
        "for size in sizes:\n",
        "    start = time.time()\n",
        "    loop_sum(size)\n",
        "    loop_time = time.time() - start\n",
        "\n",
        "    start = time.time()\n",
        "    formula_sum(size)\n",
        "    formula_time = time.time() - start\n",
        "\n",
        "    print(f\"n = {size:,}\")\n",
        "    print(f\"  Loop sum time:     {loop_time:.6f} seconds\")\n",
        "    print(f\"  Formula sum time:  {formula_time:.6f} seconds\\n\")\n"
      ],
      "metadata": {
        "id": "lWmsCeDh61dW",
        "colab": {
          "base_uri": "https://localhost:8080/"
        },
        "outputId": "7a0fe9c5-627e-47ec-f7f9-62fee3a05c62"
      },
      "id": "lWmsCeDh61dW",
      "execution_count": 1,
      "outputs": [
        {
          "output_type": "stream",
          "name": "stdout",
          "text": [
            "n = 1,000\n",
            "  Loop sum time:     0.000047 seconds\n",
            "  Formula sum time:  0.000011 seconds\n",
            "\n",
            "n = 100,000\n",
            "  Loop sum time:     0.005564 seconds\n",
            "  Formula sum time:  0.000003 seconds\n",
            "\n",
            "n = 10,000,000\n",
            "  Loop sum time:     0.587255 seconds\n",
            "  Formula sum time:  0.000005 seconds\n",
            "\n"
          ]
        }
      ]
    },
    {
      "cell_type": "markdown",
      "metadata": {
        "id": "aLyME5126j09"
      },
      "source": [
        "### Q2. Counting Operations\n",
        "Modify your loop-based sum function to count how many operations it performs for input size `n`.\n",
        "\n",
        "**Task:** Express its growth in terms of Big-O notation."
      ],
      "id": "aLyME5126j09"
    },
    {
      "cell_type": "code",
      "source": [
        "def loop_sum_with_count(n):\n",
        "    total = 0\n",
        "    operations = 0\n",
        "\n",
        "    for i in range(1, n+1):\n",
        "        total += i\n",
        "        operations += 1   # sumin the addition p loop\n",
        "\n",
        "    return total, operations\n",
        "\n",
        "sizes = [10**3, 10**5, 10**7]\n",
        "\n",
        "for size in sizes:\n",
        "    _, opppps = loop_sum_with_count(size)\n",
        "    print(f\"n = {size:,} → operations = {opppps}\")\n"
      ],
      "metadata": {
        "id": "AFP8NR5Y63pi",
        "colab": {
          "base_uri": "https://localhost:8080/"
        },
        "outputId": "e3c32187-337f-4618-de07-b490bd15bdb8"
      },
      "id": "AFP8NR5Y63pi",
      "execution_count": 3,
      "outputs": [
        {
          "output_type": "stream",
          "name": "stdout",
          "text": [
            "n = 1,000 → operations = 1000\n",
            "n = 100,000 → operations = 100000\n",
            "n = 10,000,000 → operations = 10000000\n"
          ]
        }
      ]
    },
    {
      "cell_type": "markdown",
      "metadata": {
        "id": "gO3WdMen6j1B"
      },
      "source": [
        "## Part 2: Complexity Analysis (Lecture 22)\n",
        "\n",
        "### Q3. Linear vs Quadratic Growth\n",
        "Consider the following two functions:\n",
        "```python\n",
        "def linear_sum(L):\n",
        "    total = 0\n",
        "    for x in L:\n",
        "        total += x\n",
        "    return total\n",
        "\n",
        "def quadratic_pairs(L):\n",
        "    count = 0\n",
        "    for i in L:\n",
        "        for j in L:\n",
        "            count += i*j\n",
        "    return count\n",
        "```\n",
        "\n",
        "**Task:**\n",
        "1. Count the number of operations for both functions.\n",
        "2. Determine their order of growth (Big-O and Big-Theta).\n",
        "3. Plot their runtime growth for increasing input sizes."
      ],
      "id": "gO3WdMen6j1B"
    },
    {
      "cell_type": "code",
      "source": [],
      "metadata": {
        "id": "Bm6oDmYS65P6"
      },
      "id": "Bm6oDmYS65P6",
      "execution_count": null,
      "outputs": []
    },
    {
      "cell_type": "code",
      "source": [],
      "metadata": {
        "id": "Bp6NtdFU65B0"
      },
      "id": "Bp6NtdFU65B0",
      "execution_count": null,
      "outputs": []
    },
    {
      "cell_type": "markdown",
      "metadata": {
        "id": "7cx6zquK6j1C"
      },
      "source": [
        "### Q4. Searching Algorithms\n",
        "1. Implement **linear search** and **binary search**.\n",
        "2. Count the number of operations each requires for lists of size `[10**3, 10**4, 10**5, 10**6]`.\n",
        "3. Compare against Python's built-in `in` operator.\n",
        "\n",
        "**Task:** Plot how the number of operations grows with input size and explain the difference between Θ(n) and Θ(log n)."
      ],
      "id": "7cx6zquK6j1C"
    },
    {
      "cell_type": "code",
      "source": [],
      "metadata": {
        "id": "clKVqA2q66Fa"
      },
      "id": "clKVqA2q66Fa",
      "execution_count": null,
      "outputs": []
    },
    {
      "cell_type": "code",
      "source": [],
      "metadata": {
        "id": "dod2OgiK66CS"
      },
      "id": "dod2OgiK66CS",
      "execution_count": null,
      "outputs": []
    },
    {
      "cell_type": "markdown",
      "metadata": {
        "id": "XqUAkVZZ6j1E"
      },
      "source": [
        "## Part 3: Applied Analysis\n",
        "\n",
        "### Q5. Matrix Multiplication\n",
        "1. Write a function to multiply two n×n matrices.\n",
        "2. Count the number of operations.\n",
        "3. Express the complexity in Big-O and Big-Theta notation.\n",
        "\n",
        "**Hint:** Nested loops matter!"
      ],
      "id": "XqUAkVZZ6j1E"
    },
    {
      "cell_type": "code",
      "source": [
        "import time\n",
        "import matplotlib.pyplot as plt\n",
        "\n",
        "def linear_sum(L):\n",
        "    total = 0\n",
        "    operations = 0\n",
        "    for x in L:\n",
        "        total += x\n",
        "        operations += 1\n",
        "    return total, operations\n",
        "\n",
        "def quadratic_pairs(L):\n",
        "    count = 0\n",
        "    operations = 0\n",
        "    for i in L:\n",
        "        for j in L:\n",
        "            count += i * j\n",
        "            operations += 1\n",
        "    return count, operations\n",
        "\n",
        "sizes = [100, 500, 1000, 2000]  # manageable for plotting\n",
        "linear_times, quadratic_times = [], []\n",
        "linear_ops, quadratic_ops = [], []\n",
        "\n",
        "for n in sizes:\n",
        "    L = list(range(n))\n",
        "\n",
        "    start = time.time()\n",
        "    _, ops1 = linear_sum(L)\n",
        "    linear_times.append(time.time() - start)\n",
        "    linear_ops.append(ops1)\n",
        "\n",
        "    start = time.time()\n",
        "    _, ops2 = quadratic_pairs(L)\n",
        "    quadratic_times.append(time.time() - start)\n",
        "    quadratic_ops.append(ops2)\n",
        "\n",
        "    print(f\"n = {n:,}\")\n",
        "    print(f\"  Linear ops = {ops1}, time = {linear_times[-1]:.6f}s\")\n",
        "    print(f\"  Quadratic ops = {ops2}, time = {quadratic_times[-1]:.6f}s\\n\")\n",
        "\n",
        "# Plot runtimes\n",
        "plt.figure(figsize=(10,4))\n",
        "\n",
        "plt.subplot(1,2,1)\n",
        "plt.plot(sizes, linear_times, marker='o', label=\"Linear Sum\")\n",
        "plt.plot(sizes, quadratic_times, marker='o', label=\"Quadratic Pairs\")\n",
        "plt.xlabel(\"Input size (n)\")\n",
        "plt.ylabel(\"Time (seconds)\")\n",
        "plt.title(\"Runtime Growth\")\n",
        "plt.legend()\n",
        "\n",
        "# Plot operations\n",
        "plt.subplot(1,2,2)\n",
        "plt.plot(sizes, linear_ops, marker='o', label=\"Linear Ops\")\n",
        "plt.plot(sizes, quadratic_ops, marker='o', label=\"Quadratic Ops\")\n",
        "plt.xlabel(\"Input size (n)\")\n",
        "plt.ylabel(\"Operations\")\n",
        "plt.title(\"Operation Growth\")\n",
        "plt.legend()\n",
        "\n",
        "plt.tight_layout()\n",
        "plt.show()\n"
      ],
      "metadata": {
        "id": "ewHj20se67In",
        "colab": {
          "base_uri": "https://localhost:8080/",
          "height": 685
        },
        "outputId": "d6f54cb2-c9c9-45c2-d872-bff6788bbbcf"
      },
      "id": "ewHj20se67In",
      "execution_count": 4,
      "outputs": [
        {
          "output_type": "stream",
          "name": "stdout",
          "text": [
            "n = 100\n",
            "  Linear ops = 100, time = 0.000028s\n",
            "  Quadratic ops = 10000, time = 0.001518s\n",
            "\n",
            "n = 500\n",
            "  Linear ops = 500, time = 0.000051s\n",
            "  Quadratic ops = 250000, time = 0.043595s\n",
            "\n",
            "n = 1,000\n",
            "  Linear ops = 1000, time = 0.000106s\n",
            "  Quadratic ops = 1000000, time = 0.174974s\n",
            "\n",
            "n = 2,000\n",
            "  Linear ops = 2000, time = 0.000225s\n",
            "  Quadratic ops = 4000000, time = 0.607211s\n",
            "\n"
          ]
        },
        {
          "output_type": "display_data",
          "data": {
            "text/plain": [
              "<Figure size 1000x400 with 2 Axes>"
            ],
            "image/png": "[encoded data removed]"
          },
          "metadata": {}
        }
      ]
    },
    {
      "cell_type": "markdown",
      "metadata": {
        "id": "_0WPMLtv6j1F"
      },
      "source": [
        "### Q6. Best, Worst, and Average Case\n",
        "Modify your **linear search** to count operations separately for:\n",
        "- Best case (element is first)\n",
        "- Worst case (element is last or missing)\n",
        "- Average case (element is in the middle)\n",
        "\n",
        "**Task:** Report the operation counts and classify their Big-O/Theta behavior."
      ],
      "id": "_0WPMLtv6j1F"
    },
    {
      "cell_type": "code",
      "source": [
        "def linear_search(L, target):\n",
        "    operations = 0\n",
        "    for i, val in enumerate(L):\n",
        "        operations += 1  # comparison\n",
        "        if val == target:\n",
        "            return i, operations\n",
        "    return -1, operations  # not found\n",
        "\n",
        "# Test sizes\n",
        "sizes = [10**3, 10**4, 10**5]\n",
        "\n",
        "for n in sizes:\n",
        "    L = list(range(n))\n",
        "\n",
        "    # Best case: element is first\n",
        "    _, best_ops = linear_search(L, L[0])\n",
        "\n",
        "    # Average case: element in middle\n",
        "    _, avg_ops = linear_search(L, L[n//2])\n",
        "\n",
        "    # Worst case: element is last\n",
        "    _, worst_ops = linear_search(L, L[-1])\n",
        "\n",
        "    # Missing case: not in list\n",
        "    _, missing_ops = linear_search(L, -1)\n",
        "\n",
        "    print(f\"n = {n:,}\")\n",
        "    print(f\"  Best case ops     = {best_ops}\")\n",
        "    print(f\"  Average case ops  = {avg_ops}\")\n",
        "    print(f\"  Worst case ops    = {worst_ops}\")\n",
        "    print(f\"  Missing case ops  = {missing_ops}\\n\")\n"
      ],
      "metadata": {
        "id": "U59vQG2K68Ef",
        "colab": {
          "base_uri": "https://localhost:8080/"
        },
        "outputId": "3024e606-acb0-48a7-a9d2-772412025bba"
      },
      "id": "U59vQG2K68Ef",
      "execution_count": 5,
      "outputs": [
        {
          "output_type": "stream",
          "name": "stdout",
          "text": [
            "n = 1,000\n",
            "  Best case ops     = 1\n",
            "  Average case ops  = 501\n",
            "  Worst case ops    = 1000\n",
            "  Missing case ops  = 1000\n",
            "\n",
            "n = 10,000\n",
            "  Best case ops     = 1\n",
            "  Average case ops  = 5001\n",
            "  Worst case ops    = 10000\n",
            "  Missing case ops  = 10000\n",
            "\n",
            "n = 100,000\n",
            "  Best case ops     = 1\n",
            "  Average case ops  = 50001\n",
            "  Worst case ops    = 100000\n",
            "  Missing case ops  = 100000\n",
            "\n"
          ]
        }
      ]
    },
    {
      "cell_type": "markdown",
      "metadata": {
        "id": "A0-oEtQ46j1H"
      },
      "source": [
        "---\n",
        "## ✅ Submission Checklist\n",
        "- [ ] Completed all code implementations\n",
        "- [ ] Counted operations where required\n",
        "- [ ] Classified complexities in Big-O and Big-Theta\n",
        "- [ ] Plotted growth where asked\n",
        "- [ ] Explained observations clearly\n",
        "\n",
        "Great work! 🚀 This assessment prepares you for **Lecture 24**."
      ],
      "id": "A0-oEtQ46j1H"
    }
  ],
  "metadata": {
    "kernelspec": {
      "display_name": "Python 3",
      "language": "python",
      "name": "python3"
    },
    "language_info": {
      "name": "python",
      "version": "3.10"
    },
    "colab": {
      "provenance": []
    }
  },
  "nbformat": 4,
  "nbformat_minor": 5
}