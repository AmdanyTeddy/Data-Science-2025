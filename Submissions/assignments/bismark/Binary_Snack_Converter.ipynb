{
  "nbformat": 4,
  "nbformat_minor": 0,
  "metadata": {
    "colab": {
      "provenance": []
    },
    "kernelspec": {
      "name": "python3",
      "display_name": "Python 3"
    },
    "language_info": {
      "name": "python"
    }
  },
  "cells": [
    {
      "cell_type": "code",
      "execution_count": 3,
      "metadata": {
        "colab": {
          "base_uri": "https://localhost:8080/"
        },
        "id": "kTOsdASyI2rr",
        "outputId": "00049ca1-bc1e-4085-8b9d-d07a35903999"
      },
      "outputs": [
        {
          "output_type": "stream",
          "name": "stdout",
          "text": [
            "Welcome to the Binary Snack Machine!\n",
            "Enter snack price (between 0 and 10): 1.22\n",
            "Binary price: 1.00111000\n",
            "Enjoy your snack!\n"
          ]
        }
      ],
      "source": [
        "# Challenge: Binary Snack Machine (15–20 min, Individual or Pairs)\n",
        "# Scenario:\n",
        "# Imagine you're building a digital snack machine that only understands numbers in binary. To buy your favorite snack, you must input the price in binary — including the fractional part!\n",
        "# Task:\n",
        "# Write a Python program that asks the user for a price (a float between 0 and 10), then prints its binary representation, using guess-and-check logic for the fractional part.\n",
        "\n",
        "# Requirements\n",
        "# •\tHandle both integer and fractional parts.\n",
        "# •\tRound the fractional binary to maximum 8 bits.\n",
        "# •\tIf the user enters 2.75, output should be: 10.11\n",
        "# •\tIf the user enters 0.625, output should be: 0.101\n",
        "# •\tAdd emoji or messages for fun if you like!\n",
        "# Very simple binary converter without built-in helpers\n",
        "\n",
        "print(\"Welcome to the Binary Snack Machine!\")\n",
        "price = float(input(\"Enter snack price (between 0 and 10): \"))\n",
        "\n",
        "if price < 0 or price > 10:\n",
        "    print(\"Invalid input! Price must be between 0 and 10.\")\n",
        "else:\n",
        "    # Separate integer and fractional parts\n",
        "    integer_part = int(price)\n",
        "    fraction_part = price - integer_part\n",
        "\n",
        "    # Convert intege to binary\n",
        "    int_binary = \"\"\n",
        "    if integer_part == 0:\n",
        "        int_binary = \"0\"\n",
        "    else:\n",
        "        while integer_part > 0:\n",
        "            remainder = integer_part % 2\n",
        "            int_binary = str(remainder) + int_binary\n",
        "            integer_part = integer_part // 2\n",
        "\n",
        "    # Convert fractional pat to binary\n",
        "    frac_binary = \"\"\n",
        "    count = 0\n",
        "    while fraction_part > 0 and count < 8:\n",
        "        fraction_part = fraction_part * 2\n",
        "        bit = int(fraction_part)\n",
        "        frac_binary += str(bit)\n",
        "        fraction_part = fraction_part - bit\n",
        "        count += 1\n",
        "    if frac_binary != \"\":\n",
        "        print(\"Binary price: \" + int_binary + \".\" + frac_binary)\n",
        "    else:\n",
        "        print(\"Binary price: \" + int_binary)\n",
        "\n",
        "    print(\"Enjoy your snack!\")\n",
        "\n",
        "\n"
      ]
    },
    {
      "cell_type": "code",
      "source": [
        "\n",
        "print(\"Welcome to the Binary Snack Machine!\")\n",
        "price = float(input(\"Enter snack price (between 0 and 10): \"))\n",
        "\n",
        "if price < 0 or price > 10:\n",
        "    print(\"Invalid input! Price must be between 0 and 10.\")\n",
        "else:\n",
        "    # Separate integer and fractional parts\n",
        "    integer_part = int(price)\n",
        "    fraction_part = price - integer_part\n",
        "\n",
        "    # Convert intege to binary\n",
        "    int_binary = \"\"\n",
        "    if integer_part == 0:\n",
        "        int_binary = \"0\"\n",
        "    else:\n",
        "        while integer_part > 0:\n",
        "            remainder = integer_part % 2\n",
        "            int_binary = str(remainder) + int_binary\n",
        "            integer_part = integer_part // 2\n",
        "\n",
        "    # Convert fractional pat to binary\n",
        "    frac_binary = \"\"\n",
        "    count = 0\n",
        "    while fraction_part > 0 and count < 8:\n",
        "        fraction_part = fraction_part * 2\n",
        "        bit = int(fraction_part)\n",
        "        frac_binary += str(bit)\n",
        "        fraction_part = fraction_part - bit\n",
        "        count += 1\n",
        "    if frac_binary != \"\":\n",
        "        print(\"Binary price: \" + int_binary + \".\" + frac_binary)\n",
        "    else:\n",
        "        print(\"Binary price: \" + int_binary)\n",
        "\n",
        "    print(\"Enjoy your snack!\")\n",
        "\n",
        "\n"
      ],
      "metadata": {
        "colab": {
          "base_uri": "https://localhost:8080/"
        },
        "id": "feGlizSbJhOS",
        "outputId": "728645b6-d008-4355-b27d-9a7d6fa14963"
      },
      "execution_count": 4,
      "outputs": [
        {
          "output_type": "stream",
          "name": "stdout",
          "text": [
            "Welcome to the Binary Snack Machine!\n",
            "Enter snack price (between 0 and 10): 9\n",
            "Binary price: 1001\n",
            "Enjoy your snack!\n"
          ]
        }
      ]
    },
    {
      "cell_type": "code",
      "source": [],
      "metadata": {
        "id": "A4E4xCiDMKLB"
      },
      "execution_count": null,
      "outputs": []
    }
  ]
}