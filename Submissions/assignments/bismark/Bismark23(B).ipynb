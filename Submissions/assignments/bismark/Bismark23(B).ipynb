{
  "cells": [
    {
      "cell_type": "markdown",
      "id": "e0f3b3c2",
      "metadata": {
        "id": "e0f3b3c2"
      },
      "source": [
        "# Complexity Assignment – Lecture 23B\n",
        "\n",
        "Solutions for Q1–Q5"
      ]
    },
    {
      "cell_type": "markdown",
      "id": "f38dbf6c",
      "metadata": {
        "id": "f38dbf6c"
      },
      "source": [
        "## Q1. Timing Functions"
      ]
    },
    {
      "cell_type": "code",
      "execution_count": null,
      "id": "a80c59d5",
      "metadata": {
        "id": "a80c59d5"
      },
      "outputs": [],
      "source": [
        "\n",
        "import time\n",
        "\n",
        "# Sum using loop\n",
        "def sum_loop(n):\n",
        "    total = 0\n",
        "    for i in range(1, n+1):\n",
        "        total += i\n",
        "    return total\n",
        "\n",
        "# Sum using formula\n",
        "def sum_formula(n):\n",
        "    return n * (n + 1) // 2\n",
        "\n",
        "# Timing tests\n",
        "n_values = [10**3, 10**5, 10**7]\n",
        "\n",
        "for n in n_values:\n",
        "    start = time.time()\n",
        "    result1 = sum_loop(n)\n",
        "    end = time.time()\n",
        "    loop_time = end - start\n",
        "\n",
        "    start = time.time()\n",
        "    result2 = sum_formula(n)\n",
        "    end = time.time()\n",
        "    formula_time = end - start\n",
        "\n",
        "    print(f\"n={n}\")\n",
        "    print(f\" Loop time: {loop_time:.6f}s, result={result1}\")\n",
        "    print(f\" Formula time: {formula_time:.6f}s, result={result2}\")\n",
        "    print(\"-\"*40)\n"
      ]
    },
    {
      "cell_type": "markdown",
      "id": "8ab02cd7",
      "metadata": {
        "id": "8ab02cd7"
      },
      "source": [
        "Explanation:\n",
        "- Loop → O(n), grows linearly.\n",
        "- Formula → O(1), constant time."
      ]
    },
    {
      "cell_type": "markdown",
      "id": "b5d907ae",
      "metadata": {
        "id": "b5d907ae"
      },
      "source": [
        "## Q2. Counting Operations"
      ]
    },
    {
      "cell_type": "code",
      "execution_count": null,
      "id": "fa904dba",
      "metadata": {
        "id": "fa904dba"
      },
      "outputs": [],
      "source": [
        "\n",
        "def sum_loop_operations(n):\n",
        "    total = 0\n",
        "    operations = 0\n",
        "    for i in range(1, n+1):\n",
        "        total += i\n",
        "        operations += 1   # one addition per loop\n",
        "    return total, operations\n",
        "\n",
        "# Example\n",
        "for n in [10**3, 10**5, 10**7]:\n",
        "    result, ops = sum_loop_operations(n)\n",
        "    print(f\"n={n}, operations={ops}\")\n"
      ]
    },
    {
      "cell_type": "markdown",
      "id": "655ee2fc",
      "metadata": {
        "id": "655ee2fc"
      },
      "source": [
        "Number of operations = n → Growth = O(n)."
      ]
    },
    {
      "cell_type": "markdown",
      "id": "e8fe3e1e",
      "metadata": {
        "id": "e8fe3e1e"
      },
      "source": [
        "## Q3. Linear vs Binary Search"
      ]
    },
    {
      "cell_type": "code",
      "execution_count": null,
      "id": "3eb69d6c",
      "metadata": {
        "id": "3eb69d6c"
      },
      "outputs": [],
      "source": [
        "\n",
        "import random\n",
        "\n",
        "# Linear Search\n",
        "def linear_search(arr, target):\n",
        "    operations = 0\n",
        "    for x in arr:\n",
        "        operations += 1\n",
        "        if x == target:\n",
        "            return True, operations\n",
        "    return False, operations\n",
        "\n",
        "# Binary Search\n",
        "def binary_search(arr, target):\n",
        "    low, high = 0, len(arr) - 1\n",
        "    operations = 0\n",
        "    while low <= high:\n",
        "        mid = (low + high) // 2\n",
        "        operations += 1\n",
        "        if arr[mid] == target:\n",
        "            return True, operations\n",
        "        elif arr[mid] < target:\n",
        "            low = mid + 1\n",
        "        else:\n",
        "            high = mid - 1\n",
        "    return False, operations\n",
        "\n",
        "# Compare\n",
        "arr = list(range(10**5))\n",
        "target = random.choice(arr)\n",
        "\n",
        "found_lin, ops_lin = linear_search(arr, target)\n",
        "found_bin, ops_bin = binary_search(arr, target)\n",
        "\n",
        "print(f\"Linear Search operations: {ops_lin} (O(n))\")\n",
        "print(f\"Binary Search operations: {ops_bin} (O(log n))\")\n"
      ]
    },
    {
      "cell_type": "markdown",
      "id": "6cd68418",
      "metadata": {
        "id": "6cd68418"
      },
      "source": [
        "## Q4. Matrix Multiplication Complexity"
      ]
    },
    {
      "cell_type": "code",
      "execution_count": null,
      "id": "18de844a",
      "metadata": {
        "id": "18de844a"
      },
      "outputs": [],
      "source": [
        "\n",
        "def matrix_multiply(A, B):\n",
        "    n = len(A)\n",
        "    C = [[0]*n for _ in range(n)]\n",
        "    operations = 0\n",
        "\n",
        "    for i in range(n):\n",
        "        for j in range(n):\n",
        "            for k in range(n):\n",
        "                C[i][j] += A[i][k] * B[k][j]\n",
        "                operations += 2  # one multiplication, one addition\n",
        "    return C, operations\n",
        "\n",
        "# Example with n=3\n",
        "A = [[1,2,3],[4,5,6],[7,8,9]]\n",
        "B = [[9,8,7],[6,5,4],[3,2,1]]\n",
        "\n",
        "_, ops = matrix_multiply(A, B)\n",
        "print(f\"Operations for 3x3: {ops}\")\n"
      ]
    },
    {
      "cell_type": "markdown",
      "id": "b12bf4a4",
      "metadata": {
        "id": "b12bf4a4"
      },
      "source": [
        "Complexity: O(n³). Exact operations ≈ 2n³."
      ]
    },
    {
      "cell_type": "markdown",
      "id": "df37c3fd",
      "metadata": {
        "id": "df37c3fd"
      },
      "source": [
        "## Q5. Best, Worst, and Average Case (Linear Search)"
      ]
    },
    {
      "cell_type": "code",
      "execution_count": null,
      "id": "05988028",
      "metadata": {
        "id": "05988028"
      },
      "outputs": [],
      "source": [
        "\n",
        "def linear_search_cases(arr, target):\n",
        "    n = len(arr)\n",
        "\n",
        "    # Best Case: target is first\n",
        "    best = 1\n",
        "\n",
        "    # Worst Case: target missing or last element\n",
        "    worst = n\n",
        "\n",
        "    # Average Case: assume target uniformly random\n",
        "    avg = n / 2\n",
        "\n",
        "    return best, worst, avg\n",
        "\n",
        "# Example\n",
        "n = 10**5\n",
        "best, worst, avg = linear_search_cases(list(range(n)), -1)\n",
        "print(f\"n={n} → Best={best}, Worst={worst}, Average≈{avg}\")\n"
      ]
    },
    {
      "cell_type": "markdown",
      "id": "e597da1f",
      "metadata": {
        "id": "e597da1f"
      },
      "source": [
        "Best = O(1), Worst = O(n), Average ≈ O(n)."
      ]
    }
  ],
  "metadata": {
    "colab": {
      "provenance": []
    }
  },
  "nbformat": 4,
  "nbformat_minor": 5
}