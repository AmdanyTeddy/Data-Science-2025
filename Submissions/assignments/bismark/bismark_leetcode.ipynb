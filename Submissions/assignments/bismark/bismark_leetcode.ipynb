{
  "nbformat": 4,
  "nbformat_minor": 0,
  "metadata": {
    "colab": {
      "provenance": []
    },
    "kernelspec": {
      "name": "python3",
      "display_name": "Python 3"
    },
    "language_info": {
      "name": "python"
    }
  },
  "cells": [
    {
      "cell_type": "markdown",
      "source": [
        "**14. Longest Common Prefix**\n",
        "\n",
        "Write a function to find the longest common prefix string amongst an array of strings.\n",
        "\n",
        "If there is no common prefix, return an empty string \"\".\n",
        "\n",
        "\n",
        "\n",
        "Example 1:\n",
        "\n",
        "Input: strs = [\"flower\",\"flow\",\"flight\"]\n",
        "Output: \"fl\"\n",
        "Example 2:\n",
        "\n",
        "Input: strs = [\"dog\",\"racecar\",\"car\"]\n",
        "Output: \"\"\n",
        "Explanation: There is no common prefix among the input strings.\n",
        "\n",
        "\n",
        "Constraints:\n",
        "\n",
        "1 <= strs.length <= 200\n",
        "0 <= strs[i].length <= 200\n",
        "strs[i] consists of only lowercase English letters if it is non-empty."
      ],
      "metadata": {
        "id": "8YmtksJhv3ZP"
      }
    },
    {
      "cell_type": "code",
      "source": [
        "def longestCommonPrefix(strs):\n",
        "    if not strs:\n",
        "        return \"\"\n",
        "\n",
        "    prefix = strs[0]\n",
        "\n",
        "    for string in strs[1:]:\n",
        "\n",
        "        while not string.startswith(prefix):\n",
        "            prefix = prefix[:-1]\n",
        "            if not prefix:\n",
        "                return \"\"\n",
        "\n",
        "    return prefix\n"
      ],
      "metadata": {
        "id": "T4LTvwziv-7v"
      },
      "execution_count": 1,
      "outputs": []
    },
    {
      "cell_type": "code",
      "source": [
        "print(longestCommonPrefix([\"flower\",\"flow\",\"flight\"]))\n",
        "print(longestCommonPrefix([\"dog\",\"racecar\",\"car\"]))\n"
      ],
      "metadata": {
        "colab": {
          "base_uri": "https://localhost:8080/"
        },
        "id": "3YT2PxrYwfAQ",
        "outputId": "063df473-107d-4c5f-9828-a1c226b5b051"
      },
      "execution_count": 3,
      "outputs": [
        {
          "output_type": "stream",
          "name": "stdout",
          "text": [
            "fl\n",
            "\n"
          ]
        }
      ]
    },
    {
      "cell_type": "code",
      "source": [],
      "metadata": {
        "id": "KmX59Zikwh1v"
      },
      "execution_count": null,
      "outputs": []
    }
  ]
}