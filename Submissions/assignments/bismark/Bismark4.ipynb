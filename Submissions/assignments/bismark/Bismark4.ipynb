{
  "nbformat": 4,
  "nbformat_minor": 0,
  "metadata": {
    "colab": {
      "provenance": []
    },
    "kernelspec": {
      "name": "python3",
      "display_name": "Python 3"
    },
    "language_info": {
      "name": "python"
    }
  },
  "cells": [
    {
      "cell_type": "code",
      "source": [
        "#Name display program\n",
        "user_name = input(\"Enter your name: \")\n",
        "#Age display program\n",
        "age= input(\"Enter your age:\")\n",
        "print(f\"Hello !,{user_name}.Your {age} years old\")"
      ],
      "metadata": {
        "colab": {
          "base_uri": "https://localhost:8080/"
        },
        "id": "hObqeckIIuMj",
        "outputId": "d693ca08-bc96-4c64-e98a-4a7a2b0df166"
      },
      "execution_count": null,
      "outputs": [
        {
          "output_type": "stream",
          "name": "stdout",
          "text": [
            "Enter your age:18\n",
            "Hello !,Bismark.Your 18 years old\n"
          ]
        }
      ]
    },
    {
      "cell_type": "code",
      "source": [
        "#Name Display program\n",
        "message1 = f\"Bismark Koima\"\n",
        "#Age display program\n",
        "message2 = f\"My age is 18 years old.\"\n",
        "print(message1, \"\\n\", message2)\n"
      ],
      "metadata": {
        "colab": {
          "base_uri": "https://localhost:8080/"
        },
        "id": "PP805xZVJ-Uq",
        "outputId": "8e8aab21-2a06-4000-babe-2cc6e5030054"
      },
      "execution_count": null,
      "outputs": [
        {
          "output_type": "stream",
          "name": "stdout",
          "text": [
            "Bismark Koima \n",
            " My age is 18 years old.\n"
          ]
        }
      ]
    },
    {
      "cell_type": "code",
      "source": [],
      "metadata": {
        "id": "kRrldXSWKcvi"
      },
      "execution_count": null,
      "outputs": []
    }
  ]
}