{
  "nbformat": 4,
  "nbformat_minor": 0,
  "metadata": {
    "colab": {
      "provenance": [],
      "include_colab_link": true
    },
    "kernelspec": {
      "name": "python3",
      "display_name": "Python 3"
    },
    "language_info": {
      "name": "python"
    }
  },
  "cells": [
    {
      "cell_type": "markdown",
      "metadata": {
        "id": "view-in-github",
        "colab_type": "text"
      },
      "source": [
        "<a href=\"https://colab.research.google.com/github/denzel2025/-data-science_2025_class-/blob/main/Assign2.ipynb\" target=\"_parent\"><img src=\"https://colab.research.google.com/assets/colab-badge.svg\" alt=\"Open In Colab\"/></a>"
      ]
    },
    {
      "cell_type": "code",
      "execution_count": null,
      "metadata": {
        "id": "yiNbXUVMA_TC"
      },
      "outputs": [],
      "source": [
        "### **Assignment Instructions:**\n",
        "# 1. **Refactor the Code:**\n",
        "    #- **Improve Formatting:**\n",
        "        #- Separate multiple statements onto individual lines.\n",
        "        #- Ensure proper spacing around operators.\n",
        "    #- **Use Meaningful Variable Names:**\n",
        "        #- Rename variables like `r`, `h`, `vol`, and `sa` to more descriptive names (e.g., `radius`, `height`, `volume`, `surface_area`).\n",
        "    #- **Add Comments:**\n",
        "        #- Include comments that explain each part of the code (e.g., what the formulas compute).\n",
        "    #- **Enhance Readability:**\n",
        "        #- Structure the code in a way that it is easy to read and understand.\n",
        "#2. **Test Your Code:**\n",
        "    #- Run the refactored code to verify that it correctly computes and prints the cylinder’s volume and surface area.\n",
        "    #- Ensure that the functionality remains unchanged.\n",
        "\n",
        "\n",
        "# messy code to compute cylinder metrics\n",
        "r=3.0; h=5\n",
        "vol=3.14159*r**2*h; sa=2*3.14159*r*(r+h)\n",
        "print(\"Vol:\",vol,\"SurfArea:\", sa)"
      ]
    },
    {
      "cell_type": "code",
      "source": [
        "# Program to compute the volume and surface area of a cylinder\n",
        "\n",
        "# Define the radius and height of the cylinder\n",
        "radius = 3.0\n",
        "height = 5.0\n",
        "\n",
        "# Calculate the volume of the cylinder using the formula: V = π * r^2 * h\n",
        "volume = 3.14159 * radius ** 2 * height\n",
        "\n",
        "# Calculate the surface area using the formula: SA = 2 * π * r * (r + h)\n",
        "surface_area = 2 * 3.14159 * radius * (radius + height)\n",
        "\n",
        "# Display the results\n",
        "print(\"Volume:\", volume)\n",
        "print(\"Surface Area:\", surface_area)\n"
      ],
      "metadata": {
        "id": "wy5Lf-Q4BPEj",
        "outputId": "c69bddd5-a11f-484d-ae36-836b93f3b8fa",
        "colab": {
          "base_uri": "https://localhost:8080/"
        }
      },
      "execution_count": 1,
      "outputs": [
        {
          "output_type": "stream",
          "name": "stdout",
          "text": [
            "Volume: 141.37155\n",
            "Surface Area: 150.79631999999998\n"
          ]
        }
      ]
    },
    {
      "cell_type": "code",
      "source": [],
      "metadata": {
        "id": "63U4XyLq-S1O"
      },
      "execution_count": null,
      "outputs": []
    }
  ]
}