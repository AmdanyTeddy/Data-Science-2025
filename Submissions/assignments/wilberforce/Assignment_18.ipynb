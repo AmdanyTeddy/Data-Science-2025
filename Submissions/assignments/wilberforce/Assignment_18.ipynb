{
  "nbformat": 4,
  "nbformat_minor": 0,
  "metadata": {
    "colab": {
      "provenance": []
    },
    "kernelspec": {
      "name": "python3",
      "display_name": "Python 3"
    },
    "language_info": {
      "name": "python"
    }
  },
  "cells": [
    {
      "cell_type": "code",
      "execution_count": null,
      "metadata": {
        "id": "ScmfsGoJM13Y"
      },
      "outputs": [],
      "source": [
        "from math import gcd\n",
        "\n",
        "# 📘 Assignment 1: Library Book Tracker\n",
        "class Book:\n",
        "    def __init__(self, title, author, year, copies_available):\n",
        "        self.title = title\n",
        "        self.author = author\n",
        "        self.year = year\n",
        "        self.copies_available = copies_available\n",
        "\n",
        "    def borrow(self):\n",
        "        if self.copies_available > 0:\n",
        "            self.copies_available -= 1\n",
        "        else:\n",
        "            print(\"Not available.\")\n",
        "\n",
        "    def return_book(self):\n",
        "        self.copies_available += 1\n",
        "\n",
        "    def is_same_book(self, other):\n",
        "        return self.title == other.title and self.author == other.author\n",
        "\n",
        "\n",
        "# 📗 Assignment 2: Fraction Calculator\n",
        "class Fraction:\n",
        "    def __init__(self, num, denom):\n",
        "        if denom == 0:\n",
        "            raise ValueError(\"Denominator cannot be zero.\")\n",
        "        self.num = num\n",
        "        self.denom = denom\n",
        "        self.simplify()\n",
        "\n",
        "    def simplify(self):\n",
        "        common = gcd(self.num, self.denom)\n",
        "        self.num //= common\n",
        "        self.denom //= common\n",
        "\n",
        "    def __add__(self, other):\n",
        "        new_num = self.num * other.denom + other.num * self.denom\n",
        "        new_denom = self.denom * other.denom\n",
        "        return Fraction(new_num, new_denom)\n",
        "\n",
        "    def __eq__(self, other):\n",
        "        return self.num * other.denom == self.denom * other.num\n",
        "\n",
        "    def __str__(self):\n",
        "        return f\"{self.num}/{self.denom}\"\n",
        "\n",
        "\n",
        "# Example usage\n",
        "if __name__ == \"__main__\":\n",
        "    # Testing Book class\n",
        "    b1 = Book(\"Python Basics\", \"Dennis Omboga\", 2024, 3)\n",
        "    b2 = Book(\"Python Basics\", \"Dennis Omboga\", 2024, 2)\n",
        "\n",
        "    b1.borrow()\n",
        "    b1.borrow()\n",
        "    b1.return_book()\n",
        "    print(f\"Copies available (b1): {b1.copies_available}\")  # 2\n",
        "    print(f\"Are b1 and b2 the same book? {b1.is_same_book(b2)}\")  # True\n",
        "\n",
        "    print(\"\\n---\\n\")\n",
        "\n",
        "    # Testing Fraction class\n",
        "    f1 = Fraction(1, 2)\n",
        "    f2 = Fraction(1, 4)\n",
        "    f3 = f1 + f2\n",
        "\n",
        "    print(f\"f3 = {f3}\")                 # 3/4\n",
        "    print(f\"f1 == f2? {f1 == f2}\")     # False\n",
        "    print(f\"f1 == Fraction(2, 4)? {f1 == Fraction(2, 4)}\")  # True\n"
      ]
    }
  ]
}