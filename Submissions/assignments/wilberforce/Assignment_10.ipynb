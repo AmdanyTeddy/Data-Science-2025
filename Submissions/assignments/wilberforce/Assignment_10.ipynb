{
  "nbformat": 4,
  "nbformat_minor": 0,
  "metadata": {
    "colab": {
      "provenance": []
    },
    "kernelspec": {
      "name": "python3",
      "display_name": "Python 3"
    },
    "language_info": {
      "name": "python"
    }
  },
  "cells": [
    {
      "cell_type": "code",
      "execution_count": null,
      "metadata": {
        "id": "_I53vVUUEL72"
      },
      "outputs": [],
      "source": [
        "\n",
        "\n",
        "def name_processor():\n",
        "    # Prompt the user to enter names separated by commas\n",
        "    names = input(\"Enter names separated by commas (e.g. Elsa,Bismark,Teddy): \")\n",
        "\n",
        "    # Split the input into a list\n",
        "    name_list = [name.strip() for name in names.split(\",\")]\n",
        "\n",
        "    # Remove duplicates using a set\n",
        "    unique_names = set(name_list)\n",
        "\n",
        "    # Sort the names alphabetically\n",
        "    sorted_names = sorted(unique_names)\n",
        "\n",
        "    # Display the result\n",
        "    print(\"Processed names:\", sorted_names)\n",
        "\n",
        "# Run the function\n",
        "name_processor()\n",
        "\n",
        "\n",
        "Enter names separated by commas (e.g. Elsa,Bismark,Teddy): gigi anna joan\n",
        "Processed names: ['anna', 'gigi', 'joan']\n",
        "\n",
        "2.\t#What happens in this code?\n",
        "#Python Code :\n",
        "\n",
        "L1 = ['sun']\n",
        "#L1 points to a list that contain \"sun\"\n",
        "L2 = L1\n",
        "#L2 is  alias to L1 and points to the list \"sun\"\n",
        "L1 = ['moon']\n",
        "#L1 is reassigned to a new list containing 'moon'\n",
        "#It does not change L2 as L2 still holds the value for the original L1\n",
        "\n",
        "print(L2) #outputs ['sun']\n",
        "\n",
        "\n",
        "['sun']\n",
        "\n",
        "# Step 1: Create a list of 10 names (with some duplicates)\n",
        "names = [\"Alice\", \"Brian\", \"Cynthia\", \"Alice\", \"Diana\", \"Ethan\", \"Brian\", \"Grace\", \"Helen\", \"Cynthia\"]\n",
        "\n",
        "# Step 2: Remove duplicates using a set\n",
        "unique_names = set(names)\n",
        "\n",
        "# Step 3: Sort alphabetically\n",
        "sorted_names = sorted(unique_names)\n",
        "\n",
        "# Step 4: Print the result\n",
        "print(\"Sorted names:\", sorted_names)\n",
        "\n",
        "\n",
        "Sorted names: ['Alice', 'Brian', 'Cynthia', 'Diana', 'Ethan', 'Grace', 'Helen']"
      ]
    }
  ]
}