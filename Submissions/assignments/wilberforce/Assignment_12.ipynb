{
  "nbformat": 4,
  "nbformat_minor": 0,
  "metadata": {
    "colab": {
      "provenance": []
    },
    "kernelspec": {
      "name": "python3",
      "display_name": "Python 3"
    },
    "language_info": {
      "name": "python"
    }
  },
  "cells": [
    {
      "cell_type": "code",
      "execution_count": null,
      "metadata": {
        "id": "kwxsTIebEmnd"
      },
      "outputs": [],
      "source": [
        "def subtract():\n",
        "    a = int(input(\"Enter number: \"))\n",
        "    b = int(input(\"Enter number: \"))\n",
        "    print(\"Result:\", a - b)\n",
        "print(subtract())\n",
        "\n",
        "#Add assert to this code\n",
        "def check_age(age):\n",
        "    assert age > 0\n",
        "    print(\"Age is okay.\")\n",
        "check_age(9)\n",
        "\n",
        "#Use raise to catch invalid input:\n",
        "def is_even(n):\n",
        "    # if n is not an int, raise Exception\n",
        "    try:\n",
        "     return n % 2 == 0\n",
        "    except NameError:\n",
        "      return \"Please enter a number\"\n",
        "print(is_even(7))"
      ]
    }
  ]
}