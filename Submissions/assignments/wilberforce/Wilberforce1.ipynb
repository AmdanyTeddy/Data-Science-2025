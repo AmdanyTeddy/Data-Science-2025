{
  "nbformat": 4,
  "nbformat_minor": 0,
  "metadata": {
    "colab": {
      "provenance": []
    },
    "kernelspec": {
      "name": "python3",
      "display_name": "Python 3"
    },
    "language_info": {
      "name": "python"
    }
  },
  "cells": [
    {
      "cell_type": "code",
      "source": [
        "#Display of name program\n",
        "user_name = input(\"Enter your name: \")\n",
        "#Age display program\n",
        "age= input(\"Enter your age:\")\n",
        "print(f\"Hello !,{user_name}.Your {age} years old\")"
      ],
      "metadata": {
        "colab": {
          "base_uri": "https://localhost:8080/"
        },
        "id": "hObqeckIIuMj",
        "outputId": "5bc5114b-a7d4-45cd-f124-69498d3a9026"
      },
      "execution_count": 1,
      "outputs": [
        {
          "output_type": "stream",
          "name": "stdout",
          "text": [
            "Enter your name: WILBERFORCE\n",
            "Enter your age:18\n",
            "Hello !,WILBERFORCE.Your 18 years old\n"
          ]
        }
      ]
    },
    {
      "cell_type": "code",
      "source": [],
      "metadata": {
        "id": "kRrldXSWKcvi"
      },
      "execution_count": null,
      "outputs": []
    }
  ]
}