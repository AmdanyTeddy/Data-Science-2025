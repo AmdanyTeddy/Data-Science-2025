{
  "nbformat": 4,
  "nbformat_minor": 0,
  "metadata": {
    "colab": {
      "provenance": []
    },
    "kernelspec": {
      "name": "python3",
      "display_name": "Python 3"
    },
    "language_info": {
      "name": "python"
    }
  },
  "cells": [
    {
      "cell_type": "code",
      "execution_count": null,
      "metadata": {
        "id": "yQQjoujrKojW"
      },
      "outputs": [],
      "source": [
        "\n",
        "Assignment 12\n",
        "\n",
        "🧠 1. Fix the Bug:\n",
        "\n",
        "\n",
        "def subtract():\n",
        "    a = int(input(\"Enter A: \"))\n",
        "    b = int(input(\"Enter B: \"))\n",
        "    print(\"Result:\", a - b)\n",
        "\n",
        "subtract()\n",
        "# Task: Fix the bug and use int() conversion.\n",
        "\n",
        "Enter A: 19\n",
        "Enter B: 9\n",
        "Result: 10\n",
        "🧠 2. Add assert to This Code:\n",
        "\n",
        "\n",
        "def check_age(age):\n",
        "    assert age >= 0, \"Age can1`t be negative\"\n",
        "    print(\"Age is okay.\")\n",
        "\n",
        "\n",
        "check_age(25)\n",
        "check_age(-3)\n",
        "\n",
        "\n",
        "Age is okay.\n",
        "---------------------------------------------------------------------------\n",
        "AssertionError                            Traceback (most recent call last)\n",
        "/tmp/ipython-input-13-3407264441.py in <cell line: 0>()\n",
        "      1 check_age(25)\n",
        "----> 2 check_age(-3)\n",
        "\n",
        "/tmp/ipython-input-12-3109988961.py in check_age(age)\n",
        "      1 def check_age(age):\n",
        "----> 2     assert age >= 0, \"Age can1`t be negative\"\n",
        "      3     print(\"Age is okay.\")\n",
        "      4\n",
        "      5\n",
        "\n",
        "AssertionError: Age can1`t be negative\n",
        "🧠 3. Use raise to catch invalid input:\n",
        "\n",
        "\n",
        "def is_even(n):\n",
        "    if not isinstance(n, int):\n",
        "        raise ValueError(\"Invalid input: input must be an integer\")\n",
        "    return n % 2 == 0\n",
        "\n",
        "\n",
        "\n",
        "is_even(-4)\n",
        "\n",
        "\n",
        "True\n",
        "\n",
        "is_even(5)\n",
        "\n",
        "False\n",
        "\n",
        "\n",
        ""
      ]
    }
  ]
}