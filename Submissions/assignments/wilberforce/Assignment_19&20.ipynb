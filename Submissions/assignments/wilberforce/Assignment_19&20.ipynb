{
  "nbformat": 4,
  "nbformat_minor": 0,
  "metadata": {
    "colab": {
      "provenance": []
    },
    "kernelspec": {
      "name": "python3",
      "display_name": "Python 3"
    },
    "language_info": {
      "name": "python"
    }
  },
  "cells": [
    {
      "cell_type": "code",
      "execution_count": null,
      "metadata": {
        "id": "f09Wa5Fq_ppP"
      },
      "outputs": [],
      "source": []
    },
    {
      "cell_type": "markdown",
      "source": [
        "ASSIGNMENT A"
      ],
      "metadata": {
        "id": "NuKvapPx_tf0"
      }
    },
    {
      "cell_type": "code",
      "source": [
        "class HealthProfile:\n",
        "    def __init__(self, name, age, weight_kg, height_cm, gender, activity_level):\n",
        "        self.name = name\n",
        "        self.age = age\n",
        "        self.weight_kg = weight_kg\n",
        "        self.height_cm = height_cm\n",
        "        self.gender = gender.lower()\n",
        "        self.activity_level = activity_level\n",
        "\n",
        "    def get_bmi(self):\n",
        "        height_m = self.height_cm / 100\n",
        "        return round(self.weight_kg / (height_m ** 2), 2)\n",
        "\n",
        "    def get_bmr(self):\n",
        "        if self.gender == 'male':\n",
        "            return round(10 * self.weight_kg + 6.25 * self.height_cm - 5 * self.age + 5, 2)\n",
        "        elif self.gender == 'female':\n",
        "            return round(10 * self.weight_kg + 6.25 * self.height_cm - 5 * self.age - 161, 2)\n",
        "        else:\n",
        "            raise ValueError(\"Gender must be 'male' or 'female'\")\n"
      ],
      "metadata": {
        "id": "pTF5MN83_wpP"
      },
      "execution_count": null,
      "outputs": []
    },
    {
      "cell_type": "markdown",
      "source": [
        "ASSIGNMENT B"
      ],
      "metadata": {
        "id": "ipCu-XNy_1W7"
      }
    },
    {
      "cell_type": "code",
      "source": [
        "class CalorieCalculator:\n",
        "    def calculate(self, minutes):\n",
        "        raise NotImplementedError(\"Subclasses must override this method.\")\n",
        "\n",
        "class Walking(CalorieCalculator):\n",
        "    def calculate(self, minutes):\n",
        "        return round(minutes * 4.0, 2)\n",
        "\n",
        "class Running(CalorieCalculator):\n",
        "    def calculate(self, minutes):\n",
        "        return round(minutes * 10.0, 2)\n",
        "\n",
        "class Swimming(CalorieCalculator):\n",
        "    def calculate(self, minutes):\n",
        "        return round(minutes * 8.0, 2)\n",
        "\n",
        "class ActivityPlanner:\n",
        "    def __init__(self, activity: CalorieCalculator):\n",
        "        self.activity = activity\n",
        "\n",
        "    def get_total_calories(self, minutes):\n",
        "        return self.activity.calculate(minutes)\n"
      ],
      "metadata": {
        "id": "cqMz_pbB_3ov"
      },
      "execution_count": null,
      "outputs": []
    },
    {
      "cell_type": "markdown",
      "source": [
        "ASSIGNMENT C"
      ],
      "metadata": {
        "id": "Co8EQZ9l_8Ap"
      }
    },
    {
      "cell_type": "code",
      "source": [
        "from abc import ABC, abstractmethod\n",
        "\n",
        "class WorkoutDevice(ABC):\n",
        "    @abstractmethod\n",
        "    def start_tracking(self):\n",
        "        pass\n",
        "\n",
        "    @abstractmethod\n",
        "    def stop_tracking(self):\n",
        "        pass\n",
        "\n",
        "    @abstractmethod\n",
        "    def get_data(self) -> dict:\n",
        "        pass\n",
        "\n",
        "class SmartWatch(WorkoutDevice):\n",
        "    def start_tracking(self):\n",
        "        print(\"SmartWatch tracking started.\")\n",
        "\n",
        "    def stop_tracking(self):\n",
        "        print(\"SmartWatch tracking stopped.\")\n",
        "\n",
        "    def get_data(self):\n",
        "        return {'time': '30min', 'steps': 4000, 'distance': '3.2km', 'heart_rate': 85}\n",
        "\n",
        "class SmartShoe(WorkoutDevice):\n",
        "    def start_tracking(self):\n",
        "        print(\"SmartShoe tracking started.\")\n",
        "\n",
        "    def stop_tracking(self):\n",
        "        print(\"SmartShoe tracking stopped.\")\n",
        "\n",
        "    def get_data(self):\n",
        "        return {'time': '25min', 'steps': 3500, 'distance': '2.8km'}\n",
        "\n",
        "class HeartRateBand(WorkoutDevice):\n",
        "    def start_tracking(self):\n",
        "        print(\"HeartRateBand tracking started.\")\n",
        "\n",
        "    def stop_tracking(self):\n",
        "        print(\"HeartRateBand tracking stopped.\")\n",
        "\n",
        "    def get_data(self):\n",
        "        return {'time': '30min', 'heart_rate': 90}\n"
      ],
      "metadata": {
        "id": "CFe5Qrjh_9qq"
      },
      "execution_count": null,
      "outputs": []
    },
    {
      "cell_type": "markdown",
      "source": [
        "ASSIGNMENT D"
      ],
      "metadata": {
        "id": "r4OK2MqsABOX"
      }
    },
    {
      "cell_type": "code",
      "source": [
        "from datetime import datetime, timedelta\n",
        "from abc import ABC, abstractmethod\n",
        "import matplotlib.pyplot as plt\n",
        "import json\n",
        "\n",
        "class Workout(ABC):\n",
        "    def __init__(self, start, end, calories=None):\n",
        "        self.start = start\n",
        "        self.end = end\n",
        "        self.calories = calories\n",
        "\n",
        "    def get_duration(self):\n",
        "        return self.end - self.start\n",
        "\n",
        "    @abstractmethod\n",
        "    def get_calories(self):\n",
        "        pass\n",
        "\n",
        "    def __eq__(self, other):\n",
        "        return (\n",
        "            isinstance(other, Workout)\n",
        "            and self.get_duration() == other.get_duration()\n",
        "            and self.kind == other.kind\n",
        "        )\n",
        "\n",
        "class BikeWorkout(Workout):\n",
        "    def __init__(self, start, end, distance_km, calories=None):\n",
        "        super().__init__(start, end, calories)\n",
        "        self.distance = distance_km\n",
        "        self.icon = '🚴🏽‍♂️'\n",
        "        self.kind = 'Cycling'\n",
        "\n",
        "    def get_calories(self):\n",
        "        return self.get_duration().total_seconds() / 3600 * 300\n",
        "\n",
        "class WalkWorkout(Workout):\n",
        "    def __init__(self, start, end, calories=None):\n",
        "        super().__init__(start, end, calories)\n",
        "        self.kind = 'Walking'\n",
        "\n",
        "    def get_calories(self):\n",
        "        return self.get_duration().total_seconds() / 3600 * 200\n",
        "\n",
        "class RunWorkout(Workout):\n",
        "    def __init__(self, start, end, calories=None):\n",
        "        super().__init__(start, end, calories)\n",
        "        self.kind = 'Running'\n",
        "\n",
        "    def get_calories(self):\n",
        "        return self.get_duration().total_seconds() / 3600 * 400\n",
        "\n",
        "def planner_cli():\n",
        "    print(\"Choose workout type: Run / Walk / Bike\")\n",
        "    kind = input(\"Type: \").strip().lower()\n",
        "    start_str = input(\"Start time (YYYY-MM-DD HH:MM): \")\n",
        "    end_str = input(\"End time (YYYY-MM-DD HH:MM): \")\n",
        "    start = datetime.strptime(start_str, \"%Y-%m-%d %H:%M\")\n",
        "    end = datetime.strptime(end_str, \"%Y-%m-%d %H:%M\")\n",
        "\n",
        "    if kind == \"bike\":\n",
        "        distance = float(input(\"Distance (km): \"))\n",
        "        workout = BikeWorkout(start, end, distance)\n",
        "    elif kind == \"run\":\n",
        "        workout = RunWorkout(start, end)\n",
        "    elif kind == \"walk\":\n",
        "        workout = WalkWorkout(start, end)\n",
        "    else:\n",
        "        print(\"Invalid type.\")\n",
        "        return\n",
        "\n",
        "    duration = workout.get_duration()\n",
        "    calories = workout.get_calories()\n",
        "    print(f\"Workout Duration: {duration}\")\n",
        "    print(f\"Calories Burned: {calories:.2f}\")\n",
        "\n",
        "    save = input(\"Save workout to JSON? (y/n): \").lower()\n",
        "    if save == 'y':\n",
        "        data = {\n",
        "            \"kind\": workout.kind,\n",
        "            \"start\": start_str,\n",
        "            \"end\": end_str,\n",
        "            \"duration_minutes\": duration.total_seconds() / 60,\n",
        "            \"calories\": calories,\n",
        "        }\n",
        "        with open(\"workouts.json\", \"a\") as f:\n",
        "            f.write(json.dumps(data) + \"\\n\")\n",
        "        print(\"Workout saved.\")\n",
        "\n",
        "    return workout\n",
        "\n",
        "# Extra: plot durations\n",
        "def plot_workouts(workouts):\n",
        "    kinds = [w.kind for w in workouts]\n",
        "    durations = [w.get_duration().total_seconds() / 60 for w in workouts]\n",
        "    plt.bar(kinds, durations)\n",
        "    plt.title(\"Workout Durations (minutes)\")\n",
        "    plt.ylabel(\"Duration\")\n",
        "    plt.show()\n"
      ],
      "metadata": {
        "id": "Cv_flbyiAF0f"
      },
      "execution_count": null,
      "outputs": []
    }
  ]
}