{
  "nbformat": 4,
  "nbformat_minor": 0,
  "metadata": {
    "colab": {
      "provenance": []
    },
    "kernelspec": {
      "name": "python3",
      "display_name": "Python 3"
    },
    "language_info": {
      "name": "python"
    }
  },
  "cells": [
    {
      "cell_type": "code",
      "execution_count": null,
      "metadata": {
        "id": "pVArlN8ILnwF"
      },
      "outputs": [],
      "source": [
        "def remove_and_sort(Lin, k):\n",
        "  del Lin[:k]\n",
        "  Lin.sort()\n",
        "\n",
        "\n",
        "L = [1,6,3,5,4,8]\n",
        "k = 1\n",
        "\n",
        "remove_and_sort(L, k)\n",
        "\n",
        "print(L)"
      ]
    }
  ]
}