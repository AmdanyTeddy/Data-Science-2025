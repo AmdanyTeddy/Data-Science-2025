{
  "nbformat": 4,
  "nbformat_minor": 0,
  "metadata": {
    "colab": {
      "provenance": []
    },
    "kernelspec": {
      "name": "python3",
      "display_name": "Python 3"
    },
    "language_info": {
      "name": "python"
    }
  },
  "cells": [
    {
      "cell_type": "code",
      "execution_count": null,
      "metadata": {
        "id": "fq5eg4xAMUCR"
      },
      "outputs": [],
      "source": [
        "# 📦 Box Class\n",
        "class Box:\n",
        "    def __init__(self, length, width, height):\n",
        "        self.length = length\n",
        "        self.width = width\n",
        "        self.height = height\n",
        "\n",
        "    def get_volume(self):\n",
        "        return self.length * self.width * self.height\n",
        "\n",
        "    def is_cube(self):\n",
        "        return self.length == self.width == self.height\n",
        "\n",
        "    def bigger(self, other):\n",
        "        return self if self.get_volume() > other.get_volume() else other\n",
        "\n",
        "\n",
        "# 🎵 Song Class\n",
        "class Song:\n",
        "    def __init__(self, title, artist, duration):\n",
        "        self.title = title\n",
        "        self.artist = artist\n",
        "        self.duration = duration  # in seconds\n",
        "\n",
        "    def is_long(self):\n",
        "        return self.duration > 300\n",
        "\n",
        "    def same_artist(self, other):\n",
        "        return self.artist == other.artist\n",
        "\n",
        "    def longer_song(self, other):\n",
        "        return self if self.duration > other.duration else other\n",
        "\n",
        "\n",
        "# ✅ Example usage\n",
        "if __name__ == \"__main__\":\n",
        "    # Box examples\n",
        "    box1 = Box(3, 3, 3)\n",
        "    box2 = Box(4, 2, 2)\n",
        "\n",
        "    print(\"Box 1 volume:\", box1.get_volume())        # 27\n",
        "    print(\"Box 2 volume:\", box2.get_volume())        # 16\n",
        "    print(\"Box 1 is cube:\", box1.is_cube())          # True\n",
        "    print(\"Box 2 is cube:\", box2.is_cube())          # False\n",
        "    print(\"Bigger box volume:\", box1.bigger(box2).get_volume())  # 27\n",
        "\n",
        "    print(\"\\n---\\n\")\n",
        "\n",
        "    # Song examples\n",
        "    song1 = Song(\"Everlong\", \"Foo Fighters\", 250)\n",
        "    song2 = Song(\"November Rain\", \"Guns N' Roses\", 540)\n",
        "\n",
        "    print(\"Song 1 is long:\", song1.is_long())        # False\n",
        "    print(\"Song 2 is long:\", song2.is_long())        # True\n",
        "    print(\"Same artist:\", song1.same_artist(song2))  # False\n",
        "    print(\"Longer song:\", song1.longer_song(song2).title)  # November Rain\n"
      ]
    }
  ]
}