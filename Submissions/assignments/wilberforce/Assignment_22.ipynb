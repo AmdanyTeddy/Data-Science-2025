{
  "nbformat": 4,
  "nbformat_minor": 0,
  "metadata": {
    "colab": {
      "provenance": []
    },
    "kernelspec": {
      "name": "python3",
      "display_name": "Python 3"
    },
    "language_info": {
      "name": "python"
    }
  },
  "cells": [
    {
      "cell_type": "code",
      "execution_count": 1,
      "metadata": {
        "colab": {
          "base_uri": "https://localhost:8080/"
        },
        "id": "HrJWjBcD4GkX",
        "outputId": "9486e9fa-1876-4eb3-8a98-73c9711dbd26"
      },
      "outputs": [
        {
          "output_type": "stream",
          "name": "stdout",
          "text": [
            "n = 1000\n",
            "  Loop Sum Time:     0.000029 seconds\n",
            "  Formula Sum Time:  0.000001 seconds\n",
            "\n",
            "n = 100000\n",
            "  Loop Sum Time:     0.003425 seconds\n",
            "  Formula Sum Time:  0.000002 seconds\n",
            "\n",
            "n = 10000000\n",
            "  Loop Sum Time:     0.373817 seconds\n",
            "  Formula Sum Time:  0.000006 seconds\n",
            "\n"
          ]
        }
      ],
      "source": [
        "import time\n",
        "import matplotlib.pyplot as plt\n",
        "\n",
        "# Function using a loop\n",
        "def loop_sum(n):\n",
        "    total = 0\n",
        "    for i in range(1, n + 1):\n",
        "        total += i\n",
        "    return total\n",
        "\n",
        "# Function using formula\n",
        "def formula_sum(n):\n",
        "    return n * (n + 1) // 2\n",
        "\n",
        "# Time measurement\n",
        "n_values = [10**3, 10**5, 10**7]\n",
        "loop_times = []\n",
        "formula_times = []\n",
        "\n",
        "for n in n_values:\n",
        "    start = time.time()\n",
        "    loop_sum(n)\n",
        "    loop_times.append(time.time() - start)\n",
        "\n",
        "    start = time.time()\n",
        "    formula_sum(n)\n",
        "    formula_times.append(time.time() - start)\n",
        "\n",
        "# Print results\n",
        "for i, n in enumerate(n_values):\n",
        "    print(f\"n = {n}\")\n",
        "    print(f\"  Loop Sum Time:     {loop_times[i]:.6f} seconds\")\n",
        "    print(f\"  Formula Sum Time:  {formula_times[i]:.6f} seconds\\n\")\n"
      ]
    },
    {
      "cell_type": "code",
      "source": [],
      "metadata": {
        "id": "fd_T1_028JMV"
      },
      "execution_count": null,
      "outputs": []
    }
  ]
}