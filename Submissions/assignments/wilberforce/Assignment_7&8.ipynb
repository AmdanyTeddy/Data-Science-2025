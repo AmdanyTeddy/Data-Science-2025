{
  "nbformat": 4,
  "nbformat_minor": 0,
  "metadata": {
    "colab": {
      "provenance": []
    },
    "kernelspec": {
      "name": "python3",
      "display_name": "Python 3"
    },
    "language_info": {
      "name": "python"
    }
  },
  "cells": [
    {
      "cell_type": "code",
      "execution_count": null,
      "metadata": {
        "id": "zjkp3X0zaEIP"
      },
      "outputs": [],
      "source": [
        "\n",
        "\n",
        "#Write a lambda function that checks if a number is a multiple of 3\n",
        "is_multiple_of_3 = lambda x: x % 3 == 0\n",
        "print(is_multiple_of_3(9))   # True\n",
        "print(is_multiple_of_3(10))  # False\n",
        "\n",
        "\n",
        "True\n",
        "False\n",
        "\n",
        "#Find the average of a list of numbers\n",
        "def average(L):\n",
        "    if len(L) == 0:\n",
        "        return 0  # avoid division by zero\n",
        "    return sum(L) / len(L)\n",
        "numbers = [12, 21, 33, 44, 57]\n",
        "print(average(numbers))  # Output: 30.0\n",
        "\n",
        "\n",
        "\n",
        "33.4\n",
        "\n",
        "# Find the total number of letters in a list of string\n",
        "def total_letters(words):\n",
        "    return sum(len(word) for word in words)\n",
        "words_in_list = [\"orange\", \"banana\", \"pinaple\"]\n",
        "print(total_letters(words_in_list))\n",
        "\n",
        "\n",
        "19\n",
        "\n",
        "#Use filter() and a lambda to return all numbers divisible by 3 in a list\n",
        "def divisible_by_3(numbers):\n",
        "    return list(filter(lambda x: x % 3 == 0, numbers))\n",
        "nums = [1, 3, 4, 6, 9, 10, 12, 15, 17]\n",
        "result = divisible_by_3(nums)\n",
        "print(result)  # Output: [3, 6, 9, 12, 15]\n",
        "\n",
        "\n",
        "[3, 6, 9, 12, 15]\n",
        "\n",
        "def dot_product(tA, tB):\n",
        "    \"\"\"\n",
        "    tA: a tuple of numbers\n",
        "    tB: a tuple of numbers of the same length as tA\n",
        "    Returns a tuple (length, dot product of tA and tB)\n",
        "    \"\"\"\n",
        "    total = 0\n",
        "    for i in range(len(tA)):\n",
        "        total += tA[i] * tB[i]\n",
        "    return (len(tA), total)\n",
        "\n",
        "# Example:\n",
        "print(dot_product((1, 2, 3), (4, 5, 6)))  # ➜ (3, 32)\n",
        "print(dot_product((3, 4, 9,6), (7, 8, 4,7)))\n",
        "\n",
        "(3, 32)\n",
        "(4, 131)"
      ]
    }
  ]
}