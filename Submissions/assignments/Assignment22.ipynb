{
  "nbformat": 4,
  "nbformat_minor": 0,
  "metadata": {
    "colab": {
      "provenance": []
    },
    "kernelspec": {
      "name": "python3",
      "display_name": "Python 3"
    },
    "language_info": {
      "name": "python"
    }
  },
  "cells": [
    {
      "cell_type": "code",
      "execution_count": 4,
      "metadata": {
        "colab": {
          "base_uri": "https://localhost:8080/"
        },
        "id": "_felvIJsEBZp",
        "outputId": "138e8b1d-6bad-4274-fd9d-7a5a9da04fdd"
      },
      "outputs": [
        {
          "output_type": "stream",
          "name": "stdout",
          "text": [
            "n = 1000:\n",
            " loop result = 500500,  time = 0.000050 seconds\n",
            " formula result = 500500,  time = 0.000002 seconds\n",
            "__________________________________________________\n",
            "n = 100000:\n",
            " loop result = 5000050000,  time = 0.005917 seconds\n",
            " formula result = 5000050000,  time = 0.000005 seconds\n",
            "__________________________________________________\n",
            "n = 10000000:\n",
            " loop result = 50000005000000,  time = 0.662752 seconds\n",
            " formula result = 50000005000000,  time = 0.000006 seconds\n",
            "__________________________________________________\n"
          ]
        }
      ],
      "source": [
        "# 📘 Assessment: Timing Programs, Counting Operations, and Complexity Analysis\n",
        "# MIT 6.100L (Inspired) – Introduction to Computer Science and Programming Using Python\n",
        "# Eldo-Hub – Data Science Students\n",
        "\n",
        "# 📂 Instructions\n",
        "# Complete each question below inside this notebook.\n",
        "# Use code cells for programming tasks.\n",
        "# Use markdown cells for explanations.\n",
        "# Submit your completed notebook as your assessment\n",
        "\n",
        "# Part 1: Timing Programs (Lecture 21)\n",
        "# Q1. Timing Functions\n",
        "# Write two functions:\n",
        "\n",
        "# A function that computes the sum of integers from 1 to n using a loop.\n",
        "# A function that computes the sum of integers from 1 to n using the formula (n(n+1)/2).\n",
        "# Use Python's time module to measure execution time for increasing values of n ([10**3, 10**5, 10**7]).\n",
        "\n",
        "# Task: Compare the timing results and explain why they differ.\n",
        "\n",
        "import time\n",
        "#functoin 1: sum using a loop\n",
        "def sum_loop(n):\n",
        "    total = 0  # Initialize total\n",
        "    for i in range(1, n+1):\n",
        "        total += i # Correct the typo\n",
        "    return total\n",
        "\n",
        "# function :2 sum using formula\n",
        "def sum_formula(n):\n",
        "  return n * (n + 1) // 2\n",
        "\n",
        "# test value\n",
        "test_value = [10**3, 10**5, 10**7]\n",
        "\n",
        "for n in test_value:\n",
        "   # measure loop time\n",
        "   start = time.time()\n",
        "   result_loop = sum_loop(n)\n",
        "   end = time.time()\n",
        "   loop_time = end - start\n",
        "\n",
        "   # measure formula time\n",
        "   start = time.time()\n",
        "   result_formula = sum_formula(n)\n",
        "   end = time.time()\n",
        "   formula_time = end - start\n",
        "\n",
        "   print(f\"n = {n}:\")\n",
        "   print(f\" loop result = {result_loop},  time = {loop_time:.6f} seconds\")\n",
        "   print(f\" formula result = {result_formula},  time = {formula_time:.6f} seconds\")\n",
        "   print(\"_\"*50)"
      ]
    },
    {
      "cell_type": "code",
      "source": [
        "# Q2. Counting Operations\n",
        "# Modify your loop-based sum function to count how many operations it performs for input size n.\n",
        "\n",
        "# Task: Express its growth in terms of Big-O notation\n",
        "\n",
        "def sum_and_count_ops(arr):\n",
        "    ops = 0          # init ops\n",
        "\n",
        "    totle = 0       # init tota\n",
        "    ops += 1         # (1)\n",
        "\n",
        "    i = 0            # init index\n",
        "    ops += 1         # (2)\n",
        "\n",
        "    n = len(arr)\n",
        "    ops += 1         # (3) read length\n",
        "\n",
        "    while True:\n",
        "        ops += 1     # (4) loop test\n",
        "        if i >= n:\n",
        "            break\n",
        "\n",
        "        x = arr[i]   # (5) read A[i]\n",
        "        ops += 1\n",
        "\n",
        "        totle = totle + x   # (6) addition\n",
        "        ops += 1\n",
        "\n",
        "        i += 1       # (7) increment i\n",
        "        ops += 1\n",
        "\n",
        "    return totle, ops\n",
        "\n",
        "print(\"n=5:\", sum_and_count_ops ([1,2,3,4,5]))\n",
        "print(\"n=10:\", sum_and_count_ops(list(range(1, 11))))\n",
        "print(\"n=100:\", sum_and_count_ops(list(range(1, 101))))"
      ],
      "metadata": {
        "colab": {
          "base_uri": "https://localhost:8080/"
        },
        "id": "qS97IvEgJMHK",
        "outputId": "4fd4af32-b471-4a7d-9d19-f26c2665d6e2"
      },
      "execution_count": 8,
      "outputs": [
        {
          "output_type": "stream",
          "name": "stdout",
          "text": [
            "n=5: (15, 24)\n",
            "n=10: (55, 44)\n",
            "n=100: (5050, 404)\n"
          ]
        }
      ]
    },
    {
      "cell_type": "code",
      "source": [
        "# Part 2: Complexity Analysis (Lecture 22)\n",
        "# Q3. Linear vs Quadratic Growth\n",
        "# Consider the following two functions:\n",
        "\n",
        "# def linear_sum(L):\n",
        "#     total = 0\n",
        "#     for x in L:\n",
        "#         total += x\n",
        "#     return total\n",
        "\n",
        "# def quadratic_pairs(L):\n",
        "#     count = 0\n",
        "#     for i in L:\n",
        "#         for j in L:\n",
        "#             count += i*j\n",
        "#     return count\n",
        "# Task:\n",
        "\n",
        "# Count the number of operations for both functions.\n",
        "# Determine their order of growth (Big-O and Big-Theta).\n",
        "# Plot their runtime growth for increasing input sizes\n",
        "\n",
        "def linear_sum(L):\n",
        "  ops = 0\n",
        "  total = 0\n",
        "  ops += 1 # initialization\n",
        "  for x in L:\n",
        "    total += x\n",
        "    ops += 1 # each addition\n",
        "  ops += 1 # return\n",
        "  print(f\"linear_sum: {ops} operations for n={len(L)}\")\n",
        "  return total\n",
        "\n",
        "def quadratic_pairs(L):\n",
        "  ops = 0\n",
        "  count = 0\n",
        "  ops += 1 # initialization\n",
        "  for i in L:\n",
        "    for j in L:\n",
        "      count += i * j\n",
        "      ops += 2 # 1 multiplication + 1 addition\n",
        "  ops += 1 # return\n",
        "  print(f\"quadractic_pairs: {ops} operations for n={len(L)}\")\n",
        "  return count\n",
        "\n",
        "L = list(range(5))   # try n = 5\n",
        "linear_sum(L)\n",
        "quadratic_pairs(L)\n",
        "\n",
        "L = list(range(10))  # try n = 10\n",
        "linear_sum(L)\n",
        "quadratic_pairs(L)"
      ],
      "metadata": {
        "colab": {
          "base_uri": "https://localhost:8080/"
        },
        "id": "8aaGQmxfROl7",
        "outputId": "58f47416-c78a-4c78-eb0f-969a61b95f55"
      },
      "execution_count": 12,
      "outputs": [
        {
          "output_type": "stream",
          "name": "stdout",
          "text": [
            "linear_sum: 7 operations for n=5\n",
            "quadractic_pairs: 52 operations for n=5\n",
            "linear_sum: 12 operations for n=10\n",
            "quadractic_pairs: 202 operations for n=10\n"
          ]
        },
        {
          "output_type": "execute_result",
          "data": {
            "text/plain": [
              "2025"
            ]
          },
          "metadata": {},
          "execution_count": 12
        }
      ]
    },
    {
      "cell_type": "code",
      "source": [
        "# Q4. Searching Algorithms\n",
        "# Implement linear search and binary search.\n",
        "# Count the number of operations each requires for lists of\n",
        "#  size [10**3, 10**4, 10**5, 10**6].\n",
        "# Compare against Python's built-in in operator.\n",
        "# Task: Plot how the number of operations grows with input size and\n",
        "#  explain the difference between Θ(n) and Θ(log n).\n",
        "\n",
        "import random\n",
        "import bisect\n",
        "import matplotlib.pyplot as plt\n",
        "\n",
        "def linear_search(L, target):\n",
        "    ops = 0\n",
        "    for x in L:\n",
        "        ops += 1\n",
        "        if x == target:\n",
        "            return True, ops\n",
        "    return False, ops\n",
        "\n",
        "\n",
        "def binary_search(L, target):\n",
        "    ops = 0\n",
        "    low, high = 0, len(L) - 1\n",
        "    while low <= high:\n",
        "        ops += 1\n",
        "        mid = (low + high) // 2\n",
        "        if L[mid] == target:\n",
        "            return True, ops\n",
        "        elif L[mid] < target:\n",
        "            low = mid + 1\n",
        "        else:\n",
        "            high = mid - 1\n",
        "    return False, ops\n",
        "\n",
        "def python_in(L, target):\n",
        "    ops = 0\n",
        "    for x in L:\n",
        "        ops += 1\n",
        "        if x == target:\n",
        "            return True, ops\n",
        "    return False, ops\n",
        "\n",
        "\n",
        "sizes = [10**3, 10**4, 10**5, 10**6]\n",
        "results = {\"linear\": [], \"binary\": [], \"in\": []} # Corrected ' binary' to 'binary'\n",
        "\n",
        "for n in sizes:\n",
        "  L = list(range(n))\n",
        "  target = -1 # not in list\n",
        "\n",
        "  _,ops_lin = linear_search(L, target)\n",
        "  _,ops_bin = binary_search(L, target)\n",
        "  _,ops_in  = python_in(L, target)\n",
        "\n",
        "  results[\"linear\"].append(ops_lin)\n",
        "  results[\"binary\"].append(ops_bin) # Corrected ' binary' to 'binary'\n",
        "  results[\"in\"].append(ops_in)\n",
        "\n",
        "print(results)"
      ],
      "metadata": {
        "colab": {
          "base_uri": "https://localhost:8080/"
        },
        "id": "G_xJWuOQVAFE",
        "outputId": "dae9c162-4861-4131-ad74-2114db2d01c8"
      },
      "execution_count": 17,
      "outputs": [
        {
          "output_type": "stream",
          "name": "stdout",
          "text": [
            "{'linear': [1000, 10000, 100000, 1000000], 'binary': [9, 13, 16, 19], 'in': [1000, 10000, 100000, 1000000]}\n"
          ]
        }
      ]
    },
    {
      "cell_type": "code",
      "source": [
        "# Part 3: Applied Analysis\n",
        "# Q5. Matrix Multiplication\n",
        "# Write a function to multiply two n×n matrices.\n",
        "# Count the number of operations.\n",
        "# Express the complexity in Big-O and Big-Theta notation.\n",
        "# Hint: Nested loops matter\n",
        "\n",
        "\n",
        "import matplotlib.pyplot as plt\n",
        "\n",
        "# Function to compute number of operations\n",
        "def matrix_multiply_ops(n):\n",
        "    return 2 * (n ** 3)\n",
        "\n",
        "# Sizes to test\n",
        "sizes = [10, 100, 500, 1000]\n",
        "ops = [matrix_multiply_ops(n) for n in sizes]\n",
        "\n",
        "# Print results\n",
        "for n, op in zip(sizes, ops):\n",
        "    print(f\"n={n}, operations={op}\")\n",
        "\n",
        "# Draw graph\n",
        "plt.figure(figsize=(7,5))\n",
        "plt.plot(sizes, ops, marker='o', linewidth=2)\n",
        "plt.xlabel(\"Matrix size n (n x n)\", fontsize=12)\n",
        "plt.ylabel(\"Number of operations (2n^3)\", fontsize=12)\n",
        "plt.title(\"Growth of Operations in Matrix Multiplication\", fontsize=14)\n",
        "plt.grid(True)\n",
        "plt.show()\n"
      ],
      "metadata": {
        "colab": {
          "base_uri": "https://localhost:8080/",
          "height": 561
        },
        "id": "eAdO21vVavdl",
        "outputId": "61a2d157-f5c4-4a6a-97c5-bfc4dd115d74"
      },
      "execution_count": 26,
      "outputs": [
        {
          "output_type": "stream",
          "name": "stdout",
          "text": [
            "n=10, operations=2000\n",
            "n=100, operations=2000000\n",
            "n=500, operations=250000000\n",
            "n=1000, operations=2000000000\n"
          ]
        },
        {
          "output_type": "display_data",
          "data": {
            "text/plain": [
              "<Figure size 700x500 with 1 Axes>"
            ],
            "image/png": "[encoded data removed]"
          },
          "metadata": {}
        }
      ]
    },
    {
      "cell_type": "code",
      "source": [
        "# Q6. Best, Worst, and Average Case\n",
        "# Modify your linear search to count operations separately for:\n",
        "\n",
        "# Best case (element is first)\n",
        "# Worst case (element is last or missing)\n",
        "# Average case (element is in the middle)\n",
        "# Task: Report the operation counts and classify their Big-O/Theta behavior\n",
        "\n",
        "def linear_search(L, target):\n",
        "    operations = 0\n",
        "    for i, val in enumerate(L):\n",
        "        operations += 1  # comparison\n",
        "        if val == target:\n",
        "            return i, operations\n",
        "    return -1, operations  # not found\n",
        "\n",
        "# Test sizes\n",
        "sizes = [10**3, 10**4, 10**5]\n",
        "\n",
        "for n in sizes:\n",
        "    L = list(range(n))\n",
        "\n",
        "    # Best case: element is first\n",
        "    _, best_ops = linear_search(L, L[0])\n",
        "\n",
        "    # Average case: element in middle\n",
        "    _, avg_ops = linear_search(L, L[n//2])\n",
        "\n",
        "    # Worst case: element is last\n",
        "    _, worst_ops = linear_search(L, L[-1])\n",
        "\n",
        "    # Missing case: not in list\n",
        "    _, missing_ops = linear_search(L, -1)\n",
        "\n",
        "    print(f\"n = {n:,}\")\n",
        "    print(f\"  Best case ops     = {best_ops}\")\n",
        "    print(f\"  Average case ops  = {avg_ops}\")\n",
        "    print(f\"  Worst case ops    = {worst_ops}\")\n",
        "    print(f\"  Missing case ops  = {missing_ops}\\n\")"
      ],
      "metadata": {
        "colab": {
          "base_uri": "https://localhost:8080/"
        },
        "id": "_snBP6gwfV2-",
        "outputId": "4885e2c5-ffc0-4c53-aaf6-79183e9dd278"
      },
      "execution_count": 27,
      "outputs": [
        {
          "output_type": "stream",
          "name": "stdout",
          "text": [
            "n = 1,000\n",
            "  Best case ops     = 1\n",
            "  Average case ops  = 501\n",
            "  Worst case ops    = 1000\n",
            "  Missing case ops  = 1000\n",
            "\n",
            "n = 10,000\n",
            "  Best case ops     = 1\n",
            "  Average case ops  = 5001\n",
            "  Worst case ops    = 10000\n",
            "  Missing case ops  = 10000\n",
            "\n",
            "n = 100,000\n",
            "  Best case ops     = 1\n",
            "  Average case ops  = 50001\n",
            "  Worst case ops    = 100000\n",
            "  Missing case ops  = 100000\n",
            "\n"
          ]
        }
      ]
    }
  ]
}