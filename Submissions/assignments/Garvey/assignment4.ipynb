{
  "nbformat": 4,
  "nbformat_minor": 0,
  "metadata": {
    "colab": {
      "provenance": []
    },
    "kernelspec": {
      "name": "python3",
      "display_name": "Python 3"
    },
    "language_info": {
      "name": "python"
    }
  },
  "cells": [
    {
      "cell_type": "code",
      "source": [
        "               #2. Challenge 1: Secret Number Guessing Game (40 min)\n",
        "\n",
        "# Write a Python program that:\n",
        "# 1. Stores a secret integer (hard-coded in code).\n",
        "# 2. Prompts the user to guess the number.\n",
        "# 3. Compares the guess to the secret and prints:\n",
        "# a. “Too low” if the guess is less than the secret.\n",
        "# b. “Too high” if the guess is greater.\n",
        "# c. “Correct!” if the guess matches.\n",
        "# 4. Repeats until the user guesses correctly.\n",
        "# 5. Counts number of attempts and reports at the end.\n",
        "\n",
        "\n",
        "# 1. Stores a secret integer (hard-coded in code).\n",
        "secret_number=7\n",
        "# 2. Prompts the user to guess the number\n",
        "guess=0\n",
        "attempt=0\n",
        "# 3. Compares the guess to the secret and prints:\n",
        "while guess!=secret_number:\n",
        "    attempt=attempt+1\n",
        "    guess=int(input(\"Guess a number: \"))\n",
        "    # a. “Too low” if the guess is less than the secret\n",
        "    if guess<secret_number:\n",
        "        print(\"Too low\")\n",
        "      # b. “Too high” if the guess is greater.\n",
        "    elif guess>secret_number:\n",
        "        print(\"Too high\")\n",
        "       # c. “Correct!” if the guess matches.\n",
        "    else:\n",
        "        print(\"Correct!\")\n",
        "print(\"You took\", attempt, \"attempts\")"
      ],
      "metadata": {
        "colab": {
          "base_uri": "https://localhost:8080/"
        },
        "id": "4IB12ja_d3ch",
        "outputId": "3eb09c83-deff-49a5-eb3e-500c69231f0e"
      },
      "execution_count": null,
      "outputs": [
        {
          "output_type": "stream",
          "name": "stdout",
          "text": [
            "Guess a number: 10\n",
            "Too high\n",
            "Guess a number: 7\n",
            "Correct!\n",
            "You took 2 attempts\n"
          ]
        }
      ]
    },
    {
      "cell_type": "code",
      "source": [
        "                      #3. Challenge 2: String Processor & Report (40 min)\n",
        "\n",
        "# Task\n",
        "# Build a program that:\n",
        "# 1. Prompts the user to enter a full sentence.\n",
        "# 2. Computes and displays:\n",
        "# a. Number of characters (excluding spaces).\n",
        "# b. Number of words.\n",
        "# c. The sentence in uppercase and lowercase.\n",
        "# d. The sentence reversed.\n",
        "# 3. Outputs a formatted report using f-strings and aligned indentation.\n",
        "\n",
        "# 1. Prompts the user to enter a full sentence.\n",
        "sentance = input(\"Enter a full sentence: \")\n",
        "print(sentance)\n",
        "# 2. Computes and displays:\n",
        "# c. The sentence in uppercase and lowercase.\n",
        "uppercase = sentance.upper()\n",
        "lowercase = sentance.lower()\n",
        "text=len(sentance.replace(\" \",\"\"))\n",
        "# d. The sentence reversed\n",
        "reverse = sentance[::-1]\n",
        "print(f\"Number of characters: {text}\")\n",
        "print(f\"Number of words: {len(sentance.split())}\")\n",
        "print(f\"Uppercase: {uppercase}\")\n",
        "print(f\"Lowercase: {lowercase}\")\n",
        "print(f\"Reversed: {reverse}\")"
      ],
      "metadata": {
        "colab": {
          "base_uri": "https://localhost:8080/"
        },
        "id": "UgcLVLr1feZP",
        "outputId": "2cc435cb-8708-4629-d5eb-a0e6768d3093"
      },
      "execution_count": 35,
      "outputs": [
        {
          "output_type": "stream",
          "name": "stdout",
          "text": [
            "Enter a full sentence: welcome to eldohub\n",
            "welcome to eldohub\n",
            "Number of characters: 16\n",
            "Number of words: 3\n",
            "Uppercase: WELCOME TO ELDOHUB\n",
            "Lowercase: welcome to eldohub\n",
            "Reversed: buhodle ot emoclew\n"
          ]
        }
      ]
    },
    {
      "cell_type": "code",
      "source": [],
      "metadata": {
        "id": "r-kfA23r0vfh"
      },
      "execution_count": 17,
      "outputs": []
    }
  ]
}