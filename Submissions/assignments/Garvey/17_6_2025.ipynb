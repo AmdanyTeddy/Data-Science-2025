{
  "nbformat": 4,
  "nbformat_minor": 0,
  "metadata": {
    "colab": {
      "provenance": []
    },
    "kernelspec": {
      "name": "python3",
      "display_name": "Python 3"
    },
    "language_info": {
      "name": "python"
    }
  },
  "cells": [
    {
      "cell_type": "code",
      "execution_count": 1,
      "metadata": {
        "colab": {
          "base_uri": "https://localhost:8080/"
        },
        "id": "eq58_FF0Dt_r",
        "outputId": "f8f81149-9710-422a-d64c-0fbc9e557720"
      },
      "outputs": [
        {
          "output_type": "stream",
          "name": "stdout",
          "text": [
            "Enter a word: garvey\n",
            "grvy\n"
          ]
        }
      ],
      "source": [
        "def keep_consonants():\n",
        "    word = input(\"Enter a word: \")\n",
        "    vowels = \"aeiouAEIOU\"\n",
        "    result = \"\"\n",
        "    for char in word:\n",
        "        if char.isalpha() and char not in vowels:\n",
        "            result += char\n",
        "    return result\n",
        "\n",
        "# Example usage\n",
        "print(keep_consonants())  # If input is \"babas\", Output: bbs\n"
      ]
    }
  ]
}