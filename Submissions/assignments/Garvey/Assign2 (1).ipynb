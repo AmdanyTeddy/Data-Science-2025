{
  "nbformat": 4,
  "nbformat_minor": 0,
  "metadata": {
    "colab": {
      "provenance": []
    },
    "kernelspec": {
      "name": "python3",
      "display_name": "Python 3"
    },
    "language_info": {
      "name": "python"
    }
  },
  "cells": [
    {
      "cell_type": "code",
      "execution_count": null,
      "metadata": {
        "id": "yiNbXUVMA_TC"
      },
      "outputs": [],
      "source": [
        "### **Assignment Instructions:**\n",
        "# 1. **Refactor the Code:**\n",
        "    #- **Improve Formatting:**\n",
        "        #- Separate multiple statements onto individual lines.\n",
        "        #- Ensure proper spacing around operators.\n",
        "    #- **Use Meaningful Variable Names:**\n",
        "        #- Rename variables like `r`, `h`, `vol`, and `sa` to more descriptive names (e.g., `radius`, `height`, `volume`, `surface_area`).\n",
        "    #- **Add Comments:**\n",
        "        #- Include comments that explain each part of the code (e.g., what the formulas compute).\n",
        "    #- **Enhance Readability:**\n",
        "        #- Structure the code in a way that it is easy to read and understand.\n",
        "#2. **Test Your Code:**\n",
        "    #- Run the refactored code to verify that it correctly computes and prints the cylinder’s volume and surface area.\n",
        "    #- Ensure that the functionality remains unchanged.\n",
        "\n",
        "\n",
        "# messy code to compute cylinder metrics\n",
        "r=3.0; h=5\n",
        "vol=3.14159*r**2*h; sa=2*3.14159*r*(r+h)\n",
        "print(\"Vol:\",vol,\"SurfArea:\", sa)"
      ]
    },
    {
      "cell_type": "code",
      "source": [
        "radius = 3.0;\n",
        "hight = 5;\n",
        "\n",
        "#calculating the volume\n",
        "volume = 3.14159 * radius ** 2 * hight\n",
        "\n",
        "#calculating the surface area\n",
        "surface_area = 2 * 3.14159 * radius * (radius + hight)\n",
        " print(\"vol:\",volume,\"SurfArea:\",surface_area)"
      ],
      "metadata": {
        "id": "wy5Lf-Q4BPEj"
      },
      "execution_count": null,
      "outputs": []
    }
  ]
}