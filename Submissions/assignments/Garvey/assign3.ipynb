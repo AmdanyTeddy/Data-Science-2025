{
  "nbformat": 4,
  "nbformat_minor": 0,
  "metadata": {
    "colab": {
      "provenance": []
    },
    "kernelspec": {
      "name": "python3",
      "display_name": "Python 3"
    },
    "language_info": {
      "name": "python"
    }
  },
  "cells": [
    {
      "cell_type": "code",
      "execution_count": null,
      "metadata": {
        "id": "o9KMDA6kKajP"
      },
      "outputs": [],
      "source": [
        "\n",
        "                                          QUIZ\n",
        "#QUIZ TOPICS\n",
        "\n",
        "   # 1  Definition and importance of debugging\n",
        "     Debugging is a computer engineering process that identifies, isolates and corrects or determines\n",
        "      the best way to work around a problem in applications\n",
        "   # 2  Differentiate between syntax,runtime,logic,operator precedence,variables bindings and       type\n",
        "     syntax  -> refers to the grammatical rules of a programming language. Runtime is the period when a program is actively executing\n",
        "\n",
        "     runtime->refer to the time a program takes to execute, the environment in which a program runs, or the software that facilitates program execution.\n",
        "\n",
        "     logic->  Logic refers to the reasoning or sequence of steps a program uses to solve a problem.\n",
        "\n",
        "      operators precedence->determines the order in which operators are evaluated in an expression.\n",
        "\n",
        "      variables bindings-> is the association of a variable name with its value, location, or type.\n",
        "\n",
        "       type error->\n",
        "  # 3 How print statements and IDE debuggers aid in the debugger process\n",
        "       By placing print statements at key points in the code, you can quickly check variable values, execution paths, and potential issues without setting up complicated tools or studying lengthy logs.\n",
        "  #4 What is the common cause of syntax error in python?\n",
        "       -> [b]  Missing colons or mismatched parentheses\n",
        "\n",
        "  #5 How does operator precedence after calculations?\n",
        "        -> [a] It determines the order operations are performed\n"
      ]
    }
  ]
}