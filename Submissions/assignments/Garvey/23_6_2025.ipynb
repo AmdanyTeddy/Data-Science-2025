{
  "nbformat": 4,
  "nbformat_minor": 0,
  "metadata": {
    "colab": {
      "provenance": []
    },
    "kernelspec": {
      "name": "python3",
      "display_name": "Python 3"
    },
    "language_info": {
      "name": "python"
    }
  },
  "cells": [
    {
      "cell_type": "code",
      "execution_count": null,
      "metadata": {
        "id": "_ED892oFEnvA",
        "colab": {
          "base_uri": "https://localhost:8080/"
        },
        "outputId": "17e862d5-5b2f-4b93-b0c9-4d42ff0e4a1f"
      },
      "outputs": [
        {
          "name": "stdout",
          "output_type": "stream",
          "text": [
            "Enter a number: 121\n"
          ]
        },
        {
          "output_type": "execute_result",
          "data": {
            "text/plain": [
              "True"
            ]
          },
          "metadata": {},
          "execution_count": 2
        }
      ],
      "source": [
        "# Challenge 1: Lambda Magic – Multiples of 3\n",
        "# Problem:\n",
        "# Write a lambda function that checks if a number is a multiple of 3.(10 Marks)\n",
        "\n",
        "def is_result_palindrome(operation, number):\n",
        "     result = operation(number)\n",
        "     result_str = str(result)\n",
        "     return result_str == result_str[::-1]\n",
        "\n",
        "# Example: function that multiplies by 3\n",
        "multiply_by_3 = lambda x: x * 3\n",
        "\n",
        "#Example usage\n",
        "\n",
        "number = int(input(\"Enter a number: \"))\n",
        "is_result_palindrome(multiply_by_3, number)"
      ]
    },
    {
      "cell_type": "code",
      "source": [
        "# Challenge 2: Using sum() and len() with Lists\n",
        "# Problem A: Find the average of a list of numbers (10 marks)\n",
        "# Function Signature:\n",
        "def average(L):\n",
        "  count = 0\n",
        "    # your code here\n",
        "  return(sum(L)/len(L))\n",
        "L = [20,30,40,50,60]\n",
        "print(average(L))"
      ],
      "metadata": {
        "id": "9kNUHqpvGgxW",
        "colab": {
          "base_uri": "https://localhost:8080/"
        },
        "outputId": "95c12ffe-77b4-4df1-b989-dcdb590c3c19"
      },
      "execution_count": null,
      "outputs": [
        {
          "output_type": "stream",
          "name": "stdout",
          "text": [
            "40.0\n"
          ]
        }
      ]
    },
    {
      "cell_type": "code",
      "source": [
        "# Challenge 3: Combine Lambda + List(10 Marks)\n",
        "# Problem:\n",
        "# Use filter() and a lambda to return all numbers divisible by 3 in a list.\n",
        "def divisible_by_3(L):\n",
        "  return list(filter(lambda x: x % 3 == 0, L))\n",
        "\n",
        "L = [1, 2, 3, 4, 5, 6]\n",
        "number = int(input(\"Enter a number: \"))\n",
        "print(divisible_by_3(L))"
      ],
      "metadata": {
        "colab": {
          "base_uri": "https://localhost:8080/"
        },
        "id": "bB9Vb01SLp8q",
        "outputId": "db74bfdc-800e-4942-e33c-9749dfa715de"
      },
      "execution_count": null,
      "outputs": [
        {
          "output_type": "stream",
          "name": "stdout",
          "text": [
            "Enter a number: 123\n",
            "[3, 6]\n"
          ]
        }
      ]
    },
    {
      "cell_type": "code",
      "source": [
        "# Challenge 4 (10 Marks)\n",
        "# Task:\n",
        "# Implement a function dot_product that does the following:\n",
        "# NB:Copy the whole code and run the problem first(Task on””” tA & tB”””)\n",
        "\n",
        "def dot_product(tA, tB):\n",
        "    \"\"\"\n",
        "    tA: a tuple of numbers\n",
        "    tB: a tuple of numbers of the same length as tA\n",
        "    Returns a tuple (length, dot product of tA and tB)\n",
        "    \"\"\"\n",
        "    total = 0\n",
        "    for i in range(len(tA)):\n",
        "        total += tA[i] * tB[i]\n",
        "    return (len(tA), total)\n",
        "\n",
        "# Example:\n",
        "print(dot_product((1, 2, 3), (4, 5, 6)))  # ➜ (3, 32)\n"
      ],
      "metadata": {
        "colab": {
          "base_uri": "https://localhost:8080/"
        },
        "id": "4rl1PHd9RjUb",
        "outputId": "a70e2b75-a492-49ab-b78a-916265d0132c"
      },
      "execution_count": null,
      "outputs": [
        {
          "output_type": "stream",
          "name": "stdout",
          "text": [
            "(3, 32)\n"
          ]
        }
      ]
    }
  ]
}