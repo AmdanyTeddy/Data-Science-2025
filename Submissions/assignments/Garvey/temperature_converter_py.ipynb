{
  "nbformat": 4,
  "nbformat_minor": 0,
  "metadata": {
    "colab": {
      "provenance": []
    },
    "kernelspec": {
      "name": "python3",
      "display_name": "Python 3"
    },
    "language_info": {
      "name": "python"
    }
  },
  "cells": [
    {
      "cell_type": "code",
      "execution_count": 26,
      "metadata": {
        "id": "tZAZgkmBQoE8",
        "colab": {
          "base_uri": "https://localhost:8080/"
        },
        "outputId": "a7314974-6b88-4c84-85b8-9f17c909cb3f"
      },
      "outputs": [
        {
          "output_type": "stream",
          "name": "stdout",
          "text": [
            "Enter temperature in celsius: 35\n",
            "35.0 Celsius is equal to 95.0 Fahrenheit\n",
            "Temperature is a bit chilly\n"
          ]
        }
      ],
      "source": [
        "\n",
        "#programing to convert temperature\n",
        "#convert string input to float\n",
        "# Fahrenheit = (celsius * 9/5 + 32\n",
        "celsius = float(input(\"Enter temperature in celsius: \"))\n",
        "#calculating fahrenheit\n",
        "fahrenheit = (celsius * 9/5 + 32)\n",
        "#Dislay the converted temperature\n",
        "print(f\"{celsius} Celsius is equal to {fahrenheit} Fahrenheit\")\n",
        "#condition to display\n",
        "if  celsius<= 0:\n",
        "  print(\"Temperature is below freezing\")\n",
        "elif celsius >=20:\n",
        "  print(\"Temperature is a bit chilly\")\n",
        "elif celsius <= 21:\n",
        "   print(\" Temperature is normal\")\n",
        "else:\n",
        "  print(\"it's quit warm\")"
      ]
    }
  ]
}