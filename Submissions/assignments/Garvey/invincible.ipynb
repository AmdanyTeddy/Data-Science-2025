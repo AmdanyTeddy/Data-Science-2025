{
  "nbformat": 4,
  "nbformat_minor": 0,
  "metadata": {
    "colab": {
      "provenance": []
    },
    "kernelspec": {
      "name": "python3",
      "display_name": "Python 3"
    },
    "language_info": {
      "name": "python"
    }
  },
  "cells": [
    {
      "cell_type": "code",
      "execution_count": 15,
      "metadata": {
        "colab": {
          "base_uri": "https://localhost:8080/"
        },
        "id": "gi4EEhcsvSCt",
        "outputId": "ee357737-09d2-47d5-a018-3e65752941a6"
      },
      "outputs": [
        {
          "output_type": "stream",
          "name": "stdout",
          "text": [
            "Enter your first name: garvey\n",
            "g → 103 → 01100111\n",
            "a → 97 → 01100001\n",
            "r → 114 → 01110010\n",
            "v → 118 → 01110110\n",
            "e → 101 → 01100101\n",
            "y → 121 → 01111001\n"
          ]
        }
      ],
      "source": [
        "\n",
        "\n",
        "name = input(\"Enter your first name: \")#it prompt the user to enter their first name\n",
        "\n",
        "for char in name:# iterates through each character in the string stored in the name variable\n",
        "  ascii_code = ord(char)# takes a single character as input and returns its corresponding Unicode code point\n",
        "                        #(which is the same as the ASCII value for standard ASCII characters)\n",
        "  binary_value = format(ascii_code, '08b')#format() function is used to convert the ascii_code (an integer) into its binary representation\n",
        "                               #b: Convert to binary.\n",
        "                                #8: Ensure the binary representation is at least 8 digits long\n",
        "                               #0: Pad with leading zeros if the binary representation is less than 8 digits\n",
        "#This process repeats for each character in the input name\n",
        "  print(f\"{char} → {ascii_code} → {binary_value}\")"
      ]
    },
    {
      "cell_type": "code",
      "source": [
        "#Assignment 2: Secret Binary Door Unlocker (Guess-and-Check + Binary + Loops)\n",
        "\n",
        "secret_binary_code = '1011'#This represents the secret binary code\n",
        "secret_decimal_code = int(secret_binary_code, 2)#converts this binary string into its equivalent decimal\n",
        "                                         # (base-10) integer value using the int()\n",
        "                                          #the second argument set to 2, indicating base 2\n",
        "print(\"Binary Door Code Challenge!\") #print title for the challenge\n",
        "\n",
        "while True:#the code inside this loop will continue to\n",
        "           #execute repeatedly until a break statement is encountered\n",
        "  try:#the code inside this is executed\n",
        "      #if any ValueError occurs during its execution, the code within the\n",
        "      # corresponding except ValueError: block will be executed\n",
        "    guess = int(input(f\"Guess the number that matches the secret binary code: {secret_binary_code}\\nYour guess: \"))\n",
        "                   #the input() function prompts the user to enter a guess\n",
        "                   #The user's input is then attempted to be converted\n",
        "                   # into an integer using int() and stored in the guess variable.\n",
        "    guess_binary = format(guess, 'b')#the user's integer guess is converted intorepresentation using the format()\n",
        "    print(f\"Binary of {guess} → {guess_binary}\", end=\" → \")\n",
        "        # The end=\" → \" argument in the print() function prevents a\n",
        "        # newline character from being printed after the output\n",
        "    if guess == secret_decimal_code:#checks if the user's guess (guess) is equal to the secret_decimal_code\n",
        "      print(\" Door Unlocked!\")\n",
        "      break\n",
        "    else:\n",
        "      print(\" Not a match.\")\n",
        "  except ValueError:\n",
        "    print(\"Invalid input. Please enter an integer.\")\n",
        "\n"
      ],
      "metadata": {
        "colab": {
          "base_uri": "https://localhost:8080/"
        },
        "id": "P8G2rBwJv4K5",
        "outputId": "750275aa-472a-4ef3-d97c-0290dc891dc9"
      },
      "execution_count": 16,
      "outputs": [
        {
          "output_type": "stream",
          "name": "stdout",
          "text": [
            "Binary Door Code Challenge!\n",
            "Guess the number that matches the secret binary code: 1011\n",
            "Your guess: 11\n",
            "Binary of 11 → 1011 →  Door Unlocked!\n"
          ]
        }
      ]
    }
  ]
}