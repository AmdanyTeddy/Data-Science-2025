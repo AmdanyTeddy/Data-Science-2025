{
  "nbformat": 4,
  "nbformat_minor": 0,
  "metadata": {
    "colab": {
      "provenance": []
    },
    "kernelspec": {
      "name": "python3",
      "display_name": "Python 3"
    },
    "language_info": {
      "name": "python"
    }
  },
  "cells": [
    {
      "cell_type": "code",
      "execution_count": 8,
      "metadata": {
        "colab": {
          "base_uri": "https://localhost:8080/"
        },
        "id": "hqx9mlElNu15",
        "outputId": "5f2cb6f8-e3ec-498c-8e60-c416821e7e22"
      },
      "outputs": [
        {
          "output_type": "stream",
          "name": "stdout",
          "text": [
            "True\n"
          ]
        }
      ],
      "source": [
        "#  Task: Build a class-based Library Book Tracker\n",
        "# Write a class called Book that:\n",
        "#     • Has attributes: title, author, year, copies_available\n",
        "#     • Has methods:\n",
        "#         ◦ borrow() → Decrease copies_available by 1 if at least one copy is available, else print “Not available.”\n",
        "#         ◦ return_book() → Increase copies_available by 1\n",
        "#         ◦ is_same_book(other) → Returns True if title and author match another book object\n",
        "\n",
        "# Sample Structure\n",
        "class Book:\n",
        "    def __init__(self, title, author, year, copies_available):\n",
        "        # Initialize all attributes\n",
        "        self.title = title\n",
        "        self.author = author\n",
        "        self.year = year\n",
        "        self.copies_available = copies_available\n",
        "\n",
        "    def borrow(self):\n",
        "        # Reduce copies_available or print \"Not available.\"\n",
        "        if self.copies_available > 0:\n",
        "            self.copies_available -= 1\n",
        "        else:\n",
        "            print(\"Not available.\")\n",
        "\n",
        "    def return_book(self):\n",
        "        # Increase copies_available\n",
        "        self.copies_available += 1\n",
        "\n",
        "    def is_same_book(self, other):\n",
        "        # Compare title and author\n",
        "        return self.title == other.title and self.author == other.author\n",
        "\n",
        "#Example Test:\n",
        "\n",
        "b1 = Book(\"Python Basics\", \"Dennis Omboga\", 2024, 3)\n",
        "b2 = Book(\"Python Basics\", \"Dennis Omboga\", 2024, 2)\n",
        "\n",
        "b1.borrow()          # reduces to 2\n",
        "b1.borrow()          # reduces to 1\n",
        "b1.return_book()     # increases to 2\n",
        "print(b1.is_same_book(b2))  # True"
      ]
    },
    {
      "cell_type": "code",
      "source": [
        "# Assignment 2: Customizing Behavior with Dunder Methods – Fraction Calculator\n",
        "# Objective: Apply __add__, __str__, and class composition (Lecture 18 focus)\n",
        "# Task: Create a class Fraction with dunder methods\n",
        "# Write a class Fraction that:\n",
        "#     • Stores a numerator and denominator (num, denom)\n",
        "#     • Has a method simplify() → Reduces the fraction (optional for bonus)\n",
        "#     • Overrides:\n",
        "#         ◦ __add__ → Add two fractions using formula\n",
        "#         ◦ __str__ → Pretty print (e.g., \"1/2\")\n",
        "#         ◦ __eq__ → Return True if fractions are equal (e.g., 1/2 == 2/4)\n",
        "\n",
        "# Sample Structure\n",
        "class Fraction:\n",
        "    def __init__(self, num, denom):\n",
        "        # Store values\n",
        "        self.num = num\n",
        "        self.denom = denom\n",
        "\n",
        "    def __add__(self, other):\n",
        "        # Return a new Fraction object\n",
        "        new_num = self.num * other.denom + other.num * self.denom\n",
        "        new_denom = self.denom * other.denom\n",
        "        return Fraction(new_num, new_denom)\n",
        "\n",
        "    def __eq__(self, other):\n",
        "        # Compare fractions\n",
        "        return self.num * other.denom == other.num * self.denom\n",
        "\n",
        "    def __str__(self):\n",
        "        # Return \"num/denom\"\n",
        "        return f\"{self.num}/{self.denom}\"\n",
        "# Example Test:\n",
        "\n",
        "f1 = Fraction(1, 2)\n",
        "f2 = Fraction(1, 4)\n",
        "f3 = f1 + f2\n",
        "print(f3)          # Output: 6/8 (or simplified)\n",
        "print(f1 == f2)    # Output: False\n",
        "print(f1 == Fraction(2, 4))  # True if simplified"
      ],
      "metadata": {
        "colab": {
          "base_uri": "https://localhost:8080/"
        },
        "id": "P9PI3bfWO38C",
        "outputId": "bffa0e71-88b4-4c53-97bb-240ecc0bd6dd"
      },
      "execution_count": 10,
      "outputs": [
        {
          "output_type": "stream",
          "name": "stdout",
          "text": [
            "6/8\n",
            "False\n",
            "True\n"
          ]
        }
      ]
    }
  ]
}