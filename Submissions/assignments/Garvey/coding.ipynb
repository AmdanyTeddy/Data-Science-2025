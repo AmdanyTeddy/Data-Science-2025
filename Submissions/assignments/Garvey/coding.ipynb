{
  "nbformat": 4,
  "nbformat_minor": 0,
  "metadata": {
    "colab": {
      "provenance": []
    },
    "kernelspec": {
      "name": "python3",
      "display_name": "Python 3"
    },
    "language_info": {
      "name": "python"
    }
  },
  "cells": [
    {
      "cell_type": "code",
      "source": [
        "print(\"Task 3: Find common letters in two phrases\")\n",
        "#this containes the leters\n",
        "text1 = \"aeiou\"\n",
        "text2 = \"abcd\"\n",
        "#letters1 and letters2,  contain only the unique alphabetic characters from each phrase.\n",
        "# this 2 iterates through each character (ch) in texst\n",
        "# For each character, it checks if it's an alphabetic character using ch.isalpha()\n",
        "# and if it's not already present in the letters1 list\n",
        "letters1 = [] #aeiou\n",
        "for ch in text1:\n",
        "#check alphabetic character\n",
        "    if ch.isalpha() and ch not in letters1:\n",
        "# If both conditions are true, the character is added to\n",
        "        letters1.append(ch)\n",
        "\n",
        "letters2 = [] #abcd\n",
        "for ch in text2:\n",
        "    if ch.isalpha() and ch not in letters2:\n",
        "        letters2.append(ch)\n",
        "#This list contain the unique letters that are present in both phrases\n",
        " #it checks if the letter is also present in the letter1 and letters2 list and\n",
        " # if it's not already in the common list\n",
        "common = []\n",
        "for letter in letters1:\n",
        "    if letter in letters2 and letter not in common:\n",
        "        common.append(letter)\n",
        "\n",
        "print(\"   Common letters are:\", common)\n",
        "print(\"   Total common letters:\", len(common))"
      ],
      "metadata": {
        "colab": {
          "base_uri": "https://localhost:8080/"
        },
        "id": "ISlVGHRwLLII",
        "outputId": "4e720d75-8278-49e1-b93c-846b76582fda"
      },
      "execution_count": null,
      "outputs": [
        {
          "output_type": "stream",
          "name": "stdout",
          "text": [
            "Task 3: Find common letters in two phrases\n",
            "   Common letters are: ['a']\n",
            "   Total common letters: 1\n"
          ]
        }
      ]
    }
  ]
}