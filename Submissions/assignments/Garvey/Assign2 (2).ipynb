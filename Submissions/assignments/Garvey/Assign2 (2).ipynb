{
  "nbformat": 4,
  "nbformat_minor": 0,
  "metadata": {
    "colab": {
      "provenance": []
    },
    "kernelspec": {
      "name": "python3",
      "display_name": "Python 3"
    },
    "language_info": {
      "name": "python"
    }
  },
  "cells": [
    {
      "cell_type": "code",
      "source": [
        "radius = 3.0;\n",
        "hight = 5;\n",
        "\n",
        "#calculating the volume\n",
        "volume = 3.14159 * radius ** 2 * hight\n",
        "\n",
        "#calculating the surface area\n",
        "surface_area = 2 * 3.14159 * radius * (radius + hight)\n",
        "print(\"Volume:\", volume, \"Surface Area:\", surface_area)\n"
      ],
      "metadata": {
        "id": "wy5Lf-Q4BPEj",
        "colab": {
          "base_uri": "https://localhost:8080/"
        },
        "outputId": "f350847a-f411-4f34-a3da-3c6ce55582df"
      },
      "execution_count": 5,
      "outputs": [
        {
          "output_type": "stream",
          "name": "stdout",
          "text": [
            "Volume: 141.37155 Surface Area: 150.79631999999998\n"
          ]
        }
      ]
    }
  ]
}