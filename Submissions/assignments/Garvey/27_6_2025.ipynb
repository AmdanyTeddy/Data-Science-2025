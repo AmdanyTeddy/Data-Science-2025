{
  "nbformat": 4,
  "nbformat_minor": 0,
  "metadata": {
    "colab": {
      "provenance": []
    },
    "kernelspec": {
      "name": "python3",
      "display_name": "Python 3"
    },
    "language_info": {
      "name": "python"
    }
  },
  "cells": [
    {
      "cell_type": "code",
      "execution_count": null,
      "metadata": {
        "id": "G18LSGoiFzLH",
        "colab": {
          "base_uri": "https://localhost:8080/"
        },
        "outputId": "ea28c4de-e29e-4e94-ae88-a53e06a643d4"
      },
      "outputs": [
        {
          "output_type": "stream",
          "name": "stdout",
          "text": [
            "[3, 6]\n"
          ]
        }
      ],
      "source": [
        "# Finger Exercise Lecture 11\n",
        "# Implement the function that meets the specifications below:\n",
        "def remove_and_sort(Lin, k):\n",
        "    \"\"\" Lin is a list of ints\n",
        "        k is an int >= 0\n",
        "    Mutates Lin to remove the first k elements in Lin and\n",
        "    then sorts the remaining elements in ascending order.\n",
        "    If you run out of items to remove, Lin is mutated to an empty list.\n",
        "    Does not return anything.\n",
        "    \"\"\"\n",
        "    # Your code here\n",
        "    for i in range(k):\n",
        "       Lin.pop(0)\n",
        "    Lin.sort()\n",
        "\n",
        "\n",
        "# Examples:\n",
        "L = [1,6,3]\n",
        "k = 1\n",
        "remove_and_sort(L, k)\n",
        "print(L)   # prints the list [3, 6]\n"
      ]
    }
  ]
}