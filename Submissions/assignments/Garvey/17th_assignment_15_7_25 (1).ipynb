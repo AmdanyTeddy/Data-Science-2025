{
  "nbformat": 4,
  "nbformat_minor": 0,
  "metadata": {
    "colab": {
      "provenance": []
    },
    "kernelspec": {
      "name": "python3",
      "display_name": "Python 3"
    },
    "language_info": {
      "name": "python"
    }
  },
  "cells": [
    {
      "cell_type": "code",
      "source": [
        "# Challenge 1: 📦 The Box Class\n",
        "# Goal: Practice class creation, comparison between objects, and area/volume calculations.\n",
        "\n",
        "# Challenge 1\n",
        "# Write a class called Box that:\n",
        "#     • Has attributes: length, width, height\n",
        "#     • Has a method get_volume() that returns the volume (length × width × height)\n",
        "#     • Has a method is_cube() that returns True if all sides are equal\n",
        "#     • Has a method bigger(other) that returns the box with a larger volume\n",
        "\n",
        "class Box:\n",
        "    def __init__(self, length, width, height):\n",
        "        self.length = length\n",
        "        self.width = width\n",
        "        self.height = height\n",
        "\n",
        "    def get_volume(self):\n",
        "        return self.length * self.width * self.height\n",
        "\n",
        "    def is_cube(self):\n",
        "        return self.length == self.width == self.height\n",
        "        return True\n",
        "    def bigger(self, other):\n",
        "        return self if self.get_volume() > other.get_volume() else other\n",
        "\n",
        "    def __col__(self):\n",
        "        return f\"Box(length={self.length}, width={self.width}, height={self.height})\"\n",
        "\n",
        "# Create instances of the Box class\n",
        "c = Box(4, 4, 4)\n",
        "orig = Box(0, 0, 0)\n",
        "box1 = Box(2, 3, 4)\n",
        "box2 = Box(3, 3, 3)\n",
        "\n",
        "print(f\"Box1 Volume: {box1.get_volume()}\")\n",
        "print(f\"Box2 Volume: {box2.get_volume()}\")\n",
        "print(f\"Is Box1 a cube? {box1.is_cube()}\")\n",
        "print(f\"Is Box2 a cube? {box2.is_cube()}\")\n",
        "print(f\"The bigger box is: {box1.bigger(box2)}\")\n"
      ],
      "metadata": {
        "colab": {
          "base_uri": "https://localhost:8080/"
        },
        "id": "FqNREzsvKsIY",
        "outputId": "21114e7a-a3a3-43a3-9d53-8c8ae44330ca"
      },
      "execution_count": null,
      "outputs": [
        {
          "output_type": "stream",
          "name": "stdout",
          "text": [
            "Box1 Volume: 24\n",
            "Box2 Volume: 27\n",
            "Is Box1 a cube? False\n",
            "Is Box2 a cube? True\n",
            "The bigger box is: Box(length=3, width=3, height=3)\n"
          ]
        }
      ]
    },
    {
      "cell_type": "code",
      "source": [
        "#  Challenge 2: 🎵 The Song Class\n",
        "# Goal: Practice instance attributes, conditionals, methods, and object interaction.\n",
        "\n",
        "# Challenge 2\n",
        "# Write a class called Song that:\n",
        "#     • Has attributes: title, artist, duration (in seconds)\n",
        "#     • Has a method is_long() that returns True if the song is over 5 minutes (300 seconds)\n",
        "#     • Has a method same_artist(other) that returns True if two songs have the same artist\n",
        "#     • Has a method longer_song(other) that returns the song with the longer duration\n",
        "\n",
        "class song:\n",
        "    def __init__(self, title, artist, duration):\n",
        "        self.title = title\n",
        "        self.artist = artist\n",
        "        self.duration = duration\n",
        "\n",
        "    def is_long(self):\n",
        "        return self.duration > 300\n",
        "\n",
        "    def same_artist(self, other):\n",
        "        return self.artist == other.artist\n",
        "\n",
        "    def longer_song(self, other):\n",
        "        return self if self.duration > other.duration else other\n",
        "song1 = song(\"Bohemian Rhapsody\", \"Queen\", 354)\n",
        "song2 = song(\"Stairway to Heaven\", \"Led Zeppelin\", 482)\n",
        "song3 = song(\"Bohemian Rhapsody\", \"Queen\", 164)\n",
        "\n",
        "print(f\"song'{song1.title}' is over 5 minutes (300 seconds) {song1.is_long()}\")\n",
        "print(f\"Do '{song1.title}' and '{song3.title}' have the same artist? {song1.same_artist(song3)}\")\n",
        "print(f\"song '{song2.title}' long duration? {song2.is_long()}\")"
      ],
      "metadata": {
        "colab": {
          "base_uri": "https://localhost:8080/"
        },
        "id": "auoolz2LQReb",
        "outputId": "b5787984-77ad-4392-cb9f-41bd1ced8fe4"
      },
      "execution_count": null,
      "outputs": [
        {
          "output_type": "stream",
          "name": "stdout",
          "text": [
            "song'Bohemian Rhapsody' is over 5 minutes (300 seconds) True\n",
            "Do 'Bohemian Rhapsody' and 'Bohemian Rhapsody' have the same artist? True\n",
            "song 'Stairway to Heaven' long duration? True\n"
          ]
        }
      ]
    }
  ]
}