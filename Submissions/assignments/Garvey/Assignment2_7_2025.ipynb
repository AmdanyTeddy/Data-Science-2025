{
  "nbformat": 4,
  "nbformat_minor": 0,
  "metadata": {
    "colab": {
      "provenance": []
    },
    "kernelspec": {
      "name": "python3",
      "display_name": "Python 3"
    },
    "language_info": {
      "name": "python"
    }
  },
  "cells": [
    {
      "cell_type": "code",
      "execution_count": null,
      "metadata": {
        "id": "heZw5uTFPsyp",
        "colab": {
          "base_uri": "https://localhost:8080/"
        },
        "outputId": "9a932b96-bd41-4849-cdb1-9cb75c8a0a02"
      },
      "outputs": [
        {
          "output_type": "stream",
          "name": "stdout",
          "text": [
            "HelloDennis, welcome!\n",
            "HelloDennis,Good job\n",
            "Name: Alice,age: 25,city: Nairobi\n"
          ]
        }
      ],
      "source": [
        "# Lec 12  Assignment\n",
        "\n",
        "# Wrap-up & Homework\n",
        "# Practice, Read and  do your own research on how to:\n",
        "# Create functions with keyword and default args.\n",
        "# Build list comprehensions from loops.\n",
        "# Try debugging 3 simple buggy programs.\n",
        "\n",
        "# Create functions with keyword and default args.\n",
        " #Defalt Aguments\n",
        "def greet(name, message =\" welcome!\"):\n",
        "  return f\"Hello{name},{message}\"\n",
        "\n",
        "print(greet(\"Dennis\"))\n",
        "print(greet(\"Dennis\",\"Good job\"))\n",
        "\n",
        "#Keyword Agument\n",
        "def profile(name, age,city):\n",
        "  print(f\"Name: {name},age: {age},city: {city}\")\n",
        "\n",
        "profile(age=25, city=\"Nairobi\", name=\"Alice\")\n"
      ]
    },
    {
      "cell_type": "code",
      "source": [
        "# Build list comprehensions from loops.\n",
        "n = [\"garvey\",\"mark\",\"Gojo\",\"itadory\"]\n",
        "capitalized_n =[n.capitalize() for n in n]\n",
        "print(\"name\", name)\n",
        "print(\"capitalized\",capitalized_n)"
      ],
      "metadata": {
        "colab": {
          "base_uri": "https://localhost:8080/"
        },
        "id": "aofR4nEzQ_YJ",
        "outputId": "68580d8b-dbff-4df8-b210-a12afb307856"
      },
      "execution_count": 11,
      "outputs": [
        {
          "output_type": "stream",
          "name": "stdout",
          "text": [
            "name ['garvey', 'mark', 'Gojo', 'itadory']\n",
            "capitalized ['Garvey', 'Mark', 'Gojo', 'Itadory']\n"
          ]
        }
      ]
    },
    {
      "cell_type": "code",
      "source": [],
      "metadata": {
        "id": "OdtGXhNIS6zi"
      },
      "execution_count": null,
      "outputs": []
    }
  ]
}