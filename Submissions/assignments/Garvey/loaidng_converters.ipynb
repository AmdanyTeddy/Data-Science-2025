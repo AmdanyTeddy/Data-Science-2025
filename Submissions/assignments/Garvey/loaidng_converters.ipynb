{
  "nbformat": 4,
  "nbformat_minor": 0,
  "metadata": {
    "colab": {
      "provenance": []
    },
    "kernelspec": {
      "name": "python3",
      "display_name": "Python 3"
    },
    "language_info": {
      "name": "python"
    }
  },
  "cells": [
    {
      "cell_type": "code",
      "execution_count": 3,
      "metadata": {
        "colab": {
          "base_uri": "https://localhost:8080/"
        },
        "id": "qOl2AUMqI-oz",
        "outputId": "ac4e1510-439c-4901-f502-2441368b02c7"
      },
      "outputs": [
        {
          "output_type": "stream",
          "name": "stdout",
          "text": [
            "Welcome to the Binary Snack Machine!\n",
            "Enter snack price (between 0 and 10):\n",
            "Invalid input. Please enter a number:\n",
            "Invalid input. Please enter a number:\n",
            "2\n",
            "Binary price: 10.00000000\n",
            "Enjoy your snack! \n"
          ]
        }
      ],
      "source": [
        "#This code simulates a \"Binary Snack Machine\" that takes a snack price as input (between 0 and 10)\n",
        "# and then converts that price into its binary representation.\n",
        "# Welcome message\n",
        "print(\"Welcome to the Binary Snack Machine!\")\n",
        "print(\"Enter snack price (between 0 and 10):\")\n",
        "\n",
        "# Get user input and validate\n",
        "while True:#creates an infinite loop that will continue until explicitly broken out of\n",
        "    try:# is used for error handling\n",
        "        price = float(input())\n",
        "        if 0 <= price <= 10:\n",
        "            break\n",
        "        else:\n",
        "            print(\"Price must be between 0 and 10. Please try again:\")\n",
        "    except ValueError:\n",
        "        print(\"Invalid input. Please enter a number:\")\n",
        "\n",
        "# Separate integer and fractional parts\n",
        "integer_part = int(price)\n",
        "fractional_part = price - integer_part\n",
        "\n",
        "# Convert integer part to binary\n",
        "binary_integer = \"\"\n",
        "if integer_part == 0:\n",
        "    binary_integer = \"0\"\n",
        "else:\n",
        "    while integer_part > 0:\n",
        "        binary_integer = str(integer_part % 2) + binary_integer\n",
        "        integer_part //= 2\n",
        "\n",
        "# Convert fractional part to binary (guess and check)\n",
        "binary_fractional = \"\"\n",
        "for _ in range(8):  # Round to a maximum of 8 bits\n",
        "    fractional_part *= 2\n",
        "    bit = int(fractional_part)\n",
        "    binary_fractional += str(bit)\n",
        "    fractional_part -= bit\n",
        "\n",
        "# Combine and print the binary price\n",
        "binary_price = binary_integer + \".\" + binary_fractional\n",
        "print(f\"Binary price: {binary_price}\")\n",
        "print(\"Enjoy your snack! \")\n"
      ]
    }
  ]
}