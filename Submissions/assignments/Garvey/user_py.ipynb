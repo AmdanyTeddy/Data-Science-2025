{
  "nbformat": 4,
  "nbformat_minor": 0,
  "metadata": {
    "colab": {
      "provenance": []
    },
    "kernelspec": {
      "name": "python3",
      "display_name": "Python 3"
    },
    "language_info": {
      "name": "python"
    }
  },
  "cells": [
    {
      "cell_type": "code",
      "execution_count": null,
      "metadata": {
        "colab": {
          "base_uri": "https://localhost:8080/"
        },
        "id": "ShP2-pnBIHYS",
        "outputId": "f8c1b0bc-c68a-4a20-b3aa-6d1345169643"
      },
      "outputs": [
        {
          "output_type": "stream",
          "name": "stdout",
          "text": [
            "enter full name garvey mandela\n",
            "enter your age 18\n",
            "enter your height 6\n",
            "Are you a student yes\n",
            "welcome garvey mandela years \n",
            "your age is 18 \n",
            "your height is 6.0 \n",
            "Are you a student True \n"
          ]
        }
      ],
      "source": [
        "user_name =str(input(\"enter full name \"))\n",
        "age = int(input(\"enter your age \"))\n",
        "height = float(input(\"enter your height \"))\n",
        "student = bool(input(\"Are you a student \"))\n",
        "print(f\"welcome {user_name}  \")\n",
        "print(f\"your age is {age} year \")\n",
        "print(f\"your height is {height} \")\n",
        "print(f\"Are you a student {student} \")"
      ]
    }
  ]
}