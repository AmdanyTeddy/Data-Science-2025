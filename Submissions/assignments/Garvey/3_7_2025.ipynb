{
  "nbformat": 4,
  "nbformat_minor": 0,
  "metadata": {
    "colab": {
      "provenance": []
    },
    "kernelspec": {
      "name": "python3",
      "display_name": "Python 3"
    },
    "language_info": {
      "name": "python"
    }
  },
  "cells": [
    {
      "cell_type": "code",
      "execution_count": null,
      "metadata": {
        "id": "Wu62OqymfOdX",
        "colab": {
          "base_uri": "https://localhost:8080/"
        },
        "outputId": "623b9801-7634-454a-95c0-4394db51c954"
      },
      "outputs": [
        {
          "output_type": "stream",
          "name": "stdout",
          "text": [
            "Enter a number: \n",
            "5\n",
            "Enter another number: \n",
            "3\n",
            "Result: 2\n"
          ]
        }
      ],
      "source": [
        "# Assignment 12\n",
        "# 1. Fix the Bug:\n",
        "\n",
        "def subtract():\n",
        "      subtract(f\"subtract {a} and {b}\")\n",
        "      return a - b\n",
        "\n",
        "print(\"Enter a number: \")\n",
        "a =  int(input())\n",
        "print(\"Enter another number: \")\n",
        "b = int(input())\n",
        "print(\"Result:\", a - b)\n"
      ]
    },
    {
      "cell_type": "code",
      "source": [
        "# 2. Add assert to This Code:\n",
        "\n",
        "def check_age(age):\n",
        "    # add assertion here\n",
        "  assert 0 <= check_age <= 40\n",
        "print(\"Age is okay.\")"
      ],
      "metadata": {
        "id": "ga36HefPk5Lm",
        "colab": {
          "base_uri": "https://localhost:8080/"
        },
        "outputId": "4328128b-316d-425c-e8b3-6603755ad992"
      },
      "execution_count": 53,
      "outputs": [
        {
          "output_type": "stream",
          "name": "stdout",
          "text": [
            "Age is okay.\n"
          ]
        }
      ]
    },
    {
      "cell_type": "code",
      "source": [
        "# 3. Use raise to catch invalid input:\n",
        "def is_even(n):\n",
        "    # if n is not an int, raise Exception\n",
        "    if not isinstance(n, int):\n",
        "      raise Exception(\"Input must be an integer.\")\n",
        "    return n % 2 == 0"
      ],
      "metadata": {
        "id": "gwt0_ktMr_kF"
      },
      "execution_count": 61,
      "outputs": []
    }
  ]
}