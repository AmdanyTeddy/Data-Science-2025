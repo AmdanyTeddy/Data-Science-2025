{
  "nbformat": 4,
  "nbformat_minor": 0,
  "metadata": {
    "colab": {
      "provenance": []
    },
    "kernelspec": {
      "name": "python3",
      "display_name": "Python 3"
    },
    "language_info": {
      "name": "python"
    }
  },
  "cells": [
    {
      "cell_type": "code",
      "execution_count": 2,
      "metadata": {
        "colab": {
          "base_uri": "https://localhost:8080/"
        },
        "id": "CJfhlj1TTtLZ",
        "outputId": "a79711b9-135e-4b63-8c74-f81445bfaf95"
      },
      "outputs": [
        {
          "output_type": "stream",
          "name": "stdout",
          "text": [
            "True\n",
            "False\n",
            "True\n"
          ]
        }
      ],
      "source": [
        "def are_numbers_increasing(s: str) -> bool:\n",
        "  tokens = s.split()\n",
        "  prev_number = -1\n",
        "\n",
        "\n",
        "  for token in tokens:\n",
        "    if token.isdigit():\n",
        "       number = int(token)\n",
        "       if number <= prev_number:\n",
        "           return False\n",
        "       prev_number = number\n",
        "  return True\n",
        "\n",
        "\n",
        "print(are_numbers_increasing(\"a puppy has 2 eyes 4 legs\"))\n",
        "print(are_numbers_increasing(\"he has 5 dogs 4 cats\"))\n",
        "print(are_numbers_increasing(\"no nomber here\"))"
      ]
    }
  ]
}