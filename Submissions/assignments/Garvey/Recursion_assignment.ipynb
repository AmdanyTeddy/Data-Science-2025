{
  "nbformat": 4,
  "nbformat_minor": 0,
  "metadata": {
    "colab": {
      "provenance": []
    },
    "kernelspec": {
      "name": "python3",
      "display_name": "Python 3"
    },
    "language_info": {
      "name": "python"
    }
  },
  "cells": [
    {
      "cell_type": "code",
      "execution_count": 3,
      "metadata": {
        "colab": {
          "base_uri": "https://localhost:8080/"
        },
        "id": "jwf0HiBLtVaA",
        "outputId": "c686ec8f-3d0a-458b-fa45-2a2f0dd7fef7"
      },
      "outputs": [
        {
          "output_type": "stream",
          "name": "stdout",
          "text": [
            "1\n",
            "120\n",
            "5040\n"
          ]
        }
      ],
      "source": [
        "# Assignment\n",
        "# Topic 15 (Recursion basics, inductive reasoning)\n",
        "# Lecture 15 Challenge 1:\n",
        "# Recur_factorial\n",
        "# Topic: Recursion vs Iteration\n",
        "\n",
        "def recur_factorial(n):\n",
        "    \"\"\"\n",
        "    n: int >= 0\n",
        "\n",
        "    Returns the factorial of n using recursion.\n",
        "    Hint: Base case is when n == 0. In the recursive case, return n * factorial(n-1).\n",
        "    \"\"\"\n",
        "    # Your code here\n",
        "    if n == 0:\n",
        "        return 1\n",
        "    else:\n",
        "        return n * recur_factorial(n-1)\n",
        "# Examples:\n",
        "print(recur_factorial(0))  # prints 1\n",
        "print(recur_factorial(5))  # prints 120\n",
        "print(recur_factorial(7))  # prints 5040"
      ]
    },
    {
      "cell_type": "code",
      "source": [
        "# Lecture 15 Challenge 2:\n",
        "# Is_palindrome_recur\n",
        "# Topic: Inductive reasoning, recursive thinking on strings\n",
        "\n",
        "def is_palindrome_recur(s):\n",
        "    \"\"\"\n",
        "    s: string\n",
        "\n",
        "    Returns True if s is a palindrome using recursion, False otherwise.\n",
        "    Hint: A string is a palindrome if the first and last characters are equal\n",
        "    and the substring in between is also a palindrome.\n",
        "    \"\"\"\n",
        "    # Your code here\n",
        "    if len(s) <= 1:\n",
        "        return True\n",
        "    elif s[0] == s[-1]:\n",
        "        return is_palindrome_recur(s[1:-1])\n",
        "    else:\n",
        "        return False\n",
        "\n",
        "# Examples:\n",
        "print(is_palindrome_recur(\"racecar\"))  # prints True\n",
        "print(is_palindrome_recur(\"hello\"))    # prints False\n",
        "print(is_palindrome_recur(\"madam\"))    # prints True"
      ],
      "metadata": {
        "colab": {
          "base_uri": "https://localhost:8080/"
        },
        "id": "gzRfMxcjw3Dr",
        "outputId": "52ea8616-1055-4475-d0ce-9e72ea025112"
      },
      "execution_count": 12,
      "outputs": [
        {
          "output_type": "stream",
          "name": "stdout",
          "text": [
            "True\n",
            "False\n",
            "True\n"
          ]
        }
      ]
    },
    {
      "cell_type": "code",
      "source": [],
      "metadata": {
        "id": "Z5_ncUgdzZgu"
      },
      "execution_count": null,
      "outputs": []
    }
  ]
}