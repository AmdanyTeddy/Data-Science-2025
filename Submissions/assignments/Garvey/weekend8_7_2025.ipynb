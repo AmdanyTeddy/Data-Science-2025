{
  "nbformat": 4,
  "nbformat_minor": 0,
  "metadata": {
    "colab": {
      "provenance": []
    },
    "kernelspec": {
      "name": "python3",
      "display_name": "Python 3"
    },
    "language_info": {
      "name": "python"
    }
  },
  "cells": [
    {
      "cell_type": "code",
      "execution_count": 11,
      "metadata": {
        "colab": {
          "base_uri": "https://localhost:8080/"
        },
        "id": "50OdB5uYlw4h",
        "outputId": "ee0c51ee-a71f-48af-9761-01d7cbaf5ad2"
      },
      "outputs": [
        {
          "output_type": "stream",
          "name": "stdout",
          "text": [
            "['Alice', 'Bob', 'Daisy']\n",
            "[]\n"
          ]
        }
      ],
      "source": [
        "# Topic 14: Dictionaries\n",
        "\n",
        "#Q1. Implement the function that meets the specification below:\n",
        "\n",
        "def student_score_summary(scores, threshold):\n",
        "    \"\"\"\n",
        "    scores: a dictionary mapping student names (str) to total scores (int).\n",
        "    threshold: an integer score threshold.\n",
        "\n",
        "    Returns a list of student names who scored above the threshold.\n",
        "    The list should be sorted alphabetically.\n",
        "    \"\"\"\n",
        "    # Your code here\n",
        "\n",
        "    # Filter students who scored above the threshold\n",
        "    above_threshold = [name for name, score in scores.items() if score > threshold]\n",
        "\n",
        "    # Sort the list alphabetically\n",
        "    above_threshold.sort()\n",
        "\n",
        "    return above_threshold\n",
        "\n",
        "\n",
        "# Examples:\n",
        "students = {\"Alice\": 82, \"Bob\": 94, \"Charlie\": 78, \"Daisy\": 95}\n",
        "print(student_score_summary(students, 80))   # prints ['Alice', 'Bob', 'Daisy']\n",
        "print(student_score_summary(students, 100))  # prints []\n"
      ]
    },
    {
      "cell_type": "code",
      "source": [
        "\n",
        "#Q2. Implement the function that meets the specification below:\n",
        "\n",
        "def merge_inventory(inv1, inv2):\n",
        "    \"\"\"\n",
        "    inv1 and inv2 are dictionaries mapping item names (str) to quantities (int).\n",
        "\n",
        "    Returns a new dictionary that combines both inventories.\n",
        "    If an item appears in both, their quantities are summed.\n",
        "    \"\"\"\n",
        "    # Your code here\n",
        "    merged_inventory = inv1.copy()\n",
        "\n",
        "    # Add items from inv2 to the merged inventory\n",
        "    for item, quantity in inv2.items():\n",
        "        if item in merged_inventory:\n",
        "            merged_inventory[item] += quantity\n",
        "        else:\n",
        "            merged_inventory[item] = quantity\n",
        "\n",
        "    return merged_inventory\n",
        "\n",
        "# Examples:\n",
        "inv1 = {\"pen\": 10, \"notebook\": 5}\n",
        "inv2 = {\"notebook\": 3, \"eraser\": 7}\n",
        "print(merge_inventory(inv1, inv2))  # prints {'pen': 10, 'notebook': 8, 'eraser': 7}\n"
      ],
      "metadata": {
        "colab": {
          "base_uri": "https://localhost:8080/"
        },
        "id": "5c2861H30Aa7",
        "outputId": "5e52dc96-eaf3-4e92-db96-582c58e66305"
      },
      "execution_count": 13,
      "outputs": [
        {
          "output_type": "stream",
          "name": "stdout",
          "text": [
            "{'pen': 10, 'notebook': 8, 'eraser': 7}\n"
          ]
        }
      ]
    }
  ]
}