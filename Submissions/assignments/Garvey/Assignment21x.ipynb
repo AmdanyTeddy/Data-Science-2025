{
  "nbformat": 4,
  "nbformat_minor": 0,
  "metadata": {
    "colab": {
      "provenance": []
    },
    "kernelspec": {
      "name": "python3",
      "display_name": "Python 3"
    },
    "language_info": {
      "name": "python"
    }
  },
  "cells": [
    {
      "cell_type": "code",
      "execution_count": 3,
      "metadata": {
        "colab": {
          "base_uri": "https://localhost:8080/"
        },
        "id": "ByA3UjDDmfjj",
        "outputId": "73b9fbd8-deb1-4338-8663-2e3236e84e97"
      },
      "outputs": [
        {
          "name": "stdout",
          "output_type": "stream",
          "text": [
            "\n",
            "=== Password Vault ===\n",
            "1. Add entry\n",
            "2. Retrieve entry\n",
            "3. Delete entry\n",
            "4. Exit\n",
            "Enter choice: 1\n",
            "Service: 2\n",
            "Username: garvey\n",
            "Password: 12345678\n",
            " Entry for '2' added.\n",
            "\n",
            "=== Password Vault ===\n",
            "1. Add entry\n",
            "2. Retrieve entry\n",
            "3. Delete entry\n",
            "4. Exit\n",
            "Enter choice: 4\n"
          ]
        }
      ],
      "source": [
        "# Eldohub Data Science Department:\n",
        "# Individual Weekend Takeaway Assignment\n",
        "# Project Title: Password Vault – A Simple Local Password Manager\n",
        "# Project Description:\n",
        "# Build a command-line tool that lets users store, retrieve, and manage their passwords locally.\n",
        "# The passwords should be encrypted before saving.\n",
        "\n",
        "import json\n",
        "import base64\n",
        "import os\n",
        "\n",
        "VAULT_FILE = \"vault.json\"\n",
        "\n",
        "def load_vault():\n",
        "    if not os.path.exists(VAULT_FILE):\n",
        "        return {}\n",
        "    with open(VAULT_FILE, \"r\") as f:\n",
        "        return json.load(f)\n",
        "\n",
        "def save_vault(vault):\n",
        "    with open(VAULT_FILE, \"w\") as f:\n",
        "        json.dump(vault, f, indent=4)\n",
        "\n",
        "def encrypt(text: str) -> str:\n",
        "    return base64.b64encode(text.encode()).decode()\n",
        "\n",
        "def decrypt(text: str) -> str:\n",
        "    return base64.b64decode(text.encode()).decode()\n",
        "\n",
        "def add_entry(service, username, password):\n",
        "    vault = load_vault()\n",
        "    vault[service] = {\"username\": username, \"password\": encrypt(password)}\n",
        "    save_vault(vault)\n",
        "    print(f\" Entry for '{service}' added.\")\n",
        "\n",
        "def get_entry(service):\n",
        "    vault = load_vault()\n",
        "    if service in vault:\n",
        "        data = vault[service]\n",
        "        return data[\"username\"], decrypt(data[\"password\"])\n",
        "    else:\n",
        "        print(\" Service not found.\")\n",
        "        return None\n",
        "\n",
        "def delete_entry(service):\n",
        "    vault = load_vault()\n",
        "    if service in vault:\n",
        "        del vault[service]\n",
        "        save_vault(vault)\n",
        "        print(f\" Entry for '{service}' deleted.\")\n",
        "    else:\n",
        "        print(\" Service not found.\")\n",
        "\n",
        "def menu():\n",
        "    while True:\n",
        "        print(\"\\n=== Password Vault ===\")\n",
        "        print(\"1. Add entry\")\n",
        "        print(\"2. Retrieve entry\")\n",
        "        print(\"3. Delete entry\")\n",
        "        print(\"4. Exit\")\n",
        "\n",
        "        choice = input(\"Enter choice: \")\n",
        "\n",
        "        if choice == \"1\":\n",
        "            s = input(\"Service: \")\n",
        "            u = input(\"Username: \")\n",
        "            p = input(\"Password: \")\n",
        "            add_entry(s, u, p)\n",
        "        elif choice == \"2\":\n",
        "            s = input(\"Service: \")\n",
        "            result = get_entry(s)\n",
        "            if result:\n",
        "                print(f\"Username: {result[0]}, Password: {result[1]}\")\n",
        "        elif choice == \"3\":\n",
        "            s = input(\"Service: \")\n",
        "            delete_entry(s)\n",
        "        elif choice == \"4\":\n",
        "            break\n",
        "        else:\n",
        "            print(\"[!] Invalid choice.\")\n",
        "\n",
        "if __name__ == \"__main__\":\n",
        "    menu()\n"
      ]
    },
    {
      "cell_type": "code",
      "source": [],
      "metadata": {
        "id": "Ja-pxr2Ms8pD"
      },
      "execution_count": null,
      "outputs": []
    }
  ]
}