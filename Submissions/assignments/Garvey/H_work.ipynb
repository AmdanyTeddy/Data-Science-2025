{
  "nbformat": 4,
  "nbformat_minor": 0,
  "metadata": {
    "colab": {
      "provenance": []
    },
    "kernelspec": {
      "name": "python3",
      "display_name": "Python 3"
    },
    "language_info": {
      "name": "python"
    }
  },
  "cells": [
    {
      "cell_type": "code",
      "execution_count": 2,
      "metadata": {
        "colab": {
          "base_uri": "https://localhost:8080/"
        },
        "id": "NZFOjKi-ngWi",
        "outputId": "58fab021-9fa3-4be0-b9d8-6ab4fce88794"
      },
      "outputs": [
        {
          "output_type": "stream",
          "name": "stdout",
          "text": [
            "Enter a positive integer: 4\n",
            "Digit 4: 1 time(s)\n"
          ]
        }
      ],
      "source": [
        "# Prompt the user for input\n",
        "num_str = input(\"Enter a positive integer: \")\n",
        "\n",
        "# Validate that the input contains only digits\n",
        "if not num_str.isdigit():\n",
        "    print(\"Invalid input! Please enter only positive digits.\")\n",
        "else:\n",
        "    # Initialize the dictionary to count digit frequencies\n",
        "    counts = {}\n",
        "\n",
        "    # Iterate over each character in the string\n",
        "    for ch in num_str:\n",
        "        counts[ch] = counts.get(ch, 0) + 1\n",
        "\n",
        "    # Print each digit and its frequency in ascending order\n",
        "    for digit in sorted(counts):\n",
        "        print(f\"Digit {digit}: {counts[digit]} time(s)\")\n"
      ]
    },
    {
      "cell_type": "code",
      "source": [
        "import random\n",
        "\n",
        "# Generate a random number between 1 and 50\n",
        "secret = random.randint(1, 50)\n",
        "\n",
        "# Initialize attempt counters\n",
        "attempts = 0\n",
        "max_attempts = 5\n",
        "\n",
        "# Game loop\n",
        "while attempts < max_attempts:\n",
        "    try:\n",
        "        # Prompt the user for a guess\n",
        "        guess = int(input(f\"Attempt {attempts + 1}/{max_attempts}: Your guess? \"))\n",
        "        attempts += 1\n",
        "\n",
        "        # Check the guess\n",
        "        if guess == secret:\n",
        "            print(f\" Correct! You guessed the number in {attempts} tries.\")\n",
        "            break\n",
        "        elif guess < secret:\n",
        "            print(\"Too low! Try again.\")\n",
        "        else:\n",
        "            print(\"Too high! Try again.\")\n",
        "    except ValueError:\n",
        "        print(\"Please enter a valid integer.\")\n",
        "\n",
        "# If the loop completes without a correct guess\n",
        "else:\n",
        "    print(f\" Out of attempts. The number was {secret}.\")\n"
      ],
      "metadata": {
        "colab": {
          "base_uri": "https://localhost:8080/"
        },
        "id": "zGTGv9H9oV7H",
        "outputId": "f0f25789-0feb-4e8e-8066-6b6ad88e29ea"
      },
      "execution_count": 3,
      "outputs": [
        {
          "output_type": "stream",
          "name": "stdout",
          "text": [
            "Attempt 1/5: Your guess? 40\n",
            "Too high! Try again.\n",
            "Attempt 2/5: Your guess? 30\n",
            "Too high! Try again.\n",
            "Attempt 3/5: Your guess? 50\n",
            "Too high! Try again.\n",
            "Attempt 4/5: Your guess? 5\n",
            "Too low! Try again.\n",
            "Attempt 5/5: Your guess? 60\n",
            "Too high! Try again.\n",
            " Out of attempts. The number was 8.\n"
          ]
        }
      ]
    }
  ]
}