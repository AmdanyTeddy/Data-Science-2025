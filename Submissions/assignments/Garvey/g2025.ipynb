{
  "nbformat": 4,
  "nbformat_minor": 0,
  "metadata": {
    "colab": {
      "provenance": []
    },
    "kernelspec": {
      "name": "python3",
      "display_name": "Python 3"
    },
    "language_info": {
      "name": "python"
    }
  },
  "cells": [
    {
      "cell_type": "markdown",
      "source": [
        "**Assignment 20:**\n",
        "\n",
        "Assignment a)\n",
        "\n",
        "(Lecture 17: Python Classes) — The S (Single Responsibility Principle)\n",
        "📝 Challenge Title: Build a HealthProfile Class\n",
        "\n",
        "Objective:\n",
        "\n",
        "Create a HealthProfile class that models personal health data for a fitness user. The class should only be responsible for storing and managing user data — not logic for workouts or calorie calculations.\n",
        "Requirements:\n",
        "\n",
        "•\tAttributes: name, age, weight_kg, height_cm, gender, activity_level\n",
        "\n",
        "•\tMethods:\n",
        "\n",
        "•\tget_bmi() → returns Body Mass Index\n",
        "•\tget_bmr() → returns Basal Metabolic Rate using Mifflin-St Jeor Equation\n",
        "\n",
        "Guidelines:\n",
        "•\tEmphasize Single Responsibility Principle (SRP): this class should not handle workouts or calorie logic — only health metrics.\n",
        "•\tSubmit your code and explain in 100–150 words how SRP influenced your design.\n"
      ],
      "metadata": {
        "id": "z-41vaWPPrqQ"
      }
    },
    {
      "cell_type": "code",
      "source": [
        "class HealthProfile:\n",
        "    def __init__(self, name, age, weight_kg, height_cm, gender, activity_level):\n",
        "        self.name = name\n",
        "        self.age = age\n",
        "        self.weight_kg = weight_kg\n",
        "        self.height_cm = height_cm\n",
        "        self.gender = gender.lower()\n",
        "        self.activity_level = activity_level\n",
        "\n",
        "    def get_bmi(self):\n",
        "        \"\"\"BMI\"\"\"\n",
        "        height_m = self.height_cm / 100\n",
        "        bmi = self.weight_kg / (height_m ** 2)\n",
        "        return round(bmi, 2)\n",
        "\n",
        "    def get_bmr(self):\n",
        "        \"\"\"BMR\"\"\"\n",
        "        if self.gender == 'male':\n",
        "            bmr = 10 * self.weight_kg + 6.25 * self.height_cm - 5 * self.age + 5\n",
        "        elif self.gender == 'female':\n",
        "            bmr = 10 * self.weight_kg + 6.25 * self.height_cm - 5 * self.age - 161\n",
        "        else:\n",
        "            raise ValueError(\"Gender must be 'male' or 'female'\")\n",
        "        return round(bmr, 2)\n"
      ],
      "metadata": {
        "id": "unR7kvwbPsJ2"
      },
      "execution_count": null,
      "outputs": []
    },
    {
      "cell_type": "code",
      "source": [
        "user1 = HealthProfile(\"Denzel\", 25, 68, 175, \"male\", \"active\")\n",
        "print(f\"{user1.name}'s BMI is: {user1.get_bmi()}\")\n",
        "print(f\"{user1.name}'s BMR is: {user1.get_bmr()}\")\n"
      ],
      "metadata": {
        "colab": {
          "base_uri": "https://localhost:8080/"
        },
        "id": "ZamQ50KuSlZz",
        "outputId": "6271e274-fcfd-4d03-f2c2-c942544e9d8b"
      },
      "execution_count": null,
      "outputs": [
        {
          "output_type": "stream",
          "name": "stdout",
          "text": [
            "Denzel's BMI is: 22.2\n",
            "Denzel's BMR is: 1653.75\n"
          ]
        }
      ]
    },
    {
      "cell_type": "markdown",
      "source": [
        "I made the HealthProfile class  to store a user’s health data like name, age, weight, height, gender, and activity level. It also calculates just two things: BMI and BMR. That’s it.\n",
        "\n",
        "I followed the Single Responsibility Principle (SRP). This just means the class should only be in charge of one thing like in this case, handling personal health info. It should not be doing stuff like workouts or counting calories. If we want to add those later, we can make other classes for them.\n",
        "\n",
        "Keeping the class simple like this makes it easier to fix, update, or reuse in the future. It’s like keeping tools in the right toolbox — don’t mix everything up.\n",
        "\n",
        "\n",
        "\n",
        "."
      ],
      "metadata": {
        "id": "UMG0gkCqSKOn"
      }
    },
    {
      "cell_type": "markdown",
      "source": [
        "\n",
        "**🔁 Assignment (b)**\n",
        "\n",
        " (Lecture 18: More Python Class Methods) — The O (Open/Closed Principle)\n",
        "\n",
        "📝 Challenge Title: Extendable CalorieCalculator\n",
        "\n",
        "Objective:\n",
        "Build a modular calorie calculator system that allows adding new activity types without modifying existing classes.\n",
        "Base Class:\n",
        "python code:\n",
        "\n",
        "class CalorieCalculator:\n",
        "    def calculate(self, minutes):\n",
        "        raise NotImplementedError\n",
        "\n",
        "Requirements:\n",
        "\n",
        "•\tCreate at least 3 subclasses: Walking, Running, and Swimming with unique calorie formulas.\n",
        "•\tOverride the calculate() method in each.\n",
        "•\tWrite a simple ActivityPlanner that takes user input and uses polymorphism to return total calories burned.\n",
        "\n",
        "Guidelines:\n",
        "\n",
        "•\tYour CalorieCalculator system must be open for extension, closed for modification.\n",
        "•\tIn your submission, describe how you ensured OCP was followed in 100–150 words.\n"
      ],
      "metadata": {
        "id": "ABbG6gZ6P86z"
      }
    },
    {
      "cell_type": "code",
      "source": [
        "class CalorieCalc:\n",
        "    def calculate(self, minutes):\n",
        "        return 0\n",
        "\n",
        "# Walking\n",
        "class Walking(CalorieCalc):\n",
        "    def calculate(self, minutes):\n",
        "        return minutes * 4\n",
        "\n",
        "# Running\n",
        "class Running(CalorieCalc):\n",
        "    def calculate(self, minutes):\n",
        "        return minutes * 10\n",
        "\n",
        "# Swimming\n",
        "class Swimming(CalorieCalc):\n",
        "    def calculate(self, minutes):\n",
        "        return minutes * 8\n",
        "def plan_activity(activity, minutes):\n",
        "    return activity.calculate(minutes)\n",
        "\n",
        "\n",
        "walk = Walking()\n",
        "run = Running()\n",
        "swim = Swimming()\n",
        "\n",
        "print(\"Walking 30 mins burns\", plan_activity(walk, 30), \"calories\")\n",
        "print(\"Running 20 mins burns\", plan_activity(run, 20), \"calories\")\n",
        "print(\"Swimming 45 mins burns\", plan_activity(swim, 45), \"calories\")\n"
      ],
      "metadata": {
        "colab": {
          "base_uri": "https://localhost:8080/"
        },
        "id": "M986BoOqP9L9",
        "outputId": "e51bc1c9-d925-4bd5-e22c-0662880afa50"
      },
      "execution_count": null,
      "outputs": [
        {
          "output_type": "stream",
          "name": "stdout",
          "text": [
            "Walking 30 mins burns 120 calories\n",
            "Running 20 mins burns 200 calories\n",
            "Swimming 45 mins burns 360 calories\n"
          ]
        }
      ]
    },
    {
      "cell_type": "markdown",
      "source": [
        "\n",
        "\n",
        "I followed the OCP by keeping the main class (CalorieCalc) unchanged while allowing new activities like Walking, Running, or Swimming to be added as new subclasses.\n",
        "\n",
        "Each activity has its own formula inside its class. If I want to add something like Cycling, I just make a new class and never touch the old ones.\n",
        "\n",
        "\n",
        "So the system is closed for changes (I don’t edit old code), but open for new stuff (I just add a new class). This keeps everything neat, less buggy, and easy to grow.\n",
        "."
      ],
      "metadata": {
        "id": "9HWp61zoTvSy"
      }
    },
    {
      "cell_type": "markdown",
      "source": [
        "\n",
        "**🔐 Assignment (c)**\n",
        "\n",
        " (Lecture 19: Inheritance) — The L & I (Liskov Substitution & Interface Segregation)\n",
        "\n",
        "📝 Challenge Title: Workout Devices Simulation\n",
        "\n",
        "Objective:\n",
        "\n",
        "Build an abstract WorkoutDevice class and allow creating devices like SmartWatch, SmartShoe, HeartRateBand, etc., that can be used interchangeably in the app.\n",
        "Requirements:\n",
        "\n",
        "•\tWorkoutDevice should define a base interface with methods like:\n",
        "•\tstart_tracking()\n",
        "•\tstop_tracking()\n",
        "•\tget_data() → returns dict of data like time, steps, distance\n",
        "•\tEnsure all derived classes can replace the base class without breaking functionality (Liskov Substitution).\n",
        "•\tSplit device responsibilities if needed to avoid forcing unused methods (Interface Segregation).\n",
        "\n",
        "Bonus:\n",
        "Make one device fail gracefully if a feature isn't available (e.g., SmartShoe doesn’t track heart rate).\n",
        "\n",
        "Deliverables:\n",
        "\n",
        "•\tCode with at least 2-3 device classes\n",
        "•\tA test_devices() script to demonstrate polymorphism\n",
        "•\tA 150-word explanation on how you followed LSP and ISP\n",
        "\n"
      ],
      "metadata": {
        "id": "AI6u7_yUP9eq"
      }
    },
    {
      "cell_type": "code",
      "source": [
        "# Base class\n",
        "class WorkoutDevice:\n",
        "    def start_tracking(self):\n",
        "        pass\n",
        "\n",
        "    def stop_tracking(self):\n",
        "        pass\n",
        "\n",
        "    def get_data(self):\n",
        "        return {}\n",
        "\n",
        "# Iterface for devices with heart rate tracking\n",
        "class HeartRateCapable:\n",
        "    def get_heart_rate(self):\n",
        "        raise NotImplementedError(\"Heart rate not supported.\")\n",
        "\n",
        "# SmartWatch device\n",
        "class oraimo(WorkoutDevice, HeartRateCapable):\n",
        "    def __init__(self):\n",
        "        self.tracking = False\n",
        "        self.heart_rate = 75\n",
        "\n",
        "    def start_tracking(self):\n",
        "        self.tracking = True\n",
        "        print(\"SmartWatch started tracking.\")\n",
        "\n",
        "    def stop_tracking(self):\n",
        "        self.tracking = False\n",
        "        print(\"SmartWatch stopped tracking.\")\n",
        "\n",
        "    def get_data(self):\n",
        "        return {\n",
        "            \"device\": \"SmartWatch\",\n",
        "            \"steps\": 5000,\n",
        "            \"distance_km\": 3.5,\n",
        "            \"time_min\": 30\n",
        "        }\n",
        "\n",
        "    def get_heart_rate(self):\n",
        "        return self.heart_rate\n",
        "\n",
        "# SmartShoe device\n",
        "class oraimoclarks(WorkoutDevice):\n",
        "    def __init__(self):\n",
        "        self.tracking = False\n",
        "\n",
        "    def start_tracking(self):\n",
        "        self.tracking = True\n",
        "        print(\"SmartShoe started tracking.\")\n",
        "\n",
        "    def stop_tracking(self):\n",
        "        self.tracking = False\n",
        "        print(\"SmartShoe stopped tracking.\")\n",
        "\n",
        "    def get_data(self):\n",
        "        return {\n",
        "            \"device\": \"SmartShoe\",\n",
        "            \"steps\": 4500,\n",
        "            \"distance_km\": 3.0,\n",
        "            \"time_min\": 25\n",
        "        }\n",
        "\n",
        "# HeartRateBand device\n",
        "class HeartRateBand(WorkoutDevice, HeartRateCapable):\n",
        "    def __init__(self):\n",
        "        self.tracking = False\n",
        "        self.heart_rate = 80\n",
        "\n",
        "    def start_tracking(self):\n",
        "        self.tracking = True\n",
        "        print(\"HeartRateBand started tracking.\")\n",
        "\n",
        "    def stop_tracking(self):\n",
        "        self.tracking = False\n",
        "        print(\"HeartRateBand stopped tracking.\")\n",
        "\n",
        "    def get_data(self):\n",
        "        return {\n",
        "            \"device\": \"HeartRateBand\",\n",
        "            \"time_min\": 20\n",
        "        }\n",
        "\n",
        "    def get_heart_rate(self):\n",
        "        return self.heart_rate\n",
        "\n",
        "# Test all devices\n",
        "def test_devices():\n",
        "    devices = [oraimo(), oraimoclarks(), HeartRateBand()]\n",
        "\n",
        "    for device in devices:\n",
        "        print(\"\\n--- Testing\", device.__class__.__name__)\n",
        "        device.start_tracking()\n",
        "        device.stop_tracking()\n",
        "        data = device.get_data()\n",
        "        print(\"Data:\", data)\n",
        "\n",
        "        if isinstance(device, HeartRateCapable):\n",
        "            print(\"Heart Rate:\", device.get_heart_rate())\n",
        "        else:\n",
        "            print(\"Heart Rate: Not supported\")\n",
        "\n",
        "# Run test\n",
        "test_devices()\n"
      ],
      "metadata": {
        "colab": {
          "base_uri": "https://localhost:8080/"
        },
        "id": "IGsYkE0BQLZE",
        "outputId": "cd3dc229-a156-4e83-80d8-c26f1942aa0d"
      },
      "execution_count": null,
      "outputs": [
        {
          "output_type": "stream",
          "name": "stdout",
          "text": [
            "\n",
            "--- Testing oraimo\n",
            "SmartWatch started tracking.\n",
            "SmartWatch stopped tracking.\n",
            "Data: {'device': 'SmartWatch', 'steps': 5000, 'distance_km': 3.5, 'time_min': 30}\n",
            "Heart Rate: 75\n",
            "\n",
            "--- Testing oraimoclarks\n",
            "SmartShoe started tracking.\n",
            "SmartShoe stopped tracking.\n",
            "Data: {'device': 'SmartShoe', 'steps': 4500, 'distance_km': 3.0, 'time_min': 25}\n",
            "Heart Rate: Not supported\n",
            "\n",
            "--- Testing HeartRateBand\n",
            "HeartRateBand started tracking.\n",
            "HeartRateBand stopped tracking.\n",
            "Data: {'device': 'HeartRateBand', 'time_min': 20}\n",
            "Heart Rate: 80\n"
          ]
        }
      ]
    },
    {
      "cell_type": "markdown",
      "source": [
        "This solution follows the Liskov Substitution Principle (LSP) by ensuring all devices (SmartWatch, SmartShoe, HeartRateBand) inherit from a shared WorkoutDevice class and behave consistently. You can substitute any device into a tracking app and call .start_tracking(), .stop_tracking(), and .get_data() without the program breaking — that’s LSP in action.\n",
        "\n",
        "To follow the Interface Segregation Principle (ISP), I avoided forcing every device to implement heart rate tracking. Instead of putting get_heart_rate() in the main interface, I created a separate HeartRateCapable interface. Devices like SmartShoe don’t track heart rate, so they simply don’t use that interface — this avoids unused or fake methods and keeps each class clean and focused.\n",
        "\n",
        "This structure makes the system easy to extend and avoids bugs when swapping or adding new devices.\n",
        "\n",
        "."
      ],
      "metadata": {
        "id": "xzlL0JUrWPyv"
      }
    },
    {
      "cell_type": "markdown",
      "source": [
        "\n",
        "🚴🏽‍Assignment d) (Lecture 20: Fitness Tracker – Final Challenge) — The D (Dependency Inversion Principle)\n",
        "📝 Challenge Title: Extend Fitness Tracker – Add a BikeWorkout + Planner CLI\n",
        "Objective:\n",
        "You will extend the existing Workout class by adding a BikeWorkout subclass and build a workout planner that adheres to the Dependency Inversion Principle.\n",
        "Part 1: Subclass Implementation\n",
        "python code:\n",
        "\n",
        "class BikeWorkout(Workout):\n",
        "    def __init__(self, start, end, distance_km, calories=None):\n",
        "        super().__init__(start, end, calories)\n",
        "        self.distance = distance_km\n",
        "        self.icon = '🚴🏽‍♂️'\n",
        "        self.kind = 'Cycling'\n",
        "\n",
        "    def get_calories(self):\n",
        "        return self.get_duration().total_seconds() / 3600 * 300\n",
        "Part 2: Planner CLI\n",
        "•\tCreate a CLI where the user can:\n",
        "•\tChoose a workout type (Run, Walk, Bike)\n",
        "•\tInput start & end time\n",
        "•\tInput optional distance\n",
        "•\tSee duration and estimated calories\n",
        "Part 3: Extra Credit Features\n",
        "•\tAdd __eq__() to compare workouts by duration and kind\n",
        "•\tOption to save workouts to a CSV or JSON file\n",
        "•\tPlot workout durations using matplotlib\n",
        "Guidelines:\n",
        "•\tYour CLI should depend on abstractions, not concrete classes.\n",
        "•\tFor example, the planner should work with any class that inherits from Workout.\n",
        "•\tIn your write-up (50–100 words), explain how you used Dependency Inversion to decouple components.\n",
        "\n"
      ],
      "metadata": {
        "id": "2vybvVOtQLyu"
      }
    },
    {
      "cell_type": "code",
      "source": [
        "\n",
        "class Workout:\n",
        "    def __init__(self, kind, duration_min):\n",
        "        self.kind = kind\n",
        "        self.duration = duration_min\n",
        "\n",
        "    def get_duration(self):\n",
        "        return self.duration\n",
        "\n",
        "    def get_calories(self):\n",
        "        raise NotImplementedError()\n",
        "\n",
        "    def __eq__(self, other):\n",
        "        return isinstance(other, Workout) and self.kind == other.kind and self.duration == other.duration\n",
        "\n",
        "class RunWorkout(Workout):\n",
        "    def get_calories(self):\n",
        "        return self.duration * 10\n",
        "\n",
        "class WalkWorkout(Workout):\n",
        "    def get_calories(self):\n",
        "        return self.duration * 4\n",
        "\n",
        "class BikeWorkout(Workout):\n",
        "    def get_calories(self):\n",
        "        return self.duration * 5\n",
        "\n",
        "\n",
        "def create_workout():\n",
        "    print(\"\\nChoose workout type:\")\n",
        "    print(\"1. Run\\n2. Walk\\n3. Bike\")\n",
        "    choice = input(\"Enter number: \")\n",
        "\n",
        "    try:\n",
        "        duration = float(input(\"Enter duration in minutes: \"))\n",
        "    except:\n",
        "        print(\"Invalid duration.\")\n",
        "        return None\n",
        "\n",
        "    if choice == '1':\n",
        "        return RunWorkout(\"Running\", duration)\n",
        "    elif choice == '2':\n",
        "        return WalkWorkout(\"Walking\", duration)\n",
        "    elif choice == '3':\n",
        "        return BikeWorkout(\"Cycling\", duration)\n",
        "    else:\n",
        "        print(\"Invalid choice.\")\n",
        "        return None\n",
        "\n",
        "def main():\n",
        "    workouts = []\n",
        "    while True:\n",
        "        w = create_workout()\n",
        "        if w:\n",
        "            workouts.append(w)\n",
        "            print(f\"{w.kind} for {w.get_duration()} min burned {w.get_calories()} cal.\")\n",
        "        again = input(\"Add another? (y/n): \").lower()\n",
        "        if again != 'y':\n",
        "            break\n",
        "\n",
        "    print(\"\\n--- All Workouts ---\")\n",
        "    for w in workouts:\n",
        "        print(f\"{w.kind} | {w.get_duration()} min | {w.get_calories()} cal\")\n",
        "\n",
        "main()\n"
      ],
      "metadata": {
        "colab": {
          "base_uri": "https://localhost:8080/"
        },
        "id": "jYc9-7LwQNqA",
        "outputId": "bdc8ca2b-9a82-4f2c-c36d-f020d8a39891"
      },
      "execution_count": null,
      "outputs": [
        {
          "output_type": "stream",
          "name": "stdout",
          "text": [
            "\n",
            "Choose workout type:\n",
            "1. Run\n",
            "2. Walk\n",
            "3. Bike\n",
            "Enter number: 2\n",
            "Enter duration in minutes: 16\n",
            "Walking for 16.0 min burned 64.0 cal.\n",
            "Add another? (y/n): n\n",
            "\n",
            "--- All Workouts ---\n",
            "Walking | 16.0 min | 64.0 cal\n"
          ]
        }
      ]
    },
    {
      "cell_type": "markdown",
      "source": [
        "\n",
        "The CLI depends only on the Workout base class and uses its methods like get_duration() and get_calories() — it doesn’t care whether it's RunWorkout, WalkWorkout, or BikeWorkout. This follows the Dependency Inversion Principle by letting the planner depend on the abstraction (Workout) instead of specific types, making the system easier to extend."
      ],
      "metadata": {
        "id": "RapwMSkKXSmV"
      }
    },
    {
      "cell_type": "code",
      "source": [],
      "metadata": {
        "id": "vGwD4kDYXJL9"
      },
      "execution_count": null,
      "outputs": []
    }
  ]
}