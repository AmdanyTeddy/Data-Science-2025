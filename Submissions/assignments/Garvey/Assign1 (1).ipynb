{
  "nbformat": 4,
  "nbformat_minor": 0,
  "metadata": {
    "colab": {
      "provenance": []
    },
    "kernelspec": {
      "name": "python3",
      "display_name": "Python 3"
    },
    "language_info": {
      "name": "python"
    }
  },
  "cells": [
    {
      "cell_type": "code",
      "source": [
        "length = 8.0       # Length of the rectangle (in units)\n",
        "width = 3.0        # Width of the rectangle (in units)\n",
        "\n",
        "# Calculate the area of the rectangle correctly\n",
        "area = length * width\n",
        "\n",
        "# Bug: Incorrect perimeter calculation\n",
        "# Intended formula: 2 * (length + width)\n",
        "# Buggy formula here misses one full width value\n",
        "perimeter = 2 * (length  + width)\n",
        "\n",
        "# Print the results\n",
        "print(\"Area:\", area)\n",
        "print(\"Perimeter:\", perimeter)"
      ],
      "metadata": {
        "id": "OR0wmWID_1yZ",
        "outputId": "38fd8437-7cb2-4b73-a2f3-0c800482f6e8",
        "colab": {
          "base_uri": "https://localhost:8080/"
        }
      },
      "execution_count": null,
      "outputs": [
        {
          "output_type": "stream",
          "name": "stdout",
          "text": [
            "Area: 24.0\n",
            "Perimeter: 22.0\n"
          ]
        }
      ]
    },
    {
      "cell_type": "code",
      "source": [],
      "metadata": {
        "id": "GawwWPKP2ccE"
      },
      "execution_count": null,
      "outputs": []
    }
  ]
}