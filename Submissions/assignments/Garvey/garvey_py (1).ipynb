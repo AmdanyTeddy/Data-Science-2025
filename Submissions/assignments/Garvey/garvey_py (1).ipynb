{
  "nbformat": 4,
  "nbformat_minor": 0,
  "metadata": {
    "colab": {
      "provenance": []
    },
    "kernelspec": {
      "name": "python3",
      "display_name": "Python 3"
    },
    "language_info": {
      "name": "python"
    }
  },
  "cells": [
    {
      "cell_type": "code",
      "source": [
        "#Challenge 1: Counting Vowels in a Sentence\n",
        "\n",
        "from collections import Counter\n",
        "#Write a function that counts how many vowels (a, e, i, o, u, caseinsensitive) appear in a given sentence.\n",
        "#Coder: Implement count_vowels(sentence) using a for loop.\n",
        "# Prepare ≥5 test cases (empty string, no vowels, all vowels, mixed case).\n",
        "sentance = input(\"enter full sentance\")\n",
        "count_vowels = 0\n",
        "for char in sentance:\n",
        "    if char in \"aeiou\":\n",
        "        count_vowels += 1\n",
        "print(f\"Number of vowels: {count_vowels}\")\n",
        "print(f\"Number of consonants: {len(sentance) - count_vowels}\")\n",
        "print(sentance.upper())\n",
        "print(sentance.lower())\n",
        "print(Counter(sentance))"
      ],
      "metadata": {
        "colab": {
          "base_uri": "https://localhost:8080/"
        },
        "id": "bhV1z8ERG0du",
        "outputId": "dd712742-4594-46cb-b2e0-45e6b0905848"
      },
      "execution_count": null,
      "outputs": [
        {
          "output_type": "stream",
          "name": "stdout",
          "text": [
            "enter full sentancegarvey\n",
            "Number of vowels: 2\n",
            "Number of consonants: 4\n",
            "GARVEY\n",
            "garvey\n",
            "Counter({'g': 1, 'a': 1, 'r': 1, 'v': 1, 'e': 1, 'y': 1})\n"
          ]
        }
      ]
    },
    {
      "cell_type": "code",
      "source": [
        "# #Challenge 2: Detecting Prime Numbers in a Range\n",
        "# Given two integers start and end, print all primes between them (inclusive).\n",
        "# Roles\n",
        "# Coder: Implement is_prime(n) and loop with for n in range(start, end+1).\n",
        "# Tester: Verify edge cases (start > end, ranges with no primes, small ranges).\n",
        "# Presenter: Explain the nested loops and early exit via break.\n",
        "\n",
        "\n",
        "# The user is prompted to input two integers: the start and end of the range.\n",
        "#These define the inclusive range of numbers to check for primes\n",
        "#int(input(...)) converts the string input to an integer.\n",
        "start = int(input(\"Enter the start of the range: \"))\n",
        "end = int(input(\"Enter the end of the range: \"))\n",
        "\n",
        "#1) Loop through each number in the range\n",
        "#This loop goes through each number from start to end (inclusive, because of end + 1).\n",
        "for num in range(start, end + 1):\n",
        "\n",
        "  #A)Check if the Number is Prime\n",
        "  #Primes are greater than 1. This condition skips 0 and 1\n",
        "    if num > 1:  # Only numbers greater than 1 are prime\n",
        "\n",
        "     #Prime Check Logic\n",
        "     #1)is_prime = True assumes the number is prime until proven otherwise\n",
        "        is_prime = True\n",
        "\n",
        "     #2)range(2, int(num**0.5) + 1) checks all divisors up to the square root of num\n",
        "        #)Why square root? If num has a factor larger than its square root, the corresponding smaller factor would already have been found\n",
        "        for i in range(2, int(num**0.5) + 1):\n",
        "\n",
        "     #3)if num % i == 0: checks if num is divisible by i.\n",
        "            if num % i == 0:\n",
        "              #If it is, it's not prime\n",
        "                is_prime = False\n",
        "\n",
        "     #4)We set is_prime = False and break out of the loop early to save time.\n",
        "                break  # Exit early if not prime\n",
        "        if is_prime:\n",
        "            print(num, end=\" \")"
      ],
      "metadata": {
        "id": "2_UOG_zR7RCU",
        "colab": {
          "base_uri": "https://localhost:8080/"
        },
        "outputId": "d1850d2c-2b57-460e-c074-8f13b466a908"
      },
      "execution_count": null,
      "outputs": [
        {
          "output_type": "stream",
          "name": "stdout",
          "text": [
            "Enter the start of the range: 4\n",
            "Enter the end of the range: 9\n",
            "5 7 "
          ]
        }
      ]
    },
    {
      "cell_type": "code",
      "source": [
        "#Challenge 3: GuessandCheck with Limited\n",
        "\n",
        "#Hardcode a secret number between 1–50. Prompt the user up to 5 times to guess it. After each guess, print “Too low”, “Too high”,\n",
        " # or congratulate and exit. If all attempts fail, reveal the secret.\n",
        "\n",
        " #secret_number is the hidden answer.\n",
        " #attempts keeps track of how many guesses the user has made.\n",
        "  #max_attempts is the maximum allowed guesses (5).\n",
        "secret_number = 27  # Hardcoded secret number between 1–50\n",
        "attempts = 0\n",
        "max_attempts = 5\n",
        "\n",
        "# This loop runs as long as the number of attempts is less than 5.\n",
        "# The user inputs a guess.\n",
        "# After guessing, attempts increases by 1.\n",
        "while attempts < max_attempts:\n",
        "    guess = int(input(f\"Attempt {attempts + 1}/5 - Enter your guess (1–50): \"))\n",
        "    attempts += 1\n",
        "\n",
        "# If the guess is less than the secret, it prints “Too low.”\n",
        "# If it's greater, it prints “Too high.”\n",
        "# If the guess is equal, the user wins, and break exits the loop early\n",
        "    if guess < secret_number:\n",
        "        print(\"Too low.\")\n",
        "    elif guess > secret_number:\n",
        "        print(\"Too high.\")\n",
        "    else:\n",
        "        print(\"Congratulations! You guessed it!\")\n",
        "        break\n",
        "\n",
        "#  This else belongs to the while loop.\n",
        "# It runs only if the loop completes without a break — meaning the user failed all 5 attempts.\n",
        "else:\n",
        "    # Executed only if loop wasn't broken (all attempts used)\n",
        "    print(f\"Sorry, you didn't guess it. The secret number was {secret_number}.\")"
      ],
      "metadata": {
        "id": "mQAZgOiU7YpJ",
        "colab": {
          "base_uri": "https://localhost:8080/"
        },
        "outputId": "586a3148-5340-43af-f40f-e3811e881b95"
      },
      "execution_count": null,
      "outputs": [
        {
          "output_type": "stream",
          "name": "stdout",
          "text": [
            "Attempt 1/5 - Enter your guess (1–50): 27\n",
            "Congratulations! You guessed it!\n"
          ]
        }
      ]
    },
    {
      "cell_type": "code",
      "source": [
        "#Challenge 4: Nested Loops for Pattern Printing\n",
        "\n",
        "def print_multiplication_table(n, m):\n",
        "    # Determine the width for formatting based on the largest number\n",
        "    cell_width = len(str(n * m)) + 1\n",
        "\n",
        "    for i in range(1, n + 1):\n",
        "        for j in range(1, m + 1):\n",
        "            print(f\"{i * j:{cell_width}}\", end='')\n",
        "        print()  # Newline after each row\n",
        "print(\"Test 1: 1×1\")\n",
        "print_multiplication_table(1, 1)\n",
        "print(\"\\nTest 2: 3×3\")\n",
        "print_multiplication_table(3, 3)\n",
        "print(\"\\nTest 3: 4×7\")\n",
        "print_multiplication_table(4, 7)\n"
      ],
      "metadata": {
        "id": "_FZtMBsW-Qlz",
        "colab": {
          "base_uri": "https://localhost:8080/"
        },
        "outputId": "c855bc15-054d-4152-e01e-db4597430d30"
      },
      "execution_count": null,
      "outputs": [
        {
          "output_type": "stream",
          "name": "stdout",
          "text": [
            "Test 1: 1×1\n",
            " 1\n",
            "\n",
            "Test 2: 3×3\n",
            " 1 2 3\n",
            " 2 4 6\n",
            " 3 6 9\n",
            "\n",
            "Test 3: 4×7\n",
            "  1  2  3  4  5  6  7\n",
            "  2  4  6  8 10 12 14\n",
            "  3  6  9 12 15 18 21\n",
            "  4  8 12 16 20 24 28\n"
          ]
        }
      ]
    },
    {
      "cell_type": "code",
      "source": [],
      "metadata": {
        "id": "217VID4TAlBR"
      },
      "execution_count": null,
      "outputs": []
    }
  ]
}