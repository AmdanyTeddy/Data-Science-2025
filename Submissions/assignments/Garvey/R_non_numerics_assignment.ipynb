{
  "nbformat": 4,
  "nbformat_minor": 0,
  "metadata": {
    "colab": {
      "provenance": []
    },
    "kernelspec": {
      "name": "python3",
      "display_name": "Python 3"
    },
    "language_info": {
      "name": "python"
    }
  },
  "cells": [
    {
      "cell_type": "code",
      "execution_count": 6,
      "metadata": {
        "id": "1S-OKxCYpQAb",
        "colab": {
          "base_uri": "https://localhost:8080/"
        },
        "outputId": "0d2ed591-9f09-4edd-8016-3de83a9fe8b1"
      },
      "outputs": [
        {
          "output_type": "stream",
          "name": "stdout",
          "text": [
            "3\n",
            "1\n",
            "0\n"
          ]
        }
      ],
      "source": [
        "# Assignment\n",
        "# Topic 16 (Recursion on non-numerics, Towers of Hanoi, memoization).\n",
        "# Lecture 16 Challenge 3:\n",
        "# Count_occurrences_nested\n",
        "# Topic: Recursion on non-numerics (nested lists)\n",
        "\n",
        "def count_occurrences_nested(L, target):\n",
        "    \"\"\"\n",
        "    L: a list that may contain other lists (nested)\n",
        "    target: any value\n",
        "\n",
        "    Returns the number of times target appears anywhere in L, including nested sublists.\n",
        "    \"\"\"\n",
        "    # Your code here\n",
        "    count = 0\n",
        "    for item in L:\n",
        "        if isinstance(item, list):\n",
        "            count += count_occurrences_nested(item, target)\n",
        "        else:\n",
        "            if item == target:\n",
        "                count += 1\n",
        "    return count\n",
        "# Examples:\n",
        "print(count_occurrences_nested([1, [2, [1, 3], 4], 1], 1))  # prints 3\n",
        "print(count_occurrences_nested([[1,2],[3,[4,1]]], 4))       # prints 1\n",
        "print(count_occurrences_nested([[],[],[]], 5))              # prints 0"
      ]
    }
  ]
}