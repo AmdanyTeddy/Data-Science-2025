{
  "nbformat": 4,
  "nbformat_minor": 0,
  "metadata": {
    "colab": {
      "provenance": []
    },
    "kernelspec": {
      "name": "python3",
      "display_name": "Python 3"
    },
    "language_info": {
      "name": "python"
    }
  },
  "cells": [
    {
      "cell_type": "code",
      "execution_count": null,
      "metadata": {
        "colab": {
          "base_uri": "https://localhost:8080/"
        },
        "id": "afZMBFUTBn0R",
        "outputId": "0d6ea410-7887-4bab-a384-cf89648f1ed1"
      },
      "outputs": [
        {
          "output_type": "stream",
          "name": "stdout",
          "text": [
            "Write a sentence:Kenyan rugby teams arer well organised\n",
            "12\n"
          ]
        }
      ],
      "source": [
        "# Challenge 1: Counting Vowels in a Sentence\n",
        "# Description\n",
        "# Write a function that counts how many vowels (a, e, i, o, u, case insensitive) appear in a given sentence.\n",
        "# Roles\n",
        "# •\tCoder: Implement count_vowels(sentence) using a for loop.\n",
        "# •\tTester: Prepare ≥5 test cases (empty string, no vowels, all vowels, mixed case).\n",
        "# •\tPresenter: Demonstrate the function on sample inputs and explain the loop logic.\n",
        "\n",
        "#1.Prompts user to enter a sentence.\n",
        "sentence = input(\"Write a sentence:\")\n",
        "#2.Function that counts vowels and is case insensitive.\n",
        "def count_vowels(sentence):\n",
        "    vowels = \"aeiouAEIOU\"\n",
        "    count = 0\n",
        "#3.Checks every vowel in the sentence\n",
        "    for ch in sentence:\n",
        "        if ch in vowels:\n",
        "            count += 1\n",
        "    return count\n",
        "#4.Gives a total count of the vowels.\n",
        "print (count_vowels(sentence))\n",
        "\n"
      ]
    },
    {
      "cell_type": "code",
      "source": [
        "# Challenge 2: Detecting Prime Numbers in a Range\n",
        "# Description\n",
        "# Given two integers start and end, print all primes between them (inclusive).\n",
        "# Roles\n",
        "# •\tCoder: Implement is_prime(n) and loop with for n in range(start, end+1).\n",
        "# •\tTester: Verify edge cases (start > end, ranges with no primes, small ranges).\n",
        "# •\tPresenter: Explain the nested loops and early exit via break.\n",
        "#1.Asks a user to enter a start and an end\n",
        "start = int(input(\"Enter the start number: \"))\n",
        "end = int(input(\"Enter the end number: \"))\n",
        "def is_prime(n):\n",
        "    if n <= 1:\n",
        "        return False\n",
        "    is_prime = True\n",
        "#.Uses a nested loop with an early break.\n",
        "    for i in range(2, int(n**0.5) + 1):\n",
        "        if n % i == 0: #Modulo operator. It calculates the remainder when n is divided by i & checks if the remainder of the division is exactly zero.\n",
        "            is_prime = False\n",
        "            break\n",
        "    return is_prime\n",
        "if start > end:\n",
        "    print(\"Start number cannot be greater than end number.\")\n",
        "else:\n",
        "    print(f\"Prime numbers between {start} and {end} are:\")\n",
        "    for number in range(start, end + 1):\n",
        "        if is_prime(number):\n",
        "            print(f\"{number} is a prime number.\")\n"
      ],
      "metadata": {
        "colab": {
          "base_uri": "https://localhost:8080/"
        },
        "id": "yEH0WSuHDh4s",
        "outputId": "b9acd4e3-dcee-44f0-eae5-2d8b4bb92a1e"
      },
      "execution_count": null,
      "outputs": [
        {
          "output_type": "stream",
          "name": "stdout",
          "text": [
            "Enter the start number: 4\n",
            "Enter the end number: 7\n",
            "Prime numbers between 4 and 7 are:\n",
            "5 is a prime number.\n",
            "7 is a prime number.\n"
          ]
        }
      ]
    },
    {
      "cell_type": "code",
      "source": [
        "# Challenge 3: Guess and Check with Limited Attempts\n",
        "# Description\n",
        "# Hard code a secret number between 1–50. Prompt the user up to 5 times to guess it. After each guess, print “Too low”, “Too high”, or congratulate and exit. If all attempts fail, reveal the secret.\n",
        "# Roles\n",
        "# •\tCoder: Write a while loop controlling attempts and branching on guess comparison.\n",
        "# •\tTester: Simulate correct and incorrect guess sequences; test boundary guesses.\n",
        "# •\tPresenter: Walk through loop flow and the else: clause on the while.\n",
        "\n",
        "#1.Hardcode a sencrent number between 1-50\n",
        "secret = 33\n",
        "attempts = 0\n",
        "#2.Prompt the user up to 5 times to guess it.\n",
        "max_attempts = 5\n",
        "while attempts < max_attempts:\n",
        "    try:\n",
        "        guess = int(input(f\"Attempt {attempts + 1}/{max_attempts}: Your guess? \"))\n",
        "        attempts += 1\n",
        "\n",
        "\n",
        "        if guess == secret:\n",
        "            print(f\"🎉 Correct! You guessed the number in {attempts} tries.\")\n",
        "            break\n",
        "        elif guess < secret:\n",
        "            print(\"Too low! Try again.\")\n",
        "        else:\n",
        "            print(\"Too high! Try again.\")\n",
        "    except ValueError:\n",
        "        print(\"Please enter a valid integer.\")"
      ],
      "metadata": {
        "id": "7hjU9aEeMuh-",
        "colab": {
          "base_uri": "https://localhost:8080/"
        },
        "outputId": "fdd51591-5072-4b25-8bf5-85255236e844"
      },
      "execution_count": null,
      "outputs": [
        {
          "output_type": "stream",
          "name": "stdout",
          "text": [
            "Attempt 1/5: Your guess? 1\n",
            "Too low! Try again.\n",
            "Attempt 2/5: Your guess? 2\n",
            "Too low! Try again.\n",
            "Attempt 3/5: Your guess? 3\n",
            "Too low! Try again.\n",
            "Attempt 4/5: Your guess? 4\n",
            "Too low! Try again.\n",
            "Attempt 5/5: Your guess? 5\n",
            "🎉 Correct! You guessed the number in 5 tries.\n"
          ]
        }
      ]
    },
    {
      "cell_type": "code",
      "source": [
        "# Challenge 4: Nested Loops for Pattern Printing\n",
        "# Description\n",
        "# Print a multiplication table up to n × m (e.g., n=4, m=5), formatting as a grid.\n",
        "# Roles\n",
        "# •\tCoder: Use nested for loops; format output with f strings.\n",
        "# •\tTester: Check for various table sizes (1×1, 3×3, 4×7).\n",
        "# •\tPresenter: Demonstrate row and column iteration and explain nested flow.\n",
        "n = 4\n",
        "m = 5\n",
        "print(\"Multiplication Table:\")\n",
        "for i in range(1, n + 1): #outer loop for rows\n",
        "    for j in range(1, m + 1): # inner loop for colomns\n",
        "        result = i * j\n",
        "        print(f\"{i} x {j} = {result}\", end=\"\\t\")\n",
        "    print() #Arranges the results in a grid."
      ],
      "metadata": {
        "colab": {
          "base_uri": "https://localhost:8080/"
        },
        "id": "oDNkIj-HQvrM",
        "outputId": "60ed2396-4233-47c5-a6b4-c074f7c44200"
      },
      "execution_count": null,
      "outputs": [
        {
          "output_type": "stream",
          "name": "stdout",
          "text": [
            "Multiplication Table:\n",
            "1 x 1 = 1\t1 x 2 = 2\t1 x 3 = 3\t1 x 4 = 4\t1 x 5 = 5\t\n",
            "2 x 1 = 2\t2 x 2 = 4\t2 x 3 = 6\t2 x 4 = 8\t2 x 5 = 10\t\n",
            "3 x 1 = 3\t3 x 2 = 6\t3 x 3 = 9\t3 x 4 = 12\t3 x 5 = 15\t\n",
            "4 x 1 = 4\t4 x 2 = 8\t4 x 3 = 12\t4 x 4 = 16\t4 x 5 = 20\t\n"
          ]
        }
      ]
    },
    {
      "cell_type": "code",
      "source": [],
      "metadata": {
        "id": "qWY2_6aUTMvk"
      },
      "execution_count": null,
      "outputs": []
    }
  ]
}