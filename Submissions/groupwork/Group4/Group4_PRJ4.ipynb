{
  "nbformat": 4,
  "nbformat_minor": 0,
  "metadata": {
    "colab": {
      "provenance": []
    },
    "kernelspec": {
      "name": "python3",
      "display_name": "Python 3"
    },
    "language_info": {
      "name": "python"
    }
  },
  "cells": [
    {
      "cell_type": "code",
      "source": [
        "# MINI ADVENTURE STATS\n",
        "# 1)Define two variables steps and health\n",
        "steps = 5\n",
        "health = 100\n",
        "#2.Loop steps times:\n",
        "steps_taken = 0\n",
        "for i in range(steps):\n",
        "  response = input(f\"Step({i + 1}) -Did you take a step? (yes/no):\").lower()\n",
        "  # Indent the following if/elif/else block to be inside the for loop\n",
        "  if response == \"yes\": # Corrected string comparison\n",
        "    steps_taken += 1\n",
        "  elif response == \"no\": # Corrected string comparison\n",
        "    health -= 10\n",
        "  else:\n",
        "    print(\"Invalid response. Please enter yes or 'no.\")\n",
        "#3.Report\n",
        "  # Indent the print statements to be inside the for loop\n",
        "  print(f\"Current steps taken: {steps_taken}\") # Corrected variable to steps_taken\n",
        "  print(f\"Current health: {health}\")"
      ],
      "metadata": {
        "colab": {
          "base_uri": "https://localhost:8080/"
        },
        "id": "ug6BXk1prnWm",
        "outputId": "af2fb6f4-9e0b-469e-9bed-4bad5032a1ae"
      },
      "execution_count": null,
      "outputs": [
        {
          "output_type": "stream",
          "name": "stdout",
          "text": [
            "Step(1) -Did you take a step? (yes/no):yes\n",
            "Current steps taken: 1\n",
            "Current health: 100\n",
            "Step(2) -Did you take a step? (yes/no):noo\n",
            "Invalid response. Please enter 'yes' or 'no'.\n",
            "Current steps taken: 1\n",
            "Current health: 100\n",
            "Step(3) -Did you take a step? (yes/no):no\n",
            "Current steps taken: 1\n",
            "Current health: 90\n",
            "Step(4) -Did you take a step? (yes/no):no\n",
            "Current steps taken: 1\n",
            "Current health: 80\n",
            "Step(5) -Did you take a step? (yes/no):no\n",
            "Current steps taken: 1\n",
            "Current health: 70\n"
          ]
        }
      ]
    },
    {
      "cell_type": "code",
      "source": [],
      "metadata": {
        "id": "vgFcy8dqvZ3m"
      },
      "execution_count": null,
      "outputs": []
    }
  ]
}