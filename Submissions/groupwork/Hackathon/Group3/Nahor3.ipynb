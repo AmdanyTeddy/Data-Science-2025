{
  "nbformat": 4,
  "nbformat_minor": 0,
  "metadata": {
    "colab": {
      "provenance": []
    },
    "kernelspec": {
      "name": "python3",
      "display_name": "Python 3"
    },
    "language_info": {
      "name": "python"
    }
  },
  "cells": [
    {
      "cell_type": "code",
      "execution_count": null,
      "metadata": {
        "id": "FKTZFtcbUkG1",
        "outputId": "e9b0630d-0087-4a52-e81c-c800a5baebfe",
        "colab": {
          "base_uri": "https://localhost:8080/"
        }
      },
      "outputs": [
        {
          "output_type": "stream",
          "name": "stdout",
          "text": [
            "Please enter a sentence: garvey\n",
            "The number of vowels in your sentence is: 2\n"
          ]
        }
      ],
      "source": [
        "# Prompt the user for a sentence\n",
        "sentence = input(\"Please enter a sentence: \")\n",
        "\n",
        "def count_vowels(sentence):\n",
        "    vowels = \"aeiouAEIOU\"  # set a default that includes both upper and lowercase\n",
        "    count = 0\n",
        "    for char in sentence:\n",
        "        if char in vowels:\n",
        "            count += 1\n",
        "    return count\n",
        "\n",
        "# Call the function with the user's input\n",
        "vowel_count = count_vowels(sentence)\n",
        "\n",
        "# Display the result\n",
        "print(f\"The number of vowels in your sentence is: {vowel_count}\")\n"
      ]
    },
    {
      "cell_type": "code",
      "source": [
        "# Prompt the user for a range\n",
        "start = int(input(\"Enter the start of the range: \"))\n",
        "end = int(input(\"Enter the end of the range: \"))\n",
        "\n",
        "# Loop through each number in the range\n",
        "for num in range(start, end + 1):\n",
        "    if num > 1:  # Only numbers greater than 1 are prime\n",
        "        is_prime = True\n",
        "        print(\"Numbers less than 2 are not prime numbers\")\n",
        "        for i in range(2, int(num**0.5) + 1):\n",
        "            if num % i == 0:\n",
        "                is_prime = False\n",
        "                break  # Exit early if not prime-\n",
        "        if is_prime:\n",
        "            print(num, end=\" \")\n"
      ],
      "metadata": {
        "colab": {
          "base_uri": "https://localhost:8080/"
        },
        "id": "vV8J97GLU_9K",
        "outputId": "f5905a7c-5028-4bd3-8166-f23b85e54582"
      },
      "execution_count": null,
      "outputs": [
        {
          "name": "stdout",
          "output_type": "stream",
          "text": [
            "Enter the start of the range: -7\n",
            "Enter the end of the range: -1\n"
          ]
        }
      ]
    },
    {
      "cell_type": "code",
      "source": [
        "#Challenge 3: Guess and Check with Limited\n",
        "\n",
        "#Set a default secret number between 1–50.\n",
        "#Prompt the user up to 5 times to guess it. After each guess, print “Too low”, “Too high”, or congratulate and exit.\n",
        "# If all attempts fail, reveal the secret.\n",
        "secret_number = 27\n",
        "attempts = 0\n",
        "max_attempts = 5\n",
        "\n",
        "while attempts < max_attempts:\n",
        "    guess = int(input(f\"Attempt {attempts + 1}/5 - Enter your guess (1–50): \"))\n",
        "    attempts += 1\n",
        "\n",
        "    if guess < secret_number:\n",
        "        print(\"Too low.\")\n",
        "    elif guess > secret_number:\n",
        "        print(\"Too high.\")\n",
        "    else:\n",
        "        print(\"Congratulations! You guessed it!\")\n",
        "        break\n",
        "else:\n",
        "    # Executed only if loop wasn't broken (all attempts used)\n",
        "    print(f\"Sorry, you didn't guess it. The secret number was {secret_number}.\")"
      ],
      "metadata": {
        "colab": {
          "base_uri": "https://localhost:8080/"
        },
        "id": "mCRgXW63KBWj",
        "outputId": "b594675b-5a7b-4c68-b34e-ca5219b26a88"
      },
      "execution_count": null,
      "outputs": [
        {
          "output_type": "stream",
          "name": "stdout",
          "text": [
            "Attempt 1/5 - Enter your guess (1–50): 27\n",
            "Congratulations! You guessed it!\n"
          ]
        }
      ]
    },
    {
      "cell_type": "code",
      "source": [
        "#Challenge 4: Nested Loops for Pattern Printing\n",
        "\n",
        "n = 3\n",
        "m = 6\n",
        "print(\"Multiplication Table:\")\n",
        "for i in range(1, n + 1):\n",
        "    for j in range(1, m + 1):\n",
        "          result = i * j\n",
        "          print(f\"{i} X {j} = {result}\", end=\"\\t\")\n",
        "print()  # Newline after each row\n",
        "\n"
      ],
      "metadata": {
        "id": "7qVYXgyVKCtj",
        "colab": {
          "base_uri": "https://localhost:8080/"
        },
        "outputId": "7db81ba2-1fac-4a6a-cc47-2bac9f60ee3c"
      },
      "execution_count": null,
      "outputs": [
        {
          "output_type": "stream",
          "name": "stdout",
          "text": [
            "Multiplication Table:\n",
            "1 X 1 = 1\t1 X 2 = 2\t1 X 3 = 3\t1 X 4 = 4\t1 X 5 = 5\t1 X 6 = 6\t2 X 1 = 2\t2 X 2 = 4\t2 X 3 = 6\t2 X 4 = 8\t2 X 5 = 10\t2 X 6 = 12\t3 X 1 = 3\t3 X 2 = 6\t3 X 3 = 9\t3 X 4 = 12\t3 X 5 = 15\t3 X 6 = 18\t\n"
          ]
        }
      ]
    },
    {
      "cell_type": "code",
      "source": [],
      "metadata": {
        "id": "5kkZaCtigTh1"
      },
      "execution_count": null,
      "outputs": []
    }
  ]
}