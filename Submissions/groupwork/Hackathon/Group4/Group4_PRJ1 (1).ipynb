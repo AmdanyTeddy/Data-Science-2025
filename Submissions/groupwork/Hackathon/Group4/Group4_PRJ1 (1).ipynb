{
  "nbformat": 4,
  "nbformat_minor": 0,
  "metadata": {
    "colab": {
      "provenance": []
    },
    "kernelspec": {
      "name": "python3",
      "display_name": "Python 3"
    },
    "language_info": {
      "name": "python"
    }
  },
  "cells": [
    {
      "cell_type": "code",
      "source": [
        "#input username\n",
        "user_name = input(\"Enter your full name: \")\n",
        "#input age\n",
        "age = input(\"Enter your age:\")\n",
        "#Using f string\n",
        "print(f\"Hello!,{user_name}.Your are {age} years old\")\n",
        "#input number\n",
        "number = int(input(\"Enter a number:\"))\n",
        "#Conditional statement output\n",
        "if number > 0:\n",
        "    print(\"Positive\")\n",
        "elif number == 0:\n",
        "    print(\"Zero\")\n",
        "else:\n",
        "    print(\"Negative\")"
      ],
      "metadata": {
        "colab": {
          "base_uri": "https://localhost:8080/"
        },
        "id": "aYjGqXEjdqj0",
        "outputId": "dec9d0aa-2db9-460a-b08f-77b6c6b8511a"
      },
      "execution_count": null,
      "outputs": [
        {
          "output_type": "stream",
          "name": "stdout",
          "text": [
            "Enter your full name: Bismark Koima\n",
            "Enter your age:18\n",
            "Hello!,Bismark Koima.Your are 18 years old\n",
            "Enter a number:5\n",
            "Positive\n"
          ]
        }
      ]
    },
    {
      "cell_type": "code",
      "source": [],
      "metadata": {
        "id": "ueWRQhHNfIln"
      },
      "execution_count": null,
      "outputs": []
    }
  ]
}