{
  "nbformat": 4,
  "nbformat_minor": 0,
  "metadata": {
    "colab": {
      "provenance": []
    },
    "kernelspec": {
      "name": "python3",
      "display_name": "Python 3"
    },
    "language_info": {
      "name": "python"
    }
  },
  "cells": [
    {
      "cell_type": "code",
      "execution_count": 2,
      "metadata": {
        "colab": {
          "base_uri": "https://localhost:8080/"
        },
        "id": "pg4YnX_1jXiG",
        "outputId": "753ebf95-5a20-4a0c-ab7b-6ec99f8d7b7d"
      },
      "outputs": [
        {
          "output_type": "stream",
          "name": "stdout",
          "text": [
            "Enter a word: the love of God is very wonderful...\n",
            "Consonants: thlvfGdsvrywndrfl\n"
          ]
        }
      ],
      "source": [
        "def get_consonants():\n",
        "    \"\"\"\n",
        "    Asks the user for a word and returns only the consonants.\n",
        "\n",
        "    \"\"\"\n",
        "    word = input(\"Enter a word: \")\n",
        "    vowels = \"aeiouAEIOU\"\n",
        "    consonants = \"\"\n",
        "\n",
        "    for char in word:\n",
        "        if char.isalpha() and char not in vowels:\n",
        "            consonants += char\n",
        "\n",
        "    return consonants\n",
        "\n",
        "\n",
        "# Example usage\n",
        "result = get_consonants()\n",
        "print(f\"Consonants: {result}\")\n"
      ]
    }
  ]
}